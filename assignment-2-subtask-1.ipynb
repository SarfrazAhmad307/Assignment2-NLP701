{
 "cells": [
  {
   "cell_type": "markdown",
   "metadata": {},
   "source": [
    "**Course:**     Natural Language Processing Lab (NLP701B)\n",
    "\n",
    "**Name:**       Sarfraz Ahmad (24010739)\n",
    "\n",
    "**Institution:** Mohamed Bin Zayed University of Artificial Intelligence\n",
    "\n",
    "**Email:** sarfraz.ahmad@mbzuai.ac.ae\n",
    "\n",
    "**Instructor:** Prof. Ted Briscoe / Prof. Preslav Nakov\n",
    "\n",
    "**Module:**     Assignment # 2: Multilingual Characterization and Extraction of Narratives from Online News\n",
    "\n",
    "**Team ID:** Sarfraz307\n",
    "\n",
    "**Repo:** [GitHub](https://github.com/SarfrazAhmad307/Assignment2-NLP701)"
   ]
  },
  {
   "cell_type": "code",
   "execution_count": 1,
   "metadata": {
    "_cell_guid": "b1076dfc-b9ad-4769-8c92-a6c4dae69d19",
    "_uuid": "8f2839f25d086af736a60e9eeb907d3b93b6e0e5",
    "execution": {
     "iopub.execute_input": "2024-12-10T02:21:01.379582Z",
     "iopub.status.busy": "2024-12-10T02:21:01.379223Z",
     "iopub.status.idle": "2024-12-10T02:21:01.515464Z",
     "shell.execute_reply": "2024-12-10T02:21:01.514643Z",
     "shell.execute_reply.started": "2024-12-10T02:21:01.379552Z"
    },
    "trusted": true
   },
   "outputs": [
    {
     "name": "stderr",
     "output_type": "stream",
     "text": [
      "[nltk_data] Downloading package stopwords to\n",
      "[nltk_data]     /Users/sarfrazahmad/nltk_data...\n",
      "[nltk_data]   Package stopwords is already up-to-date!\n",
      "[nltk_data] Downloading package punkt to\n",
      "[nltk_data]     /Users/sarfrazahmad/nltk_data...\n",
      "[nltk_data]   Package punkt is already up-to-date!\n",
      "[nltk_data] Downloading package wordnet to\n",
      "[nltk_data]     /Users/sarfrazahmad/nltk_data...\n",
      "[nltk_data]   Package wordnet is already up-to-date!\n",
      "[nltk_data] Downloading package stopwords to\n",
      "[nltk_data]     /Users/sarfrazahmad/nltk_data...\n",
      "[nltk_data]   Package stopwords is already up-to-date!\n",
      "[nltk_data] Downloading package punkt to\n",
      "[nltk_data]     /Users/sarfrazahmad/nltk_data...\n",
      "[nltk_data]   Package punkt is already up-to-date!\n"
     ]
    }
   ],
   "source": [
    "import pandas as pd\n",
    "import logging\n",
    "import re\n",
    "import nltk\n",
    "import os\n",
    "import string\n",
    "import json\n",
    "import emoji\n",
    "\n",
    "from collections import Counter\n",
    "from nltk.tokenize import word_tokenize\n",
    "from nltk.corpus import stopwords\n",
    "import plotly.express as px\n",
    "\n",
    "import os\n",
    "import re\n",
    "import string\n",
    "import json\n",
    "import emoji\n",
    "import numpy as np\n",
    "import pandas as pd\n",
    "import nltk\n",
    "import transformers\n",
    "import torch\n",
    "import matplotlib.pyplot as plt\n",
    "import plotly.graph_objects as go\n",
    "import plotly.express as px\n",
    "#import bert\n",
    "import tensorflow as tf\n",
    "\n",
    "from numpy import array\n",
    "from numpy import asarray\n",
    "from numpy import zeros\n",
    "\n",
    "nltk.download('stopwords')\n",
    "nltk.download('punkt')\n",
    "nltk.download('wordnet')\n",
    "from nltk.corpus import stopwords\n",
    "from nltk.stem import WordNetLemmatizer\n",
    "from nltk.stem.porter import PorterStemmer\n",
    "\n",
    "from sklearn.model_selection import train_test_split\n",
    "from sklearn.feature_extraction.text import TfidfVectorizer\n",
    "from sklearn.cluster import KMeans\n",
    "from sklearn.metrics import accuracy_score, precision_score, recall_score, f1_score, confusion_matrix, hamming_loss\n",
    "from sklearn.neighbors import KNeighborsClassifier\n",
    "from sklearn.multiclass import OneVsRestClassifier\n",
    "from sklearn.preprocessing import MultiLabelBinarizer\n",
    "from sklearn.tree import DecisionTreeClassifier\n",
    "from sklearn.ensemble import BaggingClassifier\n",
    "from sklearn.ensemble import RandomForestClassifier\n",
    "from sklearn.ensemble import GradientBoostingClassifier\n",
    "from sklearn.naive_bayes import MultinomialNB\n",
    "from sklearn.svm import LinearSVC\n",
    "from skmultilearn.problem_transform import LabelPowerset\n",
    "\n",
    "from bs4 import BeautifulSoup\n",
    "\n",
    "from torch.utils.data import Dataset, DataLoader, RandomSampler, SequentialSampler\n",
    "\n",
    "from transformers import BertTokenizer, AutoTokenizer, BertModel, BertConfig, AutoModel, AdamW\n",
    "\n",
    "from wordcloud import WordCloud\n",
    "\n",
    "from IPython.display import Image\n",
    "\n",
    "pd.set_option('display.max_rows', None)\n",
    "pd.set_option('display.max_columns', None)\n",
    "%matplotlib inline\n",
    "\n",
    "# Ensure you have the stopwords and punkt tokenizer models\n",
    "nltk.download('stopwords')\n",
    "nltk.download('punkt')\n",
    "\n",
    "from bs4 import BeautifulSoup\n",
    "from nltk.corpus import stopwords"
   ]
  },
  {
   "cell_type": "markdown",
   "metadata": {},
   "source": [
    "## Data Preprocessing"
   ]
  },
  {
   "cell_type": "code",
   "execution_count": 2,
   "metadata": {
    "execution": {
     "iopub.execute_input": "2024-12-10T02:21:01.784612Z",
     "iopub.status.busy": "2024-12-10T02:21:01.784297Z",
     "iopub.status.idle": "2024-12-10T02:21:01.792086Z",
     "shell.execute_reply": "2024-12-10T02:21:01.790966Z",
     "shell.execute_reply.started": "2024-12-10T02:21:01.784583Z"
    },
    "trusted": true
   },
   "outputs": [],
   "source": [
    "def read_txt_filef(file_path, data_type):\n",
    "    # Initialize lists to store data\n",
    "    article_ids = []\n",
    "    entity_mentions = []\n",
    "    start_offsets = []\n",
    "    end_offsets = []\n",
    "    main_roles = []\n",
    "    fine_grained_roles = []\n",
    "    \n",
    "    # Read the txt file\n",
    "    with open(file_path, 'r') as file:\n",
    "        for line in file:\n",
    "            parts = line.strip().split('\\t')  # Split each row by tab\n",
    "            \n",
    "            article_ids.append(parts[0])  # article_id\n",
    "            entity_mentions.append(parts[1])  # entity_mention\n",
    "            start_offsets.append(int(parts[2]))  # start_offset\n",
    "            end_offsets.append(int(parts[3]))  # end_offset\n",
    "\n",
    "            if data_type == 'train':\n",
    "                main_roles.append(parts[4])  # main_role\n",
    "                \n",
    "                # Handle multiple fine_grained_roles (split by space if there are multiple roles)\n",
    "                fine_grained_roles.append(parts[5:])  # fine-grained_roles (as list)\n",
    "            else:\n",
    "                continue\n",
    "    \n",
    "    if data_type == 'train':\n",
    "        # Create a DataFrame\n",
    "        df = pd.DataFrame({\n",
    "            'article_id': article_ids,\n",
    "            'entity_mention': entity_mentions,\n",
    "            'start_offset': start_offsets,\n",
    "            'end_offset': end_offsets,\n",
    "            'main_role': main_roles,\n",
    "            'fine_grained_roles': fine_grained_roles\n",
    "        })\n",
    "    else:\n",
    "        # Create a DataFrame\n",
    "        df = pd.DataFrame({\n",
    "            'article_id': article_ids,\n",
    "            'entity_mention': entity_mentions,\n",
    "            'start_offset': start_offsets,\n",
    "            'end_offset': end_offsets,\n",
    "        })\n",
    "\n",
    "\n",
    "    return df"
   ]
  },
  {
   "cell_type": "code",
   "execution_count": 3,
   "metadata": {
    "execution": {
     "iopub.execute_input": "2024-12-10T02:21:01.985638Z",
     "iopub.status.busy": "2024-12-10T02:21:01.985303Z",
     "iopub.status.idle": "2024-12-10T02:21:02.025785Z",
     "shell.execute_reply": "2024-12-10T02:21:02.024989Z",
     "shell.execute_reply.started": "2024-12-10T02:21:01.985605Z"
    },
    "trusted": true
   },
   "outputs": [
    {
     "data": {
      "text/html": [
       "<div>\n",
       "<style scoped>\n",
       "    .dataframe tbody tr th:only-of-type {\n",
       "        vertical-align: middle;\n",
       "    }\n",
       "\n",
       "    .dataframe tbody tr th {\n",
       "        vertical-align: top;\n",
       "    }\n",
       "\n",
       "    .dataframe thead th {\n",
       "        text-align: right;\n",
       "    }\n",
       "</style>\n",
       "<table border=\"1\" class=\"dataframe\">\n",
       "  <thead>\n",
       "    <tr style=\"text-align: right;\">\n",
       "      <th></th>\n",
       "      <th>article_id</th>\n",
       "      <th>entity_mention</th>\n",
       "      <th>start_offset</th>\n",
       "      <th>end_offset</th>\n",
       "      <th>main_role</th>\n",
       "      <th>fine_grained_roles</th>\n",
       "    </tr>\n",
       "  </thead>\n",
       "  <tbody>\n",
       "    <tr>\n",
       "      <th>0</th>\n",
       "      <td>EN_CC_100013.txt</td>\n",
       "      <td>Bill Gates</td>\n",
       "      <td>93</td>\n",
       "      <td>102</td>\n",
       "      <td>Antagonist</td>\n",
       "      <td>[Deceiver, Corrupt]</td>\n",
       "    </tr>\n",
       "    <tr>\n",
       "      <th>1</th>\n",
       "      <td>EN_CC_100013.txt</td>\n",
       "      <td>BBC</td>\n",
       "      <td>1860</td>\n",
       "      <td>1862</td>\n",
       "      <td>Antagonist</td>\n",
       "      <td>[Deceiver]</td>\n",
       "    </tr>\n",
       "    <tr>\n",
       "      <th>2</th>\n",
       "      <td>EN_CC_100013.txt</td>\n",
       "      <td>Jeffrey Epstein</td>\n",
       "      <td>2005</td>\n",
       "      <td>2019</td>\n",
       "      <td>Antagonist</td>\n",
       "      <td>[Corrupt]</td>\n",
       "    </tr>\n",
       "    <tr>\n",
       "      <th>3</th>\n",
       "      <td>EN_UA_300009.txt</td>\n",
       "      <td>Fail Alsynov</td>\n",
       "      <td>176</td>\n",
       "      <td>187</td>\n",
       "      <td>Protagonist</td>\n",
       "      <td>[Rebel, Martyr]</td>\n",
       "    </tr>\n",
       "    <tr>\n",
       "      <th>4</th>\n",
       "      <td>EN_UA_300009.txt</td>\n",
       "      <td>Bashkir people</td>\n",
       "      <td>1616</td>\n",
       "      <td>1629</td>\n",
       "      <td>Innocent</td>\n",
       "      <td>[Victim]</td>\n",
       "    </tr>\n",
       "  </tbody>\n",
       "</table>\n",
       "</div>"
      ],
      "text/plain": [
       "         article_id   entity_mention  start_offset  end_offset    main_role  \\\n",
       "0  EN_CC_100013.txt       Bill Gates            93         102   Antagonist   \n",
       "1  EN_CC_100013.txt              BBC          1860        1862   Antagonist   \n",
       "2  EN_CC_100013.txt  Jeffrey Epstein          2005        2019   Antagonist   \n",
       "3  EN_UA_300009.txt     Fail Alsynov           176         187  Protagonist   \n",
       "4  EN_UA_300009.txt   Bashkir people          1616        1629     Innocent   \n",
       "\n",
       "    fine_grained_roles  \n",
       "0  [Deceiver, Corrupt]  \n",
       "1           [Deceiver]  \n",
       "2            [Corrupt]  \n",
       "3      [Rebel, Martyr]  \n",
       "4             [Victim]  "
      ]
     },
     "execution_count": 3,
     "metadata": {},
     "output_type": "execute_result"
    }
   ],
   "source": [
    "# Read the txt file\n",
    "df = read_txt_filef('data/target_4_December_release/EN/subtask-1-annotations.txt', 'train')\n",
    "df.head()"
   ]
  },
  {
   "cell_type": "code",
   "execution_count": 4,
   "metadata": {
    "execution": {
     "iopub.execute_input": "2024-12-10T02:21:02.225404Z",
     "iopub.status.busy": "2024-12-10T02:21:02.225065Z",
     "iopub.status.idle": "2024-12-10T02:21:02.243018Z",
     "shell.execute_reply": "2024-12-10T02:21:02.242205Z",
     "shell.execute_reply.started": "2024-12-10T02:21:02.225373Z"
    },
    "trusted": true
   },
   "outputs": [
    {
     "data": {
      "text/html": [
       "<div>\n",
       "<style scoped>\n",
       "    .dataframe tbody tr th:only-of-type {\n",
       "        vertical-align: middle;\n",
       "    }\n",
       "\n",
       "    .dataframe tbody tr th {\n",
       "        vertical-align: top;\n",
       "    }\n",
       "\n",
       "    .dataframe thead th {\n",
       "        text-align: right;\n",
       "    }\n",
       "</style>\n",
       "<table border=\"1\" class=\"dataframe\">\n",
       "  <thead>\n",
       "    <tr style=\"text-align: right;\">\n",
       "      <th></th>\n",
       "      <th>article_id</th>\n",
       "      <th>entity_mention</th>\n",
       "      <th>start_offset</th>\n",
       "      <th>end_offset</th>\n",
       "    </tr>\n",
       "  </thead>\n",
       "  <tbody>\n",
       "    <tr>\n",
       "      <th>0</th>\n",
       "      <td>EN_UA_DEV_100012.txt</td>\n",
       "      <td>Washington</td>\n",
       "      <td>1441</td>\n",
       "      <td>1450</td>\n",
       "    </tr>\n",
       "    <tr>\n",
       "      <th>1</th>\n",
       "      <td>EN_UA_DEV_100012.txt</td>\n",
       "      <td>Americans</td>\n",
       "      <td>2397</td>\n",
       "      <td>2405</td>\n",
       "    </tr>\n",
       "    <tr>\n",
       "      <th>2</th>\n",
       "      <td>EN_CC_200053.txt</td>\n",
       "      <td>Rishi Sunak</td>\n",
       "      <td>85</td>\n",
       "      <td>95</td>\n",
       "    </tr>\n",
       "    <tr>\n",
       "      <th>3</th>\n",
       "      <td>EN_CC_200040.txt</td>\n",
       "      <td>Extinction Rebellion</td>\n",
       "      <td>189</td>\n",
       "      <td>208</td>\n",
       "    </tr>\n",
       "    <tr>\n",
       "      <th>4</th>\n",
       "      <td>EN_CC_200070.txt</td>\n",
       "      <td>Eric Garcetti</td>\n",
       "      <td>89</td>\n",
       "      <td>101</td>\n",
       "    </tr>\n",
       "  </tbody>\n",
       "</table>\n",
       "</div>"
      ],
      "text/plain": [
       "             article_id        entity_mention  start_offset  end_offset\n",
       "0  EN_UA_DEV_100012.txt            Washington          1441        1450\n",
       "1  EN_UA_DEV_100012.txt             Americans          2397        2405\n",
       "2      EN_CC_200053.txt           Rishi Sunak            85          95\n",
       "3      EN_CC_200040.txt  Extinction Rebellion           189         208\n",
       "4      EN_CC_200070.txt         Eric Garcetti            89         101"
      ]
     },
     "execution_count": 4,
     "metadata": {},
     "output_type": "execute_result"
    }
   ],
   "source": [
    "df_test = read_txt_filef('data/dev-documents_4_December/EN/subtask-1-entity-mentions.txt', 'test')\n",
    "df_test.head()"
   ]
  },
  {
   "cell_type": "code",
   "execution_count": 5,
   "metadata": {
    "execution": {
     "iopub.execute_input": "2024-12-10T02:21:02.350152Z",
     "iopub.status.busy": "2024-12-10T02:21:02.349886Z",
     "iopub.status.idle": "2024-12-10T02:21:02.357900Z",
     "shell.execute_reply": "2024-12-10T02:21:02.356867Z",
     "shell.execute_reply.started": "2024-12-10T02:21:02.350126Z"
    },
    "trusted": true
   },
   "outputs": [],
   "source": [
    "def additional_columns(df, data_type):\n",
    "    # read the txt files based on the article_ids and store as document column\n",
    "    documents = []\n",
    "\n",
    "    for article_id in df['article_id'].unique():\n",
    "        if data_type == 'train':\n",
    "            with open(f'data/target_4_December_release/EN/raw-documents/{article_id}', 'r') as file:\n",
    "                documents.append(file.read())\n",
    "        else:\n",
    "            with open(f'data/dev-documents_4_December/EN/subtask-1-documents/{article_id}', 'r') as file:\n",
    "                documents.append(file.read())\n",
    "\n",
    "    # Create a DataFrame\n",
    "    df_documents = pd.DataFrame({\n",
    "        'article_id': df['article_id'].unique(),\n",
    "        'document': documents\n",
    "    })\n",
    "\n",
    "    # add the document column to the main DataFrame\n",
    "    df = df.merge(df_documents, on='article_id')\n",
    "\n",
    "    # check the entity_mention in document based on start_offset and end_offset\n",
    "    df['document_entity_mention'] = df.apply(lambda x: x['document'][x['start_offset']:x['end_offset']+1], axis=1)\n",
    "\n",
    "    # now we have got the entity_mention in the document, we can check if the entity_mention is same as the entity_mention in the data\n",
    "    df['entity_mention_match'] = df['entity_mention'] == df['document_entity_mention']\n",
    "\n",
    "    if data_type == 'train':\n",
    "        # rearrange the columns\n",
    "        df = df[['article_id', 'document', 'entity_mention', 'document_entity_mention', 'entity_mention_match', \n",
    "                 'start_offset', 'end_offset', 'main_role', 'fine_grained_roles']]\n",
    "    else:\n",
    "        # rearrange the columns\n",
    "        df = df[['article_id', 'document', 'entity_mention', 'document_entity_mention', 'entity_mention_match', \n",
    "                 'start_offset', 'end_offset']]\n",
    "\n",
    "    # drop the document_entity_mention and article_id columns\n",
    "    # df.drop(columns=['article_id'], inplace=True)\n",
    "\n",
    "    return df"
   ]
  },
  {
   "cell_type": "code",
   "execution_count": 6,
   "metadata": {
    "execution": {
     "iopub.execute_input": "2024-12-10T02:21:02.525582Z",
     "iopub.status.busy": "2024-12-10T02:21:02.525256Z",
     "iopub.status.idle": "2024-12-10T02:21:03.081617Z",
     "shell.execute_reply": "2024-12-10T02:21:03.080651Z",
     "shell.execute_reply.started": "2024-12-10T02:21:02.525553Z"
    },
    "trusted": true
   },
   "outputs": [
    {
     "data": {
      "text/html": [
       "<div>\n",
       "<style scoped>\n",
       "    .dataframe tbody tr th:only-of-type {\n",
       "        vertical-align: middle;\n",
       "    }\n",
       "\n",
       "    .dataframe tbody tr th {\n",
       "        vertical-align: top;\n",
       "    }\n",
       "\n",
       "    .dataframe thead th {\n",
       "        text-align: right;\n",
       "    }\n",
       "</style>\n",
       "<table border=\"1\" class=\"dataframe\">\n",
       "  <thead>\n",
       "    <tr style=\"text-align: right;\">\n",
       "      <th></th>\n",
       "      <th>article_id</th>\n",
       "      <th>document</th>\n",
       "      <th>entity_mention</th>\n",
       "      <th>document_entity_mention</th>\n",
       "      <th>entity_mention_match</th>\n",
       "      <th>start_offset</th>\n",
       "      <th>end_offset</th>\n",
       "      <th>main_role</th>\n",
       "      <th>fine_grained_roles</th>\n",
       "    </tr>\n",
       "  </thead>\n",
       "  <tbody>\n",
       "    <tr>\n",
       "      <th>0</th>\n",
       "      <td>EN_CC_100013.txt</td>\n",
       "      <td>Bill Gates Says He Is ‘The Solution’ To Climat...</td>\n",
       "      <td>Bill Gates</td>\n",
       "      <td>Bill Gates</td>\n",
       "      <td>True</td>\n",
       "      <td>93</td>\n",
       "      <td>102</td>\n",
       "      <td>Antagonist</td>\n",
       "      <td>[Deceiver, Corrupt]</td>\n",
       "    </tr>\n",
       "    <tr>\n",
       "      <th>1</th>\n",
       "      <td>EN_CC_100013.txt</td>\n",
       "      <td>Bill Gates Says He Is ‘The Solution’ To Climat...</td>\n",
       "      <td>BBC</td>\n",
       "      <td>BBC</td>\n",
       "      <td>True</td>\n",
       "      <td>1860</td>\n",
       "      <td>1862</td>\n",
       "      <td>Antagonist</td>\n",
       "      <td>[Deceiver]</td>\n",
       "    </tr>\n",
       "    <tr>\n",
       "      <th>2</th>\n",
       "      <td>EN_CC_100013.txt</td>\n",
       "      <td>Bill Gates Says He Is ‘The Solution’ To Climat...</td>\n",
       "      <td>Jeffrey Epstein</td>\n",
       "      <td>Jeffrey Epstein</td>\n",
       "      <td>True</td>\n",
       "      <td>2005</td>\n",
       "      <td>2019</td>\n",
       "      <td>Antagonist</td>\n",
       "      <td>[Corrupt]</td>\n",
       "    </tr>\n",
       "    <tr>\n",
       "      <th>3</th>\n",
       "      <td>EN_UA_300009.txt</td>\n",
       "      <td>Russia: Clashes erupt in Bashkortostan as righ...</td>\n",
       "      <td>Fail Alsynov</td>\n",
       "      <td>Fail Alsynov</td>\n",
       "      <td>True</td>\n",
       "      <td>176</td>\n",
       "      <td>187</td>\n",
       "      <td>Protagonist</td>\n",
       "      <td>[Rebel, Martyr]</td>\n",
       "    </tr>\n",
       "    <tr>\n",
       "      <th>4</th>\n",
       "      <td>EN_UA_300009.txt</td>\n",
       "      <td>Russia: Clashes erupt in Bashkortostan as righ...</td>\n",
       "      <td>Bashkir people</td>\n",
       "      <td>Bashkir people</td>\n",
       "      <td>True</td>\n",
       "      <td>1616</td>\n",
       "      <td>1629</td>\n",
       "      <td>Innocent</td>\n",
       "      <td>[Victim]</td>\n",
       "    </tr>\n",
       "  </tbody>\n",
       "</table>\n",
       "</div>"
      ],
      "text/plain": [
       "         article_id                                           document  \\\n",
       "0  EN_CC_100013.txt  Bill Gates Says He Is ‘The Solution’ To Climat...   \n",
       "1  EN_CC_100013.txt  Bill Gates Says He Is ‘The Solution’ To Climat...   \n",
       "2  EN_CC_100013.txt  Bill Gates Says He Is ‘The Solution’ To Climat...   \n",
       "3  EN_UA_300009.txt  Russia: Clashes erupt in Bashkortostan as righ...   \n",
       "4  EN_UA_300009.txt  Russia: Clashes erupt in Bashkortostan as righ...   \n",
       "\n",
       "    entity_mention document_entity_mention  entity_mention_match  \\\n",
       "0       Bill Gates              Bill Gates                  True   \n",
       "1              BBC                     BBC                  True   \n",
       "2  Jeffrey Epstein         Jeffrey Epstein                  True   \n",
       "3     Fail Alsynov            Fail Alsynov                  True   \n",
       "4   Bashkir people          Bashkir people                  True   \n",
       "\n",
       "   start_offset  end_offset    main_role   fine_grained_roles  \n",
       "0            93         102   Antagonist  [Deceiver, Corrupt]  \n",
       "1          1860        1862   Antagonist           [Deceiver]  \n",
       "2          2005        2019   Antagonist            [Corrupt]  \n",
       "3           176         187  Protagonist      [Rebel, Martyr]  \n",
       "4          1616        1629     Innocent             [Victim]  "
      ]
     },
     "execution_count": 6,
     "metadata": {},
     "output_type": "execute_result"
    }
   ],
   "source": [
    "df = additional_columns(df, 'train')\n",
    "df_test = additional_columns(df_test, 'test')\n",
    "df.head()"
   ]
  },
  {
   "cell_type": "code",
   "execution_count": 7,
   "metadata": {
    "execution": {
     "iopub.execute_input": "2024-12-10T02:21:03.083469Z",
     "iopub.status.busy": "2024-12-10T02:21:03.083150Z",
     "iopub.status.idle": "2024-12-10T02:21:03.093941Z",
     "shell.execute_reply": "2024-12-10T02:21:03.092872Z",
     "shell.execute_reply.started": "2024-12-10T02:21:03.083432Z"
    },
    "trusted": true
   },
   "outputs": [
    {
     "data": {
      "text/html": [
       "<div>\n",
       "<style scoped>\n",
       "    .dataframe tbody tr th:only-of-type {\n",
       "        vertical-align: middle;\n",
       "    }\n",
       "\n",
       "    .dataframe tbody tr th {\n",
       "        vertical-align: top;\n",
       "    }\n",
       "\n",
       "    .dataframe thead th {\n",
       "        text-align: right;\n",
       "    }\n",
       "</style>\n",
       "<table border=\"1\" class=\"dataframe\">\n",
       "  <thead>\n",
       "    <tr style=\"text-align: right;\">\n",
       "      <th></th>\n",
       "      <th>article_id</th>\n",
       "      <th>document</th>\n",
       "      <th>entity_mention</th>\n",
       "      <th>document_entity_mention</th>\n",
       "      <th>entity_mention_match</th>\n",
       "      <th>start_offset</th>\n",
       "      <th>end_offset</th>\n",
       "    </tr>\n",
       "  </thead>\n",
       "  <tbody>\n",
       "    <tr>\n",
       "      <th>0</th>\n",
       "      <td>EN_UA_DEV_100012.txt</td>\n",
       "      <td>Ukraine's Minerals: What the West is Fighting ...</td>\n",
       "      <td>Washington</td>\n",
       "      <td>Washington</td>\n",
       "      <td>True</td>\n",
       "      <td>1441</td>\n",
       "      <td>1450</td>\n",
       "    </tr>\n",
       "    <tr>\n",
       "      <th>1</th>\n",
       "      <td>EN_UA_DEV_100012.txt</td>\n",
       "      <td>Ukraine's Minerals: What the West is Fighting ...</td>\n",
       "      <td>Americans</td>\n",
       "      <td>Americans</td>\n",
       "      <td>True</td>\n",
       "      <td>2397</td>\n",
       "      <td>2405</td>\n",
       "    </tr>\n",
       "    <tr>\n",
       "      <th>2</th>\n",
       "      <td>EN_CC_200053.txt</td>\n",
       "      <td>UK’s Sunak Reverses Decision to Skip COP27 Cli...</td>\n",
       "      <td>Rishi Sunak</td>\n",
       "      <td>Rishi Sunak</td>\n",
       "      <td>True</td>\n",
       "      <td>85</td>\n",
       "      <td>95</td>\n",
       "    </tr>\n",
       "    <tr>\n",
       "      <th>3</th>\n",
       "      <td>EN_CC_200040.txt</td>\n",
       "      <td>Climate Protesters Out Of Control As They Atta...</td>\n",
       "      <td>Extinction Rebellion</td>\n",
       "      <td>Extinction Rebellion</td>\n",
       "      <td>True</td>\n",
       "      <td>189</td>\n",
       "      <td>208</td>\n",
       "    </tr>\n",
       "    <tr>\n",
       "      <th>4</th>\n",
       "      <td>EN_CC_200070.txt</td>\n",
       "      <td>Wat? L.A. Mayor Garcetti Flies to Argentina to...</td>\n",
       "      <td>Eric Garcetti</td>\n",
       "      <td>Eric Garcetti</td>\n",
       "      <td>True</td>\n",
       "      <td>89</td>\n",
       "      <td>101</td>\n",
       "    </tr>\n",
       "  </tbody>\n",
       "</table>\n",
       "</div>"
      ],
      "text/plain": [
       "             article_id                                           document  \\\n",
       "0  EN_UA_DEV_100012.txt  Ukraine's Minerals: What the West is Fighting ...   \n",
       "1  EN_UA_DEV_100012.txt  Ukraine's Minerals: What the West is Fighting ...   \n",
       "2      EN_CC_200053.txt  UK’s Sunak Reverses Decision to Skip COP27 Cli...   \n",
       "3      EN_CC_200040.txt  Climate Protesters Out Of Control As They Atta...   \n",
       "4      EN_CC_200070.txt  Wat? L.A. Mayor Garcetti Flies to Argentina to...   \n",
       "\n",
       "         entity_mention document_entity_mention  entity_mention_match  \\\n",
       "0            Washington              Washington                  True   \n",
       "1             Americans               Americans                  True   \n",
       "2           Rishi Sunak             Rishi Sunak                  True   \n",
       "3  Extinction Rebellion    Extinction Rebellion                  True   \n",
       "4         Eric Garcetti           Eric Garcetti                  True   \n",
       "\n",
       "   start_offset  end_offset  \n",
       "0          1441        1450  \n",
       "1          2397        2405  \n",
       "2            85          95  \n",
       "3           189         208  \n",
       "4            89         101  "
      ]
     },
     "execution_count": 7,
     "metadata": {},
     "output_type": "execute_result"
    }
   ],
   "source": [
    "df_test.head()"
   ]
  },
  {
   "cell_type": "code",
   "execution_count": 13,
   "metadata": {
    "execution": {
     "iopub.execute_input": "2024-12-10T02:21:03.095423Z",
     "iopub.status.busy": "2024-12-10T02:21:03.095129Z",
     "iopub.status.idle": "2024-12-10T02:21:03.113998Z",
     "shell.execute_reply": "2024-12-10T02:21:03.113103Z",
     "shell.execute_reply.started": "2024-12-10T02:21:03.095396Z"
    },
    "trusted": true
   },
   "outputs": [
    {
     "data": {
      "text/html": [
       "<div>\n",
       "<style scoped>\n",
       "    .dataframe tbody tr th:only-of-type {\n",
       "        vertical-align: middle;\n",
       "    }\n",
       "\n",
       "    .dataframe tbody tr th {\n",
       "        vertical-align: top;\n",
       "    }\n",
       "\n",
       "    .dataframe thead th {\n",
       "        text-align: right;\n",
       "    }\n",
       "</style>\n",
       "<table border=\"1\" class=\"dataframe\">\n",
       "  <thead>\n",
       "    <tr style=\"text-align: right;\">\n",
       "      <th></th>\n",
       "      <th>article_id</th>\n",
       "      <th>document</th>\n",
       "      <th>entity_mention</th>\n",
       "      <th>document_entity_mention</th>\n",
       "      <th>entity_mention_match</th>\n",
       "      <th>start_offset</th>\n",
       "      <th>end_offset</th>\n",
       "      <th>main_role</th>\n",
       "      <th>fine_grained_roles</th>\n",
       "    </tr>\n",
       "  </thead>\n",
       "  <tbody>\n",
       "    <tr>\n",
       "      <th>63</th>\n",
       "      <td>EN_UA_002668.txt</td>\n",
       "      <td>Putin may ABANDON siege of Kyiv and try to bli...</td>\n",
       "      <td>Russia</td>\n",
       "      <td>ussia</td>\n",
       "      <td>False</td>\n",
       "      <td>1589</td>\n",
       "      <td>1594</td>\n",
       "      <td>Antagonist</td>\n",
       "      <td>[Terrorist]</td>\n",
       "    </tr>\n",
       "    <tr>\n",
       "      <th>64</th>\n",
       "      <td>EN_UA_002668.txt</td>\n",
       "      <td>Putin may ABANDON siege of Kyiv and try to bli...</td>\n",
       "      <td>Putin</td>\n",
       "      <td>utin</td>\n",
       "      <td>False</td>\n",
       "      <td>1750</td>\n",
       "      <td>1754</td>\n",
       "      <td>Antagonist</td>\n",
       "      <td>[Incompetent]</td>\n",
       "    </tr>\n",
       "    <tr>\n",
       "      <th>469</th>\n",
       "      <td>EN_UA_024050.txt</td>\n",
       "      <td>How NATO powers are using the U.K.’s World War...</td>\n",
       "      <td>Germany</td>\n",
       "      <td>rmany h</td>\n",
       "      <td>False</td>\n",
       "      <td>2178</td>\n",
       "      <td>2184</td>\n",
       "      <td>Antagonist</td>\n",
       "      <td>[Traitor]</td>\n",
       "    </tr>\n",
       "    <tr>\n",
       "      <th>470</th>\n",
       "      <td>EN_UA_024050.txt</td>\n",
       "      <td>How NATO powers are using the U.K.’s World War...</td>\n",
       "      <td>Ukraine</td>\n",
       "      <td>raine t</td>\n",
       "      <td>False</td>\n",
       "      <td>2252</td>\n",
       "      <td>2258</td>\n",
       "      <td>Antagonist</td>\n",
       "      <td>[Incompetent]</td>\n",
       "    </tr>\n",
       "    <tr>\n",
       "      <th>471</th>\n",
       "      <td>EN_UA_024050.txt</td>\n",
       "      <td>How NATO powers are using the U.K.’s World War...</td>\n",
       "      <td>France</td>\n",
       "      <td>ance a</td>\n",
       "      <td>False</td>\n",
       "      <td>2529</td>\n",
       "      <td>2534</td>\n",
       "      <td>Antagonist</td>\n",
       "      <td>[Conspirator]</td>\n",
       "    </tr>\n",
       "    <tr>\n",
       "      <th>472</th>\n",
       "      <td>EN_UA_024050.txt</td>\n",
       "      <td>How NATO powers are using the U.K.’s World War...</td>\n",
       "      <td>Poland</td>\n",
       "      <td>land,</td>\n",
       "      <td>False</td>\n",
       "      <td>2540</td>\n",
       "      <td>2545</td>\n",
       "      <td>Antagonist</td>\n",
       "      <td>[Conspirator]</td>\n",
       "    </tr>\n",
       "    <tr>\n",
       "      <th>473</th>\n",
       "      <td>EN_UA_024050.txt</td>\n",
       "      <td>How NATO powers are using the U.K.’s World War...</td>\n",
       "      <td>Weimar Triangle</td>\n",
       "      <td>imar Triangle w</td>\n",
       "      <td>False</td>\n",
       "      <td>2902</td>\n",
       "      <td>2916</td>\n",
       "      <td>Antagonist</td>\n",
       "      <td>[Conspirator]</td>\n",
       "    </tr>\n",
       "    <tr>\n",
       "      <th>553</th>\n",
       "      <td>EN_UA_001032.txt</td>\n",
       "      <td>Russia-Ukraine war map: Where are Russian troo...</td>\n",
       "      <td>Russia</td>\n",
       "      <td>ussia</td>\n",
       "      <td>False</td>\n",
       "      <td>2064</td>\n",
       "      <td>2069</td>\n",
       "      <td>Antagonist</td>\n",
       "      <td>[Instigator]</td>\n",
       "    </tr>\n",
       "    <tr>\n",
       "      <th>554</th>\n",
       "      <td>EN_UA_001032.txt</td>\n",
       "      <td>Russia-Ukraine war map: Where are Russian troo...</td>\n",
       "      <td>Ukraine</td>\n",
       "      <td>kraine?</td>\n",
       "      <td>False</td>\n",
       "      <td>2079</td>\n",
       "      <td>2085</td>\n",
       "      <td>Innocent</td>\n",
       "      <td>[Victim]</td>\n",
       "    </tr>\n",
       "    <tr>\n",
       "      <th>555</th>\n",
       "      <td>EN_UA_001032.txt</td>\n",
       "      <td>Russia-Ukraine war map: Where are Russian troo...</td>\n",
       "      <td>Joe Biden</td>\n",
       "      <td>oe Biden</td>\n",
       "      <td>False</td>\n",
       "      <td>2609</td>\n",
       "      <td>2617</td>\n",
       "      <td>Protagonist</td>\n",
       "      <td>[Guardian]</td>\n",
       "    </tr>\n",
       "    <tr>\n",
       "      <th>556</th>\n",
       "      <td>EN_UA_001032.txt</td>\n",
       "      <td>Russia-Ukraine war map: Where are Russian troo...</td>\n",
       "      <td>Boris Johnson</td>\n",
       "      <td>oris Johnson</td>\n",
       "      <td>False</td>\n",
       "      <td>2623</td>\n",
       "      <td>2635</td>\n",
       "      <td>Protagonist</td>\n",
       "      <td>[Guardian]</td>\n",
       "    </tr>\n",
       "  </tbody>\n",
       "</table>\n",
       "</div>"
      ],
      "text/plain": [
       "           article_id                                           document  \\\n",
       "63   EN_UA_002668.txt  Putin may ABANDON siege of Kyiv and try to bli...   \n",
       "64   EN_UA_002668.txt  Putin may ABANDON siege of Kyiv and try to bli...   \n",
       "469  EN_UA_024050.txt  How NATO powers are using the U.K.’s World War...   \n",
       "470  EN_UA_024050.txt  How NATO powers are using the U.K.’s World War...   \n",
       "471  EN_UA_024050.txt  How NATO powers are using the U.K.’s World War...   \n",
       "472  EN_UA_024050.txt  How NATO powers are using the U.K.’s World War...   \n",
       "473  EN_UA_024050.txt  How NATO powers are using the U.K.’s World War...   \n",
       "553  EN_UA_001032.txt  Russia-Ukraine war map: Where are Russian troo...   \n",
       "554  EN_UA_001032.txt  Russia-Ukraine war map: Where are Russian troo...   \n",
       "555  EN_UA_001032.txt  Russia-Ukraine war map: Where are Russian troo...   \n",
       "556  EN_UA_001032.txt  Russia-Ukraine war map: Where are Russian troo...   \n",
       "\n",
       "      entity_mention document_entity_mention  entity_mention_match  \\\n",
       "63            Russia                  ussia                  False   \n",
       "64             Putin                   utin                  False   \n",
       "469          Germany                 rmany h                 False   \n",
       "470          Ukraine                 raine t                 False   \n",
       "471           France                  ance a                 False   \n",
       "472           Poland                  land,                  False   \n",
       "473  Weimar Triangle         imar Triangle w                 False   \n",
       "553           Russia                  ussia                  False   \n",
       "554          Ukraine                 kraine?                 False   \n",
       "555        Joe Biden               oe Biden                  False   \n",
       "556    Boris Johnson           oris Johnson                  False   \n",
       "\n",
       "     start_offset  end_offset    main_role fine_grained_roles  \n",
       "63           1589        1594   Antagonist        [Terrorist]  \n",
       "64           1750        1754   Antagonist      [Incompetent]  \n",
       "469          2178        2184   Antagonist          [Traitor]  \n",
       "470          2252        2258   Antagonist      [Incompetent]  \n",
       "471          2529        2534   Antagonist      [Conspirator]  \n",
       "472          2540        2545   Antagonist      [Conspirator]  \n",
       "473          2902        2916   Antagonist      [Conspirator]  \n",
       "553          2064        2069   Antagonist       [Instigator]  \n",
       "554          2079        2085     Innocent           [Victim]  \n",
       "555          2609        2617  Protagonist         [Guardian]  \n",
       "556          2623        2635  Protagonist         [Guardian]  "
      ]
     },
     "execution_count": 13,
     "metadata": {},
     "output_type": "execute_result"
    }
   ],
   "source": [
    "# print rows where entinty_mention_match is False\n",
    "df[df['entity_mention_match'] == False]"
   ]
  },
  {
   "cell_type": "code",
   "execution_count": 14,
   "metadata": {
    "execution": {
     "iopub.execute_input": "2024-12-10T02:21:03.323591Z",
     "iopub.status.busy": "2024-12-10T02:21:03.323217Z",
     "iopub.status.idle": "2024-12-10T02:21:03.332608Z",
     "shell.execute_reply": "2024-12-10T02:21:03.331535Z",
     "shell.execute_reply.started": "2024-12-10T02:21:03.323557Z"
    },
    "trusted": true
   },
   "outputs": [
    {
     "data": {
      "text/html": [
       "<div>\n",
       "<style scoped>\n",
       "    .dataframe tbody tr th:only-of-type {\n",
       "        vertical-align: middle;\n",
       "    }\n",
       "\n",
       "    .dataframe tbody tr th {\n",
       "        vertical-align: top;\n",
       "    }\n",
       "\n",
       "    .dataframe thead th {\n",
       "        text-align: right;\n",
       "    }\n",
       "</style>\n",
       "<table border=\"1\" class=\"dataframe\">\n",
       "  <thead>\n",
       "    <tr style=\"text-align: right;\">\n",
       "      <th></th>\n",
       "      <th>article_id</th>\n",
       "      <th>document</th>\n",
       "      <th>entity_mention</th>\n",
       "      <th>document_entity_mention</th>\n",
       "      <th>entity_mention_match</th>\n",
       "      <th>start_offset</th>\n",
       "      <th>end_offset</th>\n",
       "    </tr>\n",
       "  </thead>\n",
       "  <tbody>\n",
       "  </tbody>\n",
       "</table>\n",
       "</div>"
      ],
      "text/plain": [
       "Empty DataFrame\n",
       "Columns: [article_id, document, entity_mention, document_entity_mention, entity_mention_match, start_offset, end_offset]\n",
       "Index: []"
      ]
     },
     "execution_count": 14,
     "metadata": {},
     "output_type": "execute_result"
    }
   ],
   "source": [
    "# print rows where entinty_mention_match is False\n",
    "df_test[df_test['entity_mention_match'] == False]"
   ]
  },
  {
   "cell_type": "code",
   "execution_count": 15,
   "metadata": {
    "execution": {
     "iopub.execute_input": "2024-12-10T02:21:03.663922Z",
     "iopub.status.busy": "2024-12-10T02:21:03.663175Z",
     "iopub.status.idle": "2024-12-10T02:21:03.670203Z",
     "shell.execute_reply": "2024-12-10T02:21:03.669147Z",
     "shell.execute_reply.started": "2024-12-10T02:21:03.663888Z"
    },
    "trusted": true
   },
   "outputs": [],
   "source": [
    "def fix_offsets(df):\n",
    "    # for rows where entity_mention_match is False, subtract 2 from start_offset and end_offset\n",
    "    df.loc[df['entity_mention_match'] == False, 'start_offset'] -= 1\n",
    "    df.loc[df['entity_mention_match'] == False, 'end_offset'] -= 1\n",
    "\n",
    "    # Now we can check if the entity_mention is same as the entity_mention in the data\n",
    "    df['document_entity_mention'] = df.apply(lambda x: x['document'][x['start_offset']:x['end_offset']+1], axis=1)\n",
    "    df['entity_mention_match'] = df['entity_mention'] == df['document_entity_mention']\n",
    "\n",
    "    df.loc[df['entity_mention_match'] == False, 'start_offset'] -= 1\n",
    "    df.loc[df['entity_mention_match'] == False, 'end_offset'] -= 1\n",
    "\n",
    "    # Now we can check if the entity_mention is same as the entity_mention in the data\n",
    "    df['document_entity_mention'] = df.apply(lambda x: x['document'][x['start_offset']:x['end_offset']+1], axis=1)\n",
    "    df['entity_mention_match'] = df['entity_mention'] == df['document_entity_mention']\n",
    "\n",
    "    return df"
   ]
  },
  {
   "cell_type": "code",
   "execution_count": 16,
   "metadata": {
    "execution": {
     "iopub.execute_input": "2024-12-10T02:21:03.975099Z",
     "iopub.status.busy": "2024-12-10T02:21:03.974787Z",
     "iopub.status.idle": "2024-12-10T02:21:04.008253Z",
     "shell.execute_reply": "2024-12-10T02:21:04.007537Z",
     "shell.execute_reply.started": "2024-12-10T02:21:03.975072Z"
    },
    "trusted": true
   },
   "outputs": [],
   "source": [
    "df = fix_offsets(df)\n",
    "df_test = fix_offsets(df_test)"
   ]
  },
  {
   "cell_type": "code",
   "execution_count": 17,
   "metadata": {
    "execution": {
     "iopub.execute_input": "2024-12-10T02:21:04.261954Z",
     "iopub.status.busy": "2024-12-10T02:21:04.261327Z",
     "iopub.status.idle": "2024-12-10T02:21:04.270680Z",
     "shell.execute_reply": "2024-12-10T02:21:04.269765Z",
     "shell.execute_reply.started": "2024-12-10T02:21:04.261920Z"
    },
    "trusted": true
   },
   "outputs": [
    {
     "data": {
      "text/html": [
       "<div>\n",
       "<style scoped>\n",
       "    .dataframe tbody tr th:only-of-type {\n",
       "        vertical-align: middle;\n",
       "    }\n",
       "\n",
       "    .dataframe tbody tr th {\n",
       "        vertical-align: top;\n",
       "    }\n",
       "\n",
       "    .dataframe thead th {\n",
       "        text-align: right;\n",
       "    }\n",
       "</style>\n",
       "<table border=\"1\" class=\"dataframe\">\n",
       "  <thead>\n",
       "    <tr style=\"text-align: right;\">\n",
       "      <th></th>\n",
       "      <th>article_id</th>\n",
       "      <th>document</th>\n",
       "      <th>entity_mention</th>\n",
       "      <th>document_entity_mention</th>\n",
       "      <th>entity_mention_match</th>\n",
       "      <th>start_offset</th>\n",
       "      <th>end_offset</th>\n",
       "      <th>main_role</th>\n",
       "      <th>fine_grained_roles</th>\n",
       "    </tr>\n",
       "  </thead>\n",
       "  <tbody>\n",
       "  </tbody>\n",
       "</table>\n",
       "</div>"
      ],
      "text/plain": [
       "Empty DataFrame\n",
       "Columns: [article_id, document, entity_mention, document_entity_mention, entity_mention_match, start_offset, end_offset, main_role, fine_grained_roles]\n",
       "Index: []"
      ]
     },
     "execution_count": 17,
     "metadata": {},
     "output_type": "execute_result"
    }
   ],
   "source": [
    "# print rows where entinty_mention_match is False\n",
    "df[df['entity_mention_match'] == False]"
   ]
  },
  {
   "cell_type": "code",
   "execution_count": 18,
   "metadata": {
    "execution": {
     "iopub.execute_input": "2024-12-10T02:21:04.709556Z",
     "iopub.status.busy": "2024-12-10T02:21:04.708639Z",
     "iopub.status.idle": "2024-12-10T02:21:04.718268Z",
     "shell.execute_reply": "2024-12-10T02:21:04.717320Z",
     "shell.execute_reply.started": "2024-12-10T02:21:04.709521Z"
    },
    "trusted": true
   },
   "outputs": [
    {
     "data": {
      "text/html": [
       "<div>\n",
       "<style scoped>\n",
       "    .dataframe tbody tr th:only-of-type {\n",
       "        vertical-align: middle;\n",
       "    }\n",
       "\n",
       "    .dataframe tbody tr th {\n",
       "        vertical-align: top;\n",
       "    }\n",
       "\n",
       "    .dataframe thead th {\n",
       "        text-align: right;\n",
       "    }\n",
       "</style>\n",
       "<table border=\"1\" class=\"dataframe\">\n",
       "  <thead>\n",
       "    <tr style=\"text-align: right;\">\n",
       "      <th></th>\n",
       "      <th>article_id</th>\n",
       "      <th>document</th>\n",
       "      <th>entity_mention</th>\n",
       "      <th>document_entity_mention</th>\n",
       "      <th>entity_mention_match</th>\n",
       "      <th>start_offset</th>\n",
       "      <th>end_offset</th>\n",
       "    </tr>\n",
       "  </thead>\n",
       "  <tbody>\n",
       "  </tbody>\n",
       "</table>\n",
       "</div>"
      ],
      "text/plain": [
       "Empty DataFrame\n",
       "Columns: [article_id, document, entity_mention, document_entity_mention, entity_mention_match, start_offset, end_offset]\n",
       "Index: []"
      ]
     },
     "execution_count": 18,
     "metadata": {},
     "output_type": "execute_result"
    }
   ],
   "source": [
    "# print rows where entinty_mention_match is False\n",
    "df_test[df_test['entity_mention_match'] == False]"
   ]
  },
  {
   "cell_type": "code",
   "execution_count": 19,
   "metadata": {
    "execution": {
     "iopub.execute_input": "2024-12-10T02:21:05.080893Z",
     "iopub.status.busy": "2024-12-10T02:21:05.080131Z",
     "iopub.status.idle": "2024-12-10T02:21:05.086921Z",
     "shell.execute_reply": "2024-12-10T02:21:05.086098Z",
     "shell.execute_reply.started": "2024-12-10T02:21:05.080856Z"
    },
    "trusted": true
   },
   "outputs": [],
   "source": [
    "# drop the document_entity_mention and article_id columns\n",
    "df.drop(columns=['document_entity_mention'], inplace=True)\n",
    "df_test.drop(columns=['document_entity_mention'], inplace=True)"
   ]
  },
  {
   "cell_type": "code",
   "execution_count": 20,
   "metadata": {
    "execution": {
     "iopub.execute_input": "2024-12-10T02:21:05.412583Z",
     "iopub.status.busy": "2024-12-10T02:21:05.411744Z",
     "iopub.status.idle": "2024-12-10T02:21:05.425589Z",
     "shell.execute_reply": "2024-12-10T02:21:05.424638Z",
     "shell.execute_reply.started": "2024-12-10T02:21:05.412548Z"
    },
    "trusted": true
   },
   "outputs": [
    {
     "data": {
      "text/html": [
       "<div>\n",
       "<style scoped>\n",
       "    .dataframe tbody tr th:only-of-type {\n",
       "        vertical-align: middle;\n",
       "    }\n",
       "\n",
       "    .dataframe tbody tr th {\n",
       "        vertical-align: top;\n",
       "    }\n",
       "\n",
       "    .dataframe thead th {\n",
       "        text-align: right;\n",
       "    }\n",
       "</style>\n",
       "<table border=\"1\" class=\"dataframe\">\n",
       "  <thead>\n",
       "    <tr style=\"text-align: right;\">\n",
       "      <th></th>\n",
       "      <th>article_id</th>\n",
       "      <th>document</th>\n",
       "      <th>entity_mention</th>\n",
       "      <th>entity_mention_match</th>\n",
       "      <th>start_offset</th>\n",
       "      <th>end_offset</th>\n",
       "      <th>main_role</th>\n",
       "      <th>fine_grained_roles</th>\n",
       "      <th>Len of classes</th>\n",
       "    </tr>\n",
       "  </thead>\n",
       "  <tbody>\n",
       "    <tr>\n",
       "      <th>0</th>\n",
       "      <td>EN_CC_100013.txt</td>\n",
       "      <td>Bill Gates Says He Is ‘The Solution’ To Climat...</td>\n",
       "      <td>Bill Gates</td>\n",
       "      <td>True</td>\n",
       "      <td>93</td>\n",
       "      <td>102</td>\n",
       "      <td>Antagonist</td>\n",
       "      <td>[Deceiver, Corrupt]</td>\n",
       "      <td>2</td>\n",
       "    </tr>\n",
       "    <tr>\n",
       "      <th>1</th>\n",
       "      <td>EN_CC_100013.txt</td>\n",
       "      <td>Bill Gates Says He Is ‘The Solution’ To Climat...</td>\n",
       "      <td>BBC</td>\n",
       "      <td>True</td>\n",
       "      <td>1860</td>\n",
       "      <td>1862</td>\n",
       "      <td>Antagonist</td>\n",
       "      <td>[Deceiver]</td>\n",
       "      <td>1</td>\n",
       "    </tr>\n",
       "    <tr>\n",
       "      <th>2</th>\n",
       "      <td>EN_CC_100013.txt</td>\n",
       "      <td>Bill Gates Says He Is ‘The Solution’ To Climat...</td>\n",
       "      <td>Jeffrey Epstein</td>\n",
       "      <td>True</td>\n",
       "      <td>2005</td>\n",
       "      <td>2019</td>\n",
       "      <td>Antagonist</td>\n",
       "      <td>[Corrupt]</td>\n",
       "      <td>1</td>\n",
       "    </tr>\n",
       "    <tr>\n",
       "      <th>3</th>\n",
       "      <td>EN_UA_300009.txt</td>\n",
       "      <td>Russia: Clashes erupt in Bashkortostan as righ...</td>\n",
       "      <td>Fail Alsynov</td>\n",
       "      <td>True</td>\n",
       "      <td>176</td>\n",
       "      <td>187</td>\n",
       "      <td>Protagonist</td>\n",
       "      <td>[Rebel, Martyr]</td>\n",
       "      <td>2</td>\n",
       "    </tr>\n",
       "    <tr>\n",
       "      <th>4</th>\n",
       "      <td>EN_UA_300009.txt</td>\n",
       "      <td>Russia: Clashes erupt in Bashkortostan as righ...</td>\n",
       "      <td>Bashkir people</td>\n",
       "      <td>True</td>\n",
       "      <td>1616</td>\n",
       "      <td>1629</td>\n",
       "      <td>Innocent</td>\n",
       "      <td>[Victim]</td>\n",
       "      <td>1</td>\n",
       "    </tr>\n",
       "  </tbody>\n",
       "</table>\n",
       "</div>"
      ],
      "text/plain": [
       "         article_id                                           document  \\\n",
       "0  EN_CC_100013.txt  Bill Gates Says He Is ‘The Solution’ To Climat...   \n",
       "1  EN_CC_100013.txt  Bill Gates Says He Is ‘The Solution’ To Climat...   \n",
       "2  EN_CC_100013.txt  Bill Gates Says He Is ‘The Solution’ To Climat...   \n",
       "3  EN_UA_300009.txt  Russia: Clashes erupt in Bashkortostan as righ...   \n",
       "4  EN_UA_300009.txt  Russia: Clashes erupt in Bashkortostan as righ...   \n",
       "\n",
       "    entity_mention  entity_mention_match  start_offset  end_offset  \\\n",
       "0       Bill Gates                  True            93         102   \n",
       "1              BBC                  True          1860        1862   \n",
       "2  Jeffrey Epstein                  True          2005        2019   \n",
       "3     Fail Alsynov                  True           176         187   \n",
       "4   Bashkir people                  True          1616        1629   \n",
       "\n",
       "     main_role   fine_grained_roles  Len of classes  \n",
       "0   Antagonist  [Deceiver, Corrupt]               2  \n",
       "1   Antagonist           [Deceiver]               1  \n",
       "2   Antagonist            [Corrupt]               1  \n",
       "3  Protagonist      [Rebel, Martyr]               2  \n",
       "4     Innocent             [Victim]               1  "
      ]
     },
     "execution_count": 20,
     "metadata": {},
     "output_type": "execute_result"
    }
   ],
   "source": [
    "df['Len of classes'] = df['fine_grained_roles'].apply(lambda x: len(x))\n",
    "df.head()"
   ]
  },
  {
   "cell_type": "code",
   "execution_count": 21,
   "metadata": {
    "execution": {
     "iopub.execute_input": "2024-12-10T02:21:05.734263Z",
     "iopub.status.busy": "2024-12-10T02:21:05.733954Z",
     "iopub.status.idle": "2024-12-10T02:21:05.747663Z",
     "shell.execute_reply": "2024-12-10T02:21:05.746771Z",
     "shell.execute_reply.started": "2024-12-10T02:21:05.734236Z"
    },
    "trusted": true
   },
   "outputs": [
    {
     "data": {
      "text/html": [
       "<div>\n",
       "<style scoped>\n",
       "    .dataframe tbody tr th:only-of-type {\n",
       "        vertical-align: middle;\n",
       "    }\n",
       "\n",
       "    .dataframe tbody tr th {\n",
       "        vertical-align: top;\n",
       "    }\n",
       "\n",
       "    .dataframe thead th {\n",
       "        text-align: right;\n",
       "    }\n",
       "</style>\n",
       "<table border=\"1\" class=\"dataframe\">\n",
       "  <thead>\n",
       "    <tr style=\"text-align: right;\">\n",
       "      <th></th>\n",
       "      <th>article_id</th>\n",
       "      <th>document</th>\n",
       "      <th>entity_mention</th>\n",
       "      <th>entity_mention_match</th>\n",
       "      <th>start_offset</th>\n",
       "      <th>end_offset</th>\n",
       "      <th>main_role</th>\n",
       "      <th>fine_grained_roles</th>\n",
       "      <th>Len of classes</th>\n",
       "    </tr>\n",
       "  </thead>\n",
       "  <tbody>\n",
       "    <tr>\n",
       "      <th>0</th>\n",
       "      <td>EN_CC_100013.txt</td>\n",
       "      <td>Bill Gates Says He Is ‘The Solution’ To Climat...</td>\n",
       "      <td>Bill Gates</td>\n",
       "      <td>True</td>\n",
       "      <td>93</td>\n",
       "      <td>102</td>\n",
       "      <td>Antagonist</td>\n",
       "      <td>[Deceiver, Corrupt]</td>\n",
       "      <td>2</td>\n",
       "    </tr>\n",
       "    <tr>\n",
       "      <th>3</th>\n",
       "      <td>EN_UA_300009.txt</td>\n",
       "      <td>Russia: Clashes erupt in Bashkortostan as righ...</td>\n",
       "      <td>Fail Alsynov</td>\n",
       "      <td>True</td>\n",
       "      <td>176</td>\n",
       "      <td>187</td>\n",
       "      <td>Protagonist</td>\n",
       "      <td>[Rebel, Martyr]</td>\n",
       "      <td>2</td>\n",
       "    </tr>\n",
       "    <tr>\n",
       "      <th>5</th>\n",
       "      <td>EN_UA_300009.txt</td>\n",
       "      <td>Russia: Clashes erupt in Bashkortostan as righ...</td>\n",
       "      <td>Bashkort</td>\n",
       "      <td>True</td>\n",
       "      <td>1791</td>\n",
       "      <td>1798</td>\n",
       "      <td>Protagonist</td>\n",
       "      <td>[Rebel, Guardian]</td>\n",
       "      <td>2</td>\n",
       "    </tr>\n",
       "    <tr>\n",
       "      <th>47</th>\n",
       "      <td>EN_UA_300129.txt</td>\n",
       "      <td>The Kremlin Is Setting Up WW III by Sitting on...</td>\n",
       "      <td>the U.S</td>\n",
       "      <td>True</td>\n",
       "      <td>591</td>\n",
       "      <td>597</td>\n",
       "      <td>Antagonist</td>\n",
       "      <td>[Instigator, Foreign Adversary]</td>\n",
       "      <td>2</td>\n",
       "    </tr>\n",
       "    <tr>\n",
       "      <th>51</th>\n",
       "      <td>EN_UA_002531.txt</td>\n",
       "      <td>Kyiv's Mayor Says He's 'Ready to Fight' as Rus...</td>\n",
       "      <td>Kyiv Mayor Vitali Klitschko</td>\n",
       "      <td>True</td>\n",
       "      <td>76</td>\n",
       "      <td>102</td>\n",
       "      <td>Protagonist</td>\n",
       "      <td>[Rebel, Martyr]</td>\n",
       "      <td>2</td>\n",
       "    </tr>\n",
       "  </tbody>\n",
       "</table>\n",
       "</div>"
      ],
      "text/plain": [
       "          article_id                                           document  \\\n",
       "0   EN_CC_100013.txt  Bill Gates Says He Is ‘The Solution’ To Climat...   \n",
       "3   EN_UA_300009.txt  Russia: Clashes erupt in Bashkortostan as righ...   \n",
       "5   EN_UA_300009.txt  Russia: Clashes erupt in Bashkortostan as righ...   \n",
       "47  EN_UA_300129.txt  The Kremlin Is Setting Up WW III by Sitting on...   \n",
       "51  EN_UA_002531.txt  Kyiv's Mayor Says He's 'Ready to Fight' as Rus...   \n",
       "\n",
       "                 entity_mention  entity_mention_match  start_offset  \\\n",
       "0                    Bill Gates                  True            93   \n",
       "3                  Fail Alsynov                  True           176   \n",
       "5                      Bashkort                  True          1791   \n",
       "47                      the U.S                  True           591   \n",
       "51  Kyiv Mayor Vitali Klitschko                  True            76   \n",
       "\n",
       "    end_offset    main_role               fine_grained_roles  Len of classes  \n",
       "0          102   Antagonist              [Deceiver, Corrupt]               2  \n",
       "3          187  Protagonist                  [Rebel, Martyr]               2  \n",
       "5         1798  Protagonist                [Rebel, Guardian]               2  \n",
       "47         597   Antagonist  [Instigator, Foreign Adversary]               2  \n",
       "51         102  Protagonist                  [Rebel, Martyr]               2  "
      ]
     },
     "execution_count": 21,
     "metadata": {},
     "output_type": "execute_result"
    }
   ],
   "source": [
    "# Print rows where len of classes is greater than 1\n",
    "df[df['Len of classes'] > 1].head()"
   ]
  },
  {
   "cell_type": "code",
   "execution_count": 22,
   "metadata": {
    "execution": {
     "iopub.execute_input": "2024-12-10T02:21:06.097181Z",
     "iopub.status.busy": "2024-12-10T02:21:06.096426Z",
     "iopub.status.idle": "2024-12-10T02:21:06.118886Z",
     "shell.execute_reply": "2024-12-10T02:21:06.117846Z",
     "shell.execute_reply.started": "2024-12-10T02:21:06.097145Z"
    },
    "trusted": true
   },
   "outputs": [
    {
     "data": {
      "text/html": [
       "<div>\n",
       "<style scoped>\n",
       "    .dataframe tbody tr th:only-of-type {\n",
       "        vertical-align: middle;\n",
       "    }\n",
       "\n",
       "    .dataframe tbody tr th {\n",
       "        vertical-align: top;\n",
       "    }\n",
       "\n",
       "    .dataframe thead th {\n",
       "        text-align: right;\n",
       "    }\n",
       "</style>\n",
       "<table border=\"1\" class=\"dataframe\">\n",
       "  <thead>\n",
       "    <tr style=\"text-align: right;\">\n",
       "      <th></th>\n",
       "      <th>article_id</th>\n",
       "      <th>document</th>\n",
       "      <th>entity_mention</th>\n",
       "      <th>entity_mention_match</th>\n",
       "      <th>start_offset</th>\n",
       "      <th>end_offset</th>\n",
       "      <th>main_role</th>\n",
       "      <th>fine_grained_roles</th>\n",
       "      <th>Len of classes</th>\n",
       "      <th>Bigot</th>\n",
       "      <th>Conspirator</th>\n",
       "      <th>Corrupt</th>\n",
       "      <th>Deceiver</th>\n",
       "      <th>Exploited</th>\n",
       "      <th>Foreign Adversary</th>\n",
       "      <th>Forgotten</th>\n",
       "      <th>Guardian</th>\n",
       "      <th>Incompetent</th>\n",
       "      <th>Instigator</th>\n",
       "      <th>Martyr</th>\n",
       "      <th>Peacemaker</th>\n",
       "      <th>Rebel</th>\n",
       "      <th>Saboteur</th>\n",
       "      <th>Scapegoat</th>\n",
       "      <th>Spy</th>\n",
       "      <th>Terrorist</th>\n",
       "      <th>Traitor</th>\n",
       "      <th>Tyrant</th>\n",
       "      <th>Underdog</th>\n",
       "      <th>Victim</th>\n",
       "      <th>Virtuous</th>\n",
       "    </tr>\n",
       "  </thead>\n",
       "  <tbody>\n",
       "    <tr>\n",
       "      <th>0</th>\n",
       "      <td>EN_CC_100013.txt</td>\n",
       "      <td>Bill Gates Says He Is ‘The Solution’ To Climat...</td>\n",
       "      <td>Bill Gates</td>\n",
       "      <td>True</td>\n",
       "      <td>93</td>\n",
       "      <td>102</td>\n",
       "      <td>Antagonist</td>\n",
       "      <td>[Deceiver, Corrupt]</td>\n",
       "      <td>2</td>\n",
       "      <td>0</td>\n",
       "      <td>0</td>\n",
       "      <td>1</td>\n",
       "      <td>1</td>\n",
       "      <td>0</td>\n",
       "      <td>0</td>\n",
       "      <td>0</td>\n",
       "      <td>0</td>\n",
       "      <td>0</td>\n",
       "      <td>0</td>\n",
       "      <td>0</td>\n",
       "      <td>0</td>\n",
       "      <td>0</td>\n",
       "      <td>0</td>\n",
       "      <td>0</td>\n",
       "      <td>0</td>\n",
       "      <td>0</td>\n",
       "      <td>0</td>\n",
       "      <td>0</td>\n",
       "      <td>0</td>\n",
       "      <td>0</td>\n",
       "      <td>0</td>\n",
       "    </tr>\n",
       "    <tr>\n",
       "      <th>1</th>\n",
       "      <td>EN_CC_100013.txt</td>\n",
       "      <td>Bill Gates Says He Is ‘The Solution’ To Climat...</td>\n",
       "      <td>BBC</td>\n",
       "      <td>True</td>\n",
       "      <td>1860</td>\n",
       "      <td>1862</td>\n",
       "      <td>Antagonist</td>\n",
       "      <td>[Deceiver]</td>\n",
       "      <td>1</td>\n",
       "      <td>0</td>\n",
       "      <td>0</td>\n",
       "      <td>0</td>\n",
       "      <td>1</td>\n",
       "      <td>0</td>\n",
       "      <td>0</td>\n",
       "      <td>0</td>\n",
       "      <td>0</td>\n",
       "      <td>0</td>\n",
       "      <td>0</td>\n",
       "      <td>0</td>\n",
       "      <td>0</td>\n",
       "      <td>0</td>\n",
       "      <td>0</td>\n",
       "      <td>0</td>\n",
       "      <td>0</td>\n",
       "      <td>0</td>\n",
       "      <td>0</td>\n",
       "      <td>0</td>\n",
       "      <td>0</td>\n",
       "      <td>0</td>\n",
       "      <td>0</td>\n",
       "    </tr>\n",
       "    <tr>\n",
       "      <th>2</th>\n",
       "      <td>EN_CC_100013.txt</td>\n",
       "      <td>Bill Gates Says He Is ‘The Solution’ To Climat...</td>\n",
       "      <td>Jeffrey Epstein</td>\n",
       "      <td>True</td>\n",
       "      <td>2005</td>\n",
       "      <td>2019</td>\n",
       "      <td>Antagonist</td>\n",
       "      <td>[Corrupt]</td>\n",
       "      <td>1</td>\n",
       "      <td>0</td>\n",
       "      <td>0</td>\n",
       "      <td>1</td>\n",
       "      <td>0</td>\n",
       "      <td>0</td>\n",
       "      <td>0</td>\n",
       "      <td>0</td>\n",
       "      <td>0</td>\n",
       "      <td>0</td>\n",
       "      <td>0</td>\n",
       "      <td>0</td>\n",
       "      <td>0</td>\n",
       "      <td>0</td>\n",
       "      <td>0</td>\n",
       "      <td>0</td>\n",
       "      <td>0</td>\n",
       "      <td>0</td>\n",
       "      <td>0</td>\n",
       "      <td>0</td>\n",
       "      <td>0</td>\n",
       "      <td>0</td>\n",
       "      <td>0</td>\n",
       "    </tr>\n",
       "    <tr>\n",
       "      <th>3</th>\n",
       "      <td>EN_UA_300009.txt</td>\n",
       "      <td>Russia: Clashes erupt in Bashkortostan as righ...</td>\n",
       "      <td>Fail Alsynov</td>\n",
       "      <td>True</td>\n",
       "      <td>176</td>\n",
       "      <td>187</td>\n",
       "      <td>Protagonist</td>\n",
       "      <td>[Rebel, Martyr]</td>\n",
       "      <td>2</td>\n",
       "      <td>0</td>\n",
       "      <td>0</td>\n",
       "      <td>0</td>\n",
       "      <td>0</td>\n",
       "      <td>0</td>\n",
       "      <td>0</td>\n",
       "      <td>0</td>\n",
       "      <td>0</td>\n",
       "      <td>0</td>\n",
       "      <td>0</td>\n",
       "      <td>1</td>\n",
       "      <td>0</td>\n",
       "      <td>1</td>\n",
       "      <td>0</td>\n",
       "      <td>0</td>\n",
       "      <td>0</td>\n",
       "      <td>0</td>\n",
       "      <td>0</td>\n",
       "      <td>0</td>\n",
       "      <td>0</td>\n",
       "      <td>0</td>\n",
       "      <td>0</td>\n",
       "    </tr>\n",
       "    <tr>\n",
       "      <th>4</th>\n",
       "      <td>EN_UA_300009.txt</td>\n",
       "      <td>Russia: Clashes erupt in Bashkortostan as righ...</td>\n",
       "      <td>Bashkir people</td>\n",
       "      <td>True</td>\n",
       "      <td>1616</td>\n",
       "      <td>1629</td>\n",
       "      <td>Innocent</td>\n",
       "      <td>[Victim]</td>\n",
       "      <td>1</td>\n",
       "      <td>0</td>\n",
       "      <td>0</td>\n",
       "      <td>0</td>\n",
       "      <td>0</td>\n",
       "      <td>0</td>\n",
       "      <td>0</td>\n",
       "      <td>0</td>\n",
       "      <td>0</td>\n",
       "      <td>0</td>\n",
       "      <td>0</td>\n",
       "      <td>0</td>\n",
       "      <td>0</td>\n",
       "      <td>0</td>\n",
       "      <td>0</td>\n",
       "      <td>0</td>\n",
       "      <td>0</td>\n",
       "      <td>0</td>\n",
       "      <td>0</td>\n",
       "      <td>0</td>\n",
       "      <td>0</td>\n",
       "      <td>1</td>\n",
       "      <td>0</td>\n",
       "    </tr>\n",
       "  </tbody>\n",
       "</table>\n",
       "</div>"
      ],
      "text/plain": [
       "         article_id                                           document  \\\n",
       "0  EN_CC_100013.txt  Bill Gates Says He Is ‘The Solution’ To Climat...   \n",
       "1  EN_CC_100013.txt  Bill Gates Says He Is ‘The Solution’ To Climat...   \n",
       "2  EN_CC_100013.txt  Bill Gates Says He Is ‘The Solution’ To Climat...   \n",
       "3  EN_UA_300009.txt  Russia: Clashes erupt in Bashkortostan as righ...   \n",
       "4  EN_UA_300009.txt  Russia: Clashes erupt in Bashkortostan as righ...   \n",
       "\n",
       "    entity_mention  entity_mention_match  start_offset  end_offset  \\\n",
       "0       Bill Gates                  True            93         102   \n",
       "1              BBC                  True          1860        1862   \n",
       "2  Jeffrey Epstein                  True          2005        2019   \n",
       "3     Fail Alsynov                  True           176         187   \n",
       "4   Bashkir people                  True          1616        1629   \n",
       "\n",
       "     main_role   fine_grained_roles  Len of classes  Bigot  Conspirator  \\\n",
       "0   Antagonist  [Deceiver, Corrupt]               2      0            0   \n",
       "1   Antagonist           [Deceiver]               1      0            0   \n",
       "2   Antagonist            [Corrupt]               1      0            0   \n",
       "3  Protagonist      [Rebel, Martyr]               2      0            0   \n",
       "4     Innocent             [Victim]               1      0            0   \n",
       "\n",
       "   Corrupt  Deceiver  Exploited  Foreign Adversary  Forgotten  Guardian  \\\n",
       "0        1         1          0                  0          0         0   \n",
       "1        0         1          0                  0          0         0   \n",
       "2        1         0          0                  0          0         0   \n",
       "3        0         0          0                  0          0         0   \n",
       "4        0         0          0                  0          0         0   \n",
       "\n",
       "   Incompetent  Instigator  Martyr  Peacemaker  Rebel  Saboteur  Scapegoat  \\\n",
       "0            0           0       0           0      0         0          0   \n",
       "1            0           0       0           0      0         0          0   \n",
       "2            0           0       0           0      0         0          0   \n",
       "3            0           0       1           0      1         0          0   \n",
       "4            0           0       0           0      0         0          0   \n",
       "\n",
       "   Spy  Terrorist  Traitor  Tyrant  Underdog  Victim  Virtuous  \n",
       "0    0          0        0       0         0       0         0  \n",
       "1    0          0        0       0         0       0         0  \n",
       "2    0          0        0       0         0       0         0  \n",
       "3    0          0        0       0         0       0         0  \n",
       "4    0          0        0       0         0       1         0  "
      ]
     },
     "execution_count": 22,
     "metadata": {},
     "output_type": "execute_result"
    }
   ],
   "source": [
    "# Initialize the MultiLabelBinarizer\n",
    "mlb = MultiLabelBinarizer()\n",
    "\n",
    "# Fit and transform the column\n",
    "binary_labels = mlb.fit_transform(df['fine_grained_roles'])\n",
    "\n",
    "# Create a new DataFrame with binary labels\n",
    "binary_labels_df = pd.DataFrame(binary_labels, columns=mlb.classes_)\n",
    "\n",
    "# Concatenate the original dataframe with the new binary columns\n",
    "df = pd.concat([df, binary_labels_df], axis=1)\n",
    "\n",
    "# Display the updated DataFrame\n",
    "df.head()"
   ]
  },
  {
   "cell_type": "code",
   "execution_count": 23,
   "metadata": {
    "execution": {
     "iopub.execute_input": "2024-12-10T02:21:06.488372Z",
     "iopub.status.busy": "2024-12-10T02:21:06.487527Z",
     "iopub.status.idle": "2024-12-10T02:21:06.493398Z",
     "shell.execute_reply": "2024-12-10T02:21:06.492532Z",
     "shell.execute_reply.started": "2024-12-10T02:21:06.488336Z"
    },
    "trusted": true
   },
   "outputs": [],
   "source": [
    "df.drop(columns=['Len of classes', 'entity_mention_match'], inplace=True)"
   ]
  },
  {
   "cell_type": "code",
   "execution_count": 24,
   "metadata": {
    "execution": {
     "iopub.execute_input": "2024-12-10T02:21:06.914115Z",
     "iopub.status.busy": "2024-12-10T02:21:06.913357Z",
     "iopub.status.idle": "2024-12-10T02:21:06.919169Z",
     "shell.execute_reply": "2024-12-10T02:21:06.918104Z",
     "shell.execute_reply.started": "2024-12-10T02:21:06.914081Z"
    },
    "trusted": true
   },
   "outputs": [],
   "source": [
    "df_test.drop(columns=['entity_mention_match'], inplace=True)"
   ]
  },
  {
   "cell_type": "code",
   "execution_count": 25,
   "metadata": {
    "execution": {
     "iopub.execute_input": "2024-12-10T02:21:07.271858Z",
     "iopub.status.busy": "2024-12-10T02:21:07.271150Z",
     "iopub.status.idle": "2024-12-10T02:21:07.289379Z",
     "shell.execute_reply": "2024-12-10T02:21:07.288420Z",
     "shell.execute_reply.started": "2024-12-10T02:21:07.271809Z"
    },
    "trusted": true
   },
   "outputs": [
    {
     "data": {
      "text/html": [
       "<div>\n",
       "<style scoped>\n",
       "    .dataframe tbody tr th:only-of-type {\n",
       "        vertical-align: middle;\n",
       "    }\n",
       "\n",
       "    .dataframe tbody tr th {\n",
       "        vertical-align: top;\n",
       "    }\n",
       "\n",
       "    .dataframe thead th {\n",
       "        text-align: right;\n",
       "    }\n",
       "</style>\n",
       "<table border=\"1\" class=\"dataframe\">\n",
       "  <thead>\n",
       "    <tr style=\"text-align: right;\">\n",
       "      <th></th>\n",
       "      <th>article_id</th>\n",
       "      <th>document</th>\n",
       "      <th>entity_mention</th>\n",
       "      <th>start_offset</th>\n",
       "      <th>end_offset</th>\n",
       "      <th>main_role</th>\n",
       "      <th>fine_grained_roles</th>\n",
       "      <th>Bigot</th>\n",
       "      <th>Conspirator</th>\n",
       "      <th>Corrupt</th>\n",
       "      <th>Deceiver</th>\n",
       "      <th>Exploited</th>\n",
       "      <th>Foreign Adversary</th>\n",
       "      <th>Forgotten</th>\n",
       "      <th>Guardian</th>\n",
       "      <th>Incompetent</th>\n",
       "      <th>Instigator</th>\n",
       "      <th>Martyr</th>\n",
       "      <th>Peacemaker</th>\n",
       "      <th>Rebel</th>\n",
       "      <th>Saboteur</th>\n",
       "      <th>Scapegoat</th>\n",
       "      <th>Spy</th>\n",
       "      <th>Terrorist</th>\n",
       "      <th>Traitor</th>\n",
       "      <th>Tyrant</th>\n",
       "      <th>Underdog</th>\n",
       "      <th>Victim</th>\n",
       "      <th>Virtuous</th>\n",
       "    </tr>\n",
       "  </thead>\n",
       "  <tbody>\n",
       "    <tr>\n",
       "      <th>0</th>\n",
       "      <td>EN_CC_100013.txt</td>\n",
       "      <td>Bill Gates Says He Is ‘The Solution’ To Climat...</td>\n",
       "      <td>Bill Gates</td>\n",
       "      <td>93</td>\n",
       "      <td>102</td>\n",
       "      <td>Antagonist</td>\n",
       "      <td>[Deceiver, Corrupt]</td>\n",
       "      <td>0</td>\n",
       "      <td>0</td>\n",
       "      <td>1</td>\n",
       "      <td>1</td>\n",
       "      <td>0</td>\n",
       "      <td>0</td>\n",
       "      <td>0</td>\n",
       "      <td>0</td>\n",
       "      <td>0</td>\n",
       "      <td>0</td>\n",
       "      <td>0</td>\n",
       "      <td>0</td>\n",
       "      <td>0</td>\n",
       "      <td>0</td>\n",
       "      <td>0</td>\n",
       "      <td>0</td>\n",
       "      <td>0</td>\n",
       "      <td>0</td>\n",
       "      <td>0</td>\n",
       "      <td>0</td>\n",
       "      <td>0</td>\n",
       "      <td>0</td>\n",
       "    </tr>\n",
       "    <tr>\n",
       "      <th>1</th>\n",
       "      <td>EN_CC_100013.txt</td>\n",
       "      <td>Bill Gates Says He Is ‘The Solution’ To Climat...</td>\n",
       "      <td>BBC</td>\n",
       "      <td>1860</td>\n",
       "      <td>1862</td>\n",
       "      <td>Antagonist</td>\n",
       "      <td>[Deceiver]</td>\n",
       "      <td>0</td>\n",
       "      <td>0</td>\n",
       "      <td>0</td>\n",
       "      <td>1</td>\n",
       "      <td>0</td>\n",
       "      <td>0</td>\n",
       "      <td>0</td>\n",
       "      <td>0</td>\n",
       "      <td>0</td>\n",
       "      <td>0</td>\n",
       "      <td>0</td>\n",
       "      <td>0</td>\n",
       "      <td>0</td>\n",
       "      <td>0</td>\n",
       "      <td>0</td>\n",
       "      <td>0</td>\n",
       "      <td>0</td>\n",
       "      <td>0</td>\n",
       "      <td>0</td>\n",
       "      <td>0</td>\n",
       "      <td>0</td>\n",
       "      <td>0</td>\n",
       "    </tr>\n",
       "    <tr>\n",
       "      <th>2</th>\n",
       "      <td>EN_CC_100013.txt</td>\n",
       "      <td>Bill Gates Says He Is ‘The Solution’ To Climat...</td>\n",
       "      <td>Jeffrey Epstein</td>\n",
       "      <td>2005</td>\n",
       "      <td>2019</td>\n",
       "      <td>Antagonist</td>\n",
       "      <td>[Corrupt]</td>\n",
       "      <td>0</td>\n",
       "      <td>0</td>\n",
       "      <td>1</td>\n",
       "      <td>0</td>\n",
       "      <td>0</td>\n",
       "      <td>0</td>\n",
       "      <td>0</td>\n",
       "      <td>0</td>\n",
       "      <td>0</td>\n",
       "      <td>0</td>\n",
       "      <td>0</td>\n",
       "      <td>0</td>\n",
       "      <td>0</td>\n",
       "      <td>0</td>\n",
       "      <td>0</td>\n",
       "      <td>0</td>\n",
       "      <td>0</td>\n",
       "      <td>0</td>\n",
       "      <td>0</td>\n",
       "      <td>0</td>\n",
       "      <td>0</td>\n",
       "      <td>0</td>\n",
       "    </tr>\n",
       "    <tr>\n",
       "      <th>3</th>\n",
       "      <td>EN_UA_300009.txt</td>\n",
       "      <td>Russia: Clashes erupt in Bashkortostan as righ...</td>\n",
       "      <td>Fail Alsynov</td>\n",
       "      <td>176</td>\n",
       "      <td>187</td>\n",
       "      <td>Protagonist</td>\n",
       "      <td>[Rebel, Martyr]</td>\n",
       "      <td>0</td>\n",
       "      <td>0</td>\n",
       "      <td>0</td>\n",
       "      <td>0</td>\n",
       "      <td>0</td>\n",
       "      <td>0</td>\n",
       "      <td>0</td>\n",
       "      <td>0</td>\n",
       "      <td>0</td>\n",
       "      <td>0</td>\n",
       "      <td>1</td>\n",
       "      <td>0</td>\n",
       "      <td>1</td>\n",
       "      <td>0</td>\n",
       "      <td>0</td>\n",
       "      <td>0</td>\n",
       "      <td>0</td>\n",
       "      <td>0</td>\n",
       "      <td>0</td>\n",
       "      <td>0</td>\n",
       "      <td>0</td>\n",
       "      <td>0</td>\n",
       "    </tr>\n",
       "    <tr>\n",
       "      <th>4</th>\n",
       "      <td>EN_UA_300009.txt</td>\n",
       "      <td>Russia: Clashes erupt in Bashkortostan as righ...</td>\n",
       "      <td>Bashkir people</td>\n",
       "      <td>1616</td>\n",
       "      <td>1629</td>\n",
       "      <td>Innocent</td>\n",
       "      <td>[Victim]</td>\n",
       "      <td>0</td>\n",
       "      <td>0</td>\n",
       "      <td>0</td>\n",
       "      <td>0</td>\n",
       "      <td>0</td>\n",
       "      <td>0</td>\n",
       "      <td>0</td>\n",
       "      <td>0</td>\n",
       "      <td>0</td>\n",
       "      <td>0</td>\n",
       "      <td>0</td>\n",
       "      <td>0</td>\n",
       "      <td>0</td>\n",
       "      <td>0</td>\n",
       "      <td>0</td>\n",
       "      <td>0</td>\n",
       "      <td>0</td>\n",
       "      <td>0</td>\n",
       "      <td>0</td>\n",
       "      <td>0</td>\n",
       "      <td>1</td>\n",
       "      <td>0</td>\n",
       "    </tr>\n",
       "  </tbody>\n",
       "</table>\n",
       "</div>"
      ],
      "text/plain": [
       "         article_id                                           document  \\\n",
       "0  EN_CC_100013.txt  Bill Gates Says He Is ‘The Solution’ To Climat...   \n",
       "1  EN_CC_100013.txt  Bill Gates Says He Is ‘The Solution’ To Climat...   \n",
       "2  EN_CC_100013.txt  Bill Gates Says He Is ‘The Solution’ To Climat...   \n",
       "3  EN_UA_300009.txt  Russia: Clashes erupt in Bashkortostan as righ...   \n",
       "4  EN_UA_300009.txt  Russia: Clashes erupt in Bashkortostan as righ...   \n",
       "\n",
       "    entity_mention  start_offset  end_offset    main_role  \\\n",
       "0       Bill Gates            93         102   Antagonist   \n",
       "1              BBC          1860        1862   Antagonist   \n",
       "2  Jeffrey Epstein          2005        2019   Antagonist   \n",
       "3     Fail Alsynov           176         187  Protagonist   \n",
       "4   Bashkir people          1616        1629     Innocent   \n",
       "\n",
       "    fine_grained_roles  Bigot  Conspirator  Corrupt  Deceiver  Exploited  \\\n",
       "0  [Deceiver, Corrupt]      0            0        1         1          0   \n",
       "1           [Deceiver]      0            0        0         1          0   \n",
       "2            [Corrupt]      0            0        1         0          0   \n",
       "3      [Rebel, Martyr]      0            0        0         0          0   \n",
       "4             [Victim]      0            0        0         0          0   \n",
       "\n",
       "   Foreign Adversary  Forgotten  Guardian  Incompetent  Instigator  Martyr  \\\n",
       "0                  0          0         0            0           0       0   \n",
       "1                  0          0         0            0           0       0   \n",
       "2                  0          0         0            0           0       0   \n",
       "3                  0          0         0            0           0       1   \n",
       "4                  0          0         0            0           0       0   \n",
       "\n",
       "   Peacemaker  Rebel  Saboteur  Scapegoat  Spy  Terrorist  Traitor  Tyrant  \\\n",
       "0           0      0         0          0    0          0        0       0   \n",
       "1           0      0         0          0    0          0        0       0   \n",
       "2           0      0         0          0    0          0        0       0   \n",
       "3           0      1         0          0    0          0        0       0   \n",
       "4           0      0         0          0    0          0        0       0   \n",
       "\n",
       "   Underdog  Victim  Virtuous  \n",
       "0         0       0         0  \n",
       "1         0       0         0  \n",
       "2         0       0         0  \n",
       "3         0       0         0  \n",
       "4         0       1         0  "
      ]
     },
     "execution_count": 25,
     "metadata": {},
     "output_type": "execute_result"
    }
   ],
   "source": [
    "df.head()"
   ]
  },
  {
   "cell_type": "code",
   "execution_count": 26,
   "metadata": {
    "execution": {
     "iopub.execute_input": "2024-12-10T02:21:07.661829Z",
     "iopub.status.busy": "2024-12-10T02:21:07.661094Z",
     "iopub.status.idle": "2024-12-10T02:21:07.671116Z",
     "shell.execute_reply": "2024-12-10T02:21:07.670161Z",
     "shell.execute_reply.started": "2024-12-10T02:21:07.661781Z"
    },
    "trusted": true
   },
   "outputs": [
    {
     "data": {
      "text/html": [
       "<div>\n",
       "<style scoped>\n",
       "    .dataframe tbody tr th:only-of-type {\n",
       "        vertical-align: middle;\n",
       "    }\n",
       "\n",
       "    .dataframe tbody tr th {\n",
       "        vertical-align: top;\n",
       "    }\n",
       "\n",
       "    .dataframe thead th {\n",
       "        text-align: right;\n",
       "    }\n",
       "</style>\n",
       "<table border=\"1\" class=\"dataframe\">\n",
       "  <thead>\n",
       "    <tr style=\"text-align: right;\">\n",
       "      <th></th>\n",
       "      <th>article_id</th>\n",
       "      <th>document</th>\n",
       "      <th>entity_mention</th>\n",
       "      <th>start_offset</th>\n",
       "      <th>end_offset</th>\n",
       "    </tr>\n",
       "  </thead>\n",
       "  <tbody>\n",
       "    <tr>\n",
       "      <th>0</th>\n",
       "      <td>EN_UA_DEV_100012.txt</td>\n",
       "      <td>Ukraine's Minerals: What the West is Fighting ...</td>\n",
       "      <td>Washington</td>\n",
       "      <td>1441</td>\n",
       "      <td>1450</td>\n",
       "    </tr>\n",
       "    <tr>\n",
       "      <th>1</th>\n",
       "      <td>EN_UA_DEV_100012.txt</td>\n",
       "      <td>Ukraine's Minerals: What the West is Fighting ...</td>\n",
       "      <td>Americans</td>\n",
       "      <td>2397</td>\n",
       "      <td>2405</td>\n",
       "    </tr>\n",
       "    <tr>\n",
       "      <th>2</th>\n",
       "      <td>EN_CC_200053.txt</td>\n",
       "      <td>UK’s Sunak Reverses Decision to Skip COP27 Cli...</td>\n",
       "      <td>Rishi Sunak</td>\n",
       "      <td>85</td>\n",
       "      <td>95</td>\n",
       "    </tr>\n",
       "    <tr>\n",
       "      <th>3</th>\n",
       "      <td>EN_CC_200040.txt</td>\n",
       "      <td>Climate Protesters Out Of Control As They Atta...</td>\n",
       "      <td>Extinction Rebellion</td>\n",
       "      <td>189</td>\n",
       "      <td>208</td>\n",
       "    </tr>\n",
       "    <tr>\n",
       "      <th>4</th>\n",
       "      <td>EN_CC_200070.txt</td>\n",
       "      <td>Wat? L.A. Mayor Garcetti Flies to Argentina to...</td>\n",
       "      <td>Eric Garcetti</td>\n",
       "      <td>89</td>\n",
       "      <td>101</td>\n",
       "    </tr>\n",
       "  </tbody>\n",
       "</table>\n",
       "</div>"
      ],
      "text/plain": [
       "             article_id                                           document  \\\n",
       "0  EN_UA_DEV_100012.txt  Ukraine's Minerals: What the West is Fighting ...   \n",
       "1  EN_UA_DEV_100012.txt  Ukraine's Minerals: What the West is Fighting ...   \n",
       "2      EN_CC_200053.txt  UK’s Sunak Reverses Decision to Skip COP27 Cli...   \n",
       "3      EN_CC_200040.txt  Climate Protesters Out Of Control As They Atta...   \n",
       "4      EN_CC_200070.txt  Wat? L.A. Mayor Garcetti Flies to Argentina to...   \n",
       "\n",
       "         entity_mention  start_offset  end_offset  \n",
       "0            Washington          1441        1450  \n",
       "1             Americans          2397        2405  \n",
       "2           Rishi Sunak            85          95  \n",
       "3  Extinction Rebellion           189         208  \n",
       "4         Eric Garcetti            89         101  "
      ]
     },
     "execution_count": 26,
     "metadata": {},
     "output_type": "execute_result"
    }
   ],
   "source": [
    "df_test.head()"
   ]
  },
  {
   "cell_type": "code",
   "execution_count": 27,
   "metadata": {
    "execution": {
     "iopub.execute_input": "2024-12-10T02:21:08.092301Z",
     "iopub.status.busy": "2024-12-10T02:21:08.091985Z",
     "iopub.status.idle": "2024-12-10T02:21:08.109646Z",
     "shell.execute_reply": "2024-12-10T02:21:08.108765Z",
     "shell.execute_reply.started": "2024-12-10T02:21:08.092275Z"
    },
    "trusted": true
   },
   "outputs": [],
   "source": [
    "# Function to get the paragraph containing the entity mention\n",
    "def get_paragraph_containing_entity(doc, start_offset, end_offset):\n",
    "    # Extract the text before and after the entity mention using the offsets\n",
    "    # Find the start of the paragraph by moving backwards from the start_offset\n",
    "    start_paragraph = doc.rfind('\\n\\n', 0, start_offset)\n",
    "    if start_paragraph == -1:\n",
    "        start_paragraph = 0  # If no paragraph break found, assume start of document\n",
    "    \n",
    "    # Find the end of the paragraph by moving forwards from the end_offset\n",
    "    end_paragraph = doc.find('\\n\\n', end_offset)\n",
    "    if end_paragraph == -1:\n",
    "        end_paragraph = len(doc)  # If no paragraph break found, assume end of document\n",
    "    \n",
    "    # Extract the full paragraph containing the entity\n",
    "    paragraph = doc[start_paragraph:end_paragraph].strip()\n",
    "    \n",
    "    return paragraph\n",
    "\n",
    "# Get the surrounding sentences for each row\n",
    "df[\"entity_paragraph\"] = df.apply(lambda x: get_paragraph_containing_entity(x['document'], x['start_offset'], x['end_offset']), axis=1)\n",
    "df_test[\"entity_paragraph\"] = df_test.apply(lambda x: get_paragraph_containing_entity(x['document'], x['start_offset'], x['end_offset']), axis=1)"
   ]
  },
  {
   "cell_type": "code",
   "execution_count": 28,
   "metadata": {
    "execution": {
     "iopub.execute_input": "2024-12-10T02:21:08.718697Z",
     "iopub.status.busy": "2024-12-10T02:21:08.718363Z",
     "iopub.status.idle": "2024-12-10T02:21:08.738196Z",
     "shell.execute_reply": "2024-12-10T02:21:08.737338Z",
     "shell.execute_reply.started": "2024-12-10T02:21:08.718669Z"
    },
    "trusted": true
   },
   "outputs": [
    {
     "data": {
      "text/html": [
       "<div>\n",
       "<style scoped>\n",
       "    .dataframe tbody tr th:only-of-type {\n",
       "        vertical-align: middle;\n",
       "    }\n",
       "\n",
       "    .dataframe tbody tr th {\n",
       "        vertical-align: top;\n",
       "    }\n",
       "\n",
       "    .dataframe thead th {\n",
       "        text-align: right;\n",
       "    }\n",
       "</style>\n",
       "<table border=\"1\" class=\"dataframe\">\n",
       "  <thead>\n",
       "    <tr style=\"text-align: right;\">\n",
       "      <th></th>\n",
       "      <th>article_id</th>\n",
       "      <th>entity_mention</th>\n",
       "      <th>start_offset</th>\n",
       "      <th>end_offset</th>\n",
       "      <th>main_role</th>\n",
       "      <th>fine_grained_roles</th>\n",
       "      <th>Bigot</th>\n",
       "      <th>Conspirator</th>\n",
       "      <th>Corrupt</th>\n",
       "      <th>Deceiver</th>\n",
       "      <th>Exploited</th>\n",
       "      <th>Foreign Adversary</th>\n",
       "      <th>Forgotten</th>\n",
       "      <th>Guardian</th>\n",
       "      <th>Incompetent</th>\n",
       "      <th>Instigator</th>\n",
       "      <th>Martyr</th>\n",
       "      <th>Peacemaker</th>\n",
       "      <th>Rebel</th>\n",
       "      <th>Saboteur</th>\n",
       "      <th>Scapegoat</th>\n",
       "      <th>Spy</th>\n",
       "      <th>Terrorist</th>\n",
       "      <th>Traitor</th>\n",
       "      <th>Tyrant</th>\n",
       "      <th>Underdog</th>\n",
       "      <th>Victim</th>\n",
       "      <th>Virtuous</th>\n",
       "      <th>entity_paragraph</th>\n",
       "    </tr>\n",
       "  </thead>\n",
       "  <tbody>\n",
       "    <tr>\n",
       "      <th>0</th>\n",
       "      <td>EN_CC_100013.txt</td>\n",
       "      <td>Bill Gates</td>\n",
       "      <td>93</td>\n",
       "      <td>102</td>\n",
       "      <td>Antagonist</td>\n",
       "      <td>[Deceiver, Corrupt]</td>\n",
       "      <td>0</td>\n",
       "      <td>0</td>\n",
       "      <td>1</td>\n",
       "      <td>1</td>\n",
       "      <td>0</td>\n",
       "      <td>0</td>\n",
       "      <td>0</td>\n",
       "      <td>0</td>\n",
       "      <td>0</td>\n",
       "      <td>0</td>\n",
       "      <td>0</td>\n",
       "      <td>0</td>\n",
       "      <td>0</td>\n",
       "      <td>0</td>\n",
       "      <td>0</td>\n",
       "      <td>0</td>\n",
       "      <td>0</td>\n",
       "      <td>0</td>\n",
       "      <td>0</td>\n",
       "      <td>0</td>\n",
       "      <td>0</td>\n",
       "      <td>0</td>\n",
       "      <td>Bill Gates has the right to fly around the wor...</td>\n",
       "    </tr>\n",
       "    <tr>\n",
       "      <th>1</th>\n",
       "      <td>EN_CC_100013.txt</td>\n",
       "      <td>BBC</td>\n",
       "      <td>1860</td>\n",
       "      <td>1862</td>\n",
       "      <td>Antagonist</td>\n",
       "      <td>[Deceiver]</td>\n",
       "      <td>0</td>\n",
       "      <td>0</td>\n",
       "      <td>0</td>\n",
       "      <td>1</td>\n",
       "      <td>0</td>\n",
       "      <td>0</td>\n",
       "      <td>0</td>\n",
       "      <td>0</td>\n",
       "      <td>0</td>\n",
       "      <td>0</td>\n",
       "      <td>0</td>\n",
       "      <td>0</td>\n",
       "      <td>0</td>\n",
       "      <td>0</td>\n",
       "      <td>0</td>\n",
       "      <td>0</td>\n",
       "      <td>0</td>\n",
       "      <td>0</td>\n",
       "      <td>0</td>\n",
       "      <td>0</td>\n",
       "      <td>0</td>\n",
       "      <td>0</td>\n",
       "      <td>While the BBC interview was set up to look lik...</td>\n",
       "    </tr>\n",
       "    <tr>\n",
       "      <th>2</th>\n",
       "      <td>EN_CC_100013.txt</td>\n",
       "      <td>Jeffrey Epstein</td>\n",
       "      <td>2005</td>\n",
       "      <td>2019</td>\n",
       "      <td>Antagonist</td>\n",
       "      <td>[Corrupt]</td>\n",
       "      <td>0</td>\n",
       "      <td>0</td>\n",
       "      <td>1</td>\n",
       "      <td>0</td>\n",
       "      <td>0</td>\n",
       "      <td>0</td>\n",
       "      <td>0</td>\n",
       "      <td>0</td>\n",
       "      <td>0</td>\n",
       "      <td>0</td>\n",
       "      <td>0</td>\n",
       "      <td>0</td>\n",
       "      <td>0</td>\n",
       "      <td>0</td>\n",
       "      <td>0</td>\n",
       "      <td>0</td>\n",
       "      <td>0</td>\n",
       "      <td>0</td>\n",
       "      <td>0</td>\n",
       "      <td>0</td>\n",
       "      <td>0</td>\n",
       "      <td>0</td>\n",
       "      <td>While the BBC interview was set up to look lik...</td>\n",
       "    </tr>\n",
       "    <tr>\n",
       "      <th>3</th>\n",
       "      <td>EN_UA_300009.txt</td>\n",
       "      <td>Fail Alsynov</td>\n",
       "      <td>176</td>\n",
       "      <td>187</td>\n",
       "      <td>Protagonist</td>\n",
       "      <td>[Rebel, Martyr]</td>\n",
       "      <td>0</td>\n",
       "      <td>0</td>\n",
       "      <td>0</td>\n",
       "      <td>0</td>\n",
       "      <td>0</td>\n",
       "      <td>0</td>\n",
       "      <td>0</td>\n",
       "      <td>0</td>\n",
       "      <td>0</td>\n",
       "      <td>0</td>\n",
       "      <td>1</td>\n",
       "      <td>0</td>\n",
       "      <td>1</td>\n",
       "      <td>0</td>\n",
       "      <td>0</td>\n",
       "      <td>0</td>\n",
       "      <td>0</td>\n",
       "      <td>0</td>\n",
       "      <td>0</td>\n",
       "      <td>0</td>\n",
       "      <td>0</td>\n",
       "      <td>0</td>\n",
       "      <td>Russian riot police clashed with protesters in...</td>\n",
       "    </tr>\n",
       "    <tr>\n",
       "      <th>4</th>\n",
       "      <td>EN_UA_300009.txt</td>\n",
       "      <td>Bashkir people</td>\n",
       "      <td>1616</td>\n",
       "      <td>1629</td>\n",
       "      <td>Innocent</td>\n",
       "      <td>[Victim]</td>\n",
       "      <td>0</td>\n",
       "      <td>0</td>\n",
       "      <td>0</td>\n",
       "      <td>0</td>\n",
       "      <td>0</td>\n",
       "      <td>0</td>\n",
       "      <td>0</td>\n",
       "      <td>0</td>\n",
       "      <td>0</td>\n",
       "      <td>0</td>\n",
       "      <td>0</td>\n",
       "      <td>0</td>\n",
       "      <td>0</td>\n",
       "      <td>0</td>\n",
       "      <td>0</td>\n",
       "      <td>0</td>\n",
       "      <td>0</td>\n",
       "      <td>0</td>\n",
       "      <td>0</td>\n",
       "      <td>0</td>\n",
       "      <td>1</td>\n",
       "      <td>0</td>\n",
       "      <td>Alsynov contends the Bashkir words meant “poor...</td>\n",
       "    </tr>\n",
       "  </tbody>\n",
       "</table>\n",
       "</div>"
      ],
      "text/plain": [
       "         article_id   entity_mention  start_offset  end_offset    main_role  \\\n",
       "0  EN_CC_100013.txt       Bill Gates            93         102   Antagonist   \n",
       "1  EN_CC_100013.txt              BBC          1860        1862   Antagonist   \n",
       "2  EN_CC_100013.txt  Jeffrey Epstein          2005        2019   Antagonist   \n",
       "3  EN_UA_300009.txt     Fail Alsynov           176         187  Protagonist   \n",
       "4  EN_UA_300009.txt   Bashkir people          1616        1629     Innocent   \n",
       "\n",
       "    fine_grained_roles  Bigot  Conspirator  Corrupt  Deceiver  Exploited  \\\n",
       "0  [Deceiver, Corrupt]      0            0        1         1          0   \n",
       "1           [Deceiver]      0            0        0         1          0   \n",
       "2            [Corrupt]      0            0        1         0          0   \n",
       "3      [Rebel, Martyr]      0            0        0         0          0   \n",
       "4             [Victim]      0            0        0         0          0   \n",
       "\n",
       "   Foreign Adversary  Forgotten  Guardian  Incompetent  Instigator  Martyr  \\\n",
       "0                  0          0         0            0           0       0   \n",
       "1                  0          0         0            0           0       0   \n",
       "2                  0          0         0            0           0       0   \n",
       "3                  0          0         0            0           0       1   \n",
       "4                  0          0         0            0           0       0   \n",
       "\n",
       "   Peacemaker  Rebel  Saboteur  Scapegoat  Spy  Terrorist  Traitor  Tyrant  \\\n",
       "0           0      0         0          0    0          0        0       0   \n",
       "1           0      0         0          0    0          0        0       0   \n",
       "2           0      0         0          0    0          0        0       0   \n",
       "3           0      1         0          0    0          0        0       0   \n",
       "4           0      0         0          0    0          0        0       0   \n",
       "\n",
       "   Underdog  Victim  Virtuous  \\\n",
       "0         0       0         0   \n",
       "1         0       0         0   \n",
       "2         0       0         0   \n",
       "3         0       0         0   \n",
       "4         0       1         0   \n",
       "\n",
       "                                    entity_paragraph  \n",
       "0  Bill Gates has the right to fly around the wor...  \n",
       "1  While the BBC interview was set up to look lik...  \n",
       "2  While the BBC interview was set up to look lik...  \n",
       "3  Russian riot police clashed with protesters in...  \n",
       "4  Alsynov contends the Bashkir words meant “poor...  "
      ]
     },
     "execution_count": 28,
     "metadata": {},
     "output_type": "execute_result"
    }
   ],
   "source": [
    "# Rearrange the columns document, entity_mention, surrounding_span, start_offset, end_offset, main_role, fine_grained_roles, and one-hot encoded columns\n",
    "df.drop(columns=['document'], inplace=True)\n",
    "df_test.drop(columns=['document'], inplace=True)\n",
    "\n",
    "df.head()"
   ]
  },
  {
   "cell_type": "code",
   "execution_count": 29,
   "metadata": {
    "execution": {
     "iopub.execute_input": "2024-12-10T02:21:09.226685Z",
     "iopub.status.busy": "2024-12-10T02:21:09.226326Z",
     "iopub.status.idle": "2024-12-10T02:21:09.236650Z",
     "shell.execute_reply": "2024-12-10T02:21:09.235598Z",
     "shell.execute_reply.started": "2024-12-10T02:21:09.226651Z"
    },
    "trusted": true
   },
   "outputs": [
    {
     "data": {
      "text/html": [
       "<div>\n",
       "<style scoped>\n",
       "    .dataframe tbody tr th:only-of-type {\n",
       "        vertical-align: middle;\n",
       "    }\n",
       "\n",
       "    .dataframe tbody tr th {\n",
       "        vertical-align: top;\n",
       "    }\n",
       "\n",
       "    .dataframe thead th {\n",
       "        text-align: right;\n",
       "    }\n",
       "</style>\n",
       "<table border=\"1\" class=\"dataframe\">\n",
       "  <thead>\n",
       "    <tr style=\"text-align: right;\">\n",
       "      <th></th>\n",
       "      <th>article_id</th>\n",
       "      <th>entity_mention</th>\n",
       "      <th>start_offset</th>\n",
       "      <th>end_offset</th>\n",
       "      <th>entity_paragraph</th>\n",
       "    </tr>\n",
       "  </thead>\n",
       "  <tbody>\n",
       "    <tr>\n",
       "      <th>0</th>\n",
       "      <td>EN_UA_DEV_100012.txt</td>\n",
       "      <td>Washington</td>\n",
       "      <td>1441</td>\n",
       "      <td>1450</td>\n",
       "      <td>Washington “cannot afford” to allow Russia to ...</td>\n",
       "    </tr>\n",
       "    <tr>\n",
       "      <th>1</th>\n",
       "      <td>EN_UA_DEV_100012.txt</td>\n",
       "      <td>Americans</td>\n",
       "      <td>2397</td>\n",
       "      <td>2405</td>\n",
       "      <td>\"The fate of the colonies is always the same: ...</td>\n",
       "    </tr>\n",
       "    <tr>\n",
       "      <th>2</th>\n",
       "      <td>EN_CC_200053.txt</td>\n",
       "      <td>Rishi Sunak</td>\n",
       "      <td>85</td>\n",
       "      <td>95</td>\n",
       "      <td>The UK’s Prime Minister Rishi Sunak on Wednesd...</td>\n",
       "    </tr>\n",
       "    <tr>\n",
       "      <th>3</th>\n",
       "      <td>EN_CC_200040.txt</td>\n",
       "      <td>Extinction Rebellion</td>\n",
       "      <td>189</td>\n",
       "      <td>208</td>\n",
       "      <td>Those \"Extinction Rebellion\" activists everyon...</td>\n",
       "    </tr>\n",
       "    <tr>\n",
       "      <th>4</th>\n",
       "      <td>EN_CC_200070.txt</td>\n",
       "      <td>Eric Garcetti</td>\n",
       "      <td>89</td>\n",
       "      <td>101</td>\n",
       "      <td>Los Angeles Mayor Eric Garcetti joined a “glob...</td>\n",
       "    </tr>\n",
       "  </tbody>\n",
       "</table>\n",
       "</div>"
      ],
      "text/plain": [
       "             article_id        entity_mention  start_offset  end_offset  \\\n",
       "0  EN_UA_DEV_100012.txt            Washington          1441        1450   \n",
       "1  EN_UA_DEV_100012.txt             Americans          2397        2405   \n",
       "2      EN_CC_200053.txt           Rishi Sunak            85          95   \n",
       "3      EN_CC_200040.txt  Extinction Rebellion           189         208   \n",
       "4      EN_CC_200070.txt         Eric Garcetti            89         101   \n",
       "\n",
       "                                    entity_paragraph  \n",
       "0  Washington “cannot afford” to allow Russia to ...  \n",
       "1  \"The fate of the colonies is always the same: ...  \n",
       "2  The UK’s Prime Minister Rishi Sunak on Wednesd...  \n",
       "3  Those \"Extinction Rebellion\" activists everyon...  \n",
       "4  Los Angeles Mayor Eric Garcetti joined a “glob...  "
      ]
     },
     "execution_count": 29,
     "metadata": {},
     "output_type": "execute_result"
    }
   ],
   "source": [
    "df_test.head()"
   ]
  },
  {
   "cell_type": "code",
   "execution_count": 30,
   "metadata": {
    "execution": {
     "iopub.execute_input": "2024-12-10T02:21:09.792015Z",
     "iopub.status.busy": "2024-12-10T02:21:09.791628Z",
     "iopub.status.idle": "2024-12-10T02:21:09.800912Z",
     "shell.execute_reply": "2024-12-10T02:21:09.799874Z",
     "shell.execute_reply.started": "2024-12-10T02:21:09.791981Z"
    },
    "trusted": true
   },
   "outputs": [],
   "source": [
    "def clean_text(text):\n",
    "    '''Clean emoji, Make text lowercase, remove text in square brackets,remove links,remove punctuation\n",
    "    and remove words containing numbers.'''\n",
    "    text = emoji.demojize(text)\n",
    "    text = re.sub(r'\\:(.*?)\\:','',text)\n",
    "    text = str(text).lower()    #Making Text Lowercase\n",
    "    text = re.sub('\\[.*?\\]', '', text)\n",
    "    #The next 2 lines remove html text\n",
    "    text = BeautifulSoup(text, 'lxml').get_text()\n",
    "    text = re.sub('https?://\\S+|www\\.\\S+', '', text)\n",
    "    text = re.sub('<.*?>+', '', text)\n",
    "    text = re.sub('\\n', '', text)\n",
    "    text = re.sub('\\w*\\d\\w*', '', text)\n",
    "    # replacing everything with space except (a-z, A-Z, \".\", \"?\", \"!\", \",\", \"'\")\n",
    "    text = re.sub(r\"[^a-zA-Z?.!,¿']+\", \" \", text)\n",
    "    return text\n",
    "\n",
    "\n",
    "def clean_contractions(text):\n",
    "    '''Clean contraction using contraction mapping'''    \n",
    "    specials = [\"’\", \"‘\", \"´\", \"`\"]\n",
    "    for s in specials:\n",
    "        text = text.replace(s, \"'\")\n",
    "    #Remove Punctuations\n",
    "    text = re.sub('[%s]' % re.escape(string.punctuation), '', text)\n",
    "    # creating a space between a word and the punctuation following it\n",
    "    # eg: \"he is a boy.\" => \"he is a boy .\"\n",
    "    text = re.sub(r\"([?.!,¿])\", r\" \\1 \", text)\n",
    "    text = re.sub(r'[\" \"]+', \" \", text)\n",
    "    return text\n",
    "\n",
    "def remove_space(text):\n",
    "    '''Removes awkward spaces'''   \n",
    "    #Removes awkward spaces \n",
    "    text = text.strip()\n",
    "    text = text.split()\n",
    "    return \" \".join(text)\n",
    "\n",
    "def text_preprocessing_pipeline(text):\n",
    "    '''Cleaning and parsing the text.'''\n",
    "    text = clean_text(text)\n",
    "    text = clean_contractions(text)\n",
    "    text = remove_space(text)\n",
    "    # text = remove_stopwords(text)  # Added stopword removal step\n",
    "    return text"
   ]
  },
  {
   "cell_type": "code",
   "execution_count": 31,
   "metadata": {
    "execution": {
     "iopub.execute_input": "2024-12-10T02:21:10.468369Z",
     "iopub.status.busy": "2024-12-10T02:21:10.467466Z",
     "iopub.status.idle": "2024-12-10T02:21:10.872526Z",
     "shell.execute_reply": "2024-12-10T02:21:10.871834Z",
     "shell.execute_reply.started": "2024-12-10T02:21:10.468318Z"
    },
    "trusted": true
   },
   "outputs": [
    {
     "name": "stderr",
     "output_type": "stream",
     "text": [
      "/var/folders/26/9210jd411_1533jzd44vyvz80000gn/T/ipykernel_30762/3386016250.py:9: MarkupResemblesLocatorWarning: The input looks more like a filename than markup. You may want to open this file and pass the filehandle into Beautiful Soup.\n",
      "  text = BeautifulSoup(text, 'lxml').get_text()\n"
     ]
    }
   ],
   "source": [
    "df['entity_paragraph'] = df['entity_paragraph'].apply(text_preprocessing_pipeline)\n",
    "df_test['entity_paragraph'] = df_test['entity_paragraph'].apply(text_preprocessing_pipeline)"
   ]
  },
  {
   "cell_type": "code",
   "execution_count": 32,
   "metadata": {
    "execution": {
     "iopub.execute_input": "2024-12-10T02:21:12.178815Z",
     "iopub.status.busy": "2024-12-10T02:21:12.178166Z",
     "iopub.status.idle": "2024-12-10T02:21:12.188634Z",
     "shell.execute_reply": "2024-12-10T02:21:12.187399Z",
     "shell.execute_reply.started": "2024-12-10T02:21:12.178761Z"
    },
    "trusted": true
   },
   "outputs": [
    {
     "data": {
      "text/html": [
       "<div>\n",
       "<style scoped>\n",
       "    .dataframe tbody tr th:only-of-type {\n",
       "        vertical-align: middle;\n",
       "    }\n",
       "\n",
       "    .dataframe tbody tr th {\n",
       "        vertical-align: top;\n",
       "    }\n",
       "\n",
       "    .dataframe thead th {\n",
       "        text-align: right;\n",
       "    }\n",
       "</style>\n",
       "<table border=\"1\" class=\"dataframe\">\n",
       "  <thead>\n",
       "    <tr style=\"text-align: right;\">\n",
       "      <th></th>\n",
       "      <th>article_id</th>\n",
       "      <th>entity_mention</th>\n",
       "      <th>start_offset</th>\n",
       "      <th>end_offset</th>\n",
       "      <th>entity_paragraph</th>\n",
       "    </tr>\n",
       "  </thead>\n",
       "  <tbody>\n",
       "    <tr>\n",
       "      <th>0</th>\n",
       "      <td>EN_UA_DEV_100012.txt</td>\n",
       "      <td>Washington</td>\n",
       "      <td>1441</td>\n",
       "      <td>1450</td>\n",
       "      <td>washington cannot afford to allow russia to ac...</td>\n",
       "    </tr>\n",
       "    <tr>\n",
       "      <th>1</th>\n",
       "      <td>EN_UA_DEV_100012.txt</td>\n",
       "      <td>Americans</td>\n",
       "      <td>2397</td>\n",
       "      <td>2405</td>\n",
       "      <td>the fate of the colonies is always the same th...</td>\n",
       "    </tr>\n",
       "    <tr>\n",
       "      <th>2</th>\n",
       "      <td>EN_CC_200053.txt</td>\n",
       "      <td>Rishi Sunak</td>\n",
       "      <td>85</td>\n",
       "      <td>95</td>\n",
       "      <td>the uk s prime minister rishi sunak on wednesd...</td>\n",
       "    </tr>\n",
       "    <tr>\n",
       "      <th>3</th>\n",
       "      <td>EN_CC_200040.txt</td>\n",
       "      <td>Extinction Rebellion</td>\n",
       "      <td>189</td>\n",
       "      <td>208</td>\n",
       "      <td>those extinction rebellion activists everyone ...</td>\n",
       "    </tr>\n",
       "    <tr>\n",
       "      <th>4</th>\n",
       "      <td>EN_CC_200070.txt</td>\n",
       "      <td>Eric Garcetti</td>\n",
       "      <td>89</td>\n",
       "      <td>101</td>\n",
       "      <td>los angeles mayor eric garcetti joined a globa...</td>\n",
       "    </tr>\n",
       "  </tbody>\n",
       "</table>\n",
       "</div>"
      ],
      "text/plain": [
       "             article_id        entity_mention  start_offset  end_offset  \\\n",
       "0  EN_UA_DEV_100012.txt            Washington          1441        1450   \n",
       "1  EN_UA_DEV_100012.txt             Americans          2397        2405   \n",
       "2      EN_CC_200053.txt           Rishi Sunak            85          95   \n",
       "3      EN_CC_200040.txt  Extinction Rebellion           189         208   \n",
       "4      EN_CC_200070.txt         Eric Garcetti            89         101   \n",
       "\n",
       "                                    entity_paragraph  \n",
       "0  washington cannot afford to allow russia to ac...  \n",
       "1  the fate of the colonies is always the same th...  \n",
       "2  the uk s prime minister rishi sunak on wednesd...  \n",
       "3  those extinction rebellion activists everyone ...  \n",
       "4  los angeles mayor eric garcetti joined a globa...  "
      ]
     },
     "execution_count": 32,
     "metadata": {},
     "output_type": "execute_result"
    }
   ],
   "source": [
    "df_test.head()"
   ]
  },
  {
   "cell_type": "code",
   "execution_count": 33,
   "metadata": {
    "execution": {
     "iopub.execute_input": "2024-12-10T02:21:12.619695Z",
     "iopub.status.busy": "2024-12-10T02:21:12.619359Z",
     "iopub.status.idle": "2024-12-10T02:21:12.810550Z",
     "shell.execute_reply": "2024-12-10T02:21:12.809495Z",
     "shell.execute_reply.started": "2024-12-10T02:21:12.619666Z"
    },
    "trusted": true
   },
   "outputs": [
    {
     "data": {
      "application/vnd.plotly.v1+json": {
       "config": {
        "plotlyServerURL": "https://plot.ly"
       },
       "data": [
        {
         "alignmentgroup": "True",
         "hovertemplate": "Words=%{x}<br>Occurrences=%{marker.color}<extra></extra>",
         "legendgroup": "",
         "marker": {
          "color": [
           1978,
           857,
           813,
           782,
           639,
           516,
           426,
           384,
           261,
           250,
           233,
           230,
           218,
           214,
           212,
           190,
           184,
           170,
           166,
           139
          ],
          "coloraxis": "coloraxis",
          "pattern": {
           "shape": ""
          }
         },
         "name": "",
         "offsetgroup": "",
         "orientation": "v",
         "showlegend": false,
         "textposition": "auto",
         "type": "bar",
         "x": [
          "the",
          "of",
          "to",
          "and",
          "in",
          "a",
          "that",
          "is",
          "on",
          "s",
          "ukraine",
          "for",
          "it",
          "as",
          "russia",
          "with",
          "has",
          "by",
          "are",
          "this"
         ],
         "xaxis": "x",
         "y": [
          1978,
          857,
          813,
          782,
          639,
          516,
          426,
          384,
          261,
          250,
          233,
          230,
          218,
          214,
          212,
          190,
          184,
          170,
          166,
          139
         ],
         "yaxis": "y"
        }
       ],
       "layout": {
        "barmode": "relative",
        "coloraxis": {
         "colorbar": {
          "title": {
           "text": "Occurrences"
          }
         },
         "colorscale": [
          [
           0,
           "#0d0887"
          ],
          [
           0.1111111111111111,
           "#46039f"
          ],
          [
           0.2222222222222222,
           "#7201a8"
          ],
          [
           0.3333333333333333,
           "#9c179e"
          ],
          [
           0.4444444444444444,
           "#bd3786"
          ],
          [
           0.5555555555555556,
           "#d8576b"
          ],
          [
           0.6666666666666666,
           "#ed7953"
          ],
          [
           0.7777777777777778,
           "#fb9f3a"
          ],
          [
           0.8888888888888888,
           "#fdca26"
          ],
          [
           1,
           "#f0f921"
          ]
         ]
        },
        "legend": {
         "tracegroupgap": 0
        },
        "template": {
         "data": {
          "bar": [
           {
            "error_x": {
             "color": "#f2f5fa"
            },
            "error_y": {
             "color": "#f2f5fa"
            },
            "marker": {
             "line": {
              "color": "rgb(17,17,17)",
              "width": 0.5
             },
             "pattern": {
              "fillmode": "overlay",
              "size": 10,
              "solidity": 0.2
             }
            },
            "type": "bar"
           }
          ],
          "barpolar": [
           {
            "marker": {
             "line": {
              "color": "rgb(17,17,17)",
              "width": 0.5
             },
             "pattern": {
              "fillmode": "overlay",
              "size": 10,
              "solidity": 0.2
             }
            },
            "type": "barpolar"
           }
          ],
          "carpet": [
           {
            "aaxis": {
             "endlinecolor": "#A2B1C6",
             "gridcolor": "#506784",
             "linecolor": "#506784",
             "minorgridcolor": "#506784",
             "startlinecolor": "#A2B1C6"
            },
            "baxis": {
             "endlinecolor": "#A2B1C6",
             "gridcolor": "#506784",
             "linecolor": "#506784",
             "minorgridcolor": "#506784",
             "startlinecolor": "#A2B1C6"
            },
            "type": "carpet"
           }
          ],
          "choropleth": [
           {
            "colorbar": {
             "outlinewidth": 0,
             "ticks": ""
            },
            "type": "choropleth"
           }
          ],
          "contour": [
           {
            "colorbar": {
             "outlinewidth": 0,
             "ticks": ""
            },
            "colorscale": [
             [
              0,
              "#0d0887"
             ],
             [
              0.1111111111111111,
              "#46039f"
             ],
             [
              0.2222222222222222,
              "#7201a8"
             ],
             [
              0.3333333333333333,
              "#9c179e"
             ],
             [
              0.4444444444444444,
              "#bd3786"
             ],
             [
              0.5555555555555556,
              "#d8576b"
             ],
             [
              0.6666666666666666,
              "#ed7953"
             ],
             [
              0.7777777777777778,
              "#fb9f3a"
             ],
             [
              0.8888888888888888,
              "#fdca26"
             ],
             [
              1,
              "#f0f921"
             ]
            ],
            "type": "contour"
           }
          ],
          "contourcarpet": [
           {
            "colorbar": {
             "outlinewidth": 0,
             "ticks": ""
            },
            "type": "contourcarpet"
           }
          ],
          "heatmap": [
           {
            "colorbar": {
             "outlinewidth": 0,
             "ticks": ""
            },
            "colorscale": [
             [
              0,
              "#0d0887"
             ],
             [
              0.1111111111111111,
              "#46039f"
             ],
             [
              0.2222222222222222,
              "#7201a8"
             ],
             [
              0.3333333333333333,
              "#9c179e"
             ],
             [
              0.4444444444444444,
              "#bd3786"
             ],
             [
              0.5555555555555556,
              "#d8576b"
             ],
             [
              0.6666666666666666,
              "#ed7953"
             ],
             [
              0.7777777777777778,
              "#fb9f3a"
             ],
             [
              0.8888888888888888,
              "#fdca26"
             ],
             [
              1,
              "#f0f921"
             ]
            ],
            "type": "heatmap"
           }
          ],
          "heatmapgl": [
           {
            "colorbar": {
             "outlinewidth": 0,
             "ticks": ""
            },
            "colorscale": [
             [
              0,
              "#0d0887"
             ],
             [
              0.1111111111111111,
              "#46039f"
             ],
             [
              0.2222222222222222,
              "#7201a8"
             ],
             [
              0.3333333333333333,
              "#9c179e"
             ],
             [
              0.4444444444444444,
              "#bd3786"
             ],
             [
              0.5555555555555556,
              "#d8576b"
             ],
             [
              0.6666666666666666,
              "#ed7953"
             ],
             [
              0.7777777777777778,
              "#fb9f3a"
             ],
             [
              0.8888888888888888,
              "#fdca26"
             ],
             [
              1,
              "#f0f921"
             ]
            ],
            "type": "heatmapgl"
           }
          ],
          "histogram": [
           {
            "marker": {
             "pattern": {
              "fillmode": "overlay",
              "size": 10,
              "solidity": 0.2
             }
            },
            "type": "histogram"
           }
          ],
          "histogram2d": [
           {
            "colorbar": {
             "outlinewidth": 0,
             "ticks": ""
            },
            "colorscale": [
             [
              0,
              "#0d0887"
             ],
             [
              0.1111111111111111,
              "#46039f"
             ],
             [
              0.2222222222222222,
              "#7201a8"
             ],
             [
              0.3333333333333333,
              "#9c179e"
             ],
             [
              0.4444444444444444,
              "#bd3786"
             ],
             [
              0.5555555555555556,
              "#d8576b"
             ],
             [
              0.6666666666666666,
              "#ed7953"
             ],
             [
              0.7777777777777778,
              "#fb9f3a"
             ],
             [
              0.8888888888888888,
              "#fdca26"
             ],
             [
              1,
              "#f0f921"
             ]
            ],
            "type": "histogram2d"
           }
          ],
          "histogram2dcontour": [
           {
            "colorbar": {
             "outlinewidth": 0,
             "ticks": ""
            },
            "colorscale": [
             [
              0,
              "#0d0887"
             ],
             [
              0.1111111111111111,
              "#46039f"
             ],
             [
              0.2222222222222222,
              "#7201a8"
             ],
             [
              0.3333333333333333,
              "#9c179e"
             ],
             [
              0.4444444444444444,
              "#bd3786"
             ],
             [
              0.5555555555555556,
              "#d8576b"
             ],
             [
              0.6666666666666666,
              "#ed7953"
             ],
             [
              0.7777777777777778,
              "#fb9f3a"
             ],
             [
              0.8888888888888888,
              "#fdca26"
             ],
             [
              1,
              "#f0f921"
             ]
            ],
            "type": "histogram2dcontour"
           }
          ],
          "mesh3d": [
           {
            "colorbar": {
             "outlinewidth": 0,
             "ticks": ""
            },
            "type": "mesh3d"
           }
          ],
          "parcoords": [
           {
            "line": {
             "colorbar": {
              "outlinewidth": 0,
              "ticks": ""
             }
            },
            "type": "parcoords"
           }
          ],
          "pie": [
           {
            "automargin": true,
            "type": "pie"
           }
          ],
          "scatter": [
           {
            "marker": {
             "line": {
              "color": "#283442"
             }
            },
            "type": "scatter"
           }
          ],
          "scatter3d": [
           {
            "line": {
             "colorbar": {
              "outlinewidth": 0,
              "ticks": ""
             }
            },
            "marker": {
             "colorbar": {
              "outlinewidth": 0,
              "ticks": ""
             }
            },
            "type": "scatter3d"
           }
          ],
          "scattercarpet": [
           {
            "marker": {
             "colorbar": {
              "outlinewidth": 0,
              "ticks": ""
             }
            },
            "type": "scattercarpet"
           }
          ],
          "scattergeo": [
           {
            "marker": {
             "colorbar": {
              "outlinewidth": 0,
              "ticks": ""
             }
            },
            "type": "scattergeo"
           }
          ],
          "scattergl": [
           {
            "marker": {
             "line": {
              "color": "#283442"
             }
            },
            "type": "scattergl"
           }
          ],
          "scattermapbox": [
           {
            "marker": {
             "colorbar": {
              "outlinewidth": 0,
              "ticks": ""
             }
            },
            "type": "scattermapbox"
           }
          ],
          "scatterpolar": [
           {
            "marker": {
             "colorbar": {
              "outlinewidth": 0,
              "ticks": ""
             }
            },
            "type": "scatterpolar"
           }
          ],
          "scatterpolargl": [
           {
            "marker": {
             "colorbar": {
              "outlinewidth": 0,
              "ticks": ""
             }
            },
            "type": "scatterpolargl"
           }
          ],
          "scatterternary": [
           {
            "marker": {
             "colorbar": {
              "outlinewidth": 0,
              "ticks": ""
             }
            },
            "type": "scatterternary"
           }
          ],
          "surface": [
           {
            "colorbar": {
             "outlinewidth": 0,
             "ticks": ""
            },
            "colorscale": [
             [
              0,
              "#0d0887"
             ],
             [
              0.1111111111111111,
              "#46039f"
             ],
             [
              0.2222222222222222,
              "#7201a8"
             ],
             [
              0.3333333333333333,
              "#9c179e"
             ],
             [
              0.4444444444444444,
              "#bd3786"
             ],
             [
              0.5555555555555556,
              "#d8576b"
             ],
             [
              0.6666666666666666,
              "#ed7953"
             ],
             [
              0.7777777777777778,
              "#fb9f3a"
             ],
             [
              0.8888888888888888,
              "#fdca26"
             ],
             [
              1,
              "#f0f921"
             ]
            ],
            "type": "surface"
           }
          ],
          "table": [
           {
            "cells": {
             "fill": {
              "color": "#506784"
             },
             "line": {
              "color": "rgb(17,17,17)"
             }
            },
            "header": {
             "fill": {
              "color": "#2a3f5f"
             },
             "line": {
              "color": "rgb(17,17,17)"
             }
            },
            "type": "table"
           }
          ]
         },
         "layout": {
          "annotationdefaults": {
           "arrowcolor": "#f2f5fa",
           "arrowhead": 0,
           "arrowwidth": 1
          },
          "autotypenumbers": "strict",
          "coloraxis": {
           "colorbar": {
            "outlinewidth": 0,
            "ticks": ""
           }
          },
          "colorscale": {
           "diverging": [
            [
             0,
             "#8e0152"
            ],
            [
             0.1,
             "#c51b7d"
            ],
            [
             0.2,
             "#de77ae"
            ],
            [
             0.3,
             "#f1b6da"
            ],
            [
             0.4,
             "#fde0ef"
            ],
            [
             0.5,
             "#f7f7f7"
            ],
            [
             0.6,
             "#e6f5d0"
            ],
            [
             0.7,
             "#b8e186"
            ],
            [
             0.8,
             "#7fbc41"
            ],
            [
             0.9,
             "#4d9221"
            ],
            [
             1,
             "#276419"
            ]
           ],
           "sequential": [
            [
             0,
             "#0d0887"
            ],
            [
             0.1111111111111111,
             "#46039f"
            ],
            [
             0.2222222222222222,
             "#7201a8"
            ],
            [
             0.3333333333333333,
             "#9c179e"
            ],
            [
             0.4444444444444444,
             "#bd3786"
            ],
            [
             0.5555555555555556,
             "#d8576b"
            ],
            [
             0.6666666666666666,
             "#ed7953"
            ],
            [
             0.7777777777777778,
             "#fb9f3a"
            ],
            [
             0.8888888888888888,
             "#fdca26"
            ],
            [
             1,
             "#f0f921"
            ]
           ],
           "sequentialminus": [
            [
             0,
             "#0d0887"
            ],
            [
             0.1111111111111111,
             "#46039f"
            ],
            [
             0.2222222222222222,
             "#7201a8"
            ],
            [
             0.3333333333333333,
             "#9c179e"
            ],
            [
             0.4444444444444444,
             "#bd3786"
            ],
            [
             0.5555555555555556,
             "#d8576b"
            ],
            [
             0.6666666666666666,
             "#ed7953"
            ],
            [
             0.7777777777777778,
             "#fb9f3a"
            ],
            [
             0.8888888888888888,
             "#fdca26"
            ],
            [
             1,
             "#f0f921"
            ]
           ]
          },
          "colorway": [
           "#636efa",
           "#EF553B",
           "#00cc96",
           "#ab63fa",
           "#FFA15A",
           "#19d3f3",
           "#FF6692",
           "#B6E880",
           "#FF97FF",
           "#FECB52"
          ],
          "font": {
           "color": "#f2f5fa"
          },
          "geo": {
           "bgcolor": "rgb(17,17,17)",
           "lakecolor": "rgb(17,17,17)",
           "landcolor": "rgb(17,17,17)",
           "showlakes": true,
           "showland": true,
           "subunitcolor": "#506784"
          },
          "hoverlabel": {
           "align": "left"
          },
          "hovermode": "closest",
          "mapbox": {
           "style": "dark"
          },
          "paper_bgcolor": "rgb(17,17,17)",
          "plot_bgcolor": "rgb(17,17,17)",
          "polar": {
           "angularaxis": {
            "gridcolor": "#506784",
            "linecolor": "#506784",
            "ticks": ""
           },
           "bgcolor": "rgb(17,17,17)",
           "radialaxis": {
            "gridcolor": "#506784",
            "linecolor": "#506784",
            "ticks": ""
           }
          },
          "scene": {
           "xaxis": {
            "backgroundcolor": "rgb(17,17,17)",
            "gridcolor": "#506784",
            "gridwidth": 2,
            "linecolor": "#506784",
            "showbackground": true,
            "ticks": "",
            "zerolinecolor": "#C8D4E3"
           },
           "yaxis": {
            "backgroundcolor": "rgb(17,17,17)",
            "gridcolor": "#506784",
            "gridwidth": 2,
            "linecolor": "#506784",
            "showbackground": true,
            "ticks": "",
            "zerolinecolor": "#C8D4E3"
           },
           "zaxis": {
            "backgroundcolor": "rgb(17,17,17)",
            "gridcolor": "#506784",
            "gridwidth": 2,
            "linecolor": "#506784",
            "showbackground": true,
            "ticks": "",
            "zerolinecolor": "#C8D4E3"
           }
          },
          "shapedefaults": {
           "line": {
            "color": "#f2f5fa"
           }
          },
          "sliderdefaults": {
           "bgcolor": "#C8D4E3",
           "bordercolor": "rgb(17,17,17)",
           "borderwidth": 1,
           "tickwidth": 0
          },
          "ternary": {
           "aaxis": {
            "gridcolor": "#506784",
            "linecolor": "#506784",
            "ticks": ""
           },
           "baxis": {
            "gridcolor": "#506784",
            "linecolor": "#506784",
            "ticks": ""
           },
           "bgcolor": "rgb(17,17,17)",
           "caxis": {
            "gridcolor": "#506784",
            "linecolor": "#506784",
            "ticks": ""
           }
          },
          "title": {
           "x": 0.05
          },
          "updatemenudefaults": {
           "bgcolor": "#506784",
           "borderwidth": 0
          },
          "xaxis": {
           "automargin": true,
           "gridcolor": "#283442",
           "linecolor": "#506784",
           "ticks": "",
           "title": {
            "standoff": 15
           },
           "zerolinecolor": "#283442",
           "zerolinewidth": 2
          },
          "yaxis": {
           "automargin": true,
           "gridcolor": "#283442",
           "linecolor": "#506784",
           "ticks": "",
           "title": {
            "standoff": 15
           },
           "zerolinecolor": "#283442",
           "zerolinewidth": 2
          }
         }
        },
        "title": {
         "text": "Most Frequent Words in Entity_paragraph Column"
        },
        "xaxis": {
         "anchor": "y",
         "domain": [
          0,
          1
         ],
         "title": {
          "text": "Words"
         }
        },
        "yaxis": {
         "anchor": "x",
         "domain": [
          0,
          1
         ],
         "title": {
          "text": "Occurrences"
         }
        }
       }
      }
     },
     "metadata": {},
     "output_type": "display_data"
    }
   ],
   "source": [
    "def plot_most_frequent_words(df, text_column, top_n=20):\n",
    "    '''\n",
    "    Function to plot the most frequent words in a specified text column of the DataFrame.\n",
    "    \n",
    "    Parameters:\n",
    "    - df: DataFrame containing the text data.\n",
    "    - text_column: Name of the column in the DataFrame to process.\n",
    "    - top_n: Number of most frequent words to display (default is 10).\n",
    "    '''\n",
    "    \n",
    "    # Function to clean and tokenize the text\n",
    "    def preprocess_text(text):\n",
    "        tokens = word_tokenize(text)  # Tokenize the text\n",
    "        return tokens\n",
    "\n",
    "    # Flatten the list of tokens from the text column and count word frequencies\n",
    "    all_tokens = [token for text in df[text_column] for token in preprocess_text(text)]\n",
    "    word_counts = Counter(all_tokens)\n",
    "\n",
    "    # Get the most common words and their frequencies\n",
    "    most_common_words = word_counts.most_common(top_n)\n",
    "\n",
    "    # Create a DataFrame for the plot\n",
    "    word_freq_df = pd.DataFrame(most_common_words, columns=['Word', 'Frequency'])\n",
    "\n",
    "    # Create an interactive bar chart using Plotly\n",
    "    fig = px.bar(word_freq_df, \n",
    "                 x='Word', \n",
    "                 y='Frequency', \n",
    "                 title=f\"Most Frequent Words in {text_column.capitalize()} Column\",\n",
    "                 labels={'Word': 'Words', 'Frequency': 'Occurrences'},\n",
    "                 color='Frequency',  # Optional: Adds color to the bars based on frequency\n",
    "                 template='plotly_dark')  # Optional: Dark theme\n",
    "\n",
    "    # Show the plot\n",
    "    fig.show()\n",
    "\n",
    "# Plot the most frequent words in the entity_paragraph column\n",
    "plot_most_frequent_words(df, 'entity_paragraph', top_n=20)"
   ]
  },
  {
   "cell_type": "code",
   "execution_count": 34,
   "metadata": {
    "execution": {
     "iopub.execute_input": "2024-12-10T02:21:13.556984Z",
     "iopub.status.busy": "2024-12-10T02:21:13.556217Z",
     "iopub.status.idle": "2024-12-10T02:21:13.622842Z",
     "shell.execute_reply": "2024-12-10T02:21:13.621945Z",
     "shell.execute_reply.started": "2024-12-10T02:21:13.556948Z"
    },
    "trusted": true
   },
   "outputs": [
    {
     "data": {
      "application/vnd.plotly.v1+json": {
       "config": {
        "plotlyServerURL": "https://plot.ly"
       },
       "data": [
        {
         "alignmentgroup": "True",
         "hovertemplate": "Words=%{x}<br>Occurrences=%{marker.color}<extra></extra>",
         "legendgroup": "",
         "marker": {
          "color": [
           310,
           153,
           118,
           118,
           78,
           78,
           74,
           63,
           60,
           42,
           41,
           40,
           36,
           34,
           30,
           30,
           30,
           28,
           28,
           28
          ],
          "coloraxis": "coloraxis",
          "pattern": {
           "shape": ""
          }
         },
         "name": "",
         "offsetgroup": "",
         "orientation": "v",
         "showlegend": false,
         "textposition": "auto",
         "type": "bar",
         "x": [
          "the",
          "of",
          "to",
          "and",
          "in",
          "a",
          "is",
          "that",
          "s",
          "ukraine",
          "as",
          "it",
          "by",
          "are",
          "russia",
          "with",
          "has",
          "for",
          "its",
          "war"
         ],
         "xaxis": "x",
         "y": [
          310,
          153,
          118,
          118,
          78,
          78,
          74,
          63,
          60,
          42,
          41,
          40,
          36,
          34,
          30,
          30,
          30,
          28,
          28,
          28
         ],
         "yaxis": "y"
        }
       ],
       "layout": {
        "barmode": "relative",
        "coloraxis": {
         "colorbar": {
          "title": {
           "text": "Occurrences"
          }
         },
         "colorscale": [
          [
           0,
           "#0d0887"
          ],
          [
           0.1111111111111111,
           "#46039f"
          ],
          [
           0.2222222222222222,
           "#7201a8"
          ],
          [
           0.3333333333333333,
           "#9c179e"
          ],
          [
           0.4444444444444444,
           "#bd3786"
          ],
          [
           0.5555555555555556,
           "#d8576b"
          ],
          [
           0.6666666666666666,
           "#ed7953"
          ],
          [
           0.7777777777777778,
           "#fb9f3a"
          ],
          [
           0.8888888888888888,
           "#fdca26"
          ],
          [
           1,
           "#f0f921"
          ]
         ]
        },
        "legend": {
         "tracegroupgap": 0
        },
        "template": {
         "data": {
          "bar": [
           {
            "error_x": {
             "color": "#f2f5fa"
            },
            "error_y": {
             "color": "#f2f5fa"
            },
            "marker": {
             "line": {
              "color": "rgb(17,17,17)",
              "width": 0.5
             },
             "pattern": {
              "fillmode": "overlay",
              "size": 10,
              "solidity": 0.2
             }
            },
            "type": "bar"
           }
          ],
          "barpolar": [
           {
            "marker": {
             "line": {
              "color": "rgb(17,17,17)",
              "width": 0.5
             },
             "pattern": {
              "fillmode": "overlay",
              "size": 10,
              "solidity": 0.2
             }
            },
            "type": "barpolar"
           }
          ],
          "carpet": [
           {
            "aaxis": {
             "endlinecolor": "#A2B1C6",
             "gridcolor": "#506784",
             "linecolor": "#506784",
             "minorgridcolor": "#506784",
             "startlinecolor": "#A2B1C6"
            },
            "baxis": {
             "endlinecolor": "#A2B1C6",
             "gridcolor": "#506784",
             "linecolor": "#506784",
             "minorgridcolor": "#506784",
             "startlinecolor": "#A2B1C6"
            },
            "type": "carpet"
           }
          ],
          "choropleth": [
           {
            "colorbar": {
             "outlinewidth": 0,
             "ticks": ""
            },
            "type": "choropleth"
           }
          ],
          "contour": [
           {
            "colorbar": {
             "outlinewidth": 0,
             "ticks": ""
            },
            "colorscale": [
             [
              0,
              "#0d0887"
             ],
             [
              0.1111111111111111,
              "#46039f"
             ],
             [
              0.2222222222222222,
              "#7201a8"
             ],
             [
              0.3333333333333333,
              "#9c179e"
             ],
             [
              0.4444444444444444,
              "#bd3786"
             ],
             [
              0.5555555555555556,
              "#d8576b"
             ],
             [
              0.6666666666666666,
              "#ed7953"
             ],
             [
              0.7777777777777778,
              "#fb9f3a"
             ],
             [
              0.8888888888888888,
              "#fdca26"
             ],
             [
              1,
              "#f0f921"
             ]
            ],
            "type": "contour"
           }
          ],
          "contourcarpet": [
           {
            "colorbar": {
             "outlinewidth": 0,
             "ticks": ""
            },
            "type": "contourcarpet"
           }
          ],
          "heatmap": [
           {
            "colorbar": {
             "outlinewidth": 0,
             "ticks": ""
            },
            "colorscale": [
             [
              0,
              "#0d0887"
             ],
             [
              0.1111111111111111,
              "#46039f"
             ],
             [
              0.2222222222222222,
              "#7201a8"
             ],
             [
              0.3333333333333333,
              "#9c179e"
             ],
             [
              0.4444444444444444,
              "#bd3786"
             ],
             [
              0.5555555555555556,
              "#d8576b"
             ],
             [
              0.6666666666666666,
              "#ed7953"
             ],
             [
              0.7777777777777778,
              "#fb9f3a"
             ],
             [
              0.8888888888888888,
              "#fdca26"
             ],
             [
              1,
              "#f0f921"
             ]
            ],
            "type": "heatmap"
           }
          ],
          "heatmapgl": [
           {
            "colorbar": {
             "outlinewidth": 0,
             "ticks": ""
            },
            "colorscale": [
             [
              0,
              "#0d0887"
             ],
             [
              0.1111111111111111,
              "#46039f"
             ],
             [
              0.2222222222222222,
              "#7201a8"
             ],
             [
              0.3333333333333333,
              "#9c179e"
             ],
             [
              0.4444444444444444,
              "#bd3786"
             ],
             [
              0.5555555555555556,
              "#d8576b"
             ],
             [
              0.6666666666666666,
              "#ed7953"
             ],
             [
              0.7777777777777778,
              "#fb9f3a"
             ],
             [
              0.8888888888888888,
              "#fdca26"
             ],
             [
              1,
              "#f0f921"
             ]
            ],
            "type": "heatmapgl"
           }
          ],
          "histogram": [
           {
            "marker": {
             "pattern": {
              "fillmode": "overlay",
              "size": 10,
              "solidity": 0.2
             }
            },
            "type": "histogram"
           }
          ],
          "histogram2d": [
           {
            "colorbar": {
             "outlinewidth": 0,
             "ticks": ""
            },
            "colorscale": [
             [
              0,
              "#0d0887"
             ],
             [
              0.1111111111111111,
              "#46039f"
             ],
             [
              0.2222222222222222,
              "#7201a8"
             ],
             [
              0.3333333333333333,
              "#9c179e"
             ],
             [
              0.4444444444444444,
              "#bd3786"
             ],
             [
              0.5555555555555556,
              "#d8576b"
             ],
             [
              0.6666666666666666,
              "#ed7953"
             ],
             [
              0.7777777777777778,
              "#fb9f3a"
             ],
             [
              0.8888888888888888,
              "#fdca26"
             ],
             [
              1,
              "#f0f921"
             ]
            ],
            "type": "histogram2d"
           }
          ],
          "histogram2dcontour": [
           {
            "colorbar": {
             "outlinewidth": 0,
             "ticks": ""
            },
            "colorscale": [
             [
              0,
              "#0d0887"
             ],
             [
              0.1111111111111111,
              "#46039f"
             ],
             [
              0.2222222222222222,
              "#7201a8"
             ],
             [
              0.3333333333333333,
              "#9c179e"
             ],
             [
              0.4444444444444444,
              "#bd3786"
             ],
             [
              0.5555555555555556,
              "#d8576b"
             ],
             [
              0.6666666666666666,
              "#ed7953"
             ],
             [
              0.7777777777777778,
              "#fb9f3a"
             ],
             [
              0.8888888888888888,
              "#fdca26"
             ],
             [
              1,
              "#f0f921"
             ]
            ],
            "type": "histogram2dcontour"
           }
          ],
          "mesh3d": [
           {
            "colorbar": {
             "outlinewidth": 0,
             "ticks": ""
            },
            "type": "mesh3d"
           }
          ],
          "parcoords": [
           {
            "line": {
             "colorbar": {
              "outlinewidth": 0,
              "ticks": ""
             }
            },
            "type": "parcoords"
           }
          ],
          "pie": [
           {
            "automargin": true,
            "type": "pie"
           }
          ],
          "scatter": [
           {
            "marker": {
             "line": {
              "color": "#283442"
             }
            },
            "type": "scatter"
           }
          ],
          "scatter3d": [
           {
            "line": {
             "colorbar": {
              "outlinewidth": 0,
              "ticks": ""
             }
            },
            "marker": {
             "colorbar": {
              "outlinewidth": 0,
              "ticks": ""
             }
            },
            "type": "scatter3d"
           }
          ],
          "scattercarpet": [
           {
            "marker": {
             "colorbar": {
              "outlinewidth": 0,
              "ticks": ""
             }
            },
            "type": "scattercarpet"
           }
          ],
          "scattergeo": [
           {
            "marker": {
             "colorbar": {
              "outlinewidth": 0,
              "ticks": ""
             }
            },
            "type": "scattergeo"
           }
          ],
          "scattergl": [
           {
            "marker": {
             "line": {
              "color": "#283442"
             }
            },
            "type": "scattergl"
           }
          ],
          "scattermapbox": [
           {
            "marker": {
             "colorbar": {
              "outlinewidth": 0,
              "ticks": ""
             }
            },
            "type": "scattermapbox"
           }
          ],
          "scatterpolar": [
           {
            "marker": {
             "colorbar": {
              "outlinewidth": 0,
              "ticks": ""
             }
            },
            "type": "scatterpolar"
           }
          ],
          "scatterpolargl": [
           {
            "marker": {
             "colorbar": {
              "outlinewidth": 0,
              "ticks": ""
             }
            },
            "type": "scatterpolargl"
           }
          ],
          "scatterternary": [
           {
            "marker": {
             "colorbar": {
              "outlinewidth": 0,
              "ticks": ""
             }
            },
            "type": "scatterternary"
           }
          ],
          "surface": [
           {
            "colorbar": {
             "outlinewidth": 0,
             "ticks": ""
            },
            "colorscale": [
             [
              0,
              "#0d0887"
             ],
             [
              0.1111111111111111,
              "#46039f"
             ],
             [
              0.2222222222222222,
              "#7201a8"
             ],
             [
              0.3333333333333333,
              "#9c179e"
             ],
             [
              0.4444444444444444,
              "#bd3786"
             ],
             [
              0.5555555555555556,
              "#d8576b"
             ],
             [
              0.6666666666666666,
              "#ed7953"
             ],
             [
              0.7777777777777778,
              "#fb9f3a"
             ],
             [
              0.8888888888888888,
              "#fdca26"
             ],
             [
              1,
              "#f0f921"
             ]
            ],
            "type": "surface"
           }
          ],
          "table": [
           {
            "cells": {
             "fill": {
              "color": "#506784"
             },
             "line": {
              "color": "rgb(17,17,17)"
             }
            },
            "header": {
             "fill": {
              "color": "#2a3f5f"
             },
             "line": {
              "color": "rgb(17,17,17)"
             }
            },
            "type": "table"
           }
          ]
         },
         "layout": {
          "annotationdefaults": {
           "arrowcolor": "#f2f5fa",
           "arrowhead": 0,
           "arrowwidth": 1
          },
          "autotypenumbers": "strict",
          "coloraxis": {
           "colorbar": {
            "outlinewidth": 0,
            "ticks": ""
           }
          },
          "colorscale": {
           "diverging": [
            [
             0,
             "#8e0152"
            ],
            [
             0.1,
             "#c51b7d"
            ],
            [
             0.2,
             "#de77ae"
            ],
            [
             0.3,
             "#f1b6da"
            ],
            [
             0.4,
             "#fde0ef"
            ],
            [
             0.5,
             "#f7f7f7"
            ],
            [
             0.6,
             "#e6f5d0"
            ],
            [
             0.7,
             "#b8e186"
            ],
            [
             0.8,
             "#7fbc41"
            ],
            [
             0.9,
             "#4d9221"
            ],
            [
             1,
             "#276419"
            ]
           ],
           "sequential": [
            [
             0,
             "#0d0887"
            ],
            [
             0.1111111111111111,
             "#46039f"
            ],
            [
             0.2222222222222222,
             "#7201a8"
            ],
            [
             0.3333333333333333,
             "#9c179e"
            ],
            [
             0.4444444444444444,
             "#bd3786"
            ],
            [
             0.5555555555555556,
             "#d8576b"
            ],
            [
             0.6666666666666666,
             "#ed7953"
            ],
            [
             0.7777777777777778,
             "#fb9f3a"
            ],
            [
             0.8888888888888888,
             "#fdca26"
            ],
            [
             1,
             "#f0f921"
            ]
           ],
           "sequentialminus": [
            [
             0,
             "#0d0887"
            ],
            [
             0.1111111111111111,
             "#46039f"
            ],
            [
             0.2222222222222222,
             "#7201a8"
            ],
            [
             0.3333333333333333,
             "#9c179e"
            ],
            [
             0.4444444444444444,
             "#bd3786"
            ],
            [
             0.5555555555555556,
             "#d8576b"
            ],
            [
             0.6666666666666666,
             "#ed7953"
            ],
            [
             0.7777777777777778,
             "#fb9f3a"
            ],
            [
             0.8888888888888888,
             "#fdca26"
            ],
            [
             1,
             "#f0f921"
            ]
           ]
          },
          "colorway": [
           "#636efa",
           "#EF553B",
           "#00cc96",
           "#ab63fa",
           "#FFA15A",
           "#19d3f3",
           "#FF6692",
           "#B6E880",
           "#FF97FF",
           "#FECB52"
          ],
          "font": {
           "color": "#f2f5fa"
          },
          "geo": {
           "bgcolor": "rgb(17,17,17)",
           "lakecolor": "rgb(17,17,17)",
           "landcolor": "rgb(17,17,17)",
           "showlakes": true,
           "showland": true,
           "subunitcolor": "#506784"
          },
          "hoverlabel": {
           "align": "left"
          },
          "hovermode": "closest",
          "mapbox": {
           "style": "dark"
          },
          "paper_bgcolor": "rgb(17,17,17)",
          "plot_bgcolor": "rgb(17,17,17)",
          "polar": {
           "angularaxis": {
            "gridcolor": "#506784",
            "linecolor": "#506784",
            "ticks": ""
           },
           "bgcolor": "rgb(17,17,17)",
           "radialaxis": {
            "gridcolor": "#506784",
            "linecolor": "#506784",
            "ticks": ""
           }
          },
          "scene": {
           "xaxis": {
            "backgroundcolor": "rgb(17,17,17)",
            "gridcolor": "#506784",
            "gridwidth": 2,
            "linecolor": "#506784",
            "showbackground": true,
            "ticks": "",
            "zerolinecolor": "#C8D4E3"
           },
           "yaxis": {
            "backgroundcolor": "rgb(17,17,17)",
            "gridcolor": "#506784",
            "gridwidth": 2,
            "linecolor": "#506784",
            "showbackground": true,
            "ticks": "",
            "zerolinecolor": "#C8D4E3"
           },
           "zaxis": {
            "backgroundcolor": "rgb(17,17,17)",
            "gridcolor": "#506784",
            "gridwidth": 2,
            "linecolor": "#506784",
            "showbackground": true,
            "ticks": "",
            "zerolinecolor": "#C8D4E3"
           }
          },
          "shapedefaults": {
           "line": {
            "color": "#f2f5fa"
           }
          },
          "sliderdefaults": {
           "bgcolor": "#C8D4E3",
           "bordercolor": "rgb(17,17,17)",
           "borderwidth": 1,
           "tickwidth": 0
          },
          "ternary": {
           "aaxis": {
            "gridcolor": "#506784",
            "linecolor": "#506784",
            "ticks": ""
           },
           "baxis": {
            "gridcolor": "#506784",
            "linecolor": "#506784",
            "ticks": ""
           },
           "bgcolor": "rgb(17,17,17)",
           "caxis": {
            "gridcolor": "#506784",
            "linecolor": "#506784",
            "ticks": ""
           }
          },
          "title": {
           "x": 0.05
          },
          "updatemenudefaults": {
           "bgcolor": "#506784",
           "borderwidth": 0
          },
          "xaxis": {
           "automargin": true,
           "gridcolor": "#283442",
           "linecolor": "#506784",
           "ticks": "",
           "title": {
            "standoff": 15
           },
           "zerolinecolor": "#283442",
           "zerolinewidth": 2
          },
          "yaxis": {
           "automargin": true,
           "gridcolor": "#283442",
           "linecolor": "#506784",
           "ticks": "",
           "title": {
            "standoff": 15
           },
           "zerolinecolor": "#283442",
           "zerolinewidth": 2
          }
         }
        },
        "title": {
         "text": "Most Frequent Words in Entity_paragraph Column"
        },
        "xaxis": {
         "anchor": "y",
         "domain": [
          0,
          1
         ],
         "title": {
          "text": "Words"
         }
        },
        "yaxis": {
         "anchor": "x",
         "domain": [
          0,
          1
         ],
         "title": {
          "text": "Occurrences"
         }
        }
       }
      }
     },
     "metadata": {},
     "output_type": "display_data"
    }
   ],
   "source": [
    "# Plot the most frequent words in the entity_paragraph column\n",
    "plot_most_frequent_words(df_test, 'entity_paragraph', top_n=20)"
   ]
  },
  {
   "cell_type": "code",
   "execution_count": 35,
   "metadata": {
    "execution": {
     "iopub.execute_input": "2024-12-10T02:21:13.825879Z",
     "iopub.status.busy": "2024-12-10T02:21:13.825590Z",
     "iopub.status.idle": "2024-12-10T02:21:13.922281Z",
     "shell.execute_reply": "2024-12-10T02:21:13.921643Z",
     "shell.execute_reply.started": "2024-12-10T02:21:13.825853Z"
    },
    "trusted": true
   },
   "outputs": [],
   "source": [
    "def remove_stopwords(text):\n",
    "    '''Removes stopwords from the text.'''\n",
    "    stop_words = set(stopwords.words('english'))\n",
    "    text = text.split()\n",
    "    text = [word for word in text if word not in stop_words]\n",
    "    return \" \".join(text)\n",
    "\n",
    "df['entity_paragraph'] = df['entity_paragraph'].apply(remove_stopwords)\n",
    "df_test['entity_paragraph'] = df_test['entity_paragraph'].apply(remove_stopwords)"
   ]
  },
  {
   "cell_type": "code",
   "execution_count": 36,
   "metadata": {
    "execution": {
     "iopub.execute_input": "2024-12-10T02:21:14.062473Z",
     "iopub.status.busy": "2024-12-10T02:21:14.061652Z",
     "iopub.status.idle": "2024-12-10T02:21:14.212336Z",
     "shell.execute_reply": "2024-12-10T02:21:14.211457Z",
     "shell.execute_reply.started": "2024-12-10T02:21:14.062423Z"
    },
    "trusted": true
   },
   "outputs": [
    {
     "data": {
      "application/vnd.plotly.v1+json": {
       "config": {
        "plotlyServerURL": "https://plot.ly"
       },
       "data": [
        {
         "alignmentgroup": "True",
         "hovertemplate": "Words=%{x}<br>Occurrences=%{marker.color}<extra></extra>",
         "legendgroup": "",
         "marker": {
          "color": [
           233,
           212,
           129,
           122,
           119,
           113,
           110,
           92,
           85,
           80,
           80,
           73,
           70,
           69,
           60,
           59,
           53,
           51,
           49,
           48
          ],
          "coloraxis": "coloraxis",
          "pattern": {
           "shape": ""
          }
         },
         "name": "",
         "offsetgroup": "",
         "orientation": "v",
         "showlegend": false,
         "textposition": "auto",
         "type": "bar",
         "x": [
          "ukraine",
          "russia",
          "said",
          "us",
          "war",
          "russian",
          "world",
          "putin",
          "ukrainian",
          "climate",
          "president",
          "biden",
          "country",
          "one",
          "people",
          "military",
          "also",
          "united",
          "global",
          "moscow"
         ],
         "xaxis": "x",
         "y": [
          233,
          212,
          129,
          122,
          119,
          113,
          110,
          92,
          85,
          80,
          80,
          73,
          70,
          69,
          60,
          59,
          53,
          51,
          49,
          48
         ],
         "yaxis": "y"
        }
       ],
       "layout": {
        "barmode": "relative",
        "coloraxis": {
         "colorbar": {
          "title": {
           "text": "Occurrences"
          }
         },
         "colorscale": [
          [
           0,
           "#0d0887"
          ],
          [
           0.1111111111111111,
           "#46039f"
          ],
          [
           0.2222222222222222,
           "#7201a8"
          ],
          [
           0.3333333333333333,
           "#9c179e"
          ],
          [
           0.4444444444444444,
           "#bd3786"
          ],
          [
           0.5555555555555556,
           "#d8576b"
          ],
          [
           0.6666666666666666,
           "#ed7953"
          ],
          [
           0.7777777777777778,
           "#fb9f3a"
          ],
          [
           0.8888888888888888,
           "#fdca26"
          ],
          [
           1,
           "#f0f921"
          ]
         ]
        },
        "legend": {
         "tracegroupgap": 0
        },
        "template": {
         "data": {
          "bar": [
           {
            "error_x": {
             "color": "#f2f5fa"
            },
            "error_y": {
             "color": "#f2f5fa"
            },
            "marker": {
             "line": {
              "color": "rgb(17,17,17)",
              "width": 0.5
             },
             "pattern": {
              "fillmode": "overlay",
              "size": 10,
              "solidity": 0.2
             }
            },
            "type": "bar"
           }
          ],
          "barpolar": [
           {
            "marker": {
             "line": {
              "color": "rgb(17,17,17)",
              "width": 0.5
             },
             "pattern": {
              "fillmode": "overlay",
              "size": 10,
              "solidity": 0.2
             }
            },
            "type": "barpolar"
           }
          ],
          "carpet": [
           {
            "aaxis": {
             "endlinecolor": "#A2B1C6",
             "gridcolor": "#506784",
             "linecolor": "#506784",
             "minorgridcolor": "#506784",
             "startlinecolor": "#A2B1C6"
            },
            "baxis": {
             "endlinecolor": "#A2B1C6",
             "gridcolor": "#506784",
             "linecolor": "#506784",
             "minorgridcolor": "#506784",
             "startlinecolor": "#A2B1C6"
            },
            "type": "carpet"
           }
          ],
          "choropleth": [
           {
            "colorbar": {
             "outlinewidth": 0,
             "ticks": ""
            },
            "type": "choropleth"
           }
          ],
          "contour": [
           {
            "colorbar": {
             "outlinewidth": 0,
             "ticks": ""
            },
            "colorscale": [
             [
              0,
              "#0d0887"
             ],
             [
              0.1111111111111111,
              "#46039f"
             ],
             [
              0.2222222222222222,
              "#7201a8"
             ],
             [
              0.3333333333333333,
              "#9c179e"
             ],
             [
              0.4444444444444444,
              "#bd3786"
             ],
             [
              0.5555555555555556,
              "#d8576b"
             ],
             [
              0.6666666666666666,
              "#ed7953"
             ],
             [
              0.7777777777777778,
              "#fb9f3a"
             ],
             [
              0.8888888888888888,
              "#fdca26"
             ],
             [
              1,
              "#f0f921"
             ]
            ],
            "type": "contour"
           }
          ],
          "contourcarpet": [
           {
            "colorbar": {
             "outlinewidth": 0,
             "ticks": ""
            },
            "type": "contourcarpet"
           }
          ],
          "heatmap": [
           {
            "colorbar": {
             "outlinewidth": 0,
             "ticks": ""
            },
            "colorscale": [
             [
              0,
              "#0d0887"
             ],
             [
              0.1111111111111111,
              "#46039f"
             ],
             [
              0.2222222222222222,
              "#7201a8"
             ],
             [
              0.3333333333333333,
              "#9c179e"
             ],
             [
              0.4444444444444444,
              "#bd3786"
             ],
             [
              0.5555555555555556,
              "#d8576b"
             ],
             [
              0.6666666666666666,
              "#ed7953"
             ],
             [
              0.7777777777777778,
              "#fb9f3a"
             ],
             [
              0.8888888888888888,
              "#fdca26"
             ],
             [
              1,
              "#f0f921"
             ]
            ],
            "type": "heatmap"
           }
          ],
          "heatmapgl": [
           {
            "colorbar": {
             "outlinewidth": 0,
             "ticks": ""
            },
            "colorscale": [
             [
              0,
              "#0d0887"
             ],
             [
              0.1111111111111111,
              "#46039f"
             ],
             [
              0.2222222222222222,
              "#7201a8"
             ],
             [
              0.3333333333333333,
              "#9c179e"
             ],
             [
              0.4444444444444444,
              "#bd3786"
             ],
             [
              0.5555555555555556,
              "#d8576b"
             ],
             [
              0.6666666666666666,
              "#ed7953"
             ],
             [
              0.7777777777777778,
              "#fb9f3a"
             ],
             [
              0.8888888888888888,
              "#fdca26"
             ],
             [
              1,
              "#f0f921"
             ]
            ],
            "type": "heatmapgl"
           }
          ],
          "histogram": [
           {
            "marker": {
             "pattern": {
              "fillmode": "overlay",
              "size": 10,
              "solidity": 0.2
             }
            },
            "type": "histogram"
           }
          ],
          "histogram2d": [
           {
            "colorbar": {
             "outlinewidth": 0,
             "ticks": ""
            },
            "colorscale": [
             [
              0,
              "#0d0887"
             ],
             [
              0.1111111111111111,
              "#46039f"
             ],
             [
              0.2222222222222222,
              "#7201a8"
             ],
             [
              0.3333333333333333,
              "#9c179e"
             ],
             [
              0.4444444444444444,
              "#bd3786"
             ],
             [
              0.5555555555555556,
              "#d8576b"
             ],
             [
              0.6666666666666666,
              "#ed7953"
             ],
             [
              0.7777777777777778,
              "#fb9f3a"
             ],
             [
              0.8888888888888888,
              "#fdca26"
             ],
             [
              1,
              "#f0f921"
             ]
            ],
            "type": "histogram2d"
           }
          ],
          "histogram2dcontour": [
           {
            "colorbar": {
             "outlinewidth": 0,
             "ticks": ""
            },
            "colorscale": [
             [
              0,
              "#0d0887"
             ],
             [
              0.1111111111111111,
              "#46039f"
             ],
             [
              0.2222222222222222,
              "#7201a8"
             ],
             [
              0.3333333333333333,
              "#9c179e"
             ],
             [
              0.4444444444444444,
              "#bd3786"
             ],
             [
              0.5555555555555556,
              "#d8576b"
             ],
             [
              0.6666666666666666,
              "#ed7953"
             ],
             [
              0.7777777777777778,
              "#fb9f3a"
             ],
             [
              0.8888888888888888,
              "#fdca26"
             ],
             [
              1,
              "#f0f921"
             ]
            ],
            "type": "histogram2dcontour"
           }
          ],
          "mesh3d": [
           {
            "colorbar": {
             "outlinewidth": 0,
             "ticks": ""
            },
            "type": "mesh3d"
           }
          ],
          "parcoords": [
           {
            "line": {
             "colorbar": {
              "outlinewidth": 0,
              "ticks": ""
             }
            },
            "type": "parcoords"
           }
          ],
          "pie": [
           {
            "automargin": true,
            "type": "pie"
           }
          ],
          "scatter": [
           {
            "marker": {
             "line": {
              "color": "#283442"
             }
            },
            "type": "scatter"
           }
          ],
          "scatter3d": [
           {
            "line": {
             "colorbar": {
              "outlinewidth": 0,
              "ticks": ""
             }
            },
            "marker": {
             "colorbar": {
              "outlinewidth": 0,
              "ticks": ""
             }
            },
            "type": "scatter3d"
           }
          ],
          "scattercarpet": [
           {
            "marker": {
             "colorbar": {
              "outlinewidth": 0,
              "ticks": ""
             }
            },
            "type": "scattercarpet"
           }
          ],
          "scattergeo": [
           {
            "marker": {
             "colorbar": {
              "outlinewidth": 0,
              "ticks": ""
             }
            },
            "type": "scattergeo"
           }
          ],
          "scattergl": [
           {
            "marker": {
             "line": {
              "color": "#283442"
             }
            },
            "type": "scattergl"
           }
          ],
          "scattermapbox": [
           {
            "marker": {
             "colorbar": {
              "outlinewidth": 0,
              "ticks": ""
             }
            },
            "type": "scattermapbox"
           }
          ],
          "scatterpolar": [
           {
            "marker": {
             "colorbar": {
              "outlinewidth": 0,
              "ticks": ""
             }
            },
            "type": "scatterpolar"
           }
          ],
          "scatterpolargl": [
           {
            "marker": {
             "colorbar": {
              "outlinewidth": 0,
              "ticks": ""
             }
            },
            "type": "scatterpolargl"
           }
          ],
          "scatterternary": [
           {
            "marker": {
             "colorbar": {
              "outlinewidth": 0,
              "ticks": ""
             }
            },
            "type": "scatterternary"
           }
          ],
          "surface": [
           {
            "colorbar": {
             "outlinewidth": 0,
             "ticks": ""
            },
            "colorscale": [
             [
              0,
              "#0d0887"
             ],
             [
              0.1111111111111111,
              "#46039f"
             ],
             [
              0.2222222222222222,
              "#7201a8"
             ],
             [
              0.3333333333333333,
              "#9c179e"
             ],
             [
              0.4444444444444444,
              "#bd3786"
             ],
             [
              0.5555555555555556,
              "#d8576b"
             ],
             [
              0.6666666666666666,
              "#ed7953"
             ],
             [
              0.7777777777777778,
              "#fb9f3a"
             ],
             [
              0.8888888888888888,
              "#fdca26"
             ],
             [
              1,
              "#f0f921"
             ]
            ],
            "type": "surface"
           }
          ],
          "table": [
           {
            "cells": {
             "fill": {
              "color": "#506784"
             },
             "line": {
              "color": "rgb(17,17,17)"
             }
            },
            "header": {
             "fill": {
              "color": "#2a3f5f"
             },
             "line": {
              "color": "rgb(17,17,17)"
             }
            },
            "type": "table"
           }
          ]
         },
         "layout": {
          "annotationdefaults": {
           "arrowcolor": "#f2f5fa",
           "arrowhead": 0,
           "arrowwidth": 1
          },
          "autotypenumbers": "strict",
          "coloraxis": {
           "colorbar": {
            "outlinewidth": 0,
            "ticks": ""
           }
          },
          "colorscale": {
           "diverging": [
            [
             0,
             "#8e0152"
            ],
            [
             0.1,
             "#c51b7d"
            ],
            [
             0.2,
             "#de77ae"
            ],
            [
             0.3,
             "#f1b6da"
            ],
            [
             0.4,
             "#fde0ef"
            ],
            [
             0.5,
             "#f7f7f7"
            ],
            [
             0.6,
             "#e6f5d0"
            ],
            [
             0.7,
             "#b8e186"
            ],
            [
             0.8,
             "#7fbc41"
            ],
            [
             0.9,
             "#4d9221"
            ],
            [
             1,
             "#276419"
            ]
           ],
           "sequential": [
            [
             0,
             "#0d0887"
            ],
            [
             0.1111111111111111,
             "#46039f"
            ],
            [
             0.2222222222222222,
             "#7201a8"
            ],
            [
             0.3333333333333333,
             "#9c179e"
            ],
            [
             0.4444444444444444,
             "#bd3786"
            ],
            [
             0.5555555555555556,
             "#d8576b"
            ],
            [
             0.6666666666666666,
             "#ed7953"
            ],
            [
             0.7777777777777778,
             "#fb9f3a"
            ],
            [
             0.8888888888888888,
             "#fdca26"
            ],
            [
             1,
             "#f0f921"
            ]
           ],
           "sequentialminus": [
            [
             0,
             "#0d0887"
            ],
            [
             0.1111111111111111,
             "#46039f"
            ],
            [
             0.2222222222222222,
             "#7201a8"
            ],
            [
             0.3333333333333333,
             "#9c179e"
            ],
            [
             0.4444444444444444,
             "#bd3786"
            ],
            [
             0.5555555555555556,
             "#d8576b"
            ],
            [
             0.6666666666666666,
             "#ed7953"
            ],
            [
             0.7777777777777778,
             "#fb9f3a"
            ],
            [
             0.8888888888888888,
             "#fdca26"
            ],
            [
             1,
             "#f0f921"
            ]
           ]
          },
          "colorway": [
           "#636efa",
           "#EF553B",
           "#00cc96",
           "#ab63fa",
           "#FFA15A",
           "#19d3f3",
           "#FF6692",
           "#B6E880",
           "#FF97FF",
           "#FECB52"
          ],
          "font": {
           "color": "#f2f5fa"
          },
          "geo": {
           "bgcolor": "rgb(17,17,17)",
           "lakecolor": "rgb(17,17,17)",
           "landcolor": "rgb(17,17,17)",
           "showlakes": true,
           "showland": true,
           "subunitcolor": "#506784"
          },
          "hoverlabel": {
           "align": "left"
          },
          "hovermode": "closest",
          "mapbox": {
           "style": "dark"
          },
          "paper_bgcolor": "rgb(17,17,17)",
          "plot_bgcolor": "rgb(17,17,17)",
          "polar": {
           "angularaxis": {
            "gridcolor": "#506784",
            "linecolor": "#506784",
            "ticks": ""
           },
           "bgcolor": "rgb(17,17,17)",
           "radialaxis": {
            "gridcolor": "#506784",
            "linecolor": "#506784",
            "ticks": ""
           }
          },
          "scene": {
           "xaxis": {
            "backgroundcolor": "rgb(17,17,17)",
            "gridcolor": "#506784",
            "gridwidth": 2,
            "linecolor": "#506784",
            "showbackground": true,
            "ticks": "",
            "zerolinecolor": "#C8D4E3"
           },
           "yaxis": {
            "backgroundcolor": "rgb(17,17,17)",
            "gridcolor": "#506784",
            "gridwidth": 2,
            "linecolor": "#506784",
            "showbackground": true,
            "ticks": "",
            "zerolinecolor": "#C8D4E3"
           },
           "zaxis": {
            "backgroundcolor": "rgb(17,17,17)",
            "gridcolor": "#506784",
            "gridwidth": 2,
            "linecolor": "#506784",
            "showbackground": true,
            "ticks": "",
            "zerolinecolor": "#C8D4E3"
           }
          },
          "shapedefaults": {
           "line": {
            "color": "#f2f5fa"
           }
          },
          "sliderdefaults": {
           "bgcolor": "#C8D4E3",
           "bordercolor": "rgb(17,17,17)",
           "borderwidth": 1,
           "tickwidth": 0
          },
          "ternary": {
           "aaxis": {
            "gridcolor": "#506784",
            "linecolor": "#506784",
            "ticks": ""
           },
           "baxis": {
            "gridcolor": "#506784",
            "linecolor": "#506784",
            "ticks": ""
           },
           "bgcolor": "rgb(17,17,17)",
           "caxis": {
            "gridcolor": "#506784",
            "linecolor": "#506784",
            "ticks": ""
           }
          },
          "title": {
           "x": 0.05
          },
          "updatemenudefaults": {
           "bgcolor": "#506784",
           "borderwidth": 0
          },
          "xaxis": {
           "automargin": true,
           "gridcolor": "#283442",
           "linecolor": "#506784",
           "ticks": "",
           "title": {
            "standoff": 15
           },
           "zerolinecolor": "#283442",
           "zerolinewidth": 2
          },
          "yaxis": {
           "automargin": true,
           "gridcolor": "#283442",
           "linecolor": "#506784",
           "ticks": "",
           "title": {
            "standoff": 15
           },
           "zerolinecolor": "#283442",
           "zerolinewidth": 2
          }
         }
        },
        "title": {
         "text": "Most Frequent Words in Entity_paragraph Column"
        },
        "xaxis": {
         "anchor": "y",
         "domain": [
          0,
          1
         ],
         "title": {
          "text": "Words"
         }
        },
        "yaxis": {
         "anchor": "x",
         "domain": [
          0,
          1
         ],
         "title": {
          "text": "Occurrences"
         }
        }
       }
      }
     },
     "metadata": {},
     "output_type": "display_data"
    }
   ],
   "source": [
    "# Plot the most frequent words in the entity_paragraph column after stopword removal\n",
    "plot_most_frequent_words(df, 'entity_paragraph', top_n=20)"
   ]
  },
  {
   "cell_type": "code",
   "execution_count": 37,
   "metadata": {
    "execution": {
     "iopub.execute_input": "2024-12-10T02:21:14.314704Z",
     "iopub.status.busy": "2024-12-10T02:21:14.314208Z",
     "iopub.status.idle": "2024-12-10T02:21:14.372845Z",
     "shell.execute_reply": "2024-12-10T02:21:14.371998Z",
     "shell.execute_reply.started": "2024-12-10T02:21:14.314675Z"
    },
    "trusted": true
   },
   "outputs": [
    {
     "data": {
      "application/vnd.plotly.v1+json": {
       "config": {
        "plotlyServerURL": "https://plot.ly"
       },
       "data": [
        {
         "alignmentgroup": "True",
         "hovertemplate": "Words=%{x}<br>Occurrences=%{marker.color}<extra></extra>",
         "legendgroup": "",
         "marker": {
          "color": [
           42,
           30,
           28,
           23,
           21,
           18,
           17,
           14,
           14,
           13,
           13,
           12,
           10,
           9,
           8,
           8,
           8,
           8,
           7,
           7
          ],
          "coloraxis": "coloraxis",
          "pattern": {
           "shape": ""
          }
         },
         "name": "",
         "offsetgroup": "",
         "orientation": "v",
         "showlegend": false,
         "textposition": "auto",
         "type": "bar",
         "x": [
          "ukraine",
          "russia",
          "war",
          "nato",
          "united",
          "military",
          "states",
          "russian",
          "ukrainian",
          "us",
          "climate",
          "world",
          "putin",
          "government",
          "would",
          "public",
          "west",
          "even",
          "people",
          "forces"
         ],
         "xaxis": "x",
         "y": [
          42,
          30,
          28,
          23,
          21,
          18,
          17,
          14,
          14,
          13,
          13,
          12,
          10,
          9,
          8,
          8,
          8,
          8,
          7,
          7
         ],
         "yaxis": "y"
        }
       ],
       "layout": {
        "barmode": "relative",
        "coloraxis": {
         "colorbar": {
          "title": {
           "text": "Occurrences"
          }
         },
         "colorscale": [
          [
           0,
           "#0d0887"
          ],
          [
           0.1111111111111111,
           "#46039f"
          ],
          [
           0.2222222222222222,
           "#7201a8"
          ],
          [
           0.3333333333333333,
           "#9c179e"
          ],
          [
           0.4444444444444444,
           "#bd3786"
          ],
          [
           0.5555555555555556,
           "#d8576b"
          ],
          [
           0.6666666666666666,
           "#ed7953"
          ],
          [
           0.7777777777777778,
           "#fb9f3a"
          ],
          [
           0.8888888888888888,
           "#fdca26"
          ],
          [
           1,
           "#f0f921"
          ]
         ]
        },
        "legend": {
         "tracegroupgap": 0
        },
        "template": {
         "data": {
          "bar": [
           {
            "error_x": {
             "color": "#f2f5fa"
            },
            "error_y": {
             "color": "#f2f5fa"
            },
            "marker": {
             "line": {
              "color": "rgb(17,17,17)",
              "width": 0.5
             },
             "pattern": {
              "fillmode": "overlay",
              "size": 10,
              "solidity": 0.2
             }
            },
            "type": "bar"
           }
          ],
          "barpolar": [
           {
            "marker": {
             "line": {
              "color": "rgb(17,17,17)",
              "width": 0.5
             },
             "pattern": {
              "fillmode": "overlay",
              "size": 10,
              "solidity": 0.2
             }
            },
            "type": "barpolar"
           }
          ],
          "carpet": [
           {
            "aaxis": {
             "endlinecolor": "#A2B1C6",
             "gridcolor": "#506784",
             "linecolor": "#506784",
             "minorgridcolor": "#506784",
             "startlinecolor": "#A2B1C6"
            },
            "baxis": {
             "endlinecolor": "#A2B1C6",
             "gridcolor": "#506784",
             "linecolor": "#506784",
             "minorgridcolor": "#506784",
             "startlinecolor": "#A2B1C6"
            },
            "type": "carpet"
           }
          ],
          "choropleth": [
           {
            "colorbar": {
             "outlinewidth": 0,
             "ticks": ""
            },
            "type": "choropleth"
           }
          ],
          "contour": [
           {
            "colorbar": {
             "outlinewidth": 0,
             "ticks": ""
            },
            "colorscale": [
             [
              0,
              "#0d0887"
             ],
             [
              0.1111111111111111,
              "#46039f"
             ],
             [
              0.2222222222222222,
              "#7201a8"
             ],
             [
              0.3333333333333333,
              "#9c179e"
             ],
             [
              0.4444444444444444,
              "#bd3786"
             ],
             [
              0.5555555555555556,
              "#d8576b"
             ],
             [
              0.6666666666666666,
              "#ed7953"
             ],
             [
              0.7777777777777778,
              "#fb9f3a"
             ],
             [
              0.8888888888888888,
              "#fdca26"
             ],
             [
              1,
              "#f0f921"
             ]
            ],
            "type": "contour"
           }
          ],
          "contourcarpet": [
           {
            "colorbar": {
             "outlinewidth": 0,
             "ticks": ""
            },
            "type": "contourcarpet"
           }
          ],
          "heatmap": [
           {
            "colorbar": {
             "outlinewidth": 0,
             "ticks": ""
            },
            "colorscale": [
             [
              0,
              "#0d0887"
             ],
             [
              0.1111111111111111,
              "#46039f"
             ],
             [
              0.2222222222222222,
              "#7201a8"
             ],
             [
              0.3333333333333333,
              "#9c179e"
             ],
             [
              0.4444444444444444,
              "#bd3786"
             ],
             [
              0.5555555555555556,
              "#d8576b"
             ],
             [
              0.6666666666666666,
              "#ed7953"
             ],
             [
              0.7777777777777778,
              "#fb9f3a"
             ],
             [
              0.8888888888888888,
              "#fdca26"
             ],
             [
              1,
              "#f0f921"
             ]
            ],
            "type": "heatmap"
           }
          ],
          "heatmapgl": [
           {
            "colorbar": {
             "outlinewidth": 0,
             "ticks": ""
            },
            "colorscale": [
             [
              0,
              "#0d0887"
             ],
             [
              0.1111111111111111,
              "#46039f"
             ],
             [
              0.2222222222222222,
              "#7201a8"
             ],
             [
              0.3333333333333333,
              "#9c179e"
             ],
             [
              0.4444444444444444,
              "#bd3786"
             ],
             [
              0.5555555555555556,
              "#d8576b"
             ],
             [
              0.6666666666666666,
              "#ed7953"
             ],
             [
              0.7777777777777778,
              "#fb9f3a"
             ],
             [
              0.8888888888888888,
              "#fdca26"
             ],
             [
              1,
              "#f0f921"
             ]
            ],
            "type": "heatmapgl"
           }
          ],
          "histogram": [
           {
            "marker": {
             "pattern": {
              "fillmode": "overlay",
              "size": 10,
              "solidity": 0.2
             }
            },
            "type": "histogram"
           }
          ],
          "histogram2d": [
           {
            "colorbar": {
             "outlinewidth": 0,
             "ticks": ""
            },
            "colorscale": [
             [
              0,
              "#0d0887"
             ],
             [
              0.1111111111111111,
              "#46039f"
             ],
             [
              0.2222222222222222,
              "#7201a8"
             ],
             [
              0.3333333333333333,
              "#9c179e"
             ],
             [
              0.4444444444444444,
              "#bd3786"
             ],
             [
              0.5555555555555556,
              "#d8576b"
             ],
             [
              0.6666666666666666,
              "#ed7953"
             ],
             [
              0.7777777777777778,
              "#fb9f3a"
             ],
             [
              0.8888888888888888,
              "#fdca26"
             ],
             [
              1,
              "#f0f921"
             ]
            ],
            "type": "histogram2d"
           }
          ],
          "histogram2dcontour": [
           {
            "colorbar": {
             "outlinewidth": 0,
             "ticks": ""
            },
            "colorscale": [
             [
              0,
              "#0d0887"
             ],
             [
              0.1111111111111111,
              "#46039f"
             ],
             [
              0.2222222222222222,
              "#7201a8"
             ],
             [
              0.3333333333333333,
              "#9c179e"
             ],
             [
              0.4444444444444444,
              "#bd3786"
             ],
             [
              0.5555555555555556,
              "#d8576b"
             ],
             [
              0.6666666666666666,
              "#ed7953"
             ],
             [
              0.7777777777777778,
              "#fb9f3a"
             ],
             [
              0.8888888888888888,
              "#fdca26"
             ],
             [
              1,
              "#f0f921"
             ]
            ],
            "type": "histogram2dcontour"
           }
          ],
          "mesh3d": [
           {
            "colorbar": {
             "outlinewidth": 0,
             "ticks": ""
            },
            "type": "mesh3d"
           }
          ],
          "parcoords": [
           {
            "line": {
             "colorbar": {
              "outlinewidth": 0,
              "ticks": ""
             }
            },
            "type": "parcoords"
           }
          ],
          "pie": [
           {
            "automargin": true,
            "type": "pie"
           }
          ],
          "scatter": [
           {
            "marker": {
             "line": {
              "color": "#283442"
             }
            },
            "type": "scatter"
           }
          ],
          "scatter3d": [
           {
            "line": {
             "colorbar": {
              "outlinewidth": 0,
              "ticks": ""
             }
            },
            "marker": {
             "colorbar": {
              "outlinewidth": 0,
              "ticks": ""
             }
            },
            "type": "scatter3d"
           }
          ],
          "scattercarpet": [
           {
            "marker": {
             "colorbar": {
              "outlinewidth": 0,
              "ticks": ""
             }
            },
            "type": "scattercarpet"
           }
          ],
          "scattergeo": [
           {
            "marker": {
             "colorbar": {
              "outlinewidth": 0,
              "ticks": ""
             }
            },
            "type": "scattergeo"
           }
          ],
          "scattergl": [
           {
            "marker": {
             "line": {
              "color": "#283442"
             }
            },
            "type": "scattergl"
           }
          ],
          "scattermapbox": [
           {
            "marker": {
             "colorbar": {
              "outlinewidth": 0,
              "ticks": ""
             }
            },
            "type": "scattermapbox"
           }
          ],
          "scatterpolar": [
           {
            "marker": {
             "colorbar": {
              "outlinewidth": 0,
              "ticks": ""
             }
            },
            "type": "scatterpolar"
           }
          ],
          "scatterpolargl": [
           {
            "marker": {
             "colorbar": {
              "outlinewidth": 0,
              "ticks": ""
             }
            },
            "type": "scatterpolargl"
           }
          ],
          "scatterternary": [
           {
            "marker": {
             "colorbar": {
              "outlinewidth": 0,
              "ticks": ""
             }
            },
            "type": "scatterternary"
           }
          ],
          "surface": [
           {
            "colorbar": {
             "outlinewidth": 0,
             "ticks": ""
            },
            "colorscale": [
             [
              0,
              "#0d0887"
             ],
             [
              0.1111111111111111,
              "#46039f"
             ],
             [
              0.2222222222222222,
              "#7201a8"
             ],
             [
              0.3333333333333333,
              "#9c179e"
             ],
             [
              0.4444444444444444,
              "#bd3786"
             ],
             [
              0.5555555555555556,
              "#d8576b"
             ],
             [
              0.6666666666666666,
              "#ed7953"
             ],
             [
              0.7777777777777778,
              "#fb9f3a"
             ],
             [
              0.8888888888888888,
              "#fdca26"
             ],
             [
              1,
              "#f0f921"
             ]
            ],
            "type": "surface"
           }
          ],
          "table": [
           {
            "cells": {
             "fill": {
              "color": "#506784"
             },
             "line": {
              "color": "rgb(17,17,17)"
             }
            },
            "header": {
             "fill": {
              "color": "#2a3f5f"
             },
             "line": {
              "color": "rgb(17,17,17)"
             }
            },
            "type": "table"
           }
          ]
         },
         "layout": {
          "annotationdefaults": {
           "arrowcolor": "#f2f5fa",
           "arrowhead": 0,
           "arrowwidth": 1
          },
          "autotypenumbers": "strict",
          "coloraxis": {
           "colorbar": {
            "outlinewidth": 0,
            "ticks": ""
           }
          },
          "colorscale": {
           "diverging": [
            [
             0,
             "#8e0152"
            ],
            [
             0.1,
             "#c51b7d"
            ],
            [
             0.2,
             "#de77ae"
            ],
            [
             0.3,
             "#f1b6da"
            ],
            [
             0.4,
             "#fde0ef"
            ],
            [
             0.5,
             "#f7f7f7"
            ],
            [
             0.6,
             "#e6f5d0"
            ],
            [
             0.7,
             "#b8e186"
            ],
            [
             0.8,
             "#7fbc41"
            ],
            [
             0.9,
             "#4d9221"
            ],
            [
             1,
             "#276419"
            ]
           ],
           "sequential": [
            [
             0,
             "#0d0887"
            ],
            [
             0.1111111111111111,
             "#46039f"
            ],
            [
             0.2222222222222222,
             "#7201a8"
            ],
            [
             0.3333333333333333,
             "#9c179e"
            ],
            [
             0.4444444444444444,
             "#bd3786"
            ],
            [
             0.5555555555555556,
             "#d8576b"
            ],
            [
             0.6666666666666666,
             "#ed7953"
            ],
            [
             0.7777777777777778,
             "#fb9f3a"
            ],
            [
             0.8888888888888888,
             "#fdca26"
            ],
            [
             1,
             "#f0f921"
            ]
           ],
           "sequentialminus": [
            [
             0,
             "#0d0887"
            ],
            [
             0.1111111111111111,
             "#46039f"
            ],
            [
             0.2222222222222222,
             "#7201a8"
            ],
            [
             0.3333333333333333,
             "#9c179e"
            ],
            [
             0.4444444444444444,
             "#bd3786"
            ],
            [
             0.5555555555555556,
             "#d8576b"
            ],
            [
             0.6666666666666666,
             "#ed7953"
            ],
            [
             0.7777777777777778,
             "#fb9f3a"
            ],
            [
             0.8888888888888888,
             "#fdca26"
            ],
            [
             1,
             "#f0f921"
            ]
           ]
          },
          "colorway": [
           "#636efa",
           "#EF553B",
           "#00cc96",
           "#ab63fa",
           "#FFA15A",
           "#19d3f3",
           "#FF6692",
           "#B6E880",
           "#FF97FF",
           "#FECB52"
          ],
          "font": {
           "color": "#f2f5fa"
          },
          "geo": {
           "bgcolor": "rgb(17,17,17)",
           "lakecolor": "rgb(17,17,17)",
           "landcolor": "rgb(17,17,17)",
           "showlakes": true,
           "showland": true,
           "subunitcolor": "#506784"
          },
          "hoverlabel": {
           "align": "left"
          },
          "hovermode": "closest",
          "mapbox": {
           "style": "dark"
          },
          "paper_bgcolor": "rgb(17,17,17)",
          "plot_bgcolor": "rgb(17,17,17)",
          "polar": {
           "angularaxis": {
            "gridcolor": "#506784",
            "linecolor": "#506784",
            "ticks": ""
           },
           "bgcolor": "rgb(17,17,17)",
           "radialaxis": {
            "gridcolor": "#506784",
            "linecolor": "#506784",
            "ticks": ""
           }
          },
          "scene": {
           "xaxis": {
            "backgroundcolor": "rgb(17,17,17)",
            "gridcolor": "#506784",
            "gridwidth": 2,
            "linecolor": "#506784",
            "showbackground": true,
            "ticks": "",
            "zerolinecolor": "#C8D4E3"
           },
           "yaxis": {
            "backgroundcolor": "rgb(17,17,17)",
            "gridcolor": "#506784",
            "gridwidth": 2,
            "linecolor": "#506784",
            "showbackground": true,
            "ticks": "",
            "zerolinecolor": "#C8D4E3"
           },
           "zaxis": {
            "backgroundcolor": "rgb(17,17,17)",
            "gridcolor": "#506784",
            "gridwidth": 2,
            "linecolor": "#506784",
            "showbackground": true,
            "ticks": "",
            "zerolinecolor": "#C8D4E3"
           }
          },
          "shapedefaults": {
           "line": {
            "color": "#f2f5fa"
           }
          },
          "sliderdefaults": {
           "bgcolor": "#C8D4E3",
           "bordercolor": "rgb(17,17,17)",
           "borderwidth": 1,
           "tickwidth": 0
          },
          "ternary": {
           "aaxis": {
            "gridcolor": "#506784",
            "linecolor": "#506784",
            "ticks": ""
           },
           "baxis": {
            "gridcolor": "#506784",
            "linecolor": "#506784",
            "ticks": ""
           },
           "bgcolor": "rgb(17,17,17)",
           "caxis": {
            "gridcolor": "#506784",
            "linecolor": "#506784",
            "ticks": ""
           }
          },
          "title": {
           "x": 0.05
          },
          "updatemenudefaults": {
           "bgcolor": "#506784",
           "borderwidth": 0
          },
          "xaxis": {
           "automargin": true,
           "gridcolor": "#283442",
           "linecolor": "#506784",
           "ticks": "",
           "title": {
            "standoff": 15
           },
           "zerolinecolor": "#283442",
           "zerolinewidth": 2
          },
          "yaxis": {
           "automargin": true,
           "gridcolor": "#283442",
           "linecolor": "#506784",
           "ticks": "",
           "title": {
            "standoff": 15
           },
           "zerolinecolor": "#283442",
           "zerolinewidth": 2
          }
         }
        },
        "title": {
         "text": "Most Frequent Words in Entity_paragraph Column"
        },
        "xaxis": {
         "anchor": "y",
         "domain": [
          0,
          1
         ],
         "title": {
          "text": "Words"
         }
        },
        "yaxis": {
         "anchor": "x",
         "domain": [
          0,
          1
         ],
         "title": {
          "text": "Occurrences"
         }
        }
       }
      }
     },
     "metadata": {},
     "output_type": "display_data"
    }
   ],
   "source": [
    "# Plot the most frequent words in the entity_paragraph column after stopword removal\n",
    "plot_most_frequent_words(df_test, 'entity_paragraph', top_n=20)"
   ]
  },
  {
   "cell_type": "code",
   "execution_count": 38,
   "metadata": {
    "execution": {
     "iopub.execute_input": "2024-12-10T02:21:14.604136Z",
     "iopub.status.busy": "2024-12-10T02:21:14.603416Z",
     "iopub.status.idle": "2024-12-10T02:21:14.646268Z",
     "shell.execute_reply": "2024-12-10T02:21:14.645366Z",
     "shell.execute_reply.started": "2024-12-10T02:21:14.604099Z"
    },
    "trusted": true
   },
   "outputs": [
    {
     "data": {
      "application/vnd.plotly.v1+json": {
       "config": {
        "plotlyServerURL": "https://plot.ly"
       },
       "data": [
        {
         "alignmentgroup": "True",
         "hovertemplate": "Main Role=%{x}<br>count=%{y}<extra></extra>",
         "legendgroup": "",
         "marker": {
          "color": "#636efa",
          "pattern": {
           "shape": ""
          }
         },
         "name": "",
         "offsetgroup": "",
         "orientation": "v",
         "showlegend": false,
         "textposition": "auto",
         "type": "bar",
         "x": [
          "Antagonist",
          "Antagonist",
          "Antagonist",
          "Protagonist",
          "Innocent",
          "Protagonist",
          "Antagonist",
          "Antagonist",
          "Antagonist",
          "Antagonist",
          "Antagonist",
          "Protagonist",
          "Protagonist",
          "Antagonist",
          "Protagonist",
          "Innocent",
          "Antagonist",
          "Antagonist",
          "Antagonist",
          "Antagonist",
          "Antagonist",
          "Antagonist",
          "Antagonist",
          "Protagonist",
          "Antagonist",
          "Protagonist",
          "Protagonist",
          "Antagonist",
          "Antagonist",
          "Antagonist",
          "Antagonist",
          "Protagonist",
          "Antagonist",
          "Antagonist",
          "Antagonist",
          "Protagonist",
          "Antagonist",
          "Antagonist",
          "Antagonist",
          "Antagonist",
          "Protagonist",
          "Protagonist",
          "Protagonist",
          "Antagonist",
          "Antagonist",
          "Antagonist",
          "Antagonist",
          "Antagonist",
          "Antagonist",
          "Antagonist",
          "Antagonist",
          "Protagonist",
          "Antagonist",
          "Antagonist",
          "Protagonist",
          "Protagonist",
          "Innocent",
          "Innocent",
          "Antagonist",
          "Antagonist",
          "Antagonist",
          "Protagonist",
          "Antagonist",
          "Antagonist",
          "Antagonist",
          "Antagonist",
          "Antagonist",
          "Antagonist",
          "Antagonist",
          "Antagonist",
          "Innocent",
          "Antagonist",
          "Protagonist",
          "Antagonist",
          "Antagonist",
          "Innocent",
          "Innocent",
          "Antagonist",
          "Innocent",
          "Antagonist",
          "Innocent",
          "Antagonist",
          "Antagonist",
          "Antagonist",
          "Antagonist",
          "Antagonist",
          "Antagonist",
          "Antagonist",
          "Antagonist",
          "Antagonist",
          "Innocent",
          "Innocent",
          "Antagonist",
          "Innocent",
          "Antagonist",
          "Protagonist",
          "Antagonist",
          "Antagonist",
          "Antagonist",
          "Antagonist",
          "Protagonist",
          "Antagonist",
          "Innocent",
          "Antagonist",
          "Antagonist",
          "Antagonist",
          "Antagonist",
          "Antagonist",
          "Antagonist",
          "Protagonist",
          "Innocent",
          "Antagonist",
          "Antagonist",
          "Antagonist",
          "Antagonist",
          "Antagonist",
          "Innocent",
          "Antagonist",
          "Antagonist",
          "Antagonist",
          "Innocent",
          "Protagonist",
          "Protagonist",
          "Antagonist",
          "Protagonist",
          "Innocent",
          "Antagonist",
          "Protagonist",
          "Protagonist",
          "Protagonist",
          "Antagonist",
          "Antagonist",
          "Protagonist",
          "Antagonist",
          "Antagonist",
          "Protagonist",
          "Antagonist",
          "Antagonist",
          "Antagonist",
          "Innocent",
          "Antagonist",
          "Antagonist",
          "Antagonist",
          "Protagonist",
          "Antagonist",
          "Antagonist",
          "Innocent",
          "Protagonist",
          "Antagonist",
          "Antagonist",
          "Antagonist",
          "Protagonist",
          "Antagonist",
          "Protagonist",
          "Antagonist",
          "Antagonist",
          "Antagonist",
          "Protagonist",
          "Protagonist",
          "Antagonist",
          "Antagonist",
          "Antagonist",
          "Protagonist",
          "Protagonist",
          "Protagonist",
          "Protagonist",
          "Protagonist",
          "Protagonist",
          "Antagonist",
          "Protagonist",
          "Protagonist",
          "Protagonist",
          "Antagonist",
          "Antagonist",
          "Antagonist",
          "Antagonist",
          "Antagonist",
          "Protagonist",
          "Antagonist",
          "Antagonist",
          "Antagonist",
          "Antagonist",
          "Antagonist",
          "Innocent",
          "Protagonist",
          "Antagonist",
          "Antagonist",
          "Antagonist",
          "Protagonist",
          "Antagonist",
          "Antagonist",
          "Antagonist",
          "Antagonist",
          "Antagonist",
          "Antagonist",
          "Innocent",
          "Antagonist",
          "Antagonist",
          "Antagonist",
          "Antagonist",
          "Antagonist",
          "Innocent",
          "Innocent",
          "Innocent",
          "Antagonist",
          "Innocent",
          "Antagonist",
          "Antagonist",
          "Innocent",
          "Antagonist",
          "Protagonist",
          "Protagonist",
          "Protagonist",
          "Protagonist",
          "Antagonist",
          "Antagonist",
          "Antagonist",
          "Antagonist",
          "Protagonist",
          "Protagonist",
          "Innocent",
          "Innocent",
          "Innocent",
          "Antagonist",
          "Antagonist",
          "Antagonist",
          "Antagonist",
          "Antagonist",
          "Antagonist",
          "Antagonist",
          "Antagonist",
          "Antagonist",
          "Antagonist",
          "Protagonist",
          "Antagonist",
          "Antagonist",
          "Antagonist",
          "Protagonist",
          "Antagonist",
          "Antagonist",
          "Protagonist",
          "Protagonist",
          "Antagonist",
          "Innocent",
          "Antagonist",
          "Protagonist",
          "Antagonist",
          "Antagonist",
          "Innocent",
          "Antagonist",
          "Protagonist",
          "Protagonist",
          "Antagonist",
          "Antagonist",
          "Protagonist",
          "Antagonist",
          "Antagonist",
          "Antagonist",
          "Innocent",
          "Antagonist",
          "Innocent",
          "Innocent",
          "Antagonist",
          "Antagonist",
          "Antagonist",
          "Antagonist",
          "Antagonist",
          "Antagonist",
          "Antagonist",
          "Antagonist",
          "Innocent",
          "Antagonist",
          "Antagonist",
          "Antagonist",
          "Antagonist",
          "Protagonist",
          "Innocent",
          "Antagonist",
          "Antagonist",
          "Innocent",
          "Innocent",
          "Antagonist",
          "Antagonist",
          "Antagonist",
          "Antagonist",
          "Antagonist",
          "Antagonist",
          "Antagonist",
          "Innocent",
          "Antagonist",
          "Antagonist",
          "Antagonist",
          "Antagonist",
          "Protagonist",
          "Antagonist",
          "Innocent",
          "Innocent",
          "Antagonist",
          "Antagonist",
          "Protagonist",
          "Antagonist",
          "Antagonist",
          "Antagonist",
          "Antagonist",
          "Antagonist",
          "Innocent",
          "Antagonist",
          "Antagonist",
          "Antagonist",
          "Antagonist",
          "Antagonist",
          "Antagonist",
          "Antagonist",
          "Protagonist",
          "Innocent",
          "Antagonist",
          "Protagonist",
          "Antagonist",
          "Antagonist",
          "Antagonist",
          "Antagonist",
          "Antagonist",
          "Antagonist",
          "Antagonist",
          "Protagonist",
          "Antagonist",
          "Antagonist",
          "Antagonist",
          "Protagonist",
          "Protagonist",
          "Antagonist",
          "Antagonist",
          "Antagonist",
          "Antagonist",
          "Antagonist",
          "Protagonist",
          "Antagonist",
          "Antagonist",
          "Antagonist",
          "Antagonist",
          "Antagonist",
          "Antagonist",
          "Antagonist",
          "Antagonist",
          "Antagonist",
          "Antagonist",
          "Antagonist",
          "Protagonist",
          "Antagonist",
          "Antagonist",
          "Antagonist",
          "Innocent",
          "Antagonist",
          "Antagonist",
          "Antagonist",
          "Protagonist",
          "Protagonist",
          "Protagonist",
          "Antagonist",
          "Antagonist",
          "Antagonist",
          "Antagonist",
          "Antagonist",
          "Antagonist",
          "Antagonist",
          "Antagonist",
          "Antagonist",
          "Antagonist",
          "Antagonist",
          "Antagonist",
          "Antagonist",
          "Protagonist",
          "Antagonist",
          "Protagonist",
          "Protagonist",
          "Antagonist",
          "Antagonist",
          "Antagonist",
          "Protagonist",
          "Antagonist",
          "Antagonist",
          "Antagonist",
          "Antagonist",
          "Protagonist",
          "Antagonist",
          "Innocent",
          "Innocent",
          "Protagonist",
          "Antagonist",
          "Antagonist",
          "Innocent",
          "Protagonist",
          "Antagonist",
          "Antagonist",
          "Antagonist",
          "Antagonist",
          "Antagonist",
          "Antagonist",
          "Antagonist",
          "Antagonist",
          "Antagonist",
          "Antagonist",
          "Antagonist",
          "Innocent",
          "Innocent",
          "Antagonist",
          "Antagonist",
          "Antagonist",
          "Antagonist",
          "Antagonist",
          "Antagonist",
          "Protagonist",
          "Antagonist",
          "Innocent",
          "Antagonist",
          "Antagonist",
          "Antagonist",
          "Innocent",
          "Antagonist",
          "Antagonist",
          "Antagonist",
          "Protagonist",
          "Antagonist",
          "Antagonist",
          "Antagonist",
          "Protagonist",
          "Protagonist",
          "Innocent",
          "Protagonist",
          "Antagonist",
          "Innocent",
          "Antagonist",
          "Antagonist",
          "Antagonist",
          "Antagonist",
          "Antagonist",
          "Protagonist",
          "Antagonist",
          "Protagonist",
          "Antagonist",
          "Antagonist",
          "Innocent",
          "Innocent",
          "Antagonist",
          "Antagonist",
          "Antagonist",
          "Innocent",
          "Protagonist",
          "Protagonist",
          "Antagonist",
          "Antagonist",
          "Antagonist",
          "Protagonist",
          "Protagonist",
          "Protagonist",
          "Protagonist",
          "Antagonist",
          "Antagonist",
          "Antagonist",
          "Antagonist",
          "Antagonist",
          "Antagonist",
          "Antagonist",
          "Antagonist",
          "Antagonist",
          "Antagonist",
          "Antagonist",
          "Antagonist",
          "Protagonist",
          "Antagonist",
          "Antagonist",
          "Antagonist",
          "Antagonist",
          "Antagonist",
          "Antagonist",
          "Protagonist",
          "Antagonist",
          "Protagonist",
          "Antagonist",
          "Antagonist",
          "Antagonist",
          "Antagonist",
          "Antagonist",
          "Antagonist",
          "Antagonist",
          "Antagonist",
          "Antagonist",
          "Protagonist",
          "Antagonist",
          "Innocent",
          "Antagonist",
          "Innocent",
          "Antagonist",
          "Antagonist",
          "Antagonist",
          "Antagonist",
          "Protagonist",
          "Innocent",
          "Antagonist",
          "Protagonist",
          "Antagonist",
          "Protagonist",
          "Antagonist",
          "Antagonist",
          "Antagonist",
          "Protagonist",
          "Antagonist",
          "Innocent",
          "Antagonist",
          "Protagonist",
          "Antagonist",
          "Antagonist",
          "Antagonist",
          "Antagonist",
          "Innocent",
          "Antagonist",
          "Antagonist",
          "Antagonist",
          "Antagonist",
          "Antagonist",
          "Innocent",
          "Innocent",
          "Antagonist",
          "Innocent",
          "Protagonist",
          "Antagonist",
          "Protagonist",
          "Antagonist",
          "Protagonist",
          "Protagonist",
          "Antagonist",
          "Antagonist",
          "Protagonist",
          "Antagonist",
          "Antagonist",
          "Antagonist",
          "Antagonist",
          "Protagonist",
          "Antagonist",
          "Antagonist",
          "Antagonist",
          "Protagonist",
          "Innocent",
          "Antagonist",
          "Antagonist",
          "Innocent",
          "Antagonist",
          "Antagonist",
          "Antagonist",
          "Antagonist",
          "Innocent",
          "Antagonist",
          "Antagonist",
          "Antagonist",
          "Innocent",
          "Protagonist",
          "Protagonist",
          "Antagonist",
          "Innocent",
          "Protagonist",
          "Antagonist",
          "Antagonist",
          "Antagonist",
          "Antagonist",
          "Antagonist",
          "Innocent",
          "Antagonist",
          "Antagonist",
          "Antagonist",
          "Antagonist",
          "Antagonist",
          "Antagonist",
          "Antagonist",
          "Antagonist",
          "Antagonist",
          "Antagonist",
          "Antagonist",
          "Antagonist",
          "Antagonist",
          "Antagonist",
          "Antagonist",
          "Antagonist",
          "Antagonist",
          "Antagonist",
          "Antagonist",
          "Antagonist",
          "Antagonist",
          "Antagonist",
          "Antagonist",
          "Antagonist",
          "Antagonist",
          "Antagonist",
          "Antagonist",
          "Antagonist",
          "Antagonist",
          "Protagonist",
          "Antagonist",
          "Innocent",
          "Innocent",
          "Antagonist",
          "Antagonist",
          "Protagonist",
          "Protagonist",
          "Antagonist",
          "Antagonist",
          "Antagonist",
          "Antagonist",
          "Antagonist",
          "Antagonist",
          "Antagonist",
          "Antagonist",
          "Antagonist",
          "Antagonist",
          "Antagonist",
          "Antagonist",
          "Antagonist",
          "Protagonist",
          "Antagonist",
          "Antagonist",
          "Antagonist",
          "Innocent",
          "Innocent",
          "Antagonist",
          "Protagonist",
          "Protagonist",
          "Antagonist",
          "Antagonist",
          "Antagonist",
          "Antagonist",
          "Protagonist",
          "Antagonist",
          "Antagonist",
          "Antagonist",
          "Antagonist",
          "Antagonist",
          "Antagonist",
          "Antagonist",
          "Antagonist",
          "Antagonist",
          "Antagonist",
          "Protagonist",
          "Antagonist",
          "Antagonist",
          "Antagonist",
          "Antagonist",
          "Antagonist",
          "Antagonist",
          "Protagonist",
          "Antagonist",
          "Antagonist",
          "Antagonist",
          "Antagonist",
          "Innocent",
          "Antagonist",
          "Antagonist",
          "Antagonist",
          "Antagonist",
          "Protagonist",
          "Antagonist",
          "Antagonist",
          "Antagonist",
          "Protagonist",
          "Antagonist",
          "Antagonist",
          "Antagonist",
          "Antagonist",
          "Antagonist",
          "Antagonist",
          "Innocent",
          "Innocent",
          "Antagonist",
          "Antagonist",
          "Antagonist",
          "Antagonist",
          "Antagonist",
          "Protagonist",
          "Innocent",
          "Protagonist",
          "Antagonist",
          "Protagonist",
          "Protagonist",
          "Antagonist",
          "Innocent",
          "Protagonist",
          "Antagonist",
          "Protagonist"
         ],
         "xaxis": "x",
         "y": [
          1,
          1,
          1,
          1,
          1,
          1,
          1,
          1,
          1,
          1,
          1,
          1,
          1,
          1,
          1,
          1,
          1,
          1,
          1,
          1,
          1,
          1,
          1,
          1,
          1,
          1,
          1,
          1,
          1,
          1,
          1,
          1,
          1,
          1,
          1,
          1,
          1,
          1,
          1,
          1,
          1,
          1,
          1,
          1,
          1,
          1,
          1,
          1,
          1,
          1,
          1,
          1,
          1,
          1,
          1,
          1,
          1,
          1,
          1,
          1,
          1,
          1,
          1,
          1,
          1,
          1,
          1,
          1,
          1,
          1,
          1,
          1,
          1,
          1,
          1,
          1,
          1,
          1,
          1,
          1,
          1,
          1,
          1,
          1,
          1,
          1,
          1,
          1,
          1,
          1,
          1,
          1,
          1,
          1,
          1,
          1,
          1,
          1,
          1,
          1,
          1,
          1,
          1,
          1,
          1,
          1,
          1,
          1,
          1,
          1,
          1,
          1,
          1,
          1,
          1,
          1,
          1,
          1,
          1,
          1,
          1,
          1,
          1,
          1,
          1,
          1,
          1,
          1,
          1,
          1,
          1,
          1,
          1,
          1,
          1,
          1,
          1,
          1,
          1,
          1,
          1,
          1,
          1,
          1,
          1,
          1,
          1,
          1,
          1,
          1,
          1,
          1,
          1,
          1,
          1,
          1,
          1,
          1,
          1,
          1,
          1,
          1,
          1,
          1,
          1,
          1,
          1,
          1,
          1,
          1,
          1,
          1,
          1,
          1,
          1,
          1,
          1,
          1,
          1,
          1,
          1,
          1,
          1,
          1,
          1,
          1,
          1,
          1,
          1,
          1,
          1,
          1,
          1,
          1,
          1,
          1,
          1,
          1,
          1,
          1,
          1,
          1,
          1,
          1,
          1,
          1,
          1,
          1,
          1,
          1,
          1,
          1,
          1,
          1,
          1,
          1,
          1,
          1,
          1,
          1,
          1,
          1,
          1,
          1,
          1,
          1,
          1,
          1,
          1,
          1,
          1,
          1,
          1,
          1,
          1,
          1,
          1,
          1,
          1,
          1,
          1,
          1,
          1,
          1,
          1,
          1,
          1,
          1,
          1,
          1,
          1,
          1,
          1,
          1,
          1,
          1,
          1,
          1,
          1,
          1,
          1,
          1,
          1,
          1,
          1,
          1,
          1,
          1,
          1,
          1,
          1,
          1,
          1,
          1,
          1,
          1,
          1,
          1,
          1,
          1,
          1,
          1,
          1,
          1,
          1,
          1,
          1,
          1,
          1,
          1,
          1,
          1,
          1,
          1,
          1,
          1,
          1,
          1,
          1,
          1,
          1,
          1,
          1,
          1,
          1,
          1,
          1,
          1,
          1,
          1,
          1,
          1,
          1,
          1,
          1,
          1,
          1,
          1,
          1,
          1,
          1,
          1,
          1,
          1,
          1,
          1,
          1,
          1,
          1,
          1,
          1,
          1,
          1,
          1,
          1,
          1,
          1,
          1,
          1,
          1,
          1,
          1,
          1,
          1,
          1,
          1,
          1,
          1,
          1,
          1,
          1,
          1,
          1,
          1,
          1,
          1,
          1,
          1,
          1,
          1,
          1,
          1,
          1,
          1,
          1,
          1,
          1,
          1,
          1,
          1,
          1,
          1,
          1,
          1,
          1,
          1,
          1,
          1,
          1,
          1,
          1,
          1,
          1,
          1,
          1,
          1,
          1,
          1,
          1,
          1,
          1,
          1,
          1,
          1,
          1,
          1,
          1,
          1,
          1,
          1,
          1,
          1,
          1,
          1,
          1,
          1,
          1,
          1,
          1,
          1,
          1,
          1,
          1,
          1,
          1,
          1,
          1,
          1,
          1,
          1,
          1,
          1,
          1,
          1,
          1,
          1,
          1,
          1,
          1,
          1,
          1,
          1,
          1,
          1,
          1,
          1,
          1,
          1,
          1,
          1,
          1,
          1,
          1,
          1,
          1,
          1,
          1,
          1,
          1,
          1,
          1,
          1,
          1,
          1,
          1,
          1,
          1,
          1,
          1,
          1,
          1,
          1,
          1,
          1,
          1,
          1,
          1,
          1,
          1,
          1,
          1,
          1,
          1,
          1,
          1,
          1,
          1,
          1,
          1,
          1,
          1,
          1,
          1,
          1,
          1,
          1,
          1,
          1,
          1,
          1,
          1,
          1,
          1,
          1,
          1,
          1,
          1,
          1,
          1,
          1,
          1,
          1,
          1,
          1,
          1,
          1,
          1,
          1,
          1,
          1,
          1,
          1,
          1,
          1,
          1,
          1,
          1,
          1,
          1,
          1,
          1,
          1,
          1,
          1,
          1,
          1,
          1,
          1,
          1,
          1,
          1,
          1,
          1,
          1,
          1,
          1,
          1,
          1,
          1,
          1,
          1,
          1,
          1,
          1,
          1,
          1,
          1,
          1,
          1,
          1,
          1,
          1,
          1,
          1,
          1,
          1,
          1,
          1,
          1,
          1,
          1,
          1,
          1,
          1,
          1,
          1,
          1,
          1,
          1,
          1,
          1,
          1,
          1,
          1,
          1,
          1,
          1,
          1,
          1,
          1,
          1,
          1,
          1,
          1,
          1,
          1,
          1,
          1,
          1,
          1,
          1,
          1,
          1,
          1,
          1,
          1,
          1,
          1,
          1,
          1,
          1,
          1,
          1,
          1,
          1,
          1,
          1,
          1,
          1,
          1,
          1,
          1,
          1,
          1,
          1,
          1,
          1,
          1,
          1,
          1,
          1,
          1,
          1,
          1,
          1,
          1,
          1,
          1,
          1,
          1,
          1,
          1,
          1,
          1,
          1,
          1,
          1,
          1,
          1,
          1,
          1,
          1,
          1,
          1,
          1,
          1,
          1,
          1,
          1,
          1,
          1,
          1,
          1,
          1,
          1,
          1,
          1,
          1,
          1,
          1,
          1,
          1,
          1,
          1,
          1,
          1,
          1,
          1,
          1,
          1,
          1,
          1,
          1,
          1,
          1,
          1,
          1,
          1,
          1,
          1,
          1,
          1,
          1,
          1,
          1,
          1
         ],
         "yaxis": "y"
        }
       ],
       "layout": {
        "barmode": "relative",
        "legend": {
         "tracegroupgap": 0
        },
        "template": {
         "data": {
          "bar": [
           {
            "error_x": {
             "color": "#f2f5fa"
            },
            "error_y": {
             "color": "#f2f5fa"
            },
            "marker": {
             "line": {
              "color": "rgb(17,17,17)",
              "width": 0.5
             },
             "pattern": {
              "fillmode": "overlay",
              "size": 10,
              "solidity": 0.2
             }
            },
            "type": "bar"
           }
          ],
          "barpolar": [
           {
            "marker": {
             "line": {
              "color": "rgb(17,17,17)",
              "width": 0.5
             },
             "pattern": {
              "fillmode": "overlay",
              "size": 10,
              "solidity": 0.2
             }
            },
            "type": "barpolar"
           }
          ],
          "carpet": [
           {
            "aaxis": {
             "endlinecolor": "#A2B1C6",
             "gridcolor": "#506784",
             "linecolor": "#506784",
             "minorgridcolor": "#506784",
             "startlinecolor": "#A2B1C6"
            },
            "baxis": {
             "endlinecolor": "#A2B1C6",
             "gridcolor": "#506784",
             "linecolor": "#506784",
             "minorgridcolor": "#506784",
             "startlinecolor": "#A2B1C6"
            },
            "type": "carpet"
           }
          ],
          "choropleth": [
           {
            "colorbar": {
             "outlinewidth": 0,
             "ticks": ""
            },
            "type": "choropleth"
           }
          ],
          "contour": [
           {
            "colorbar": {
             "outlinewidth": 0,
             "ticks": ""
            },
            "colorscale": [
             [
              0,
              "#0d0887"
             ],
             [
              0.1111111111111111,
              "#46039f"
             ],
             [
              0.2222222222222222,
              "#7201a8"
             ],
             [
              0.3333333333333333,
              "#9c179e"
             ],
             [
              0.4444444444444444,
              "#bd3786"
             ],
             [
              0.5555555555555556,
              "#d8576b"
             ],
             [
              0.6666666666666666,
              "#ed7953"
             ],
             [
              0.7777777777777778,
              "#fb9f3a"
             ],
             [
              0.8888888888888888,
              "#fdca26"
             ],
             [
              1,
              "#f0f921"
             ]
            ],
            "type": "contour"
           }
          ],
          "contourcarpet": [
           {
            "colorbar": {
             "outlinewidth": 0,
             "ticks": ""
            },
            "type": "contourcarpet"
           }
          ],
          "heatmap": [
           {
            "colorbar": {
             "outlinewidth": 0,
             "ticks": ""
            },
            "colorscale": [
             [
              0,
              "#0d0887"
             ],
             [
              0.1111111111111111,
              "#46039f"
             ],
             [
              0.2222222222222222,
              "#7201a8"
             ],
             [
              0.3333333333333333,
              "#9c179e"
             ],
             [
              0.4444444444444444,
              "#bd3786"
             ],
             [
              0.5555555555555556,
              "#d8576b"
             ],
             [
              0.6666666666666666,
              "#ed7953"
             ],
             [
              0.7777777777777778,
              "#fb9f3a"
             ],
             [
              0.8888888888888888,
              "#fdca26"
             ],
             [
              1,
              "#f0f921"
             ]
            ],
            "type": "heatmap"
           }
          ],
          "heatmapgl": [
           {
            "colorbar": {
             "outlinewidth": 0,
             "ticks": ""
            },
            "colorscale": [
             [
              0,
              "#0d0887"
             ],
             [
              0.1111111111111111,
              "#46039f"
             ],
             [
              0.2222222222222222,
              "#7201a8"
             ],
             [
              0.3333333333333333,
              "#9c179e"
             ],
             [
              0.4444444444444444,
              "#bd3786"
             ],
             [
              0.5555555555555556,
              "#d8576b"
             ],
             [
              0.6666666666666666,
              "#ed7953"
             ],
             [
              0.7777777777777778,
              "#fb9f3a"
             ],
             [
              0.8888888888888888,
              "#fdca26"
             ],
             [
              1,
              "#f0f921"
             ]
            ],
            "type": "heatmapgl"
           }
          ],
          "histogram": [
           {
            "marker": {
             "pattern": {
              "fillmode": "overlay",
              "size": 10,
              "solidity": 0.2
             }
            },
            "type": "histogram"
           }
          ],
          "histogram2d": [
           {
            "colorbar": {
             "outlinewidth": 0,
             "ticks": ""
            },
            "colorscale": [
             [
              0,
              "#0d0887"
             ],
             [
              0.1111111111111111,
              "#46039f"
             ],
             [
              0.2222222222222222,
              "#7201a8"
             ],
             [
              0.3333333333333333,
              "#9c179e"
             ],
             [
              0.4444444444444444,
              "#bd3786"
             ],
             [
              0.5555555555555556,
              "#d8576b"
             ],
             [
              0.6666666666666666,
              "#ed7953"
             ],
             [
              0.7777777777777778,
              "#fb9f3a"
             ],
             [
              0.8888888888888888,
              "#fdca26"
             ],
             [
              1,
              "#f0f921"
             ]
            ],
            "type": "histogram2d"
           }
          ],
          "histogram2dcontour": [
           {
            "colorbar": {
             "outlinewidth": 0,
             "ticks": ""
            },
            "colorscale": [
             [
              0,
              "#0d0887"
             ],
             [
              0.1111111111111111,
              "#46039f"
             ],
             [
              0.2222222222222222,
              "#7201a8"
             ],
             [
              0.3333333333333333,
              "#9c179e"
             ],
             [
              0.4444444444444444,
              "#bd3786"
             ],
             [
              0.5555555555555556,
              "#d8576b"
             ],
             [
              0.6666666666666666,
              "#ed7953"
             ],
             [
              0.7777777777777778,
              "#fb9f3a"
             ],
             [
              0.8888888888888888,
              "#fdca26"
             ],
             [
              1,
              "#f0f921"
             ]
            ],
            "type": "histogram2dcontour"
           }
          ],
          "mesh3d": [
           {
            "colorbar": {
             "outlinewidth": 0,
             "ticks": ""
            },
            "type": "mesh3d"
           }
          ],
          "parcoords": [
           {
            "line": {
             "colorbar": {
              "outlinewidth": 0,
              "ticks": ""
             }
            },
            "type": "parcoords"
           }
          ],
          "pie": [
           {
            "automargin": true,
            "type": "pie"
           }
          ],
          "scatter": [
           {
            "marker": {
             "line": {
              "color": "#283442"
             }
            },
            "type": "scatter"
           }
          ],
          "scatter3d": [
           {
            "line": {
             "colorbar": {
              "outlinewidth": 0,
              "ticks": ""
             }
            },
            "marker": {
             "colorbar": {
              "outlinewidth": 0,
              "ticks": ""
             }
            },
            "type": "scatter3d"
           }
          ],
          "scattercarpet": [
           {
            "marker": {
             "colorbar": {
              "outlinewidth": 0,
              "ticks": ""
             }
            },
            "type": "scattercarpet"
           }
          ],
          "scattergeo": [
           {
            "marker": {
             "colorbar": {
              "outlinewidth": 0,
              "ticks": ""
             }
            },
            "type": "scattergeo"
           }
          ],
          "scattergl": [
           {
            "marker": {
             "line": {
              "color": "#283442"
             }
            },
            "type": "scattergl"
           }
          ],
          "scattermapbox": [
           {
            "marker": {
             "colorbar": {
              "outlinewidth": 0,
              "ticks": ""
             }
            },
            "type": "scattermapbox"
           }
          ],
          "scatterpolar": [
           {
            "marker": {
             "colorbar": {
              "outlinewidth": 0,
              "ticks": ""
             }
            },
            "type": "scatterpolar"
           }
          ],
          "scatterpolargl": [
           {
            "marker": {
             "colorbar": {
              "outlinewidth": 0,
              "ticks": ""
             }
            },
            "type": "scatterpolargl"
           }
          ],
          "scatterternary": [
           {
            "marker": {
             "colorbar": {
              "outlinewidth": 0,
              "ticks": ""
             }
            },
            "type": "scatterternary"
           }
          ],
          "surface": [
           {
            "colorbar": {
             "outlinewidth": 0,
             "ticks": ""
            },
            "colorscale": [
             [
              0,
              "#0d0887"
             ],
             [
              0.1111111111111111,
              "#46039f"
             ],
             [
              0.2222222222222222,
              "#7201a8"
             ],
             [
              0.3333333333333333,
              "#9c179e"
             ],
             [
              0.4444444444444444,
              "#bd3786"
             ],
             [
              0.5555555555555556,
              "#d8576b"
             ],
             [
              0.6666666666666666,
              "#ed7953"
             ],
             [
              0.7777777777777778,
              "#fb9f3a"
             ],
             [
              0.8888888888888888,
              "#fdca26"
             ],
             [
              1,
              "#f0f921"
             ]
            ],
            "type": "surface"
           }
          ],
          "table": [
           {
            "cells": {
             "fill": {
              "color": "#506784"
             },
             "line": {
              "color": "rgb(17,17,17)"
             }
            },
            "header": {
             "fill": {
              "color": "#2a3f5f"
             },
             "line": {
              "color": "rgb(17,17,17)"
             }
            },
            "type": "table"
           }
          ]
         },
         "layout": {
          "annotationdefaults": {
           "arrowcolor": "#f2f5fa",
           "arrowhead": 0,
           "arrowwidth": 1
          },
          "autotypenumbers": "strict",
          "coloraxis": {
           "colorbar": {
            "outlinewidth": 0,
            "ticks": ""
           }
          },
          "colorscale": {
           "diverging": [
            [
             0,
             "#8e0152"
            ],
            [
             0.1,
             "#c51b7d"
            ],
            [
             0.2,
             "#de77ae"
            ],
            [
             0.3,
             "#f1b6da"
            ],
            [
             0.4,
             "#fde0ef"
            ],
            [
             0.5,
             "#f7f7f7"
            ],
            [
             0.6,
             "#e6f5d0"
            ],
            [
             0.7,
             "#b8e186"
            ],
            [
             0.8,
             "#7fbc41"
            ],
            [
             0.9,
             "#4d9221"
            ],
            [
             1,
             "#276419"
            ]
           ],
           "sequential": [
            [
             0,
             "#0d0887"
            ],
            [
             0.1111111111111111,
             "#46039f"
            ],
            [
             0.2222222222222222,
             "#7201a8"
            ],
            [
             0.3333333333333333,
             "#9c179e"
            ],
            [
             0.4444444444444444,
             "#bd3786"
            ],
            [
             0.5555555555555556,
             "#d8576b"
            ],
            [
             0.6666666666666666,
             "#ed7953"
            ],
            [
             0.7777777777777778,
             "#fb9f3a"
            ],
            [
             0.8888888888888888,
             "#fdca26"
            ],
            [
             1,
             "#f0f921"
            ]
           ],
           "sequentialminus": [
            [
             0,
             "#0d0887"
            ],
            [
             0.1111111111111111,
             "#46039f"
            ],
            [
             0.2222222222222222,
             "#7201a8"
            ],
            [
             0.3333333333333333,
             "#9c179e"
            ],
            [
             0.4444444444444444,
             "#bd3786"
            ],
            [
             0.5555555555555556,
             "#d8576b"
            ],
            [
             0.6666666666666666,
             "#ed7953"
            ],
            [
             0.7777777777777778,
             "#fb9f3a"
            ],
            [
             0.8888888888888888,
             "#fdca26"
            ],
            [
             1,
             "#f0f921"
            ]
           ]
          },
          "colorway": [
           "#636efa",
           "#EF553B",
           "#00cc96",
           "#ab63fa",
           "#FFA15A",
           "#19d3f3",
           "#FF6692",
           "#B6E880",
           "#FF97FF",
           "#FECB52"
          ],
          "font": {
           "color": "#f2f5fa"
          },
          "geo": {
           "bgcolor": "rgb(17,17,17)",
           "lakecolor": "rgb(17,17,17)",
           "landcolor": "rgb(17,17,17)",
           "showlakes": true,
           "showland": true,
           "subunitcolor": "#506784"
          },
          "hoverlabel": {
           "align": "left"
          },
          "hovermode": "closest",
          "mapbox": {
           "style": "dark"
          },
          "paper_bgcolor": "rgb(17,17,17)",
          "plot_bgcolor": "rgb(17,17,17)",
          "polar": {
           "angularaxis": {
            "gridcolor": "#506784",
            "linecolor": "#506784",
            "ticks": ""
           },
           "bgcolor": "rgb(17,17,17)",
           "radialaxis": {
            "gridcolor": "#506784",
            "linecolor": "#506784",
            "ticks": ""
           }
          },
          "scene": {
           "xaxis": {
            "backgroundcolor": "rgb(17,17,17)",
            "gridcolor": "#506784",
            "gridwidth": 2,
            "linecolor": "#506784",
            "showbackground": true,
            "ticks": "",
            "zerolinecolor": "#C8D4E3"
           },
           "yaxis": {
            "backgroundcolor": "rgb(17,17,17)",
            "gridcolor": "#506784",
            "gridwidth": 2,
            "linecolor": "#506784",
            "showbackground": true,
            "ticks": "",
            "zerolinecolor": "#C8D4E3"
           },
           "zaxis": {
            "backgroundcolor": "rgb(17,17,17)",
            "gridcolor": "#506784",
            "gridwidth": 2,
            "linecolor": "#506784",
            "showbackground": true,
            "ticks": "",
            "zerolinecolor": "#C8D4E3"
           }
          },
          "shapedefaults": {
           "line": {
            "color": "#f2f5fa"
           }
          },
          "sliderdefaults": {
           "bgcolor": "#C8D4E3",
           "bordercolor": "rgb(17,17,17)",
           "borderwidth": 1,
           "tickwidth": 0
          },
          "ternary": {
           "aaxis": {
            "gridcolor": "#506784",
            "linecolor": "#506784",
            "ticks": ""
           },
           "baxis": {
            "gridcolor": "#506784",
            "linecolor": "#506784",
            "ticks": ""
           },
           "bgcolor": "rgb(17,17,17)",
           "caxis": {
            "gridcolor": "#506784",
            "linecolor": "#506784",
            "ticks": ""
           }
          },
          "title": {
           "x": 0.05
          },
          "updatemenudefaults": {
           "bgcolor": "#506784",
           "borderwidth": 0
          },
          "xaxis": {
           "automargin": true,
           "gridcolor": "#283442",
           "linecolor": "#506784",
           "ticks": "",
           "title": {
            "standoff": 15
           },
           "zerolinecolor": "#283442",
           "zerolinewidth": 2
          },
          "yaxis": {
           "automargin": true,
           "gridcolor": "#283442",
           "linecolor": "#506784",
           "ticks": "",
           "title": {
            "standoff": 15
           },
           "zerolinecolor": "#283442",
           "zerolinewidth": 2
          }
         }
        },
        "title": {
         "text": "Distribution of Main Roles"
        },
        "xaxis": {
         "anchor": "y",
         "domain": [
          0,
          1
         ],
         "title": {
          "text": "Main Role"
         }
        },
        "yaxis": {
         "anchor": "x",
         "domain": [
          0,
          1
         ],
         "title": {
          "text": "count"
         }
        }
       }
      }
     },
     "metadata": {},
     "output_type": "display_data"
    }
   ],
   "source": [
    "# plot the distribution of main_role\n",
    "# Create a bar plot of the fine-grained role counts\n",
    "fig = px.bar(df, \n",
    "             x='main_role', \n",
    "             title='Distribution of Main Roles',\n",
    "             labels={'main_role': 'Main Role'},\n",
    "             template='plotly_dark'\n",
    "             )  # Optional: Dark theme\n",
    "\n",
    "# Show the plot\n",
    "fig.show()"
   ]
  },
  {
   "cell_type": "code",
   "execution_count": 39,
   "metadata": {
    "execution": {
     "iopub.execute_input": "2024-12-10T02:21:15.021315Z",
     "iopub.status.busy": "2024-12-10T02:21:15.020603Z",
     "iopub.status.idle": "2024-12-10T02:21:15.026104Z",
     "shell.execute_reply": "2024-12-10T02:21:15.025075Z",
     "shell.execute_reply.started": "2024-12-10T02:21:15.021279Z"
    },
    "trusted": true
   },
   "outputs": [],
   "source": [
    "unique_roles = set()\n",
    "\n",
    "for roles in df['fine_grained_roles']:\n",
    "    unique_roles.update(roles)\n",
    "\n",
    "# change unique_roles to list\n",
    "unique_roles = list(unique_roles)"
   ]
  },
  {
   "cell_type": "code",
   "execution_count": 40,
   "metadata": {
    "execution": {
     "iopub.execute_input": "2024-12-10T02:21:15.580969Z",
     "iopub.status.busy": "2024-12-10T02:21:15.580591Z",
     "iopub.status.idle": "2024-12-10T02:21:15.635259Z",
     "shell.execute_reply": "2024-12-10T02:21:15.634470Z",
     "shell.execute_reply.started": "2024-12-10T02:21:15.580935Z"
    },
    "trusted": true
   },
   "outputs": [
    {
     "data": {
      "application/vnd.plotly.v1+json": {
       "config": {
        "plotlyServerURL": "https://plot.ly"
       },
       "data": [
        {
         "alignmentgroup": "True",
         "hovertemplate": "Fine-Grained Role=%{x}<br>Occurrences=%{marker.color}<extra></extra>",
         "legendgroup": "",
         "marker": {
          "color": [
           79,
           70,
           66,
           63,
           60,
           60,
           53,
           47,
           46,
           28,
           24,
           23,
           22,
           20,
           18,
           15,
           14,
           14,
           10,
           9,
           3,
           2
          ],
          "coloraxis": "coloraxis",
          "pattern": {
           "shape": ""
          }
         },
         "name": "",
         "offsetgroup": "",
         "orientation": "v",
         "showlegend": false,
         "textposition": "auto",
         "type": "bar",
         "x": [
          "Conspirator",
          "Instigator",
          "Deceiver",
          "Corrupt",
          "Incompetent",
          "Victim",
          "Tyrant",
          "Guardian",
          "Foreign Adversary",
          "Terrorist",
          "Saboteur",
          "Virtuous",
          "Rebel",
          "Bigot",
          "Peacemaker",
          "Underdog",
          "Traitor",
          "Martyr",
          "Exploited",
          "Scapegoat",
          "Spy",
          "Forgotten"
         ],
         "xaxis": "x",
         "y": [
          79,
          70,
          66,
          63,
          60,
          60,
          53,
          47,
          46,
          28,
          24,
          23,
          22,
          20,
          18,
          15,
          14,
          14,
          10,
          9,
          3,
          2
         ],
         "yaxis": "y"
        }
       ],
       "layout": {
        "barmode": "relative",
        "coloraxis": {
         "colorbar": {
          "title": {
           "text": "Occurrences"
          }
         },
         "colorscale": [
          [
           0,
           "#0d0887"
          ],
          [
           0.1111111111111111,
           "#46039f"
          ],
          [
           0.2222222222222222,
           "#7201a8"
          ],
          [
           0.3333333333333333,
           "#9c179e"
          ],
          [
           0.4444444444444444,
           "#bd3786"
          ],
          [
           0.5555555555555556,
           "#d8576b"
          ],
          [
           0.6666666666666666,
           "#ed7953"
          ],
          [
           0.7777777777777778,
           "#fb9f3a"
          ],
          [
           0.8888888888888888,
           "#fdca26"
          ],
          [
           1,
           "#f0f921"
          ]
         ]
        },
        "legend": {
         "tracegroupgap": 0
        },
        "template": {
         "data": {
          "bar": [
           {
            "error_x": {
             "color": "#f2f5fa"
            },
            "error_y": {
             "color": "#f2f5fa"
            },
            "marker": {
             "line": {
              "color": "rgb(17,17,17)",
              "width": 0.5
             },
             "pattern": {
              "fillmode": "overlay",
              "size": 10,
              "solidity": 0.2
             }
            },
            "type": "bar"
           }
          ],
          "barpolar": [
           {
            "marker": {
             "line": {
              "color": "rgb(17,17,17)",
              "width": 0.5
             },
             "pattern": {
              "fillmode": "overlay",
              "size": 10,
              "solidity": 0.2
             }
            },
            "type": "barpolar"
           }
          ],
          "carpet": [
           {
            "aaxis": {
             "endlinecolor": "#A2B1C6",
             "gridcolor": "#506784",
             "linecolor": "#506784",
             "minorgridcolor": "#506784",
             "startlinecolor": "#A2B1C6"
            },
            "baxis": {
             "endlinecolor": "#A2B1C6",
             "gridcolor": "#506784",
             "linecolor": "#506784",
             "minorgridcolor": "#506784",
             "startlinecolor": "#A2B1C6"
            },
            "type": "carpet"
           }
          ],
          "choropleth": [
           {
            "colorbar": {
             "outlinewidth": 0,
             "ticks": ""
            },
            "type": "choropleth"
           }
          ],
          "contour": [
           {
            "colorbar": {
             "outlinewidth": 0,
             "ticks": ""
            },
            "colorscale": [
             [
              0,
              "#0d0887"
             ],
             [
              0.1111111111111111,
              "#46039f"
             ],
             [
              0.2222222222222222,
              "#7201a8"
             ],
             [
              0.3333333333333333,
              "#9c179e"
             ],
             [
              0.4444444444444444,
              "#bd3786"
             ],
             [
              0.5555555555555556,
              "#d8576b"
             ],
             [
              0.6666666666666666,
              "#ed7953"
             ],
             [
              0.7777777777777778,
              "#fb9f3a"
             ],
             [
              0.8888888888888888,
              "#fdca26"
             ],
             [
              1,
              "#f0f921"
             ]
            ],
            "type": "contour"
           }
          ],
          "contourcarpet": [
           {
            "colorbar": {
             "outlinewidth": 0,
             "ticks": ""
            },
            "type": "contourcarpet"
           }
          ],
          "heatmap": [
           {
            "colorbar": {
             "outlinewidth": 0,
             "ticks": ""
            },
            "colorscale": [
             [
              0,
              "#0d0887"
             ],
             [
              0.1111111111111111,
              "#46039f"
             ],
             [
              0.2222222222222222,
              "#7201a8"
             ],
             [
              0.3333333333333333,
              "#9c179e"
             ],
             [
              0.4444444444444444,
              "#bd3786"
             ],
             [
              0.5555555555555556,
              "#d8576b"
             ],
             [
              0.6666666666666666,
              "#ed7953"
             ],
             [
              0.7777777777777778,
              "#fb9f3a"
             ],
             [
              0.8888888888888888,
              "#fdca26"
             ],
             [
              1,
              "#f0f921"
             ]
            ],
            "type": "heatmap"
           }
          ],
          "heatmapgl": [
           {
            "colorbar": {
             "outlinewidth": 0,
             "ticks": ""
            },
            "colorscale": [
             [
              0,
              "#0d0887"
             ],
             [
              0.1111111111111111,
              "#46039f"
             ],
             [
              0.2222222222222222,
              "#7201a8"
             ],
             [
              0.3333333333333333,
              "#9c179e"
             ],
             [
              0.4444444444444444,
              "#bd3786"
             ],
             [
              0.5555555555555556,
              "#d8576b"
             ],
             [
              0.6666666666666666,
              "#ed7953"
             ],
             [
              0.7777777777777778,
              "#fb9f3a"
             ],
             [
              0.8888888888888888,
              "#fdca26"
             ],
             [
              1,
              "#f0f921"
             ]
            ],
            "type": "heatmapgl"
           }
          ],
          "histogram": [
           {
            "marker": {
             "pattern": {
              "fillmode": "overlay",
              "size": 10,
              "solidity": 0.2
             }
            },
            "type": "histogram"
           }
          ],
          "histogram2d": [
           {
            "colorbar": {
             "outlinewidth": 0,
             "ticks": ""
            },
            "colorscale": [
             [
              0,
              "#0d0887"
             ],
             [
              0.1111111111111111,
              "#46039f"
             ],
             [
              0.2222222222222222,
              "#7201a8"
             ],
             [
              0.3333333333333333,
              "#9c179e"
             ],
             [
              0.4444444444444444,
              "#bd3786"
             ],
             [
              0.5555555555555556,
              "#d8576b"
             ],
             [
              0.6666666666666666,
              "#ed7953"
             ],
             [
              0.7777777777777778,
              "#fb9f3a"
             ],
             [
              0.8888888888888888,
              "#fdca26"
             ],
             [
              1,
              "#f0f921"
             ]
            ],
            "type": "histogram2d"
           }
          ],
          "histogram2dcontour": [
           {
            "colorbar": {
             "outlinewidth": 0,
             "ticks": ""
            },
            "colorscale": [
             [
              0,
              "#0d0887"
             ],
             [
              0.1111111111111111,
              "#46039f"
             ],
             [
              0.2222222222222222,
              "#7201a8"
             ],
             [
              0.3333333333333333,
              "#9c179e"
             ],
             [
              0.4444444444444444,
              "#bd3786"
             ],
             [
              0.5555555555555556,
              "#d8576b"
             ],
             [
              0.6666666666666666,
              "#ed7953"
             ],
             [
              0.7777777777777778,
              "#fb9f3a"
             ],
             [
              0.8888888888888888,
              "#fdca26"
             ],
             [
              1,
              "#f0f921"
             ]
            ],
            "type": "histogram2dcontour"
           }
          ],
          "mesh3d": [
           {
            "colorbar": {
             "outlinewidth": 0,
             "ticks": ""
            },
            "type": "mesh3d"
           }
          ],
          "parcoords": [
           {
            "line": {
             "colorbar": {
              "outlinewidth": 0,
              "ticks": ""
             }
            },
            "type": "parcoords"
           }
          ],
          "pie": [
           {
            "automargin": true,
            "type": "pie"
           }
          ],
          "scatter": [
           {
            "marker": {
             "line": {
              "color": "#283442"
             }
            },
            "type": "scatter"
           }
          ],
          "scatter3d": [
           {
            "line": {
             "colorbar": {
              "outlinewidth": 0,
              "ticks": ""
             }
            },
            "marker": {
             "colorbar": {
              "outlinewidth": 0,
              "ticks": ""
             }
            },
            "type": "scatter3d"
           }
          ],
          "scattercarpet": [
           {
            "marker": {
             "colorbar": {
              "outlinewidth": 0,
              "ticks": ""
             }
            },
            "type": "scattercarpet"
           }
          ],
          "scattergeo": [
           {
            "marker": {
             "colorbar": {
              "outlinewidth": 0,
              "ticks": ""
             }
            },
            "type": "scattergeo"
           }
          ],
          "scattergl": [
           {
            "marker": {
             "line": {
              "color": "#283442"
             }
            },
            "type": "scattergl"
           }
          ],
          "scattermapbox": [
           {
            "marker": {
             "colorbar": {
              "outlinewidth": 0,
              "ticks": ""
             }
            },
            "type": "scattermapbox"
           }
          ],
          "scatterpolar": [
           {
            "marker": {
             "colorbar": {
              "outlinewidth": 0,
              "ticks": ""
             }
            },
            "type": "scatterpolar"
           }
          ],
          "scatterpolargl": [
           {
            "marker": {
             "colorbar": {
              "outlinewidth": 0,
              "ticks": ""
             }
            },
            "type": "scatterpolargl"
           }
          ],
          "scatterternary": [
           {
            "marker": {
             "colorbar": {
              "outlinewidth": 0,
              "ticks": ""
             }
            },
            "type": "scatterternary"
           }
          ],
          "surface": [
           {
            "colorbar": {
             "outlinewidth": 0,
             "ticks": ""
            },
            "colorscale": [
             [
              0,
              "#0d0887"
             ],
             [
              0.1111111111111111,
              "#46039f"
             ],
             [
              0.2222222222222222,
              "#7201a8"
             ],
             [
              0.3333333333333333,
              "#9c179e"
             ],
             [
              0.4444444444444444,
              "#bd3786"
             ],
             [
              0.5555555555555556,
              "#d8576b"
             ],
             [
              0.6666666666666666,
              "#ed7953"
             ],
             [
              0.7777777777777778,
              "#fb9f3a"
             ],
             [
              0.8888888888888888,
              "#fdca26"
             ],
             [
              1,
              "#f0f921"
             ]
            ],
            "type": "surface"
           }
          ],
          "table": [
           {
            "cells": {
             "fill": {
              "color": "#506784"
             },
             "line": {
              "color": "rgb(17,17,17)"
             }
            },
            "header": {
             "fill": {
              "color": "#2a3f5f"
             },
             "line": {
              "color": "rgb(17,17,17)"
             }
            },
            "type": "table"
           }
          ]
         },
         "layout": {
          "annotationdefaults": {
           "arrowcolor": "#f2f5fa",
           "arrowhead": 0,
           "arrowwidth": 1
          },
          "autotypenumbers": "strict",
          "coloraxis": {
           "colorbar": {
            "outlinewidth": 0,
            "ticks": ""
           }
          },
          "colorscale": {
           "diverging": [
            [
             0,
             "#8e0152"
            ],
            [
             0.1,
             "#c51b7d"
            ],
            [
             0.2,
             "#de77ae"
            ],
            [
             0.3,
             "#f1b6da"
            ],
            [
             0.4,
             "#fde0ef"
            ],
            [
             0.5,
             "#f7f7f7"
            ],
            [
             0.6,
             "#e6f5d0"
            ],
            [
             0.7,
             "#b8e186"
            ],
            [
             0.8,
             "#7fbc41"
            ],
            [
             0.9,
             "#4d9221"
            ],
            [
             1,
             "#276419"
            ]
           ],
           "sequential": [
            [
             0,
             "#0d0887"
            ],
            [
             0.1111111111111111,
             "#46039f"
            ],
            [
             0.2222222222222222,
             "#7201a8"
            ],
            [
             0.3333333333333333,
             "#9c179e"
            ],
            [
             0.4444444444444444,
             "#bd3786"
            ],
            [
             0.5555555555555556,
             "#d8576b"
            ],
            [
             0.6666666666666666,
             "#ed7953"
            ],
            [
             0.7777777777777778,
             "#fb9f3a"
            ],
            [
             0.8888888888888888,
             "#fdca26"
            ],
            [
             1,
             "#f0f921"
            ]
           ],
           "sequentialminus": [
            [
             0,
             "#0d0887"
            ],
            [
             0.1111111111111111,
             "#46039f"
            ],
            [
             0.2222222222222222,
             "#7201a8"
            ],
            [
             0.3333333333333333,
             "#9c179e"
            ],
            [
             0.4444444444444444,
             "#bd3786"
            ],
            [
             0.5555555555555556,
             "#d8576b"
            ],
            [
             0.6666666666666666,
             "#ed7953"
            ],
            [
             0.7777777777777778,
             "#fb9f3a"
            ],
            [
             0.8888888888888888,
             "#fdca26"
            ],
            [
             1,
             "#f0f921"
            ]
           ]
          },
          "colorway": [
           "#636efa",
           "#EF553B",
           "#00cc96",
           "#ab63fa",
           "#FFA15A",
           "#19d3f3",
           "#FF6692",
           "#B6E880",
           "#FF97FF",
           "#FECB52"
          ],
          "font": {
           "color": "#f2f5fa"
          },
          "geo": {
           "bgcolor": "rgb(17,17,17)",
           "lakecolor": "rgb(17,17,17)",
           "landcolor": "rgb(17,17,17)",
           "showlakes": true,
           "showland": true,
           "subunitcolor": "#506784"
          },
          "hoverlabel": {
           "align": "left"
          },
          "hovermode": "closest",
          "mapbox": {
           "style": "dark"
          },
          "paper_bgcolor": "rgb(17,17,17)",
          "plot_bgcolor": "rgb(17,17,17)",
          "polar": {
           "angularaxis": {
            "gridcolor": "#506784",
            "linecolor": "#506784",
            "ticks": ""
           },
           "bgcolor": "rgb(17,17,17)",
           "radialaxis": {
            "gridcolor": "#506784",
            "linecolor": "#506784",
            "ticks": ""
           }
          },
          "scene": {
           "xaxis": {
            "backgroundcolor": "rgb(17,17,17)",
            "gridcolor": "#506784",
            "gridwidth": 2,
            "linecolor": "#506784",
            "showbackground": true,
            "ticks": "",
            "zerolinecolor": "#C8D4E3"
           },
           "yaxis": {
            "backgroundcolor": "rgb(17,17,17)",
            "gridcolor": "#506784",
            "gridwidth": 2,
            "linecolor": "#506784",
            "showbackground": true,
            "ticks": "",
            "zerolinecolor": "#C8D4E3"
           },
           "zaxis": {
            "backgroundcolor": "rgb(17,17,17)",
            "gridcolor": "#506784",
            "gridwidth": 2,
            "linecolor": "#506784",
            "showbackground": true,
            "ticks": "",
            "zerolinecolor": "#C8D4E3"
           }
          },
          "shapedefaults": {
           "line": {
            "color": "#f2f5fa"
           }
          },
          "sliderdefaults": {
           "bgcolor": "#C8D4E3",
           "bordercolor": "rgb(17,17,17)",
           "borderwidth": 1,
           "tickwidth": 0
          },
          "ternary": {
           "aaxis": {
            "gridcolor": "#506784",
            "linecolor": "#506784",
            "ticks": ""
           },
           "baxis": {
            "gridcolor": "#506784",
            "linecolor": "#506784",
            "ticks": ""
           },
           "bgcolor": "rgb(17,17,17)",
           "caxis": {
            "gridcolor": "#506784",
            "linecolor": "#506784",
            "ticks": ""
           }
          },
          "title": {
           "x": 0.05
          },
          "updatemenudefaults": {
           "bgcolor": "#506784",
           "borderwidth": 0
          },
          "xaxis": {
           "automargin": true,
           "gridcolor": "#283442",
           "linecolor": "#506784",
           "ticks": "",
           "title": {
            "standoff": 15
           },
           "zerolinecolor": "#283442",
           "zerolinewidth": 2
          },
          "yaxis": {
           "automargin": true,
           "gridcolor": "#283442",
           "linecolor": "#506784",
           "ticks": "",
           "title": {
            "standoff": 15
           },
           "zerolinecolor": "#283442",
           "zerolinewidth": 2
          }
         }
        },
        "title": {
         "text": "Distribution of Fine-Grained Roles"
        },
        "xaxis": {
         "anchor": "y",
         "domain": [
          0,
          1
         ],
         "title": {
          "text": "Fine-Grained Role"
         }
        },
        "yaxis": {
         "anchor": "x",
         "domain": [
          0,
          1
         ],
         "title": {
          "text": "Occurrences"
         }
        }
       }
      }
     },
     "metadata": {},
     "output_type": "display_data"
    }
   ],
   "source": [
    "# Fine-grained roles column has roles stored as a list. plot the distribution of fine-grained roles\n",
    "# Create a list to store the count of each fine-grained role\n",
    "fine_grained_role_counts = []\n",
    "unique_roles\n",
    "# Iterate over each fine-grained role\n",
    "for role in unique_roles:\n",
    "    # Count the number of occurrences of the role in the fine_grained_roles column\n",
    "    count = df[role].sum()\n",
    "    fine_grained_role_counts.append((role, count))\n",
    "\n",
    "# Create a DataFrame from the list of role counts\n",
    "fine_grained_role_counts_df = pd.DataFrame(fine_grained_role_counts, columns=['Role', 'Count'])\n",
    "\n",
    "# Sort the DataFrame by the count of roles in descending order\n",
    "fine_grained_role_counts_df = fine_grained_role_counts_df.sort_values(by='Count', ascending=False)\n",
    "\n",
    "# Create a bar plot of the fine-grained role counts\n",
    "fig = px.bar(fine_grained_role_counts_df, \n",
    "             x='Role', \n",
    "             y='Count', \n",
    "             title='Distribution of Fine-Grained Roles',\n",
    "             labels={'Role': 'Fine-Grained Role', 'Count': 'Occurrences'},\n",
    "             color='Count',  # Optional: Adds color to the bars based on frequency\n",
    "             template='plotly_dark')  # Optional: Dark theme\n",
    "\n",
    "# Show the plot\n",
    "fig.show()"
   ]
  },
  {
   "cell_type": "markdown",
   "metadata": {},
   "source": [
    "### Train-Test Split"
   ]
  },
  {
   "cell_type": "code",
   "execution_count": 41,
   "metadata": {
    "execution": {
     "iopub.execute_input": "2024-12-10T02:21:16.773818Z",
     "iopub.status.busy": "2024-12-10T02:21:16.772994Z",
     "iopub.status.idle": "2024-12-10T02:21:16.782192Z",
     "shell.execute_reply": "2024-12-10T02:21:16.781340Z",
     "shell.execute_reply.started": "2024-12-10T02:21:16.773769Z"
    },
    "trusted": true
   },
   "outputs": [],
   "source": [
    "df_train, df_val = train_test_split(df, test_size=0.1, random_state=42, stratify=df['main_role'])"
   ]
  },
  {
   "cell_type": "code",
   "execution_count": 42,
   "metadata": {
    "execution": {
     "iopub.execute_input": "2024-12-10T02:21:17.425033Z",
     "iopub.status.busy": "2024-12-10T02:21:17.424227Z",
     "iopub.status.idle": "2024-12-10T02:21:17.429033Z",
     "shell.execute_reply": "2024-12-10T02:21:17.428138Z",
     "shell.execute_reply.started": "2024-12-10T02:21:17.424998Z"
    },
    "trusted": true
   },
   "outputs": [],
   "source": [
    "df_train.reset_index(drop=True, inplace=True)\n",
    "df_val.reset_index(drop=True, inplace=True)"
   ]
  },
  {
   "cell_type": "code",
   "execution_count": 43,
   "metadata": {
    "execution": {
     "iopub.execute_input": "2024-12-10T02:21:17.972917Z",
     "iopub.status.busy": "2024-12-10T02:21:17.972109Z",
     "iopub.status.idle": "2024-12-10T02:21:17.978760Z",
     "shell.execute_reply": "2024-12-10T02:21:17.977836Z",
     "shell.execute_reply.started": "2024-12-10T02:21:17.972878Z"
    },
    "trusted": true
   },
   "outputs": [
    {
     "data": {
      "text/plain": [
       "((617, 29), (69, 29), (91, 5))"
      ]
     },
     "execution_count": 43,
     "metadata": {},
     "output_type": "execute_result"
    }
   ],
   "source": [
    "df_train.shape, df_val.shape, df_test.shape"
   ]
  },
  {
   "cell_type": "code",
   "execution_count": 44,
   "metadata": {
    "execution": {
     "iopub.execute_input": "2024-12-10T02:21:19.170587Z",
     "iopub.status.busy": "2024-12-10T02:21:19.169662Z",
     "iopub.status.idle": "2024-12-10T02:21:19.215143Z",
     "shell.execute_reply": "2024-12-10T02:21:19.214303Z",
     "shell.execute_reply.started": "2024-12-10T02:21:19.170550Z"
    },
    "trusted": true
   },
   "outputs": [
    {
     "data": {
      "application/vnd.plotly.v1+json": {
       "config": {
        "plotlyServerURL": "https://plot.ly"
       },
       "data": [
        {
         "alignmentgroup": "True",
         "hovertemplate": "Main Role=%{x}<br>count=%{y}<extra></extra>",
         "legendgroup": "",
         "marker": {
          "color": "#636efa",
          "pattern": {
           "shape": ""
          }
         },
         "name": "",
         "offsetgroup": "",
         "orientation": "v",
         "showlegend": false,
         "textposition": "auto",
         "type": "bar",
         "x": [
          "Antagonist",
          "Innocent",
          "Antagonist",
          "Antagonist",
          "Protagonist",
          "Antagonist",
          "Antagonist",
          "Protagonist",
          "Antagonist",
          "Innocent",
          "Antagonist",
          "Antagonist",
          "Antagonist",
          "Protagonist",
          "Protagonist",
          "Innocent",
          "Antagonist",
          "Protagonist",
          "Innocent",
          "Antagonist",
          "Antagonist",
          "Antagonist",
          "Antagonist",
          "Protagonist",
          "Protagonist",
          "Protagonist",
          "Antagonist",
          "Antagonist",
          "Innocent",
          "Antagonist",
          "Antagonist",
          "Antagonist",
          "Antagonist",
          "Innocent",
          "Antagonist",
          "Protagonist",
          "Antagonist",
          "Antagonist",
          "Antagonist",
          "Innocent",
          "Protagonist",
          "Antagonist",
          "Innocent",
          "Antagonist",
          "Antagonist",
          "Antagonist",
          "Antagonist",
          "Protagonist",
          "Antagonist",
          "Antagonist",
          "Antagonist",
          "Protagonist",
          "Antagonist",
          "Antagonist",
          "Protagonist",
          "Antagonist",
          "Antagonist",
          "Protagonist",
          "Antagonist",
          "Antagonist",
          "Antagonist",
          "Antagonist",
          "Antagonist",
          "Antagonist",
          "Protagonist",
          "Antagonist",
          "Antagonist",
          "Protagonist",
          "Antagonist",
          "Antagonist",
          "Antagonist",
          "Protagonist",
          "Protagonist",
          "Protagonist",
          "Antagonist",
          "Antagonist",
          "Antagonist",
          "Antagonist",
          "Antagonist",
          "Antagonist",
          "Antagonist",
          "Antagonist",
          "Antagonist",
          "Protagonist",
          "Innocent",
          "Antagonist",
          "Protagonist",
          "Antagonist",
          "Protagonist",
          "Antagonist",
          "Antagonist",
          "Antagonist",
          "Antagonist",
          "Antagonist",
          "Antagonist",
          "Antagonist",
          "Antagonist",
          "Antagonist",
          "Antagonist",
          "Innocent",
          "Antagonist",
          "Antagonist",
          "Antagonist",
          "Antagonist",
          "Antagonist",
          "Antagonist",
          "Protagonist",
          "Antagonist",
          "Antagonist",
          "Antagonist",
          "Antagonist",
          "Antagonist",
          "Antagonist",
          "Antagonist",
          "Antagonist",
          "Antagonist",
          "Antagonist",
          "Protagonist",
          "Antagonist",
          "Antagonist",
          "Antagonist",
          "Antagonist",
          "Antagonist",
          "Antagonist",
          "Protagonist",
          "Innocent",
          "Protagonist",
          "Antagonist",
          "Antagonist",
          "Antagonist",
          "Antagonist",
          "Antagonist",
          "Antagonist",
          "Antagonist",
          "Antagonist",
          "Antagonist",
          "Antagonist",
          "Antagonist",
          "Antagonist",
          "Antagonist",
          "Innocent",
          "Innocent",
          "Protagonist",
          "Protagonist",
          "Antagonist",
          "Antagonist",
          "Antagonist",
          "Antagonist",
          "Innocent",
          "Protagonist",
          "Protagonist",
          "Antagonist",
          "Antagonist",
          "Antagonist",
          "Protagonist",
          "Antagonist",
          "Antagonist",
          "Antagonist",
          "Antagonist",
          "Antagonist",
          "Antagonist",
          "Antagonist",
          "Antagonist",
          "Innocent",
          "Antagonist",
          "Protagonist",
          "Antagonist",
          "Antagonist",
          "Protagonist",
          "Antagonist",
          "Innocent",
          "Antagonist",
          "Innocent",
          "Protagonist",
          "Antagonist",
          "Protagonist",
          "Antagonist",
          "Antagonist",
          "Antagonist",
          "Antagonist",
          "Antagonist",
          "Antagonist",
          "Antagonist",
          "Antagonist",
          "Protagonist",
          "Protagonist",
          "Innocent",
          "Innocent",
          "Innocent",
          "Innocent",
          "Antagonist",
          "Antagonist",
          "Antagonist",
          "Antagonist",
          "Antagonist",
          "Protagonist",
          "Innocent",
          "Antagonist",
          "Antagonist",
          "Antagonist",
          "Antagonist",
          "Innocent",
          "Antagonist",
          "Antagonist",
          "Antagonist",
          "Antagonist",
          "Protagonist",
          "Protagonist",
          "Innocent",
          "Antagonist",
          "Antagonist",
          "Antagonist",
          "Protagonist",
          "Protagonist",
          "Antagonist",
          "Antagonist",
          "Antagonist",
          "Antagonist",
          "Innocent",
          "Antagonist",
          "Antagonist",
          "Antagonist",
          "Innocent",
          "Antagonist",
          "Antagonist",
          "Protagonist",
          "Antagonist",
          "Innocent",
          "Antagonist",
          "Antagonist",
          "Innocent",
          "Antagonist",
          "Antagonist",
          "Antagonist",
          "Antagonist",
          "Protagonist",
          "Innocent",
          "Antagonist",
          "Antagonist",
          "Antagonist",
          "Antagonist",
          "Antagonist",
          "Protagonist",
          "Antagonist",
          "Innocent",
          "Antagonist",
          "Antagonist",
          "Antagonist",
          "Antagonist",
          "Antagonist",
          "Antagonist",
          "Protagonist",
          "Antagonist",
          "Antagonist",
          "Antagonist",
          "Antagonist",
          "Antagonist",
          "Antagonist",
          "Antagonist",
          "Protagonist",
          "Antagonist",
          "Antagonist",
          "Antagonist",
          "Antagonist",
          "Innocent",
          "Antagonist",
          "Protagonist",
          "Protagonist",
          "Protagonist",
          "Antagonist",
          "Antagonist",
          "Protagonist",
          "Antagonist",
          "Antagonist",
          "Antagonist",
          "Antagonist",
          "Antagonist",
          "Antagonist",
          "Antagonist",
          "Antagonist",
          "Innocent",
          "Antagonist",
          "Antagonist",
          "Antagonist",
          "Antagonist",
          "Antagonist",
          "Antagonist",
          "Protagonist",
          "Antagonist",
          "Antagonist",
          "Antagonist",
          "Antagonist",
          "Protagonist",
          "Antagonist",
          "Antagonist",
          "Antagonist",
          "Antagonist",
          "Antagonist",
          "Protagonist",
          "Antagonist",
          "Antagonist",
          "Antagonist",
          "Antagonist",
          "Antagonist",
          "Protagonist",
          "Antagonist",
          "Protagonist",
          "Protagonist",
          "Antagonist",
          "Protagonist",
          "Antagonist",
          "Antagonist",
          "Antagonist",
          "Antagonist",
          "Protagonist",
          "Protagonist",
          "Protagonist",
          "Antagonist",
          "Innocent",
          "Antagonist",
          "Antagonist",
          "Antagonist",
          "Antagonist",
          "Antagonist",
          "Innocent",
          "Protagonist",
          "Antagonist",
          "Protagonist",
          "Antagonist",
          "Antagonist",
          "Antagonist",
          "Antagonist",
          "Protagonist",
          "Antagonist",
          "Innocent",
          "Protagonist",
          "Antagonist",
          "Antagonist",
          "Antagonist",
          "Antagonist",
          "Antagonist",
          "Antagonist",
          "Antagonist",
          "Antagonist",
          "Antagonist",
          "Antagonist",
          "Antagonist",
          "Antagonist",
          "Antagonist",
          "Innocent",
          "Antagonist",
          "Antagonist",
          "Antagonist",
          "Innocent",
          "Antagonist",
          "Antagonist",
          "Antagonist",
          "Antagonist",
          "Innocent",
          "Antagonist",
          "Antagonist",
          "Protagonist",
          "Antagonist",
          "Antagonist",
          "Antagonist",
          "Innocent",
          "Antagonist",
          "Antagonist",
          "Antagonist",
          "Antagonist",
          "Protagonist",
          "Protagonist",
          "Antagonist",
          "Antagonist",
          "Antagonist",
          "Innocent",
          "Antagonist",
          "Antagonist",
          "Antagonist",
          "Protagonist",
          "Antagonist",
          "Innocent",
          "Antagonist",
          "Antagonist",
          "Protagonist",
          "Antagonist",
          "Antagonist",
          "Protagonist",
          "Antagonist",
          "Antagonist",
          "Protagonist",
          "Antagonist",
          "Antagonist",
          "Protagonist",
          "Antagonist",
          "Antagonist",
          "Antagonist",
          "Protagonist",
          "Antagonist",
          "Antagonist",
          "Antagonist",
          "Antagonist",
          "Antagonist",
          "Antagonist",
          "Innocent",
          "Antagonist",
          "Antagonist",
          "Antagonist",
          "Innocent",
          "Antagonist",
          "Antagonist",
          "Innocent",
          "Antagonist",
          "Antagonist",
          "Protagonist",
          "Protagonist",
          "Antagonist",
          "Antagonist",
          "Antagonist",
          "Innocent",
          "Antagonist",
          "Antagonist",
          "Innocent",
          "Innocent",
          "Antagonist",
          "Protagonist",
          "Protagonist",
          "Antagonist",
          "Protagonist",
          "Antagonist",
          "Antagonist",
          "Innocent",
          "Antagonist",
          "Antagonist",
          "Antagonist",
          "Antagonist",
          "Innocent",
          "Antagonist",
          "Antagonist",
          "Antagonist",
          "Antagonist",
          "Antagonist",
          "Protagonist",
          "Antagonist",
          "Antagonist",
          "Antagonist",
          "Innocent",
          "Protagonist",
          "Antagonist",
          "Antagonist",
          "Antagonist",
          "Antagonist",
          "Protagonist",
          "Innocent",
          "Protagonist",
          "Antagonist",
          "Antagonist",
          "Protagonist",
          "Antagonist",
          "Protagonist",
          "Protagonist",
          "Antagonist",
          "Protagonist",
          "Antagonist",
          "Antagonist",
          "Antagonist",
          "Antagonist",
          "Innocent",
          "Protagonist",
          "Antagonist",
          "Antagonist",
          "Protagonist",
          "Protagonist",
          "Antagonist",
          "Innocent",
          "Antagonist",
          "Antagonist",
          "Antagonist",
          "Protagonist",
          "Antagonist",
          "Antagonist",
          "Antagonist",
          "Protagonist",
          "Innocent",
          "Antagonist",
          "Antagonist",
          "Protagonist",
          "Antagonist",
          "Protagonist",
          "Innocent",
          "Protagonist",
          "Antagonist",
          "Antagonist",
          "Antagonist",
          "Protagonist",
          "Antagonist",
          "Antagonist",
          "Innocent",
          "Antagonist",
          "Antagonist",
          "Antagonist",
          "Antagonist",
          "Antagonist",
          "Protagonist",
          "Antagonist",
          "Antagonist",
          "Protagonist",
          "Antagonist",
          "Innocent",
          "Antagonist",
          "Protagonist",
          "Antagonist",
          "Protagonist",
          "Protagonist",
          "Antagonist",
          "Antagonist",
          "Antagonist",
          "Antagonist",
          "Antagonist",
          "Protagonist",
          "Innocent",
          "Antagonist",
          "Antagonist",
          "Antagonist",
          "Innocent",
          "Protagonist",
          "Antagonist",
          "Antagonist",
          "Protagonist",
          "Antagonist",
          "Antagonist",
          "Innocent",
          "Antagonist",
          "Antagonist",
          "Antagonist",
          "Antagonist",
          "Antagonist",
          "Antagonist",
          "Antagonist",
          "Antagonist",
          "Antagonist",
          "Antagonist",
          "Antagonist",
          "Innocent",
          "Antagonist",
          "Antagonist",
          "Antagonist",
          "Antagonist",
          "Protagonist",
          "Antagonist",
          "Innocent",
          "Innocent",
          "Innocent",
          "Antagonist",
          "Antagonist",
          "Innocent",
          "Antagonist",
          "Antagonist",
          "Protagonist",
          "Antagonist",
          "Innocent",
          "Antagonist",
          "Innocent",
          "Innocent",
          "Protagonist",
          "Antagonist",
          "Antagonist",
          "Protagonist",
          "Antagonist",
          "Antagonist",
          "Protagonist",
          "Antagonist",
          "Antagonist",
          "Antagonist",
          "Antagonist",
          "Antagonist",
          "Antagonist",
          "Antagonist",
          "Antagonist",
          "Antagonist",
          "Antagonist",
          "Antagonist",
          "Antagonist",
          "Antagonist",
          "Antagonist",
          "Innocent",
          "Antagonist",
          "Antagonist",
          "Antagonist",
          "Protagonist",
          "Protagonist",
          "Innocent",
          "Antagonist",
          "Antagonist",
          "Protagonist",
          "Antagonist",
          "Protagonist",
          "Antagonist",
          "Antagonist",
          "Antagonist",
          "Antagonist",
          "Antagonist",
          "Antagonist",
          "Protagonist",
          "Antagonist",
          "Antagonist",
          "Antagonist",
          "Antagonist",
          "Innocent",
          "Antagonist",
          "Protagonist",
          "Antagonist",
          "Protagonist",
          "Antagonist",
          "Antagonist",
          "Protagonist",
          "Antagonist"
         ],
         "xaxis": "x",
         "y": [
          1,
          1,
          1,
          1,
          1,
          1,
          1,
          1,
          1,
          1,
          1,
          1,
          1,
          1,
          1,
          1,
          1,
          1,
          1,
          1,
          1,
          1,
          1,
          1,
          1,
          1,
          1,
          1,
          1,
          1,
          1,
          1,
          1,
          1,
          1,
          1,
          1,
          1,
          1,
          1,
          1,
          1,
          1,
          1,
          1,
          1,
          1,
          1,
          1,
          1,
          1,
          1,
          1,
          1,
          1,
          1,
          1,
          1,
          1,
          1,
          1,
          1,
          1,
          1,
          1,
          1,
          1,
          1,
          1,
          1,
          1,
          1,
          1,
          1,
          1,
          1,
          1,
          1,
          1,
          1,
          1,
          1,
          1,
          1,
          1,
          1,
          1,
          1,
          1,
          1,
          1,
          1,
          1,
          1,
          1,
          1,
          1,
          1,
          1,
          1,
          1,
          1,
          1,
          1,
          1,
          1,
          1,
          1,
          1,
          1,
          1,
          1,
          1,
          1,
          1,
          1,
          1,
          1,
          1,
          1,
          1,
          1,
          1,
          1,
          1,
          1,
          1,
          1,
          1,
          1,
          1,
          1,
          1,
          1,
          1,
          1,
          1,
          1,
          1,
          1,
          1,
          1,
          1,
          1,
          1,
          1,
          1,
          1,
          1,
          1,
          1,
          1,
          1,
          1,
          1,
          1,
          1,
          1,
          1,
          1,
          1,
          1,
          1,
          1,
          1,
          1,
          1,
          1,
          1,
          1,
          1,
          1,
          1,
          1,
          1,
          1,
          1,
          1,
          1,
          1,
          1,
          1,
          1,
          1,
          1,
          1,
          1,
          1,
          1,
          1,
          1,
          1,
          1,
          1,
          1,
          1,
          1,
          1,
          1,
          1,
          1,
          1,
          1,
          1,
          1,
          1,
          1,
          1,
          1,
          1,
          1,
          1,
          1,
          1,
          1,
          1,
          1,
          1,
          1,
          1,
          1,
          1,
          1,
          1,
          1,
          1,
          1,
          1,
          1,
          1,
          1,
          1,
          1,
          1,
          1,
          1,
          1,
          1,
          1,
          1,
          1,
          1,
          1,
          1,
          1,
          1,
          1,
          1,
          1,
          1,
          1,
          1,
          1,
          1,
          1,
          1,
          1,
          1,
          1,
          1,
          1,
          1,
          1,
          1,
          1,
          1,
          1,
          1,
          1,
          1,
          1,
          1,
          1,
          1,
          1,
          1,
          1,
          1,
          1,
          1,
          1,
          1,
          1,
          1,
          1,
          1,
          1,
          1,
          1,
          1,
          1,
          1,
          1,
          1,
          1,
          1,
          1,
          1,
          1,
          1,
          1,
          1,
          1,
          1,
          1,
          1,
          1,
          1,
          1,
          1,
          1,
          1,
          1,
          1,
          1,
          1,
          1,
          1,
          1,
          1,
          1,
          1,
          1,
          1,
          1,
          1,
          1,
          1,
          1,
          1,
          1,
          1,
          1,
          1,
          1,
          1,
          1,
          1,
          1,
          1,
          1,
          1,
          1,
          1,
          1,
          1,
          1,
          1,
          1,
          1,
          1,
          1,
          1,
          1,
          1,
          1,
          1,
          1,
          1,
          1,
          1,
          1,
          1,
          1,
          1,
          1,
          1,
          1,
          1,
          1,
          1,
          1,
          1,
          1,
          1,
          1,
          1,
          1,
          1,
          1,
          1,
          1,
          1,
          1,
          1,
          1,
          1,
          1,
          1,
          1,
          1,
          1,
          1,
          1,
          1,
          1,
          1,
          1,
          1,
          1,
          1,
          1,
          1,
          1,
          1,
          1,
          1,
          1,
          1,
          1,
          1,
          1,
          1,
          1,
          1,
          1,
          1,
          1,
          1,
          1,
          1,
          1,
          1,
          1,
          1,
          1,
          1,
          1,
          1,
          1,
          1,
          1,
          1,
          1,
          1,
          1,
          1,
          1,
          1,
          1,
          1,
          1,
          1,
          1,
          1,
          1,
          1,
          1,
          1,
          1,
          1,
          1,
          1,
          1,
          1,
          1,
          1,
          1,
          1,
          1,
          1,
          1,
          1,
          1,
          1,
          1,
          1,
          1,
          1,
          1,
          1,
          1,
          1,
          1,
          1,
          1,
          1,
          1,
          1,
          1,
          1,
          1,
          1,
          1,
          1,
          1,
          1,
          1,
          1,
          1,
          1,
          1,
          1,
          1,
          1,
          1,
          1,
          1,
          1,
          1,
          1,
          1,
          1,
          1,
          1,
          1,
          1,
          1,
          1,
          1,
          1,
          1,
          1,
          1,
          1,
          1,
          1,
          1,
          1,
          1,
          1,
          1,
          1,
          1,
          1,
          1,
          1,
          1,
          1,
          1,
          1,
          1,
          1,
          1,
          1,
          1,
          1,
          1,
          1,
          1,
          1,
          1,
          1,
          1,
          1,
          1,
          1,
          1,
          1,
          1,
          1,
          1,
          1,
          1,
          1,
          1,
          1,
          1,
          1,
          1,
          1,
          1,
          1,
          1,
          1,
          1,
          1,
          1,
          1,
          1,
          1,
          1,
          1,
          1,
          1,
          1,
          1,
          1,
          1,
          1,
          1,
          1,
          1,
          1,
          1,
          1,
          1,
          1,
          1,
          1,
          1,
          1,
          1,
          1,
          1,
          1,
          1,
          1,
          1,
          1,
          1,
          1,
          1,
          1,
          1,
          1,
          1,
          1,
          1,
          1,
          1,
          1,
          1,
          1,
          1,
          1,
          1
         ],
         "yaxis": "y"
        }
       ],
       "layout": {
        "barmode": "relative",
        "legend": {
         "tracegroupgap": 0
        },
        "template": {
         "data": {
          "bar": [
           {
            "error_x": {
             "color": "#f2f5fa"
            },
            "error_y": {
             "color": "#f2f5fa"
            },
            "marker": {
             "line": {
              "color": "rgb(17,17,17)",
              "width": 0.5
             },
             "pattern": {
              "fillmode": "overlay",
              "size": 10,
              "solidity": 0.2
             }
            },
            "type": "bar"
           }
          ],
          "barpolar": [
           {
            "marker": {
             "line": {
              "color": "rgb(17,17,17)",
              "width": 0.5
             },
             "pattern": {
              "fillmode": "overlay",
              "size": 10,
              "solidity": 0.2
             }
            },
            "type": "barpolar"
           }
          ],
          "carpet": [
           {
            "aaxis": {
             "endlinecolor": "#A2B1C6",
             "gridcolor": "#506784",
             "linecolor": "#506784",
             "minorgridcolor": "#506784",
             "startlinecolor": "#A2B1C6"
            },
            "baxis": {
             "endlinecolor": "#A2B1C6",
             "gridcolor": "#506784",
             "linecolor": "#506784",
             "minorgridcolor": "#506784",
             "startlinecolor": "#A2B1C6"
            },
            "type": "carpet"
           }
          ],
          "choropleth": [
           {
            "colorbar": {
             "outlinewidth": 0,
             "ticks": ""
            },
            "type": "choropleth"
           }
          ],
          "contour": [
           {
            "colorbar": {
             "outlinewidth": 0,
             "ticks": ""
            },
            "colorscale": [
             [
              0,
              "#0d0887"
             ],
             [
              0.1111111111111111,
              "#46039f"
             ],
             [
              0.2222222222222222,
              "#7201a8"
             ],
             [
              0.3333333333333333,
              "#9c179e"
             ],
             [
              0.4444444444444444,
              "#bd3786"
             ],
             [
              0.5555555555555556,
              "#d8576b"
             ],
             [
              0.6666666666666666,
              "#ed7953"
             ],
             [
              0.7777777777777778,
              "#fb9f3a"
             ],
             [
              0.8888888888888888,
              "#fdca26"
             ],
             [
              1,
              "#f0f921"
             ]
            ],
            "type": "contour"
           }
          ],
          "contourcarpet": [
           {
            "colorbar": {
             "outlinewidth": 0,
             "ticks": ""
            },
            "type": "contourcarpet"
           }
          ],
          "heatmap": [
           {
            "colorbar": {
             "outlinewidth": 0,
             "ticks": ""
            },
            "colorscale": [
             [
              0,
              "#0d0887"
             ],
             [
              0.1111111111111111,
              "#46039f"
             ],
             [
              0.2222222222222222,
              "#7201a8"
             ],
             [
              0.3333333333333333,
              "#9c179e"
             ],
             [
              0.4444444444444444,
              "#bd3786"
             ],
             [
              0.5555555555555556,
              "#d8576b"
             ],
             [
              0.6666666666666666,
              "#ed7953"
             ],
             [
              0.7777777777777778,
              "#fb9f3a"
             ],
             [
              0.8888888888888888,
              "#fdca26"
             ],
             [
              1,
              "#f0f921"
             ]
            ],
            "type": "heatmap"
           }
          ],
          "heatmapgl": [
           {
            "colorbar": {
             "outlinewidth": 0,
             "ticks": ""
            },
            "colorscale": [
             [
              0,
              "#0d0887"
             ],
             [
              0.1111111111111111,
              "#46039f"
             ],
             [
              0.2222222222222222,
              "#7201a8"
             ],
             [
              0.3333333333333333,
              "#9c179e"
             ],
             [
              0.4444444444444444,
              "#bd3786"
             ],
             [
              0.5555555555555556,
              "#d8576b"
             ],
             [
              0.6666666666666666,
              "#ed7953"
             ],
             [
              0.7777777777777778,
              "#fb9f3a"
             ],
             [
              0.8888888888888888,
              "#fdca26"
             ],
             [
              1,
              "#f0f921"
             ]
            ],
            "type": "heatmapgl"
           }
          ],
          "histogram": [
           {
            "marker": {
             "pattern": {
              "fillmode": "overlay",
              "size": 10,
              "solidity": 0.2
             }
            },
            "type": "histogram"
           }
          ],
          "histogram2d": [
           {
            "colorbar": {
             "outlinewidth": 0,
             "ticks": ""
            },
            "colorscale": [
             [
              0,
              "#0d0887"
             ],
             [
              0.1111111111111111,
              "#46039f"
             ],
             [
              0.2222222222222222,
              "#7201a8"
             ],
             [
              0.3333333333333333,
              "#9c179e"
             ],
             [
              0.4444444444444444,
              "#bd3786"
             ],
             [
              0.5555555555555556,
              "#d8576b"
             ],
             [
              0.6666666666666666,
              "#ed7953"
             ],
             [
              0.7777777777777778,
              "#fb9f3a"
             ],
             [
              0.8888888888888888,
              "#fdca26"
             ],
             [
              1,
              "#f0f921"
             ]
            ],
            "type": "histogram2d"
           }
          ],
          "histogram2dcontour": [
           {
            "colorbar": {
             "outlinewidth": 0,
             "ticks": ""
            },
            "colorscale": [
             [
              0,
              "#0d0887"
             ],
             [
              0.1111111111111111,
              "#46039f"
             ],
             [
              0.2222222222222222,
              "#7201a8"
             ],
             [
              0.3333333333333333,
              "#9c179e"
             ],
             [
              0.4444444444444444,
              "#bd3786"
             ],
             [
              0.5555555555555556,
              "#d8576b"
             ],
             [
              0.6666666666666666,
              "#ed7953"
             ],
             [
              0.7777777777777778,
              "#fb9f3a"
             ],
             [
              0.8888888888888888,
              "#fdca26"
             ],
             [
              1,
              "#f0f921"
             ]
            ],
            "type": "histogram2dcontour"
           }
          ],
          "mesh3d": [
           {
            "colorbar": {
             "outlinewidth": 0,
             "ticks": ""
            },
            "type": "mesh3d"
           }
          ],
          "parcoords": [
           {
            "line": {
             "colorbar": {
              "outlinewidth": 0,
              "ticks": ""
             }
            },
            "type": "parcoords"
           }
          ],
          "pie": [
           {
            "automargin": true,
            "type": "pie"
           }
          ],
          "scatter": [
           {
            "marker": {
             "line": {
              "color": "#283442"
             }
            },
            "type": "scatter"
           }
          ],
          "scatter3d": [
           {
            "line": {
             "colorbar": {
              "outlinewidth": 0,
              "ticks": ""
             }
            },
            "marker": {
             "colorbar": {
              "outlinewidth": 0,
              "ticks": ""
             }
            },
            "type": "scatter3d"
           }
          ],
          "scattercarpet": [
           {
            "marker": {
             "colorbar": {
              "outlinewidth": 0,
              "ticks": ""
             }
            },
            "type": "scattercarpet"
           }
          ],
          "scattergeo": [
           {
            "marker": {
             "colorbar": {
              "outlinewidth": 0,
              "ticks": ""
             }
            },
            "type": "scattergeo"
           }
          ],
          "scattergl": [
           {
            "marker": {
             "line": {
              "color": "#283442"
             }
            },
            "type": "scattergl"
           }
          ],
          "scattermapbox": [
           {
            "marker": {
             "colorbar": {
              "outlinewidth": 0,
              "ticks": ""
             }
            },
            "type": "scattermapbox"
           }
          ],
          "scatterpolar": [
           {
            "marker": {
             "colorbar": {
              "outlinewidth": 0,
              "ticks": ""
             }
            },
            "type": "scatterpolar"
           }
          ],
          "scatterpolargl": [
           {
            "marker": {
             "colorbar": {
              "outlinewidth": 0,
              "ticks": ""
             }
            },
            "type": "scatterpolargl"
           }
          ],
          "scatterternary": [
           {
            "marker": {
             "colorbar": {
              "outlinewidth": 0,
              "ticks": ""
             }
            },
            "type": "scatterternary"
           }
          ],
          "surface": [
           {
            "colorbar": {
             "outlinewidth": 0,
             "ticks": ""
            },
            "colorscale": [
             [
              0,
              "#0d0887"
             ],
             [
              0.1111111111111111,
              "#46039f"
             ],
             [
              0.2222222222222222,
              "#7201a8"
             ],
             [
              0.3333333333333333,
              "#9c179e"
             ],
             [
              0.4444444444444444,
              "#bd3786"
             ],
             [
              0.5555555555555556,
              "#d8576b"
             ],
             [
              0.6666666666666666,
              "#ed7953"
             ],
             [
              0.7777777777777778,
              "#fb9f3a"
             ],
             [
              0.8888888888888888,
              "#fdca26"
             ],
             [
              1,
              "#f0f921"
             ]
            ],
            "type": "surface"
           }
          ],
          "table": [
           {
            "cells": {
             "fill": {
              "color": "#506784"
             },
             "line": {
              "color": "rgb(17,17,17)"
             }
            },
            "header": {
             "fill": {
              "color": "#2a3f5f"
             },
             "line": {
              "color": "rgb(17,17,17)"
             }
            },
            "type": "table"
           }
          ]
         },
         "layout": {
          "annotationdefaults": {
           "arrowcolor": "#f2f5fa",
           "arrowhead": 0,
           "arrowwidth": 1
          },
          "autotypenumbers": "strict",
          "coloraxis": {
           "colorbar": {
            "outlinewidth": 0,
            "ticks": ""
           }
          },
          "colorscale": {
           "diverging": [
            [
             0,
             "#8e0152"
            ],
            [
             0.1,
             "#c51b7d"
            ],
            [
             0.2,
             "#de77ae"
            ],
            [
             0.3,
             "#f1b6da"
            ],
            [
             0.4,
             "#fde0ef"
            ],
            [
             0.5,
             "#f7f7f7"
            ],
            [
             0.6,
             "#e6f5d0"
            ],
            [
             0.7,
             "#b8e186"
            ],
            [
             0.8,
             "#7fbc41"
            ],
            [
             0.9,
             "#4d9221"
            ],
            [
             1,
             "#276419"
            ]
           ],
           "sequential": [
            [
             0,
             "#0d0887"
            ],
            [
             0.1111111111111111,
             "#46039f"
            ],
            [
             0.2222222222222222,
             "#7201a8"
            ],
            [
             0.3333333333333333,
             "#9c179e"
            ],
            [
             0.4444444444444444,
             "#bd3786"
            ],
            [
             0.5555555555555556,
             "#d8576b"
            ],
            [
             0.6666666666666666,
             "#ed7953"
            ],
            [
             0.7777777777777778,
             "#fb9f3a"
            ],
            [
             0.8888888888888888,
             "#fdca26"
            ],
            [
             1,
             "#f0f921"
            ]
           ],
           "sequentialminus": [
            [
             0,
             "#0d0887"
            ],
            [
             0.1111111111111111,
             "#46039f"
            ],
            [
             0.2222222222222222,
             "#7201a8"
            ],
            [
             0.3333333333333333,
             "#9c179e"
            ],
            [
             0.4444444444444444,
             "#bd3786"
            ],
            [
             0.5555555555555556,
             "#d8576b"
            ],
            [
             0.6666666666666666,
             "#ed7953"
            ],
            [
             0.7777777777777778,
             "#fb9f3a"
            ],
            [
             0.8888888888888888,
             "#fdca26"
            ],
            [
             1,
             "#f0f921"
            ]
           ]
          },
          "colorway": [
           "#636efa",
           "#EF553B",
           "#00cc96",
           "#ab63fa",
           "#FFA15A",
           "#19d3f3",
           "#FF6692",
           "#B6E880",
           "#FF97FF",
           "#FECB52"
          ],
          "font": {
           "color": "#f2f5fa"
          },
          "geo": {
           "bgcolor": "rgb(17,17,17)",
           "lakecolor": "rgb(17,17,17)",
           "landcolor": "rgb(17,17,17)",
           "showlakes": true,
           "showland": true,
           "subunitcolor": "#506784"
          },
          "hoverlabel": {
           "align": "left"
          },
          "hovermode": "closest",
          "mapbox": {
           "style": "dark"
          },
          "paper_bgcolor": "rgb(17,17,17)",
          "plot_bgcolor": "rgb(17,17,17)",
          "polar": {
           "angularaxis": {
            "gridcolor": "#506784",
            "linecolor": "#506784",
            "ticks": ""
           },
           "bgcolor": "rgb(17,17,17)",
           "radialaxis": {
            "gridcolor": "#506784",
            "linecolor": "#506784",
            "ticks": ""
           }
          },
          "scene": {
           "xaxis": {
            "backgroundcolor": "rgb(17,17,17)",
            "gridcolor": "#506784",
            "gridwidth": 2,
            "linecolor": "#506784",
            "showbackground": true,
            "ticks": "",
            "zerolinecolor": "#C8D4E3"
           },
           "yaxis": {
            "backgroundcolor": "rgb(17,17,17)",
            "gridcolor": "#506784",
            "gridwidth": 2,
            "linecolor": "#506784",
            "showbackground": true,
            "ticks": "",
            "zerolinecolor": "#C8D4E3"
           },
           "zaxis": {
            "backgroundcolor": "rgb(17,17,17)",
            "gridcolor": "#506784",
            "gridwidth": 2,
            "linecolor": "#506784",
            "showbackground": true,
            "ticks": "",
            "zerolinecolor": "#C8D4E3"
           }
          },
          "shapedefaults": {
           "line": {
            "color": "#f2f5fa"
           }
          },
          "sliderdefaults": {
           "bgcolor": "#C8D4E3",
           "bordercolor": "rgb(17,17,17)",
           "borderwidth": 1,
           "tickwidth": 0
          },
          "ternary": {
           "aaxis": {
            "gridcolor": "#506784",
            "linecolor": "#506784",
            "ticks": ""
           },
           "baxis": {
            "gridcolor": "#506784",
            "linecolor": "#506784",
            "ticks": ""
           },
           "bgcolor": "rgb(17,17,17)",
           "caxis": {
            "gridcolor": "#506784",
            "linecolor": "#506784",
            "ticks": ""
           }
          },
          "title": {
           "x": 0.05
          },
          "updatemenudefaults": {
           "bgcolor": "#506784",
           "borderwidth": 0
          },
          "xaxis": {
           "automargin": true,
           "gridcolor": "#283442",
           "linecolor": "#506784",
           "ticks": "",
           "title": {
            "standoff": 15
           },
           "zerolinecolor": "#283442",
           "zerolinewidth": 2
          },
          "yaxis": {
           "automargin": true,
           "gridcolor": "#283442",
           "linecolor": "#506784",
           "ticks": "",
           "title": {
            "standoff": 15
           },
           "zerolinecolor": "#283442",
           "zerolinewidth": 2
          }
         }
        },
        "title": {
         "text": "Distribution of Main Roles in Train"
        },
        "xaxis": {
         "anchor": "y",
         "domain": [
          0,
          1
         ],
         "title": {
          "text": "Main Role"
         }
        },
        "yaxis": {
         "anchor": "x",
         "domain": [
          0,
          1
         ],
         "title": {
          "text": "count"
         }
        }
       }
      }
     },
     "metadata": {},
     "output_type": "display_data"
    }
   ],
   "source": [
    "# plot the distribution of main_role\n",
    "# Create a bar plot of the fine-grained role counts\n",
    "fig = px.bar(df_train, \n",
    "             x='main_role', \n",
    "             title='Distribution of Main Roles in Train',\n",
    "             labels={'main_role': 'Main Role'},\n",
    "             template='plotly_dark')  # Optional: Dark theme\n",
    "\n",
    "# Show the plot\n",
    "fig.show()"
   ]
  },
  {
   "cell_type": "code",
   "execution_count": 45,
   "metadata": {
    "execution": {
     "iopub.execute_input": "2024-12-10T02:21:20.202588Z",
     "iopub.status.busy": "2024-12-10T02:21:20.201944Z",
     "iopub.status.idle": "2024-12-10T02:21:20.244467Z",
     "shell.execute_reply": "2024-12-10T02:21:20.243449Z",
     "shell.execute_reply.started": "2024-12-10T02:21:20.202555Z"
    },
    "trusted": true
   },
   "outputs": [
    {
     "data": {
      "application/vnd.plotly.v1+json": {
       "config": {
        "plotlyServerURL": "https://plot.ly"
       },
       "data": [
        {
         "alignmentgroup": "True",
         "hovertemplate": "Main Role=%{x}<br>count=%{y}<extra></extra>",
         "legendgroup": "",
         "marker": {
          "color": "#636efa",
          "pattern": {
           "shape": ""
          }
         },
         "name": "",
         "offsetgroup": "",
         "orientation": "v",
         "showlegend": false,
         "textposition": "auto",
         "type": "bar",
         "x": [
          "Protagonist",
          "Antagonist",
          "Protagonist",
          "Antagonist",
          "Antagonist",
          "Antagonist",
          "Protagonist",
          "Antagonist",
          "Antagonist",
          "Antagonist",
          "Protagonist",
          "Antagonist",
          "Antagonist",
          "Innocent",
          "Protagonist",
          "Antagonist",
          "Innocent",
          "Protagonist",
          "Antagonist",
          "Antagonist",
          "Innocent",
          "Antagonist",
          "Antagonist",
          "Antagonist",
          "Antagonist",
          "Protagonist",
          "Antagonist",
          "Antagonist",
          "Antagonist",
          "Innocent",
          "Protagonist",
          "Antagonist",
          "Antagonist",
          "Antagonist",
          "Innocent",
          "Antagonist",
          "Antagonist",
          "Innocent",
          "Protagonist",
          "Innocent",
          "Antagonist",
          "Antagonist",
          "Protagonist",
          "Innocent",
          "Antagonist",
          "Protagonist",
          "Antagonist",
          "Antagonist",
          "Antagonist",
          "Antagonist",
          "Antagonist",
          "Antagonist",
          "Antagonist",
          "Antagonist",
          "Antagonist",
          "Antagonist",
          "Antagonist",
          "Antagonist",
          "Antagonist",
          "Protagonist",
          "Antagonist",
          "Antagonist",
          "Antagonist",
          "Antagonist",
          "Antagonist",
          "Antagonist",
          "Protagonist",
          "Antagonist",
          "Antagonist"
         ],
         "xaxis": "x",
         "y": [
          1,
          1,
          1,
          1,
          1,
          1,
          1,
          1,
          1,
          1,
          1,
          1,
          1,
          1,
          1,
          1,
          1,
          1,
          1,
          1,
          1,
          1,
          1,
          1,
          1,
          1,
          1,
          1,
          1,
          1,
          1,
          1,
          1,
          1,
          1,
          1,
          1,
          1,
          1,
          1,
          1,
          1,
          1,
          1,
          1,
          1,
          1,
          1,
          1,
          1,
          1,
          1,
          1,
          1,
          1,
          1,
          1,
          1,
          1,
          1,
          1,
          1,
          1,
          1,
          1,
          1,
          1,
          1,
          1
         ],
         "yaxis": "y"
        }
       ],
       "layout": {
        "barmode": "relative",
        "legend": {
         "tracegroupgap": 0
        },
        "template": {
         "data": {
          "bar": [
           {
            "error_x": {
             "color": "#f2f5fa"
            },
            "error_y": {
             "color": "#f2f5fa"
            },
            "marker": {
             "line": {
              "color": "rgb(17,17,17)",
              "width": 0.5
             },
             "pattern": {
              "fillmode": "overlay",
              "size": 10,
              "solidity": 0.2
             }
            },
            "type": "bar"
           }
          ],
          "barpolar": [
           {
            "marker": {
             "line": {
              "color": "rgb(17,17,17)",
              "width": 0.5
             },
             "pattern": {
              "fillmode": "overlay",
              "size": 10,
              "solidity": 0.2
             }
            },
            "type": "barpolar"
           }
          ],
          "carpet": [
           {
            "aaxis": {
             "endlinecolor": "#A2B1C6",
             "gridcolor": "#506784",
             "linecolor": "#506784",
             "minorgridcolor": "#506784",
             "startlinecolor": "#A2B1C6"
            },
            "baxis": {
             "endlinecolor": "#A2B1C6",
             "gridcolor": "#506784",
             "linecolor": "#506784",
             "minorgridcolor": "#506784",
             "startlinecolor": "#A2B1C6"
            },
            "type": "carpet"
           }
          ],
          "choropleth": [
           {
            "colorbar": {
             "outlinewidth": 0,
             "ticks": ""
            },
            "type": "choropleth"
           }
          ],
          "contour": [
           {
            "colorbar": {
             "outlinewidth": 0,
             "ticks": ""
            },
            "colorscale": [
             [
              0,
              "#0d0887"
             ],
             [
              0.1111111111111111,
              "#46039f"
             ],
             [
              0.2222222222222222,
              "#7201a8"
             ],
             [
              0.3333333333333333,
              "#9c179e"
             ],
             [
              0.4444444444444444,
              "#bd3786"
             ],
             [
              0.5555555555555556,
              "#d8576b"
             ],
             [
              0.6666666666666666,
              "#ed7953"
             ],
             [
              0.7777777777777778,
              "#fb9f3a"
             ],
             [
              0.8888888888888888,
              "#fdca26"
             ],
             [
              1,
              "#f0f921"
             ]
            ],
            "type": "contour"
           }
          ],
          "contourcarpet": [
           {
            "colorbar": {
             "outlinewidth": 0,
             "ticks": ""
            },
            "type": "contourcarpet"
           }
          ],
          "heatmap": [
           {
            "colorbar": {
             "outlinewidth": 0,
             "ticks": ""
            },
            "colorscale": [
             [
              0,
              "#0d0887"
             ],
             [
              0.1111111111111111,
              "#46039f"
             ],
             [
              0.2222222222222222,
              "#7201a8"
             ],
             [
              0.3333333333333333,
              "#9c179e"
             ],
             [
              0.4444444444444444,
              "#bd3786"
             ],
             [
              0.5555555555555556,
              "#d8576b"
             ],
             [
              0.6666666666666666,
              "#ed7953"
             ],
             [
              0.7777777777777778,
              "#fb9f3a"
             ],
             [
              0.8888888888888888,
              "#fdca26"
             ],
             [
              1,
              "#f0f921"
             ]
            ],
            "type": "heatmap"
           }
          ],
          "heatmapgl": [
           {
            "colorbar": {
             "outlinewidth": 0,
             "ticks": ""
            },
            "colorscale": [
             [
              0,
              "#0d0887"
             ],
             [
              0.1111111111111111,
              "#46039f"
             ],
             [
              0.2222222222222222,
              "#7201a8"
             ],
             [
              0.3333333333333333,
              "#9c179e"
             ],
             [
              0.4444444444444444,
              "#bd3786"
             ],
             [
              0.5555555555555556,
              "#d8576b"
             ],
             [
              0.6666666666666666,
              "#ed7953"
             ],
             [
              0.7777777777777778,
              "#fb9f3a"
             ],
             [
              0.8888888888888888,
              "#fdca26"
             ],
             [
              1,
              "#f0f921"
             ]
            ],
            "type": "heatmapgl"
           }
          ],
          "histogram": [
           {
            "marker": {
             "pattern": {
              "fillmode": "overlay",
              "size": 10,
              "solidity": 0.2
             }
            },
            "type": "histogram"
           }
          ],
          "histogram2d": [
           {
            "colorbar": {
             "outlinewidth": 0,
             "ticks": ""
            },
            "colorscale": [
             [
              0,
              "#0d0887"
             ],
             [
              0.1111111111111111,
              "#46039f"
             ],
             [
              0.2222222222222222,
              "#7201a8"
             ],
             [
              0.3333333333333333,
              "#9c179e"
             ],
             [
              0.4444444444444444,
              "#bd3786"
             ],
             [
              0.5555555555555556,
              "#d8576b"
             ],
             [
              0.6666666666666666,
              "#ed7953"
             ],
             [
              0.7777777777777778,
              "#fb9f3a"
             ],
             [
              0.8888888888888888,
              "#fdca26"
             ],
             [
              1,
              "#f0f921"
             ]
            ],
            "type": "histogram2d"
           }
          ],
          "histogram2dcontour": [
           {
            "colorbar": {
             "outlinewidth": 0,
             "ticks": ""
            },
            "colorscale": [
             [
              0,
              "#0d0887"
             ],
             [
              0.1111111111111111,
              "#46039f"
             ],
             [
              0.2222222222222222,
              "#7201a8"
             ],
             [
              0.3333333333333333,
              "#9c179e"
             ],
             [
              0.4444444444444444,
              "#bd3786"
             ],
             [
              0.5555555555555556,
              "#d8576b"
             ],
             [
              0.6666666666666666,
              "#ed7953"
             ],
             [
              0.7777777777777778,
              "#fb9f3a"
             ],
             [
              0.8888888888888888,
              "#fdca26"
             ],
             [
              1,
              "#f0f921"
             ]
            ],
            "type": "histogram2dcontour"
           }
          ],
          "mesh3d": [
           {
            "colorbar": {
             "outlinewidth": 0,
             "ticks": ""
            },
            "type": "mesh3d"
           }
          ],
          "parcoords": [
           {
            "line": {
             "colorbar": {
              "outlinewidth": 0,
              "ticks": ""
             }
            },
            "type": "parcoords"
           }
          ],
          "pie": [
           {
            "automargin": true,
            "type": "pie"
           }
          ],
          "scatter": [
           {
            "marker": {
             "line": {
              "color": "#283442"
             }
            },
            "type": "scatter"
           }
          ],
          "scatter3d": [
           {
            "line": {
             "colorbar": {
              "outlinewidth": 0,
              "ticks": ""
             }
            },
            "marker": {
             "colorbar": {
              "outlinewidth": 0,
              "ticks": ""
             }
            },
            "type": "scatter3d"
           }
          ],
          "scattercarpet": [
           {
            "marker": {
             "colorbar": {
              "outlinewidth": 0,
              "ticks": ""
             }
            },
            "type": "scattercarpet"
           }
          ],
          "scattergeo": [
           {
            "marker": {
             "colorbar": {
              "outlinewidth": 0,
              "ticks": ""
             }
            },
            "type": "scattergeo"
           }
          ],
          "scattergl": [
           {
            "marker": {
             "line": {
              "color": "#283442"
             }
            },
            "type": "scattergl"
           }
          ],
          "scattermapbox": [
           {
            "marker": {
             "colorbar": {
              "outlinewidth": 0,
              "ticks": ""
             }
            },
            "type": "scattermapbox"
           }
          ],
          "scatterpolar": [
           {
            "marker": {
             "colorbar": {
              "outlinewidth": 0,
              "ticks": ""
             }
            },
            "type": "scatterpolar"
           }
          ],
          "scatterpolargl": [
           {
            "marker": {
             "colorbar": {
              "outlinewidth": 0,
              "ticks": ""
             }
            },
            "type": "scatterpolargl"
           }
          ],
          "scatterternary": [
           {
            "marker": {
             "colorbar": {
              "outlinewidth": 0,
              "ticks": ""
             }
            },
            "type": "scatterternary"
           }
          ],
          "surface": [
           {
            "colorbar": {
             "outlinewidth": 0,
             "ticks": ""
            },
            "colorscale": [
             [
              0,
              "#0d0887"
             ],
             [
              0.1111111111111111,
              "#46039f"
             ],
             [
              0.2222222222222222,
              "#7201a8"
             ],
             [
              0.3333333333333333,
              "#9c179e"
             ],
             [
              0.4444444444444444,
              "#bd3786"
             ],
             [
              0.5555555555555556,
              "#d8576b"
             ],
             [
              0.6666666666666666,
              "#ed7953"
             ],
             [
              0.7777777777777778,
              "#fb9f3a"
             ],
             [
              0.8888888888888888,
              "#fdca26"
             ],
             [
              1,
              "#f0f921"
             ]
            ],
            "type": "surface"
           }
          ],
          "table": [
           {
            "cells": {
             "fill": {
              "color": "#506784"
             },
             "line": {
              "color": "rgb(17,17,17)"
             }
            },
            "header": {
             "fill": {
              "color": "#2a3f5f"
             },
             "line": {
              "color": "rgb(17,17,17)"
             }
            },
            "type": "table"
           }
          ]
         },
         "layout": {
          "annotationdefaults": {
           "arrowcolor": "#f2f5fa",
           "arrowhead": 0,
           "arrowwidth": 1
          },
          "autotypenumbers": "strict",
          "coloraxis": {
           "colorbar": {
            "outlinewidth": 0,
            "ticks": ""
           }
          },
          "colorscale": {
           "diverging": [
            [
             0,
             "#8e0152"
            ],
            [
             0.1,
             "#c51b7d"
            ],
            [
             0.2,
             "#de77ae"
            ],
            [
             0.3,
             "#f1b6da"
            ],
            [
             0.4,
             "#fde0ef"
            ],
            [
             0.5,
             "#f7f7f7"
            ],
            [
             0.6,
             "#e6f5d0"
            ],
            [
             0.7,
             "#b8e186"
            ],
            [
             0.8,
             "#7fbc41"
            ],
            [
             0.9,
             "#4d9221"
            ],
            [
             1,
             "#276419"
            ]
           ],
           "sequential": [
            [
             0,
             "#0d0887"
            ],
            [
             0.1111111111111111,
             "#46039f"
            ],
            [
             0.2222222222222222,
             "#7201a8"
            ],
            [
             0.3333333333333333,
             "#9c179e"
            ],
            [
             0.4444444444444444,
             "#bd3786"
            ],
            [
             0.5555555555555556,
             "#d8576b"
            ],
            [
             0.6666666666666666,
             "#ed7953"
            ],
            [
             0.7777777777777778,
             "#fb9f3a"
            ],
            [
             0.8888888888888888,
             "#fdca26"
            ],
            [
             1,
             "#f0f921"
            ]
           ],
           "sequentialminus": [
            [
             0,
             "#0d0887"
            ],
            [
             0.1111111111111111,
             "#46039f"
            ],
            [
             0.2222222222222222,
             "#7201a8"
            ],
            [
             0.3333333333333333,
             "#9c179e"
            ],
            [
             0.4444444444444444,
             "#bd3786"
            ],
            [
             0.5555555555555556,
             "#d8576b"
            ],
            [
             0.6666666666666666,
             "#ed7953"
            ],
            [
             0.7777777777777778,
             "#fb9f3a"
            ],
            [
             0.8888888888888888,
             "#fdca26"
            ],
            [
             1,
             "#f0f921"
            ]
           ]
          },
          "colorway": [
           "#636efa",
           "#EF553B",
           "#00cc96",
           "#ab63fa",
           "#FFA15A",
           "#19d3f3",
           "#FF6692",
           "#B6E880",
           "#FF97FF",
           "#FECB52"
          ],
          "font": {
           "color": "#f2f5fa"
          },
          "geo": {
           "bgcolor": "rgb(17,17,17)",
           "lakecolor": "rgb(17,17,17)",
           "landcolor": "rgb(17,17,17)",
           "showlakes": true,
           "showland": true,
           "subunitcolor": "#506784"
          },
          "hoverlabel": {
           "align": "left"
          },
          "hovermode": "closest",
          "mapbox": {
           "style": "dark"
          },
          "paper_bgcolor": "rgb(17,17,17)",
          "plot_bgcolor": "rgb(17,17,17)",
          "polar": {
           "angularaxis": {
            "gridcolor": "#506784",
            "linecolor": "#506784",
            "ticks": ""
           },
           "bgcolor": "rgb(17,17,17)",
           "radialaxis": {
            "gridcolor": "#506784",
            "linecolor": "#506784",
            "ticks": ""
           }
          },
          "scene": {
           "xaxis": {
            "backgroundcolor": "rgb(17,17,17)",
            "gridcolor": "#506784",
            "gridwidth": 2,
            "linecolor": "#506784",
            "showbackground": true,
            "ticks": "",
            "zerolinecolor": "#C8D4E3"
           },
           "yaxis": {
            "backgroundcolor": "rgb(17,17,17)",
            "gridcolor": "#506784",
            "gridwidth": 2,
            "linecolor": "#506784",
            "showbackground": true,
            "ticks": "",
            "zerolinecolor": "#C8D4E3"
           },
           "zaxis": {
            "backgroundcolor": "rgb(17,17,17)",
            "gridcolor": "#506784",
            "gridwidth": 2,
            "linecolor": "#506784",
            "showbackground": true,
            "ticks": "",
            "zerolinecolor": "#C8D4E3"
           }
          },
          "shapedefaults": {
           "line": {
            "color": "#f2f5fa"
           }
          },
          "sliderdefaults": {
           "bgcolor": "#C8D4E3",
           "bordercolor": "rgb(17,17,17)",
           "borderwidth": 1,
           "tickwidth": 0
          },
          "ternary": {
           "aaxis": {
            "gridcolor": "#506784",
            "linecolor": "#506784",
            "ticks": ""
           },
           "baxis": {
            "gridcolor": "#506784",
            "linecolor": "#506784",
            "ticks": ""
           },
           "bgcolor": "rgb(17,17,17)",
           "caxis": {
            "gridcolor": "#506784",
            "linecolor": "#506784",
            "ticks": ""
           }
          },
          "title": {
           "x": 0.05
          },
          "updatemenudefaults": {
           "bgcolor": "#506784",
           "borderwidth": 0
          },
          "xaxis": {
           "automargin": true,
           "gridcolor": "#283442",
           "linecolor": "#506784",
           "ticks": "",
           "title": {
            "standoff": 15
           },
           "zerolinecolor": "#283442",
           "zerolinewidth": 2
          },
          "yaxis": {
           "automargin": true,
           "gridcolor": "#283442",
           "linecolor": "#506784",
           "ticks": "",
           "title": {
            "standoff": 15
           },
           "zerolinecolor": "#283442",
           "zerolinewidth": 2
          }
         }
        },
        "title": {
         "text": "Distribution of Main Roles Val"
        },
        "xaxis": {
         "anchor": "y",
         "domain": [
          0,
          1
         ],
         "title": {
          "text": "Main Role"
         }
        },
        "yaxis": {
         "anchor": "x",
         "domain": [
          0,
          1
         ],
         "title": {
          "text": "count"
         }
        }
       }
      }
     },
     "metadata": {},
     "output_type": "display_data"
    }
   ],
   "source": [
    "# plot the distribution of main_role\n",
    "# Create a bar plot of the fine-grained role counts\n",
    "fig = px.bar(df_val, \n",
    "             x='main_role', \n",
    "             title='Distribution of Main Roles Val',\n",
    "             labels={'main_role': 'Main Role'},\n",
    "             template='plotly_dark')  # Optional: Dark theme\n",
    "\n",
    "# Show the plot\n",
    "fig.show()"
   ]
  },
  {
   "cell_type": "code",
   "execution_count": 46,
   "metadata": {
    "execution": {
     "iopub.execute_input": "2024-12-10T02:21:23.562701Z",
     "iopub.status.busy": "2024-12-10T02:21:23.562339Z",
     "iopub.status.idle": "2024-12-10T02:21:23.580267Z",
     "shell.execute_reply": "2024-12-10T02:21:23.579340Z",
     "shell.execute_reply.started": "2024-12-10T02:21:23.562666Z"
    },
    "trusted": true
   },
   "outputs": [
    {
     "data": {
      "text/html": [
       "<div>\n",
       "<style scoped>\n",
       "    .dataframe tbody tr th:only-of-type {\n",
       "        vertical-align: middle;\n",
       "    }\n",
       "\n",
       "    .dataframe tbody tr th {\n",
       "        vertical-align: top;\n",
       "    }\n",
       "\n",
       "    .dataframe thead th {\n",
       "        text-align: right;\n",
       "    }\n",
       "</style>\n",
       "<table border=\"1\" class=\"dataframe\">\n",
       "  <thead>\n",
       "    <tr style=\"text-align: right;\">\n",
       "      <th></th>\n",
       "      <th>article_id</th>\n",
       "      <th>entity_mention</th>\n",
       "      <th>start_offset</th>\n",
       "      <th>end_offset</th>\n",
       "      <th>main_role</th>\n",
       "      <th>fine_grained_roles</th>\n",
       "      <th>Bigot</th>\n",
       "      <th>Conspirator</th>\n",
       "      <th>Corrupt</th>\n",
       "      <th>Deceiver</th>\n",
       "      <th>Exploited</th>\n",
       "      <th>Foreign Adversary</th>\n",
       "      <th>Forgotten</th>\n",
       "      <th>Guardian</th>\n",
       "      <th>Incompetent</th>\n",
       "      <th>Instigator</th>\n",
       "      <th>Martyr</th>\n",
       "      <th>Peacemaker</th>\n",
       "      <th>Rebel</th>\n",
       "      <th>Saboteur</th>\n",
       "      <th>Scapegoat</th>\n",
       "      <th>Spy</th>\n",
       "      <th>Terrorist</th>\n",
       "      <th>Traitor</th>\n",
       "      <th>Tyrant</th>\n",
       "      <th>Underdog</th>\n",
       "      <th>Victim</th>\n",
       "      <th>Virtuous</th>\n",
       "      <th>entity_paragraph</th>\n",
       "    </tr>\n",
       "  </thead>\n",
       "  <tbody>\n",
       "    <tr>\n",
       "      <th>0</th>\n",
       "      <td>EN_UA_300053.txt</td>\n",
       "      <td>Kiev</td>\n",
       "      <td>144</td>\n",
       "      <td>147</td>\n",
       "      <td>Antagonist</td>\n",
       "      <td>[Corrupt]</td>\n",
       "      <td>0</td>\n",
       "      <td>0</td>\n",
       "      <td>1</td>\n",
       "      <td>0</td>\n",
       "      <td>0</td>\n",
       "      <td>0</td>\n",
       "      <td>0</td>\n",
       "      <td>0</td>\n",
       "      <td>0</td>\n",
       "      <td>0</td>\n",
       "      <td>0</td>\n",
       "      <td>0</td>\n",
       "      <td>0</td>\n",
       "      <td>0</td>\n",
       "      <td>0</td>\n",
       "      <td>0</td>\n",
       "      <td>0</td>\n",
       "      <td>0</td>\n",
       "      <td>0</td>\n",
       "      <td>0</td>\n",
       "      <td>0</td>\n",
       "      <td>0</td>\n",
       "      <td>top french politician claimed large part weste...</td>\n",
       "    </tr>\n",
       "    <tr>\n",
       "      <th>1</th>\n",
       "      <td>EN_UA_300040.txt</td>\n",
       "      <td>Ukrainians</td>\n",
       "      <td>1912</td>\n",
       "      <td>1921</td>\n",
       "      <td>Innocent</td>\n",
       "      <td>[Victim]</td>\n",
       "      <td>0</td>\n",
       "      <td>0</td>\n",
       "      <td>0</td>\n",
       "      <td>0</td>\n",
       "      <td>0</td>\n",
       "      <td>0</td>\n",
       "      <td>0</td>\n",
       "      <td>0</td>\n",
       "      <td>0</td>\n",
       "      <td>0</td>\n",
       "      <td>0</td>\n",
       "      <td>0</td>\n",
       "      <td>0</td>\n",
       "      <td>0</td>\n",
       "      <td>0</td>\n",
       "      <td>0</td>\n",
       "      <td>0</td>\n",
       "      <td>0</td>\n",
       "      <td>0</td>\n",
       "      <td>0</td>\n",
       "      <td>1</td>\n",
       "      <td>0</td>\n",
       "      <td>one speeches american voters said want make am...</td>\n",
       "    </tr>\n",
       "    <tr>\n",
       "      <th>2</th>\n",
       "      <td>EN_CC_200022.txt</td>\n",
       "      <td>World Economic Forum</td>\n",
       "      <td>408</td>\n",
       "      <td>427</td>\n",
       "      <td>Antagonist</td>\n",
       "      <td>[Conspirator]</td>\n",
       "      <td>0</td>\n",
       "      <td>1</td>\n",
       "      <td>0</td>\n",
       "      <td>0</td>\n",
       "      <td>0</td>\n",
       "      <td>0</td>\n",
       "      <td>0</td>\n",
       "      <td>0</td>\n",
       "      <td>0</td>\n",
       "      <td>0</td>\n",
       "      <td>0</td>\n",
       "      <td>0</td>\n",
       "      <td>0</td>\n",
       "      <td>0</td>\n",
       "      <td>0</td>\n",
       "      <td>0</td>\n",
       "      <td>0</td>\n",
       "      <td>0</td>\n",
       "      <td>0</td>\n",
       "      <td>0</td>\n",
       "      <td>0</td>\n",
       "      <td>0</td>\n",
       "      <td>demark become first country world introduce ca...</td>\n",
       "    </tr>\n",
       "    <tr>\n",
       "      <th>3</th>\n",
       "      <td>EN_CC_100035.txt</td>\n",
       "      <td>Gates</td>\n",
       "      <td>1634</td>\n",
       "      <td>1638</td>\n",
       "      <td>Antagonist</td>\n",
       "      <td>[Conspirator]</td>\n",
       "      <td>0</td>\n",
       "      <td>1</td>\n",
       "      <td>0</td>\n",
       "      <td>0</td>\n",
       "      <td>0</td>\n",
       "      <td>0</td>\n",
       "      <td>0</td>\n",
       "      <td>0</td>\n",
       "      <td>0</td>\n",
       "      <td>0</td>\n",
       "      <td>0</td>\n",
       "      <td>0</td>\n",
       "      <td>0</td>\n",
       "      <td>0</td>\n",
       "      <td>0</td>\n",
       "      <td>0</td>\n",
       "      <td>0</td>\n",
       "      <td>0</td>\n",
       "      <td>0</td>\n",
       "      <td>0</td>\n",
       "      <td>0</td>\n",
       "      <td>0</td>\n",
       "      <td>livestock earth thousands year according bunch...</td>\n",
       "    </tr>\n",
       "    <tr>\n",
       "      <th>4</th>\n",
       "      <td>EN_UA_300036.txt</td>\n",
       "      <td>The United States</td>\n",
       "      <td>84</td>\n",
       "      <td>100</td>\n",
       "      <td>Protagonist</td>\n",
       "      <td>[Virtuous]</td>\n",
       "      <td>0</td>\n",
       "      <td>0</td>\n",
       "      <td>0</td>\n",
       "      <td>0</td>\n",
       "      <td>0</td>\n",
       "      <td>0</td>\n",
       "      <td>0</td>\n",
       "      <td>0</td>\n",
       "      <td>0</td>\n",
       "      <td>0</td>\n",
       "      <td>0</td>\n",
       "      <td>0</td>\n",
       "      <td>0</td>\n",
       "      <td>0</td>\n",
       "      <td>0</td>\n",
       "      <td>0</td>\n",
       "      <td>0</td>\n",
       "      <td>0</td>\n",
       "      <td>0</td>\n",
       "      <td>0</td>\n",
       "      <td>0</td>\n",
       "      <td>1</td>\n",
       "      <td>united states plans pick slack producing eleme...</td>\n",
       "    </tr>\n",
       "  </tbody>\n",
       "</table>\n",
       "</div>"
      ],
      "text/plain": [
       "         article_id        entity_mention  start_offset  end_offset  \\\n",
       "0  EN_UA_300053.txt                  Kiev           144         147   \n",
       "1  EN_UA_300040.txt            Ukrainians          1912        1921   \n",
       "2  EN_CC_200022.txt  World Economic Forum           408         427   \n",
       "3  EN_CC_100035.txt                 Gates          1634        1638   \n",
       "4  EN_UA_300036.txt     The United States            84         100   \n",
       "\n",
       "     main_role fine_grained_roles  Bigot  Conspirator  Corrupt  Deceiver  \\\n",
       "0   Antagonist          [Corrupt]      0            0        1         0   \n",
       "1     Innocent           [Victim]      0            0        0         0   \n",
       "2   Antagonist      [Conspirator]      0            1        0         0   \n",
       "3   Antagonist      [Conspirator]      0            1        0         0   \n",
       "4  Protagonist         [Virtuous]      0            0        0         0   \n",
       "\n",
       "   Exploited  Foreign Adversary  Forgotten  Guardian  Incompetent  Instigator  \\\n",
       "0          0                  0          0         0            0           0   \n",
       "1          0                  0          0         0            0           0   \n",
       "2          0                  0          0         0            0           0   \n",
       "3          0                  0          0         0            0           0   \n",
       "4          0                  0          0         0            0           0   \n",
       "\n",
       "   Martyr  Peacemaker  Rebel  Saboteur  Scapegoat  Spy  Terrorist  Traitor  \\\n",
       "0       0           0      0         0          0    0          0        0   \n",
       "1       0           0      0         0          0    0          0        0   \n",
       "2       0           0      0         0          0    0          0        0   \n",
       "3       0           0      0         0          0    0          0        0   \n",
       "4       0           0      0         0          0    0          0        0   \n",
       "\n",
       "   Tyrant  Underdog  Victim  Virtuous  \\\n",
       "0       0         0       0         0   \n",
       "1       0         0       1         0   \n",
       "2       0         0       0         0   \n",
       "3       0         0       0         0   \n",
       "4       0         0       0         1   \n",
       "\n",
       "                                    entity_paragraph  \n",
       "0  top french politician claimed large part weste...  \n",
       "1  one speeches american voters said want make am...  \n",
       "2  demark become first country world introduce ca...  \n",
       "3  livestock earth thousands year according bunch...  \n",
       "4  united states plans pick slack producing eleme...  "
      ]
     },
     "execution_count": 46,
     "metadata": {},
     "output_type": "execute_result"
    }
   ],
   "source": [
    "df_train.head()"
   ]
  },
  {
   "cell_type": "code",
   "execution_count": 47,
   "metadata": {
    "execution": {
     "iopub.execute_input": "2024-12-10T02:21:29.375257Z",
     "iopub.status.busy": "2024-12-10T02:21:29.374411Z",
     "iopub.status.idle": "2024-12-10T02:21:29.392892Z",
     "shell.execute_reply": "2024-12-10T02:21:29.391774Z",
     "shell.execute_reply.started": "2024-12-10T02:21:29.375219Z"
    },
    "trusted": true
   },
   "outputs": [
    {
     "data": {
      "text/html": [
       "<div>\n",
       "<style scoped>\n",
       "    .dataframe tbody tr th:only-of-type {\n",
       "        vertical-align: middle;\n",
       "    }\n",
       "\n",
       "    .dataframe tbody tr th {\n",
       "        vertical-align: top;\n",
       "    }\n",
       "\n",
       "    .dataframe thead th {\n",
       "        text-align: right;\n",
       "    }\n",
       "</style>\n",
       "<table border=\"1\" class=\"dataframe\">\n",
       "  <thead>\n",
       "    <tr style=\"text-align: right;\">\n",
       "      <th></th>\n",
       "      <th>article_id</th>\n",
       "      <th>entity_mention</th>\n",
       "      <th>start_offset</th>\n",
       "      <th>end_offset</th>\n",
       "      <th>main_role</th>\n",
       "      <th>fine_grained_roles</th>\n",
       "      <th>Bigot</th>\n",
       "      <th>Conspirator</th>\n",
       "      <th>Corrupt</th>\n",
       "      <th>Deceiver</th>\n",
       "      <th>Exploited</th>\n",
       "      <th>Foreign Adversary</th>\n",
       "      <th>Forgotten</th>\n",
       "      <th>Guardian</th>\n",
       "      <th>Incompetent</th>\n",
       "      <th>Instigator</th>\n",
       "      <th>Martyr</th>\n",
       "      <th>Peacemaker</th>\n",
       "      <th>Rebel</th>\n",
       "      <th>Saboteur</th>\n",
       "      <th>Scapegoat</th>\n",
       "      <th>Spy</th>\n",
       "      <th>Terrorist</th>\n",
       "      <th>Traitor</th>\n",
       "      <th>Tyrant</th>\n",
       "      <th>Underdog</th>\n",
       "      <th>Victim</th>\n",
       "      <th>Virtuous</th>\n",
       "      <th>entity_paragraph</th>\n",
       "    </tr>\n",
       "  </thead>\n",
       "  <tbody>\n",
       "    <tr>\n",
       "      <th>0</th>\n",
       "      <td>EN_UA_003579.txt</td>\n",
       "      <td>international organizations</td>\n",
       "      <td>306</td>\n",
       "      <td>332</td>\n",
       "      <td>Protagonist</td>\n",
       "      <td>[Peacemaker]</td>\n",
       "      <td>0</td>\n",
       "      <td>0</td>\n",
       "      <td>0</td>\n",
       "      <td>0</td>\n",
       "      <td>0</td>\n",
       "      <td>0</td>\n",
       "      <td>0</td>\n",
       "      <td>0</td>\n",
       "      <td>0</td>\n",
       "      <td>0</td>\n",
       "      <td>0</td>\n",
       "      <td>1</td>\n",
       "      <td>0</td>\n",
       "      <td>0</td>\n",
       "      <td>0</td>\n",
       "      <td>0</td>\n",
       "      <td>0</td>\n",
       "      <td>0</td>\n",
       "      <td>0</td>\n",
       "      <td>0</td>\n",
       "      <td>0</td>\n",
       "      <td>0</td>\n",
       "      <td>ajor international organizations issued appeal...</td>\n",
       "    </tr>\n",
       "    <tr>\n",
       "      <th>1</th>\n",
       "      <td>EN_UA_029155.txt</td>\n",
       "      <td>Volodymyr Zelensky</td>\n",
       "      <td>160</td>\n",
       "      <td>177</td>\n",
       "      <td>Antagonist</td>\n",
       "      <td>[Saboteur, Conspirator]</td>\n",
       "      <td>0</td>\n",
       "      <td>1</td>\n",
       "      <td>0</td>\n",
       "      <td>0</td>\n",
       "      <td>0</td>\n",
       "      <td>0</td>\n",
       "      <td>0</td>\n",
       "      <td>0</td>\n",
       "      <td>0</td>\n",
       "      <td>0</td>\n",
       "      <td>0</td>\n",
       "      <td>0</td>\n",
       "      <td>0</td>\n",
       "      <td>1</td>\n",
       "      <td>0</td>\n",
       "      <td>0</td>\n",
       "      <td>0</td>\n",
       "      <td>0</td>\n",
       "      <td>0</td>\n",
       "      <td>0</td>\n",
       "      <td>0</td>\n",
       "      <td>0</td>\n",
       "      <td>former head german intelligence revealed ukrai...</td>\n",
       "    </tr>\n",
       "    <tr>\n",
       "      <th>2</th>\n",
       "      <td>EN_UA_003579.txt</td>\n",
       "      <td>IMF</td>\n",
       "      <td>846</td>\n",
       "      <td>848</td>\n",
       "      <td>Protagonist</td>\n",
       "      <td>[Peacemaker]</td>\n",
       "      <td>0</td>\n",
       "      <td>0</td>\n",
       "      <td>0</td>\n",
       "      <td>0</td>\n",
       "      <td>0</td>\n",
       "      <td>0</td>\n",
       "      <td>0</td>\n",
       "      <td>0</td>\n",
       "      <td>0</td>\n",
       "      <td>0</td>\n",
       "      <td>0</td>\n",
       "      <td>1</td>\n",
       "      <td>0</td>\n",
       "      <td>0</td>\n",
       "      <td>0</td>\n",
       "      <td>0</td>\n",
       "      <td>0</td>\n",
       "      <td>0</td>\n",
       "      <td>0</td>\n",
       "      <td>0</td>\n",
       "      <td>0</td>\n",
       "      <td>0</td>\n",
       "      <td>critical quickly provide support food insecure...</td>\n",
       "    </tr>\n",
       "    <tr>\n",
       "      <th>3</th>\n",
       "      <td>EN_UA_300082.txt</td>\n",
       "      <td>Kiev</td>\n",
       "      <td>975</td>\n",
       "      <td>978</td>\n",
       "      <td>Antagonist</td>\n",
       "      <td>[Terrorist]</td>\n",
       "      <td>0</td>\n",
       "      <td>0</td>\n",
       "      <td>0</td>\n",
       "      <td>0</td>\n",
       "      <td>0</td>\n",
       "      <td>0</td>\n",
       "      <td>0</td>\n",
       "      <td>0</td>\n",
       "      <td>0</td>\n",
       "      <td>0</td>\n",
       "      <td>0</td>\n",
       "      <td>0</td>\n",
       "      <td>0</td>\n",
       "      <td>0</td>\n",
       "      <td>0</td>\n",
       "      <td>0</td>\n",
       "      <td>1</td>\n",
       "      <td>0</td>\n",
       "      <td>0</td>\n",
       "      <td>0</td>\n",
       "      <td>0</td>\n",
       "      <td>0</td>\n",
       "      <td>unfortunately oleg tsarev far first victim naz...</td>\n",
       "    </tr>\n",
       "    <tr>\n",
       "      <th>4</th>\n",
       "      <td>EN_UA_013710.txt</td>\n",
       "      <td>ICC</td>\n",
       "      <td>207</td>\n",
       "      <td>209</td>\n",
       "      <td>Antagonist</td>\n",
       "      <td>[Corrupt]</td>\n",
       "      <td>0</td>\n",
       "      <td>0</td>\n",
       "      <td>1</td>\n",
       "      <td>0</td>\n",
       "      <td>0</td>\n",
       "      <td>0</td>\n",
       "      <td>0</td>\n",
       "      <td>0</td>\n",
       "      <td>0</td>\n",
       "      <td>0</td>\n",
       "      <td>0</td>\n",
       "      <td>0</td>\n",
       "      <td>0</td>\n",
       "      <td>0</td>\n",
       "      <td>0</td>\n",
       "      <td>0</td>\n",
       "      <td>0</td>\n",
       "      <td>0</td>\n",
       "      <td>0</td>\n",
       "      <td>0</td>\n",
       "      <td>0</td>\n",
       "      <td>0</td>\n",
       "      <td>collective west hypocrisy rules narrative rece...</td>\n",
       "    </tr>\n",
       "  </tbody>\n",
       "</table>\n",
       "</div>"
      ],
      "text/plain": [
       "         article_id               entity_mention  start_offset  end_offset  \\\n",
       "0  EN_UA_003579.txt  international organizations           306         332   \n",
       "1  EN_UA_029155.txt           Volodymyr Zelensky           160         177   \n",
       "2  EN_UA_003579.txt                          IMF           846         848   \n",
       "3  EN_UA_300082.txt                         Kiev           975         978   \n",
       "4  EN_UA_013710.txt                          ICC           207         209   \n",
       "\n",
       "     main_role       fine_grained_roles  Bigot  Conspirator  Corrupt  \\\n",
       "0  Protagonist             [Peacemaker]      0            0        0   \n",
       "1   Antagonist  [Saboteur, Conspirator]      0            1        0   \n",
       "2  Protagonist             [Peacemaker]      0            0        0   \n",
       "3   Antagonist              [Terrorist]      0            0        0   \n",
       "4   Antagonist                [Corrupt]      0            0        1   \n",
       "\n",
       "   Deceiver  Exploited  Foreign Adversary  Forgotten  Guardian  Incompetent  \\\n",
       "0         0          0                  0          0         0            0   \n",
       "1         0          0                  0          0         0            0   \n",
       "2         0          0                  0          0         0            0   \n",
       "3         0          0                  0          0         0            0   \n",
       "4         0          0                  0          0         0            0   \n",
       "\n",
       "   Instigator  Martyr  Peacemaker  Rebel  Saboteur  Scapegoat  Spy  Terrorist  \\\n",
       "0           0       0           1      0         0          0    0          0   \n",
       "1           0       0           0      0         1          0    0          0   \n",
       "2           0       0           1      0         0          0    0          0   \n",
       "3           0       0           0      0         0          0    0          1   \n",
       "4           0       0           0      0         0          0    0          0   \n",
       "\n",
       "   Traitor  Tyrant  Underdog  Victim  Virtuous  \\\n",
       "0        0       0         0       0         0   \n",
       "1        0       0         0       0         0   \n",
       "2        0       0         0       0         0   \n",
       "3        0       0         0       0         0   \n",
       "4        0       0         0       0         0   \n",
       "\n",
       "                                    entity_paragraph  \n",
       "0  ajor international organizations issued appeal...  \n",
       "1  former head german intelligence revealed ukrai...  \n",
       "2  critical quickly provide support food insecure...  \n",
       "3  unfortunately oleg tsarev far first victim naz...  \n",
       "4  collective west hypocrisy rules narrative rece...  "
      ]
     },
     "execution_count": 47,
     "metadata": {},
     "output_type": "execute_result"
    }
   ],
   "source": [
    "df_val.head()"
   ]
  },
  {
   "cell_type": "code",
   "execution_count": 48,
   "metadata": {
    "execution": {
     "iopub.execute_input": "2024-12-10T02:21:30.507089Z",
     "iopub.status.busy": "2024-12-10T02:21:30.506391Z",
     "iopub.status.idle": "2024-12-10T02:21:30.516406Z",
     "shell.execute_reply": "2024-12-10T02:21:30.515492Z",
     "shell.execute_reply.started": "2024-12-10T02:21:30.507054Z"
    },
    "trusted": true
   },
   "outputs": [
    {
     "data": {
      "text/html": [
       "<div>\n",
       "<style scoped>\n",
       "    .dataframe tbody tr th:only-of-type {\n",
       "        vertical-align: middle;\n",
       "    }\n",
       "\n",
       "    .dataframe tbody tr th {\n",
       "        vertical-align: top;\n",
       "    }\n",
       "\n",
       "    .dataframe thead th {\n",
       "        text-align: right;\n",
       "    }\n",
       "</style>\n",
       "<table border=\"1\" class=\"dataframe\">\n",
       "  <thead>\n",
       "    <tr style=\"text-align: right;\">\n",
       "      <th></th>\n",
       "      <th>article_id</th>\n",
       "      <th>entity_mention</th>\n",
       "      <th>start_offset</th>\n",
       "      <th>end_offset</th>\n",
       "      <th>entity_paragraph</th>\n",
       "    </tr>\n",
       "  </thead>\n",
       "  <tbody>\n",
       "    <tr>\n",
       "      <th>0</th>\n",
       "      <td>EN_UA_DEV_100012.txt</td>\n",
       "      <td>Washington</td>\n",
       "      <td>1441</td>\n",
       "      <td>1450</td>\n",
       "      <td>washington cannot afford allow russia achieve ...</td>\n",
       "    </tr>\n",
       "    <tr>\n",
       "      <th>1</th>\n",
       "      <td>EN_UA_DEV_100012.txt</td>\n",
       "      <td>Americans</td>\n",
       "      <td>2397</td>\n",
       "      <td>2405</td>\n",
       "      <td>fate colonies always americans scoop natural r...</td>\n",
       "    </tr>\n",
       "    <tr>\n",
       "      <th>2</th>\n",
       "      <td>EN_CC_200053.txt</td>\n",
       "      <td>Rishi Sunak</td>\n",
       "      <td>85</td>\n",
       "      <td>95</td>\n",
       "      <td>uk prime minister rishi sunak wednesday said a...</td>\n",
       "    </tr>\n",
       "    <tr>\n",
       "      <th>3</th>\n",
       "      <td>EN_CC_200040.txt</td>\n",
       "      <td>Extinction Rebellion</td>\n",
       "      <td>189</td>\n",
       "      <td>208</td>\n",
       "      <td>extinction rebellion activists everyone loves ...</td>\n",
       "    </tr>\n",
       "    <tr>\n",
       "      <th>4</th>\n",
       "      <td>EN_CC_200070.txt</td>\n",
       "      <td>Eric Garcetti</td>\n",
       "      <td>89</td>\n",
       "      <td>101</td>\n",
       "      <td>los angeles mayor eric garcetti joined global ...</td>\n",
       "    </tr>\n",
       "  </tbody>\n",
       "</table>\n",
       "</div>"
      ],
      "text/plain": [
       "             article_id        entity_mention  start_offset  end_offset  \\\n",
       "0  EN_UA_DEV_100012.txt            Washington          1441        1450   \n",
       "1  EN_UA_DEV_100012.txt             Americans          2397        2405   \n",
       "2      EN_CC_200053.txt           Rishi Sunak            85          95   \n",
       "3      EN_CC_200040.txt  Extinction Rebellion           189         208   \n",
       "4      EN_CC_200070.txt         Eric Garcetti            89         101   \n",
       "\n",
       "                                    entity_paragraph  \n",
       "0  washington cannot afford allow russia achieve ...  \n",
       "1  fate colonies always americans scoop natural r...  \n",
       "2  uk prime minister rishi sunak wednesday said a...  \n",
       "3  extinction rebellion activists everyone loves ...  \n",
       "4  los angeles mayor eric garcetti joined global ...  "
      ]
     },
     "execution_count": 48,
     "metadata": {},
     "output_type": "execute_result"
    }
   ],
   "source": [
    "df_test.head()"
   ]
  },
  {
   "cell_type": "markdown",
   "metadata": {},
   "source": [
    "## TF-IDF + Label PowerSet"
   ]
  },
  {
   "cell_type": "code",
   "execution_count": 49,
   "metadata": {
    "execution": {
     "iopub.execute_input": "2024-12-10T02:21:33.215721Z",
     "iopub.status.busy": "2024-12-10T02:21:33.214924Z",
     "iopub.status.idle": "2024-12-10T02:21:33.249611Z",
     "shell.execute_reply": "2024-12-10T02:21:33.248921Z",
     "shell.execute_reply.started": "2024-12-10T02:21:33.215684Z"
    },
    "trusted": true
   },
   "outputs": [],
   "source": [
    "vectorizer = TfidfVectorizer()\n",
    "X_train_vec = vectorizer.fit_transform(df_train[\"entity_paragraph\"])\n",
    "X_val_vec = vectorizer.transform(df_val[\"entity_paragraph\"])\n",
    "X_test_vec = vectorizer.transform(df_test[\"entity_paragraph\"])"
   ]
  },
  {
   "cell_type": "code",
   "execution_count": 50,
   "metadata": {
    "execution": {
     "iopub.execute_input": "2024-12-10T02:21:35.674630Z",
     "iopub.status.busy": "2024-12-10T02:21:35.673766Z",
     "iopub.status.idle": "2024-12-10T02:21:35.680403Z",
     "shell.execute_reply": "2024-12-10T02:21:35.679446Z",
     "shell.execute_reply.started": "2024-12-10T02:21:35.674597Z"
    },
    "trusted": true
   },
   "outputs": [
    {
     "data": {
      "text/plain": [
       "Index(['article_id', 'entity_mention', 'start_offset', 'end_offset',\n",
       "       'main_role', 'fine_grained_roles', 'Bigot', 'Conspirator', 'Corrupt',\n",
       "       'Deceiver', 'Exploited', 'Foreign Adversary', 'Forgotten', 'Guardian',\n",
       "       'Incompetent', 'Instigator', 'Martyr', 'Peacemaker', 'Rebel',\n",
       "       'Saboteur', 'Scapegoat', 'Spy', 'Terrorist', 'Traitor', 'Tyrant',\n",
       "       'Underdog', 'Victim', 'Virtuous', 'entity_paragraph'],\n",
       "      dtype='object')"
      ]
     },
     "execution_count": 50,
     "metadata": {},
     "output_type": "execute_result"
    }
   ],
   "source": [
    "df_train.columns"
   ]
  },
  {
   "cell_type": "code",
   "execution_count": 51,
   "metadata": {
    "execution": {
     "iopub.execute_input": "2024-12-10T02:21:36.362739Z",
     "iopub.status.busy": "2024-12-10T02:21:36.362366Z",
     "iopub.status.idle": "2024-12-10T02:21:36.369696Z",
     "shell.execute_reply": "2024-12-10T02:21:36.368736Z",
     "shell.execute_reply.started": "2024-12-10T02:21:36.362706Z"
    },
    "trusted": true
   },
   "outputs": [],
   "source": [
    "y_train = df_train.drop(['article_id', 'entity_mention', 'start_offset', 'end_offset', 'main_role', 'fine_grained_roles', 'entity_paragraph'], axis=1)\n",
    "y_val = df_val.drop(['article_id', 'entity_mention', 'start_offset', 'end_offset', 'main_role', 'fine_grained_roles', 'entity_paragraph'], axis=1)"
   ]
  },
  {
   "cell_type": "code",
   "execution_count": 735,
   "metadata": {
    "execution": {
     "iopub.execute_input": "2024-12-10T02:21:37.298444Z",
     "iopub.status.busy": "2024-12-10T02:21:37.298085Z",
     "iopub.status.idle": "2024-12-10T02:21:37.306832Z",
     "shell.execute_reply": "2024-12-10T02:21:37.305838Z",
     "shell.execute_reply.started": "2024-12-10T02:21:37.298410Z"
    },
    "trusted": true
   },
   "outputs": [],
   "source": [
    "Models_acc = {}\n",
    "Models_micro = {}\n",
    "Models_macro = {}\n",
    "Models_emr = {}\n",
    "\n",
    "def metricsReport(modelName, test_labels, predictions):\n",
    "    accuracy = accuracy_score(test_labels, predictions)\n",
    "\n",
    "    macro_precision = precision_score(test_labels, predictions, average='macro')\n",
    "    macro_recall = recall_score(test_labels, predictions, average='macro')\n",
    "    macro_f1 = f1_score(test_labels, predictions, average='macro')\n",
    "\n",
    "    micro_precision = precision_score(test_labels, predictions, average='micro')\n",
    "    micro_recall = recall_score(test_labels, predictions, average='micro')\n",
    "    micro_f1 = f1_score(test_labels, predictions, average='micro')\n",
    "    if modelName == \"Power Set SVC\":\n",
    "        exact_matches = np.sum(np.all(np.array(test_labels) == np.array(predictions.todense()), axis=1))  # Compare if all labels match for each sample\n",
    "        emr = exact_matches / len(y_val)\n",
    "    else:\n",
    "        exact_matches = np.sum(np.all(np.array(test_labels) == np.array(predictions), axis=1))  # Compare if all labels match for each sample\n",
    "        emr = exact_matches / len(y_val)\n",
    "\n",
    "    hamLoss = hamming_loss(test_labels, predictions)\n",
    "    \n",
    "    print(\"------\" + modelName + \" Model Metrics-----\")\n",
    "    print(\"Accuracy: {:.4f}\\nHamming Loss: {:.4f}\\nExact Match Ratio: {:.4f}\\nPrecision:\\n  - Macro: {:.4f}\\n  - Micro: {:.4f}\\nRecall:\\n  - Macro: {:.4f}\\n  - Micro: {:.4f}\\nF1-measure:\\n  - Macro: {:.4f}\\n  - Micro: {:.4f}\"\\\n",
    "          .format(accuracy, hamLoss, emr, macro_precision, micro_precision, macro_recall, micro_recall, macro_f1, micro_f1))\n",
    "    \n",
    "    Models_acc[modelName] = accuracy\n",
    "    Models_micro[modelName] = micro_f1\n",
    "    Models_macro[modelName] = macro_f1\n",
    "    Models_emr[modelName] = {emr}"
   ]
  },
  {
   "cell_type": "code",
   "execution_count": 736,
   "metadata": {
    "execution": {
     "iopub.execute_input": "2024-12-10T02:21:38.643837Z",
     "iopub.status.busy": "2024-12-10T02:21:38.643112Z",
     "iopub.status.idle": "2024-12-10T02:21:38.767370Z",
     "shell.execute_reply": "2024-12-10T02:21:38.766368Z",
     "shell.execute_reply.started": "2024-12-10T02:21:38.643776Z"
    },
    "trusted": true
   },
   "outputs": [
    {
     "name": "stdout",
     "output_type": "stream",
     "text": [
      "------knn Model Metrics-----\n",
      "Accuracy: 0.1159\n",
      "Hamming Loss: 0.0468\n",
      "Exact Match Ratio: 0.1159\n",
      "Precision:\n",
      "  - Macro: 0.1727\n",
      "  - Micro: 0.5625\n",
      "Recall:\n",
      "  - Macro: 0.1136\n",
      "  - Micro: 0.1233\n",
      "F1-measure:\n",
      "  - Macro: 0.1328\n",
      "  - Micro: 0.2022\n"
     ]
    }
   ],
   "source": [
    "knn = KNeighborsClassifier()\n",
    "\n",
    "knn.fit(X_train_vec, y_train)\n",
    "knnPredictions = knn.predict(X_val_vec)\n",
    "metricsReport(\"knn\", y_val, knnPredictions)"
   ]
  },
  {
   "cell_type": "code",
   "execution_count": 737,
   "metadata": {
    "execution": {
     "iopub.execute_input": "2024-12-10T02:21:40.261385Z",
     "iopub.status.busy": "2024-12-10T02:21:40.260978Z",
     "iopub.status.idle": "2024-12-10T02:21:40.532167Z",
     "shell.execute_reply": "2024-12-10T02:21:40.531193Z",
     "shell.execute_reply.started": "2024-12-10T02:21:40.261350Z"
    },
    "trusted": true
   },
   "outputs": [
    {
     "name": "stdout",
     "output_type": "stream",
     "text": [
      "------Decision Tree Model Metrics-----\n",
      "Accuracy: 0.2319\n",
      "Hamming Loss: 0.0672\n",
      "Exact Match Ratio: 0.2319\n",
      "Precision:\n",
      "  - Macro: 0.1581\n",
      "  - Micro: 0.2899\n",
      "Recall:\n",
      "  - Macro: 0.1899\n",
      "  - Micro: 0.2740\n",
      "F1-measure:\n",
      "  - Macro: 0.1626\n",
      "  - Micro: 0.2817\n"
     ]
    }
   ],
   "source": [
    "dt = DecisionTreeClassifier()\n",
    "dt.fit(X_train_vec, y_train)\n",
    "dtPreds = dt.predict(X_val_vec)\n",
    "metricsReport(\"Decision Tree\", y_val, dtPreds)"
   ]
  },
  {
   "cell_type": "code",
   "execution_count": 738,
   "metadata": {
    "execution": {
     "iopub.execute_input": "2024-12-10T02:21:40.597673Z",
     "iopub.status.busy": "2024-12-10T02:21:40.597408Z",
     "iopub.status.idle": "2024-12-10T02:21:44.312442Z",
     "shell.execute_reply": "2024-12-10T02:21:44.311227Z",
     "shell.execute_reply.started": "2024-12-10T02:21:40.597648Z"
    },
    "trusted": true
   },
   "outputs": [
    {
     "name": "stderr",
     "output_type": "stream",
     "text": [
      "huggingface/tokenizers: The current process just got forked, after parallelism has already been used. Disabling parallelism to avoid deadlocks...\n",
      "To disable this warning, you can either:\n",
      "\t- Avoid using `tokenizers` before the fork if possible\n",
      "\t- Explicitly set the environment variable TOKENIZERS_PARALLELISM=(true | false)\n",
      "huggingface/tokenizers: The current process just got forked, after parallelism has already been used. Disabling parallelism to avoid deadlocks...\n",
      "To disable this warning, you can either:\n",
      "\t- Avoid using `tokenizers` before the fork if possible\n",
      "\t- Explicitly set the environment variable TOKENIZERS_PARALLELISM=(true | false)\n",
      "huggingface/tokenizers: The current process just got forked, after parallelism has already been used. Disabling parallelism to avoid deadlocks...\n",
      "To disable this warning, you can either:\n",
      "\t- Avoid using `tokenizers` before the fork if possible\n",
      "\t- Explicitly set the environment variable TOKENIZERS_PARALLELISM=(true | false)\n",
      "huggingface/tokenizers: The current process just got forked, after parallelism has already been used. Disabling parallelism to avoid deadlocks...\n",
      "To disable this warning, you can either:\n",
      "\t- Avoid using `tokenizers` before the fork if possible\n",
      "\t- Explicitly set the environment variable TOKENIZERS_PARALLELISM=(true | false)\n"
     ]
    },
    {
     "name": "stdout",
     "output_type": "stream",
     "text": [
      "------Bagging Model Metrics-----\n",
      "Accuracy: 0.1739\n",
      "Hamming Loss: 0.0474\n",
      "Exact Match Ratio: 0.1739\n",
      "Precision:\n",
      "  - Macro: 0.2336\n",
      "  - Micro: 0.5161\n",
      "Recall:\n",
      "  - Macro: 0.1342\n",
      "  - Micro: 0.2192\n",
      "F1-measure:\n",
      "  - Macro: 0.1625\n",
      "  - Micro: 0.3077\n"
     ]
    }
   ],
   "source": [
    "bag = OneVsRestClassifier(BaggingClassifier(n_jobs=-1))\n",
    "bag.fit(X_train_vec, y_train)\n",
    "bagPreds = bag.predict(X_val_vec)\n",
    "metricsReport(\"Bagging\", y_val, bagPreds)"
   ]
  },
  {
   "cell_type": "code",
   "execution_count": 739,
   "metadata": {
    "execution": {
     "iopub.execute_input": "2024-12-10T02:21:44.314646Z",
     "iopub.status.busy": "2024-12-10T02:21:44.314324Z",
     "iopub.status.idle": "2024-12-10T02:21:45.531654Z",
     "shell.execute_reply": "2024-12-10T02:21:45.530630Z",
     "shell.execute_reply.started": "2024-12-10T02:21:44.314611Z"
    },
    "trusted": true
   },
   "outputs": [
    {
     "name": "stdout",
     "output_type": "stream",
     "text": [
      "------Random Forest Model Metrics-----\n",
      "Accuracy: 0.2029\n",
      "Hamming Loss: 0.0455\n",
      "Exact Match Ratio: 0.2029\n",
      "Precision:\n",
      "  - Macro: 0.2602\n",
      "  - Micro: 0.5667\n",
      "Recall:\n",
      "  - Macro: 0.1596\n",
      "  - Micro: 0.2329\n",
      "F1-measure:\n",
      "  - Macro: 0.1857\n",
      "  - Micro: 0.3301\n"
     ]
    }
   ],
   "source": [
    "rf = RandomForestClassifier(n_jobs=-1)\n",
    "rf.fit(X_train_vec, y_train)\n",
    "rfPreds = rf.predict(X_val_vec)\n",
    "metricsReport(\"Random Forest\", y_val, rfPreds)"
   ]
  },
  {
   "cell_type": "code",
   "execution_count": 740,
   "metadata": {
    "execution": {
     "iopub.execute_input": "2024-12-10T02:21:45.533040Z",
     "iopub.status.busy": "2024-12-10T02:21:45.532757Z",
     "iopub.status.idle": "2024-12-10T02:21:57.077070Z",
     "shell.execute_reply": "2024-12-10T02:21:57.076084Z",
     "shell.execute_reply.started": "2024-12-10T02:21:45.533011Z"
    },
    "trusted": true
   },
   "outputs": [
    {
     "name": "stdout",
     "output_type": "stream",
     "text": [
      "------Boosting Model Metrics-----\n",
      "Accuracy: 0.2029\n",
      "Hamming Loss: 0.0487\n",
      "Exact Match Ratio: 0.2029\n",
      "Precision:\n",
      "  - Macro: 0.2913\n",
      "  - Micro: 0.4878\n",
      "Recall:\n",
      "  - Macro: 0.1839\n",
      "  - Micro: 0.2740\n",
      "F1-measure:\n",
      "  - Macro: 0.2080\n",
      "  - Micro: 0.3509\n"
     ]
    }
   ],
   "source": [
    "boostClassifier = OneVsRestClassifier(GradientBoostingClassifier())\n",
    "boostClassifier.fit(X_train_vec, y_train)\n",
    "boostPreds = boostClassifier.predict(X_val_vec)\n",
    "metricsReport(\"Boosting\", y_val, boostPreds)"
   ]
  },
  {
   "cell_type": "code",
   "execution_count": 741,
   "metadata": {
    "execution": {
     "iopub.execute_input": "2024-12-10T02:21:57.079044Z",
     "iopub.status.busy": "2024-12-10T02:21:57.078717Z",
     "iopub.status.idle": "2024-12-10T02:21:57.161210Z",
     "shell.execute_reply": "2024-12-10T02:21:57.160095Z",
     "shell.execute_reply.started": "2024-12-10T02:21:57.079013Z"
    },
    "trusted": true
   },
   "outputs": [
    {
     "name": "stdout",
     "output_type": "stream",
     "text": [
      "------Multinomial NB Model Metrics-----\n",
      "Accuracy: 0.0145\n",
      "Hamming Loss: 0.0487\n",
      "Exact Match Ratio: 0.0145\n",
      "Precision:\n",
      "  - Macro: 0.0227\n",
      "  - Micro: 0.3333\n",
      "Recall:\n",
      "  - Macro: 0.0038\n",
      "  - Micro: 0.0137\n",
      "F1-measure:\n",
      "  - Macro: 0.0065\n",
      "  - Micro: 0.0263\n"
     ]
    }
   ],
   "source": [
    "nb = OneVsRestClassifier(MultinomialNB())\n",
    "nb.fit(X_train_vec, y_train)\n",
    "\n",
    "nbPreds = nb.predict(X_val_vec)\n",
    "metricsReport(\"Multinomial NB\", y_val, nbPreds)"
   ]
  },
  {
   "cell_type": "code",
   "execution_count": 742,
   "metadata": {
    "execution": {
     "iopub.execute_input": "2024-12-10T02:21:57.162710Z",
     "iopub.status.busy": "2024-12-10T02:21:57.162386Z",
     "iopub.status.idle": "2024-12-10T02:21:57.274573Z",
     "shell.execute_reply": "2024-12-10T02:21:57.273553Z",
     "shell.execute_reply.started": "2024-12-10T02:21:57.162676Z"
    },
    "trusted": true
   },
   "outputs": [
    {
     "name": "stdout",
     "output_type": "stream",
     "text": [
      "------SVC Sq. Hinge Loss Model Metrics-----\n",
      "Accuracy: 0.2174\n",
      "Hamming Loss: 0.0448\n",
      "Exact Match Ratio: 0.2174\n",
      "Precision:\n",
      "  - Macro: 0.2648\n",
      "  - Micro: 0.5806\n",
      "Recall:\n",
      "  - Macro: 0.1672\n",
      "  - Micro: 0.2466\n",
      "F1-measure:\n",
      "  - Macro: 0.1923\n",
      "  - Micro: 0.3462\n"
     ]
    }
   ],
   "source": [
    "svm = OneVsRestClassifier(LinearSVC(), n_jobs=-1)\n",
    "svm.fit(X_train_vec, y_train)\n",
    "\n",
    "svmPreds = svm.predict(X_val_vec)\n",
    "metricsReport(\"SVC Sq. Hinge Loss\", y_val, svmPreds)"
   ]
  },
  {
   "cell_type": "code",
   "execution_count": 743,
   "metadata": {
    "execution": {
     "iopub.execute_input": "2024-12-10T02:21:57.276277Z",
     "iopub.status.busy": "2024-12-10T02:21:57.275862Z",
     "iopub.status.idle": "2024-12-10T02:21:57.452067Z",
     "shell.execute_reply": "2024-12-10T02:21:57.450005Z",
     "shell.execute_reply.started": "2024-12-10T02:21:57.276233Z"
    },
    "trusted": true
   },
   "outputs": [
    {
     "name": "stdout",
     "output_type": "stream",
     "text": [
      "------Power Set SVC Model Metrics-----\n",
      "Accuracy: 0.3478\n",
      "Hamming Loss: 0.0599\n",
      "Exact Match Ratio: 0.3478\n",
      "Precision:\n",
      "  - Macro: 0.2098\n",
      "  - Micro: 0.3750\n",
      "Recall:\n",
      "  - Macro: 0.2574\n",
      "  - Micro: 0.3699\n",
      "F1-measure:\n",
      "  - Macro: 0.2250\n",
      "  - Micro: 0.3724\n"
     ]
    }
   ],
   "source": [
    "powerSetSVC = LabelPowerset(LinearSVC())\n",
    "powerSetSVC.fit(X_train_vec, y_train)\n",
    "\n",
    "powerSetSVCPreds = powerSetSVC.predict(X_val_vec)\n",
    "metricsReport(\"Power Set SVC\", y_val, powerSetSVCPreds)"
   ]
  },
  {
   "cell_type": "code",
   "execution_count": 744,
   "metadata": {
    "execution": {
     "iopub.execute_input": "2024-12-10T02:21:57.453758Z",
     "iopub.status.busy": "2024-12-10T02:21:57.453322Z",
     "iopub.status.idle": "2024-12-10T02:21:57.464474Z",
     "shell.execute_reply": "2024-12-10T02:21:57.463571Z",
     "shell.execute_reply.started": "2024-12-10T02:21:57.453683Z"
    },
    "trusted": true
   },
   "outputs": [
    {
     "name": "stdout",
     "output_type": "stream",
     "text": [
      "  Model Name           | Exact Match Ratio Score\n",
      "-------------------------------------------\n",
      "  knn                  | {0.11594202898550725}\n",
      "-------------------------------------------\n",
      "  Decision Tree        | {0.2318840579710145}\n",
      "-------------------------------------------\n",
      "  Bagging              | {0.17391304347826086}\n",
      "-------------------------------------------\n",
      "  Random Forest        | {0.2028985507246377}\n",
      "-------------------------------------------\n",
      "  Boosting             | {0.2028985507246377}\n",
      "-------------------------------------------\n",
      "  Multinomial NB       | {0.014492753623188406}\n",
      "-------------------------------------------\n",
      "  SVC Sq. Hinge Loss   | {0.21739130434782608}\n",
      "-------------------------------------------\n",
      "  Power Set SVC        | {0.34782608695652173}\n",
      "-------------------------------------------\n"
     ]
    }
   ],
   "source": [
    "print(\"  Model Name \" + \" \"*10 + \"| Exact Match Ratio Score\")\n",
    "print(\"-------------------------------------------\")\n",
    "for key, value in Models_emr.items():\n",
    "    print(\"  \" + key, \" \"*(20-len(key)) + \"|\", value)\n",
    "    print(\"-------------------------------------------\")"
   ]
  },
  {
   "cell_type": "code",
   "execution_count": 344,
   "metadata": {
    "execution": {
     "iopub.execute_input": "2024-12-09T22:51:28.183088Z",
     "iopub.status.busy": "2024-12-09T22:51:28.180326Z",
     "iopub.status.idle": "2024-12-09T22:51:28.193179Z",
     "shell.execute_reply": "2024-12-09T22:51:28.191866Z",
     "shell.execute_reply.started": "2024-12-09T22:51:28.183032Z"
    },
    "trusted": true
   },
   "outputs": [],
   "source": [
    "# Convert powerSetSVCPreds to a DataFrame with the same column names as y_val\n",
    "powerSetSVCPreds_df = pd.DataFrame(np.array(powerSetSVCPreds.todense()), columns=y_val.columns)"
   ]
  },
  {
   "cell_type": "code",
   "execution_count": 345,
   "metadata": {
    "execution": {
     "iopub.execute_input": "2024-12-09T22:51:28.194697Z",
     "iopub.status.busy": "2024-12-09T22:51:28.194301Z",
     "iopub.status.idle": "2024-12-09T22:51:28.233673Z",
     "shell.execute_reply": "2024-12-09T22:51:28.232684Z",
     "shell.execute_reply.started": "2024-12-09T22:51:28.194649Z"
    },
    "trusted": true
   },
   "outputs": [
    {
     "data": {
      "text/html": [
       "<div>\n",
       "<style scoped>\n",
       "    .dataframe tbody tr th:only-of-type {\n",
       "        vertical-align: middle;\n",
       "    }\n",
       "\n",
       "    .dataframe tbody tr th {\n",
       "        vertical-align: top;\n",
       "    }\n",
       "\n",
       "    .dataframe thead th {\n",
       "        text-align: right;\n",
       "    }\n",
       "</style>\n",
       "<table border=\"1\" class=\"dataframe\">\n",
       "  <thead>\n",
       "    <tr style=\"text-align: right;\">\n",
       "      <th></th>\n",
       "      <th>Bigot</th>\n",
       "      <th>Conspirator</th>\n",
       "      <th>Corrupt</th>\n",
       "      <th>Deceiver</th>\n",
       "      <th>Exploited</th>\n",
       "      <th>Foreign Adversary</th>\n",
       "      <th>Forgotten</th>\n",
       "      <th>Guardian</th>\n",
       "      <th>Incompetent</th>\n",
       "      <th>Instigator</th>\n",
       "      <th>Martyr</th>\n",
       "      <th>Peacemaker</th>\n",
       "      <th>Rebel</th>\n",
       "      <th>Saboteur</th>\n",
       "      <th>Scapegoat</th>\n",
       "      <th>Spy</th>\n",
       "      <th>Terrorist</th>\n",
       "      <th>Traitor</th>\n",
       "      <th>Tyrant</th>\n",
       "      <th>Underdog</th>\n",
       "      <th>Victim</th>\n",
       "      <th>Virtuous</th>\n",
       "    </tr>\n",
       "  </thead>\n",
       "  <tbody>\n",
       "    <tr>\n",
       "      <th>0</th>\n",
       "      <td>0</td>\n",
       "      <td>0</td>\n",
       "      <td>0</td>\n",
       "      <td>0</td>\n",
       "      <td>0</td>\n",
       "      <td>0</td>\n",
       "      <td>0</td>\n",
       "      <td>0</td>\n",
       "      <td>0</td>\n",
       "      <td>0</td>\n",
       "      <td>0</td>\n",
       "      <td>1</td>\n",
       "      <td>0</td>\n",
       "      <td>0</td>\n",
       "      <td>0</td>\n",
       "      <td>0</td>\n",
       "      <td>0</td>\n",
       "      <td>0</td>\n",
       "      <td>0</td>\n",
       "      <td>0</td>\n",
       "      <td>0</td>\n",
       "      <td>0</td>\n",
       "    </tr>\n",
       "    <tr>\n",
       "      <th>1</th>\n",
       "      <td>0</td>\n",
       "      <td>1</td>\n",
       "      <td>0</td>\n",
       "      <td>0</td>\n",
       "      <td>0</td>\n",
       "      <td>0</td>\n",
       "      <td>0</td>\n",
       "      <td>0</td>\n",
       "      <td>0</td>\n",
       "      <td>0</td>\n",
       "      <td>0</td>\n",
       "      <td>0</td>\n",
       "      <td>0</td>\n",
       "      <td>1</td>\n",
       "      <td>0</td>\n",
       "      <td>0</td>\n",
       "      <td>0</td>\n",
       "      <td>0</td>\n",
       "      <td>0</td>\n",
       "      <td>0</td>\n",
       "      <td>0</td>\n",
       "      <td>0</td>\n",
       "    </tr>\n",
       "    <tr>\n",
       "      <th>2</th>\n",
       "      <td>0</td>\n",
       "      <td>0</td>\n",
       "      <td>0</td>\n",
       "      <td>0</td>\n",
       "      <td>0</td>\n",
       "      <td>0</td>\n",
       "      <td>0</td>\n",
       "      <td>0</td>\n",
       "      <td>0</td>\n",
       "      <td>0</td>\n",
       "      <td>0</td>\n",
       "      <td>1</td>\n",
       "      <td>0</td>\n",
       "      <td>0</td>\n",
       "      <td>0</td>\n",
       "      <td>0</td>\n",
       "      <td>0</td>\n",
       "      <td>0</td>\n",
       "      <td>0</td>\n",
       "      <td>0</td>\n",
       "      <td>0</td>\n",
       "      <td>0</td>\n",
       "    </tr>\n",
       "    <tr>\n",
       "      <th>3</th>\n",
       "      <td>0</td>\n",
       "      <td>0</td>\n",
       "      <td>0</td>\n",
       "      <td>0</td>\n",
       "      <td>0</td>\n",
       "      <td>0</td>\n",
       "      <td>0</td>\n",
       "      <td>0</td>\n",
       "      <td>0</td>\n",
       "      <td>0</td>\n",
       "      <td>0</td>\n",
       "      <td>0</td>\n",
       "      <td>0</td>\n",
       "      <td>0</td>\n",
       "      <td>0</td>\n",
       "      <td>0</td>\n",
       "      <td>0</td>\n",
       "      <td>0</td>\n",
       "      <td>0</td>\n",
       "      <td>0</td>\n",
       "      <td>1</td>\n",
       "      <td>0</td>\n",
       "    </tr>\n",
       "    <tr>\n",
       "      <th>4</th>\n",
       "      <td>0</td>\n",
       "      <td>0</td>\n",
       "      <td>0</td>\n",
       "      <td>0</td>\n",
       "      <td>0</td>\n",
       "      <td>0</td>\n",
       "      <td>0</td>\n",
       "      <td>1</td>\n",
       "      <td>0</td>\n",
       "      <td>0</td>\n",
       "      <td>0</td>\n",
       "      <td>0</td>\n",
       "      <td>0</td>\n",
       "      <td>0</td>\n",
       "      <td>0</td>\n",
       "      <td>0</td>\n",
       "      <td>0</td>\n",
       "      <td>0</td>\n",
       "      <td>0</td>\n",
       "      <td>0</td>\n",
       "      <td>0</td>\n",
       "      <td>0</td>\n",
       "    </tr>\n",
       "  </tbody>\n",
       "</table>\n",
       "</div>"
      ],
      "text/plain": [
       "   Bigot  Conspirator  Corrupt  Deceiver  Exploited  Foreign Adversary  \\\n",
       "0      0            0        0         0          0                  0   \n",
       "1      0            1        0         0          0                  0   \n",
       "2      0            0        0         0          0                  0   \n",
       "3      0            0        0         0          0                  0   \n",
       "4      0            0        0         0          0                  0   \n",
       "\n",
       "   Forgotten  Guardian  Incompetent  Instigator  Martyr  Peacemaker  Rebel  \\\n",
       "0          0         0            0           0       0           1      0   \n",
       "1          0         0            0           0       0           0      0   \n",
       "2          0         0            0           0       0           1      0   \n",
       "3          0         0            0           0       0           0      0   \n",
       "4          0         1            0           0       0           0      0   \n",
       "\n",
       "   Saboteur  Scapegoat  Spy  Terrorist  Traitor  Tyrant  Underdog  Victim  \\\n",
       "0         0          0    0          0        0       0         0       0   \n",
       "1         1          0    0          0        0       0         0       0   \n",
       "2         0          0    0          0        0       0         0       0   \n",
       "3         0          0    0          0        0       0         0       1   \n",
       "4         0          0    0          0        0       0         0       0   \n",
       "\n",
       "   Virtuous  \n",
       "0         0  \n",
       "1         0  \n",
       "2         0  \n",
       "3         0  \n",
       "4         0  "
      ]
     },
     "execution_count": 345,
     "metadata": {},
     "output_type": "execute_result"
    }
   ],
   "source": [
    "powerSetSVCPreds_df.head()"
   ]
  },
  {
   "cell_type": "code",
   "execution_count": 346,
   "metadata": {
    "execution": {
     "iopub.execute_input": "2024-12-09T22:51:28.238167Z",
     "iopub.status.busy": "2024-12-09T22:51:28.237885Z",
     "iopub.status.idle": "2024-12-09T22:51:28.256160Z",
     "shell.execute_reply": "2024-12-09T22:51:28.255115Z",
     "shell.execute_reply.started": "2024-12-09T22:51:28.238123Z"
    },
    "trusted": true
   },
   "outputs": [],
   "source": [
    "powerSetSVCPreds_test = powerSetSVC.predict(X_test_vec)"
   ]
  },
  {
   "cell_type": "code",
   "execution_count": 347,
   "metadata": {
    "execution": {
     "iopub.execute_input": "2024-12-09T22:51:28.257613Z",
     "iopub.status.busy": "2024-12-09T22:51:28.257262Z",
     "iopub.status.idle": "2024-12-09T22:51:28.267373Z",
     "shell.execute_reply": "2024-12-09T22:51:28.265810Z",
     "shell.execute_reply.started": "2024-12-09T22:51:28.257577Z"
    },
    "trusted": true
   },
   "outputs": [],
   "source": [
    "# Convert powerSetSVCPreds to a DataFrame with the same column names as y_val\n",
    "powerSetSVCPreds_df_test = pd.DataFrame(np.array(powerSetSVCPreds_test.todense()), columns=y_val.columns)"
   ]
  },
  {
   "cell_type": "code",
   "execution_count": 348,
   "metadata": {
    "execution": {
     "iopub.execute_input": "2024-12-09T22:51:28.270684Z",
     "iopub.status.busy": "2024-12-09T22:51:28.269075Z",
     "iopub.status.idle": "2024-12-09T22:51:28.294556Z",
     "shell.execute_reply": "2024-12-09T22:51:28.293486Z",
     "shell.execute_reply.started": "2024-12-09T22:51:28.270630Z"
    },
    "trusted": true
   },
   "outputs": [
    {
     "data": {
      "text/html": [
       "<div>\n",
       "<style scoped>\n",
       "    .dataframe tbody tr th:only-of-type {\n",
       "        vertical-align: middle;\n",
       "    }\n",
       "\n",
       "    .dataframe tbody tr th {\n",
       "        vertical-align: top;\n",
       "    }\n",
       "\n",
       "    .dataframe thead th {\n",
       "        text-align: right;\n",
       "    }\n",
       "</style>\n",
       "<table border=\"1\" class=\"dataframe\">\n",
       "  <thead>\n",
       "    <tr style=\"text-align: right;\">\n",
       "      <th></th>\n",
       "      <th>article_id</th>\n",
       "      <th>entity_mention</th>\n",
       "      <th>start_offset</th>\n",
       "      <th>end_offset</th>\n",
       "      <th>entity_paragraph</th>\n",
       "    </tr>\n",
       "  </thead>\n",
       "  <tbody>\n",
       "    <tr>\n",
       "      <th>0</th>\n",
       "      <td>EN_UA_DEV_100012.txt</td>\n",
       "      <td>Washington</td>\n",
       "      <td>1441</td>\n",
       "      <td>1450</td>\n",
       "      <td>washington cannot afford allow russia achieve ...</td>\n",
       "    </tr>\n",
       "    <tr>\n",
       "      <th>1</th>\n",
       "      <td>EN_UA_DEV_100012.txt</td>\n",
       "      <td>Americans</td>\n",
       "      <td>2397</td>\n",
       "      <td>2405</td>\n",
       "      <td>fate colonies always americans scoop natural r...</td>\n",
       "    </tr>\n",
       "    <tr>\n",
       "      <th>2</th>\n",
       "      <td>EN_CC_200053.txt</td>\n",
       "      <td>Rishi Sunak</td>\n",
       "      <td>85</td>\n",
       "      <td>95</td>\n",
       "      <td>uk prime minister rishi sunak wednesday said a...</td>\n",
       "    </tr>\n",
       "    <tr>\n",
       "      <th>3</th>\n",
       "      <td>EN_CC_200040.txt</td>\n",
       "      <td>Extinction Rebellion</td>\n",
       "      <td>189</td>\n",
       "      <td>208</td>\n",
       "      <td>extinction rebellion activists everyone loves ...</td>\n",
       "    </tr>\n",
       "    <tr>\n",
       "      <th>4</th>\n",
       "      <td>EN_CC_200070.txt</td>\n",
       "      <td>Eric Garcetti</td>\n",
       "      <td>89</td>\n",
       "      <td>101</td>\n",
       "      <td>los angeles mayor eric garcetti joined global ...</td>\n",
       "    </tr>\n",
       "  </tbody>\n",
       "</table>\n",
       "</div>"
      ],
      "text/plain": [
       "             article_id        entity_mention  start_offset  end_offset  \\\n",
       "0  EN_UA_DEV_100012.txt            Washington          1441        1450   \n",
       "1  EN_UA_DEV_100012.txt             Americans          2397        2405   \n",
       "2      EN_CC_200053.txt           Rishi Sunak            85          95   \n",
       "3      EN_CC_200040.txt  Extinction Rebellion           189         208   \n",
       "4      EN_CC_200070.txt         Eric Garcetti            89         101   \n",
       "\n",
       "                                    entity_paragraph  \n",
       "0  washington cannot afford allow russia achieve ...  \n",
       "1  fate colonies always americans scoop natural r...  \n",
       "2  uk prime minister rishi sunak wednesday said a...  \n",
       "3  extinction rebellion activists everyone loves ...  \n",
       "4  los angeles mayor eric garcetti joined global ...  "
      ]
     },
     "execution_count": 348,
     "metadata": {},
     "output_type": "execute_result"
    }
   ],
   "source": [
    "df_test.head()"
   ]
  },
  {
   "cell_type": "code",
   "execution_count": 349,
   "metadata": {
    "execution": {
     "iopub.execute_input": "2024-12-09T22:51:28.296996Z",
     "iopub.status.busy": "2024-12-09T22:51:28.296483Z",
     "iopub.status.idle": "2024-12-09T22:51:28.320030Z",
     "shell.execute_reply": "2024-12-09T22:51:28.316012Z",
     "shell.execute_reply.started": "2024-12-09T22:51:28.296941Z"
    },
    "trusted": true
   },
   "outputs": [
    {
     "data": {
      "text/html": [
       "<div>\n",
       "<style scoped>\n",
       "    .dataframe tbody tr th:only-of-type {\n",
       "        vertical-align: middle;\n",
       "    }\n",
       "\n",
       "    .dataframe tbody tr th {\n",
       "        vertical-align: top;\n",
       "    }\n",
       "\n",
       "    .dataframe thead th {\n",
       "        text-align: right;\n",
       "    }\n",
       "</style>\n",
       "<table border=\"1\" class=\"dataframe\">\n",
       "  <thead>\n",
       "    <tr style=\"text-align: right;\">\n",
       "      <th></th>\n",
       "      <th>article_id</th>\n",
       "      <th>entity_mention</th>\n",
       "      <th>start_offset</th>\n",
       "      <th>end_offset</th>\n",
       "      <th>entity_paragraph</th>\n",
       "    </tr>\n",
       "  </thead>\n",
       "  <tbody>\n",
       "    <tr>\n",
       "      <th>0</th>\n",
       "      <td>EN_UA_DEV_100012.txt</td>\n",
       "      <td>Washington</td>\n",
       "      <td>1441</td>\n",
       "      <td>1450</td>\n",
       "      <td>washington cannot afford allow russia achieve ...</td>\n",
       "    </tr>\n",
       "    <tr>\n",
       "      <th>1</th>\n",
       "      <td>EN_UA_DEV_100012.txt</td>\n",
       "      <td>Americans</td>\n",
       "      <td>2397</td>\n",
       "      <td>2405</td>\n",
       "      <td>fate colonies always americans scoop natural r...</td>\n",
       "    </tr>\n",
       "    <tr>\n",
       "      <th>2</th>\n",
       "      <td>EN_CC_200053.txt</td>\n",
       "      <td>Rishi Sunak</td>\n",
       "      <td>85</td>\n",
       "      <td>95</td>\n",
       "      <td>uk prime minister rishi sunak wednesday said a...</td>\n",
       "    </tr>\n",
       "    <tr>\n",
       "      <th>3</th>\n",
       "      <td>EN_CC_200040.txt</td>\n",
       "      <td>Extinction Rebellion</td>\n",
       "      <td>189</td>\n",
       "      <td>208</td>\n",
       "      <td>extinction rebellion activists everyone loves ...</td>\n",
       "    </tr>\n",
       "    <tr>\n",
       "      <th>4</th>\n",
       "      <td>EN_CC_200070.txt</td>\n",
       "      <td>Eric Garcetti</td>\n",
       "      <td>89</td>\n",
       "      <td>101</td>\n",
       "      <td>los angeles mayor eric garcetti joined global ...</td>\n",
       "    </tr>\n",
       "  </tbody>\n",
       "</table>\n",
       "</div>"
      ],
      "text/plain": [
       "             article_id        entity_mention  start_offset  end_offset  \\\n",
       "0  EN_UA_DEV_100012.txt            Washington          1441        1450   \n",
       "1  EN_UA_DEV_100012.txt             Americans          2397        2405   \n",
       "2      EN_CC_200053.txt           Rishi Sunak            85          95   \n",
       "3      EN_CC_200040.txt  Extinction Rebellion           189         208   \n",
       "4      EN_CC_200070.txt         Eric Garcetti            89         101   \n",
       "\n",
       "                                    entity_paragraph  \n",
       "0  washington cannot afford allow russia achieve ...  \n",
       "1  fate colonies always americans scoop natural r...  \n",
       "2  uk prime minister rishi sunak wednesday said a...  \n",
       "3  extinction rebellion activists everyone loves ...  \n",
       "4  los angeles mayor eric garcetti joined global ...  "
      ]
     },
     "execution_count": 349,
     "metadata": {},
     "output_type": "execute_result"
    }
   ],
   "source": [
    "df_test.head()"
   ]
  },
  {
   "cell_type": "code",
   "execution_count": 350,
   "metadata": {
    "execution": {
     "iopub.execute_input": "2024-12-09T22:51:28.322368Z",
     "iopub.status.busy": "2024-12-09T22:51:28.321327Z",
     "iopub.status.idle": "2024-12-09T22:51:28.357412Z",
     "shell.execute_reply": "2024-12-09T22:51:28.355298Z",
     "shell.execute_reply.started": "2024-12-09T22:51:28.322314Z"
    },
    "trusted": true
   },
   "outputs": [
    {
     "data": {
      "text/html": [
       "<div>\n",
       "<style scoped>\n",
       "    .dataframe tbody tr th:only-of-type {\n",
       "        vertical-align: middle;\n",
       "    }\n",
       "\n",
       "    .dataframe tbody tr th {\n",
       "        vertical-align: top;\n",
       "    }\n",
       "\n",
       "    .dataframe thead th {\n",
       "        text-align: right;\n",
       "    }\n",
       "</style>\n",
       "<table border=\"1\" class=\"dataframe\">\n",
       "  <thead>\n",
       "    <tr style=\"text-align: right;\">\n",
       "      <th></th>\n",
       "      <th>Bigot</th>\n",
       "      <th>Conspirator</th>\n",
       "      <th>Corrupt</th>\n",
       "      <th>Deceiver</th>\n",
       "      <th>Exploited</th>\n",
       "      <th>Foreign Adversary</th>\n",
       "      <th>Forgotten</th>\n",
       "      <th>Guardian</th>\n",
       "      <th>Incompetent</th>\n",
       "      <th>Instigator</th>\n",
       "      <th>Martyr</th>\n",
       "      <th>Peacemaker</th>\n",
       "      <th>Rebel</th>\n",
       "      <th>Saboteur</th>\n",
       "      <th>Scapegoat</th>\n",
       "      <th>Spy</th>\n",
       "      <th>Terrorist</th>\n",
       "      <th>Traitor</th>\n",
       "      <th>Tyrant</th>\n",
       "      <th>Underdog</th>\n",
       "      <th>Victim</th>\n",
       "      <th>Virtuous</th>\n",
       "    </tr>\n",
       "  </thead>\n",
       "  <tbody>\n",
       "    <tr>\n",
       "      <th>0</th>\n",
       "      <td>0</td>\n",
       "      <td>0</td>\n",
       "      <td>0</td>\n",
       "      <td>0</td>\n",
       "      <td>0</td>\n",
       "      <td>0</td>\n",
       "      <td>0</td>\n",
       "      <td>0</td>\n",
       "      <td>1</td>\n",
       "      <td>0</td>\n",
       "      <td>0</td>\n",
       "      <td>0</td>\n",
       "      <td>0</td>\n",
       "      <td>0</td>\n",
       "      <td>0</td>\n",
       "      <td>0</td>\n",
       "      <td>0</td>\n",
       "      <td>0</td>\n",
       "      <td>0</td>\n",
       "      <td>0</td>\n",
       "      <td>0</td>\n",
       "      <td>0</td>\n",
       "    </tr>\n",
       "    <tr>\n",
       "      <th>1</th>\n",
       "      <td>0</td>\n",
       "      <td>0</td>\n",
       "      <td>0</td>\n",
       "      <td>0</td>\n",
       "      <td>0</td>\n",
       "      <td>0</td>\n",
       "      <td>0</td>\n",
       "      <td>0</td>\n",
       "      <td>0</td>\n",
       "      <td>0</td>\n",
       "      <td>0</td>\n",
       "      <td>0</td>\n",
       "      <td>0</td>\n",
       "      <td>0</td>\n",
       "      <td>0</td>\n",
       "      <td>0</td>\n",
       "      <td>0</td>\n",
       "      <td>0</td>\n",
       "      <td>0</td>\n",
       "      <td>0</td>\n",
       "      <td>1</td>\n",
       "      <td>0</td>\n",
       "    </tr>\n",
       "    <tr>\n",
       "      <th>2</th>\n",
       "      <td>0</td>\n",
       "      <td>0</td>\n",
       "      <td>1</td>\n",
       "      <td>0</td>\n",
       "      <td>0</td>\n",
       "      <td>0</td>\n",
       "      <td>0</td>\n",
       "      <td>0</td>\n",
       "      <td>0</td>\n",
       "      <td>0</td>\n",
       "      <td>0</td>\n",
       "      <td>0</td>\n",
       "      <td>0</td>\n",
       "      <td>0</td>\n",
       "      <td>0</td>\n",
       "      <td>0</td>\n",
       "      <td>0</td>\n",
       "      <td>0</td>\n",
       "      <td>0</td>\n",
       "      <td>0</td>\n",
       "      <td>0</td>\n",
       "      <td>0</td>\n",
       "    </tr>\n",
       "    <tr>\n",
       "      <th>3</th>\n",
       "      <td>0</td>\n",
       "      <td>1</td>\n",
       "      <td>0</td>\n",
       "      <td>0</td>\n",
       "      <td>0</td>\n",
       "      <td>0</td>\n",
       "      <td>0</td>\n",
       "      <td>0</td>\n",
       "      <td>0</td>\n",
       "      <td>0</td>\n",
       "      <td>0</td>\n",
       "      <td>0</td>\n",
       "      <td>0</td>\n",
       "      <td>0</td>\n",
       "      <td>0</td>\n",
       "      <td>0</td>\n",
       "      <td>0</td>\n",
       "      <td>0</td>\n",
       "      <td>0</td>\n",
       "      <td>0</td>\n",
       "      <td>0</td>\n",
       "      <td>0</td>\n",
       "    </tr>\n",
       "    <tr>\n",
       "      <th>4</th>\n",
       "      <td>0</td>\n",
       "      <td>0</td>\n",
       "      <td>0</td>\n",
       "      <td>1</td>\n",
       "      <td>0</td>\n",
       "      <td>0</td>\n",
       "      <td>0</td>\n",
       "      <td>0</td>\n",
       "      <td>0</td>\n",
       "      <td>0</td>\n",
       "      <td>0</td>\n",
       "      <td>0</td>\n",
       "      <td>0</td>\n",
       "      <td>0</td>\n",
       "      <td>0</td>\n",
       "      <td>0</td>\n",
       "      <td>0</td>\n",
       "      <td>0</td>\n",
       "      <td>0</td>\n",
       "      <td>0</td>\n",
       "      <td>0</td>\n",
       "      <td>0</td>\n",
       "    </tr>\n",
       "  </tbody>\n",
       "</table>\n",
       "</div>"
      ],
      "text/plain": [
       "   Bigot  Conspirator  Corrupt  Deceiver  Exploited  Foreign Adversary  \\\n",
       "0      0            0        0         0          0                  0   \n",
       "1      0            0        0         0          0                  0   \n",
       "2      0            0        1         0          0                  0   \n",
       "3      0            1        0         0          0                  0   \n",
       "4      0            0        0         1          0                  0   \n",
       "\n",
       "   Forgotten  Guardian  Incompetent  Instigator  Martyr  Peacemaker  Rebel  \\\n",
       "0          0         0            1           0       0           0      0   \n",
       "1          0         0            0           0       0           0      0   \n",
       "2          0         0            0           0       0           0      0   \n",
       "3          0         0            0           0       0           0      0   \n",
       "4          0         0            0           0       0           0      0   \n",
       "\n",
       "   Saboteur  Scapegoat  Spy  Terrorist  Traitor  Tyrant  Underdog  Victim  \\\n",
       "0         0          0    0          0        0       0         0       0   \n",
       "1         0          0    0          0        0       0         0       1   \n",
       "2         0          0    0          0        0       0         0       0   \n",
       "3         0          0    0          0        0       0         0       0   \n",
       "4         0          0    0          0        0       0         0       0   \n",
       "\n",
       "   Virtuous  \n",
       "0         0  \n",
       "1         0  \n",
       "2         0  \n",
       "3         0  \n",
       "4         0  "
      ]
     },
     "execution_count": 350,
     "metadata": {},
     "output_type": "execute_result"
    }
   ],
   "source": [
    "powerSetSVCPreds_df_test.head()"
   ]
  },
  {
   "cell_type": "code",
   "execution_count": 351,
   "metadata": {
    "execution": {
     "iopub.execute_input": "2024-12-09T22:51:28.365378Z",
     "iopub.status.busy": "2024-12-09T22:51:28.360188Z",
     "iopub.status.idle": "2024-12-09T22:51:28.384671Z",
     "shell.execute_reply": "2024-12-09T22:51:28.383637Z",
     "shell.execute_reply.started": "2024-12-09T22:51:28.365318Z"
    },
    "trusted": true
   },
   "outputs": [],
   "source": [
    "# Function to convert each row into a comma-separated string of column names where the value is 1\n",
    "def get_column_names_with_ones(row):\n",
    "    return ','.join([col for col in row.index if row[col] == 1])\n",
    "\n",
    "# Apply the function to each row of the DataFrame\n",
    "powerSetSVCPreds_df_test_single_column = powerSetSVCPreds_df_test.apply(get_column_names_with_ones, axis=1)\n",
    "\n",
    "# Convert the result to a DataFrame with a single column\n",
    "powerSetSVCPreds_df_test_single_column = pd.DataFrame(powerSetSVCPreds_df_test_single_column, columns=['Predictions'])"
   ]
  },
  {
   "cell_type": "code",
   "execution_count": 352,
   "metadata": {
    "execution": {
     "iopub.execute_input": "2024-12-09T22:51:28.386231Z",
     "iopub.status.busy": "2024-12-09T22:51:28.385863Z",
     "iopub.status.idle": "2024-12-09T22:51:28.393661Z",
     "shell.execute_reply": "2024-12-09T22:51:28.392738Z",
     "shell.execute_reply.started": "2024-12-09T22:51:28.386193Z"
    },
    "trusted": true
   },
   "outputs": [
    {
     "data": {
      "text/html": [
       "<div>\n",
       "<style scoped>\n",
       "    .dataframe tbody tr th:only-of-type {\n",
       "        vertical-align: middle;\n",
       "    }\n",
       "\n",
       "    .dataframe tbody tr th {\n",
       "        vertical-align: top;\n",
       "    }\n",
       "\n",
       "    .dataframe thead th {\n",
       "        text-align: right;\n",
       "    }\n",
       "</style>\n",
       "<table border=\"1\" class=\"dataframe\">\n",
       "  <thead>\n",
       "    <tr style=\"text-align: right;\">\n",
       "      <th></th>\n",
       "      <th>Predictions</th>\n",
       "    </tr>\n",
       "  </thead>\n",
       "  <tbody>\n",
       "    <tr>\n",
       "      <th>0</th>\n",
       "      <td>Incompetent</td>\n",
       "    </tr>\n",
       "    <tr>\n",
       "      <th>1</th>\n",
       "      <td>Victim</td>\n",
       "    </tr>\n",
       "    <tr>\n",
       "      <th>2</th>\n",
       "      <td>Corrupt</td>\n",
       "    </tr>\n",
       "    <tr>\n",
       "      <th>3</th>\n",
       "      <td>Conspirator</td>\n",
       "    </tr>\n",
       "    <tr>\n",
       "      <th>4</th>\n",
       "      <td>Deceiver</td>\n",
       "    </tr>\n",
       "  </tbody>\n",
       "</table>\n",
       "</div>"
      ],
      "text/plain": [
       "   Predictions\n",
       "0  Incompetent\n",
       "1       Victim\n",
       "2      Corrupt\n",
       "3  Conspirator\n",
       "4     Deceiver"
      ]
     },
     "execution_count": 352,
     "metadata": {},
     "output_type": "execute_result"
    }
   ],
   "source": [
    "powerSetSVCPreds_df_test_single_column.head()"
   ]
  },
  {
   "cell_type": "code",
   "execution_count": 353,
   "metadata": {
    "execution": {
     "iopub.execute_input": "2024-12-09T22:51:28.395289Z",
     "iopub.status.busy": "2024-12-09T22:51:28.395015Z",
     "iopub.status.idle": "2024-12-09T22:51:28.405331Z",
     "shell.execute_reply": "2024-12-09T22:51:28.404327Z",
     "shell.execute_reply.started": "2024-12-09T22:51:28.395264Z"
    },
    "trusted": true
   },
   "outputs": [
    {
     "data": {
      "text/html": [
       "<div>\n",
       "<style scoped>\n",
       "    .dataframe tbody tr th:only-of-type {\n",
       "        vertical-align: middle;\n",
       "    }\n",
       "\n",
       "    .dataframe tbody tr th {\n",
       "        vertical-align: top;\n",
       "    }\n",
       "\n",
       "    .dataframe thead th {\n",
       "        text-align: right;\n",
       "    }\n",
       "</style>\n",
       "<table border=\"1\" class=\"dataframe\">\n",
       "  <thead>\n",
       "    <tr style=\"text-align: right;\">\n",
       "      <th></th>\n",
       "      <th>fine_grained_roles</th>\n",
       "    </tr>\n",
       "  </thead>\n",
       "  <tbody>\n",
       "    <tr>\n",
       "      <th>0</th>\n",
       "      <td>Incompetent</td>\n",
       "    </tr>\n",
       "    <tr>\n",
       "      <th>1</th>\n",
       "      <td>Victim</td>\n",
       "    </tr>\n",
       "    <tr>\n",
       "      <th>2</th>\n",
       "      <td>Corrupt</td>\n",
       "    </tr>\n",
       "    <tr>\n",
       "      <th>3</th>\n",
       "      <td>Conspirator</td>\n",
       "    </tr>\n",
       "    <tr>\n",
       "      <th>4</th>\n",
       "      <td>Deceiver</td>\n",
       "    </tr>\n",
       "  </tbody>\n",
       "</table>\n",
       "</div>"
      ],
      "text/plain": [
       "  fine_grained_roles\n",
       "0        Incompetent\n",
       "1             Victim\n",
       "2            Corrupt\n",
       "3        Conspirator\n",
       "4           Deceiver"
      ]
     },
     "execution_count": 353,
     "metadata": {},
     "output_type": "execute_result"
    }
   ],
   "source": [
    "# Rename the Predictions column to the desired name, e.g., 'Labels'\n",
    "powerSetSVCPreds_df_test_single_column.rename(columns={'Predictions': 'fine_grained_roles'}, inplace=True)\n",
    "\n",
    "# Print the result to verify\n",
    "powerSetSVCPreds_df_test_single_column.head()"
   ]
  },
  {
   "cell_type": "code",
   "execution_count": 354,
   "metadata": {
    "execution": {
     "iopub.execute_input": "2024-12-09T22:51:28.406698Z",
     "iopub.status.busy": "2024-12-09T22:51:28.406432Z",
     "iopub.status.idle": "2024-12-09T22:51:28.421014Z",
     "shell.execute_reply": "2024-12-09T22:51:28.420094Z",
     "shell.execute_reply.started": "2024-12-09T22:51:28.406670Z"
    },
    "trusted": true
   },
   "outputs": [
    {
     "name": "stdout",
     "output_type": "stream",
     "text": [
      "Ambiguous rows: []\n"
     ]
    },
    {
     "data": {
      "text/html": [
       "<div>\n",
       "<style scoped>\n",
       "    .dataframe tbody tr th:only-of-type {\n",
       "        vertical-align: middle;\n",
       "    }\n",
       "\n",
       "    .dataframe tbody tr th {\n",
       "        vertical-align: top;\n",
       "    }\n",
       "\n",
       "    .dataframe thead th {\n",
       "        text-align: right;\n",
       "    }\n",
       "</style>\n",
       "<table border=\"1\" class=\"dataframe\">\n",
       "  <thead>\n",
       "    <tr style=\"text-align: right;\">\n",
       "      <th></th>\n",
       "      <th>fine_grained_roles</th>\n",
       "      <th>main_role</th>\n",
       "    </tr>\n",
       "  </thead>\n",
       "  <tbody>\n",
       "    <tr>\n",
       "      <th>0</th>\n",
       "      <td>Incompetent</td>\n",
       "      <td>Antagonist</td>\n",
       "    </tr>\n",
       "    <tr>\n",
       "      <th>1</th>\n",
       "      <td>Victim</td>\n",
       "      <td>Innocent</td>\n",
       "    </tr>\n",
       "    <tr>\n",
       "      <th>2</th>\n",
       "      <td>Corrupt</td>\n",
       "      <td>Antagonist</td>\n",
       "    </tr>\n",
       "    <tr>\n",
       "      <th>3</th>\n",
       "      <td>Conspirator</td>\n",
       "      <td>Antagonist</td>\n",
       "    </tr>\n",
       "    <tr>\n",
       "      <th>4</th>\n",
       "      <td>Deceiver</td>\n",
       "      <td>Antagonist</td>\n",
       "    </tr>\n",
       "  </tbody>\n",
       "</table>\n",
       "</div>"
      ],
      "text/plain": [
       "  fine_grained_roles   main_role\n",
       "0        Incompetent  Antagonist\n",
       "1             Victim    Innocent\n",
       "2            Corrupt  Antagonist\n",
       "3        Conspirator  Antagonist\n",
       "4           Deceiver  Antagonist"
      ]
     },
     "execution_count": 354,
     "metadata": {},
     "output_type": "execute_result"
    }
   ],
   "source": [
    "# Define the role lists\n",
    "PROTAGONISTS = ['Guardian', 'Martyr', 'Peacemaker', 'Rebel', 'Underdog', 'Virtuous']\n",
    "ANTAGONISTS = ['Instigator', 'Conspirator', 'Tyrant', 'Foreign Adversary', 'Traitor', 'Spy', 'Saboteur', 'Corrupt', 'Incompetent', 'Terrorist', 'Deceiver', 'Bigot']\n",
    "INNOCENTS = ['Forgotten', 'Exploited', 'Victim', 'Scapegoat']\n",
    "\n",
    "# Initialize an empty list to store indices of ambiguous rows\n",
    "ambiguous = []\n",
    "\n",
    "# Function to decide the main role based on the labels\n",
    "def decide_main_role(labels):\n",
    "    # Split the comma-separated labels\n",
    "    roles = labels.split(',')\n",
    "\n",
    "    # Create counters for each category\n",
    "    protagonist_count = sum(1 for role in roles if role in PROTAGONISTS)\n",
    "    antagonist_count = sum(1 for role in roles if role in ANTAGONISTS)\n",
    "    innocent_count = sum(1 for role in roles if role in INNOCENTS)\n",
    "\n",
    "    # If more than one category is represented, check for ambiguity\n",
    "    if (protagonist_count > 0 and antagonist_count > 0) or \\\n",
    "       (protagonist_count > 0 and innocent_count > 0) or \\\n",
    "       (antagonist_count > 0 and innocent_count > 0):\n",
    "        ambiguous.append(labels)  # Add to ambiguous list\n",
    "        return None  # Set main_role as None for ambiguous cases\n",
    "    \n",
    "    # Majority voting - select the category with the highest count\n",
    "    if protagonist_count > max(antagonist_count, innocent_count):\n",
    "        return 'Protagonist'\n",
    "    elif antagonist_count > max(protagonist_count, innocent_count):\n",
    "        return 'Antagonist'\n",
    "    elif innocent_count > max(protagonist_count, antagonist_count):\n",
    "        return 'Innocent'\n",
    "    else:\n",
    "        # Handle case where there's no majority (all are 0)\n",
    "        return None\n",
    "\n",
    "# Apply the function to create the 'main_role' column\n",
    "powerSetSVCPreds_df_test_single_column['main_role'] = powerSetSVCPreds_df_test_single_column['fine_grained_roles'].apply(decide_main_role)\n",
    "\n",
    "# Print the list of ambiguous rows (optional)\n",
    "print(\"Ambiguous rows:\", ambiguous)\n",
    "\n",
    "powerSetSVCPreds_df_test_single_column.head()"
   ]
  },
  {
   "cell_type": "code",
   "execution_count": 355,
   "metadata": {
    "execution": {
     "iopub.execute_input": "2024-12-09T22:51:28.422475Z",
     "iopub.status.busy": "2024-12-09T22:51:28.422194Z",
     "iopub.status.idle": "2024-12-09T22:51:28.437287Z",
     "shell.execute_reply": "2024-12-09T22:51:28.436464Z",
     "shell.execute_reply.started": "2024-12-09T22:51:28.422432Z"
    },
    "trusted": true
   },
   "outputs": [
    {
     "data": {
      "text/html": [
       "<div>\n",
       "<style scoped>\n",
       "    .dataframe tbody tr th:only-of-type {\n",
       "        vertical-align: middle;\n",
       "    }\n",
       "\n",
       "    .dataframe tbody tr th {\n",
       "        vertical-align: top;\n",
       "    }\n",
       "\n",
       "    .dataframe thead th {\n",
       "        text-align: right;\n",
       "    }\n",
       "</style>\n",
       "<table border=\"1\" class=\"dataframe\">\n",
       "  <thead>\n",
       "    <tr style=\"text-align: right;\">\n",
       "      <th></th>\n",
       "      <th>article_id</th>\n",
       "      <th>entity_mention</th>\n",
       "      <th>start_offset</th>\n",
       "      <th>end_offset</th>\n",
       "      <th>entity_paragraph</th>\n",
       "      <th>fine_grained_roles</th>\n",
       "      <th>main_role</th>\n",
       "    </tr>\n",
       "  </thead>\n",
       "  <tbody>\n",
       "    <tr>\n",
       "      <th>0</th>\n",
       "      <td>EN_UA_DEV_100012.txt</td>\n",
       "      <td>Washington</td>\n",
       "      <td>1441</td>\n",
       "      <td>1450</td>\n",
       "      <td>washington cannot afford allow russia achieve ...</td>\n",
       "      <td>Incompetent</td>\n",
       "      <td>Antagonist</td>\n",
       "    </tr>\n",
       "    <tr>\n",
       "      <th>1</th>\n",
       "      <td>EN_UA_DEV_100012.txt</td>\n",
       "      <td>Americans</td>\n",
       "      <td>2397</td>\n",
       "      <td>2405</td>\n",
       "      <td>fate colonies always americans scoop natural r...</td>\n",
       "      <td>Victim</td>\n",
       "      <td>Innocent</td>\n",
       "    </tr>\n",
       "    <tr>\n",
       "      <th>2</th>\n",
       "      <td>EN_CC_200053.txt</td>\n",
       "      <td>Rishi Sunak</td>\n",
       "      <td>85</td>\n",
       "      <td>95</td>\n",
       "      <td>uk prime minister rishi sunak wednesday said a...</td>\n",
       "      <td>Corrupt</td>\n",
       "      <td>Antagonist</td>\n",
       "    </tr>\n",
       "    <tr>\n",
       "      <th>3</th>\n",
       "      <td>EN_CC_200040.txt</td>\n",
       "      <td>Extinction Rebellion</td>\n",
       "      <td>189</td>\n",
       "      <td>208</td>\n",
       "      <td>extinction rebellion activists everyone loves ...</td>\n",
       "      <td>Conspirator</td>\n",
       "      <td>Antagonist</td>\n",
       "    </tr>\n",
       "    <tr>\n",
       "      <th>4</th>\n",
       "      <td>EN_CC_200070.txt</td>\n",
       "      <td>Eric Garcetti</td>\n",
       "      <td>89</td>\n",
       "      <td>101</td>\n",
       "      <td>los angeles mayor eric garcetti joined global ...</td>\n",
       "      <td>Deceiver</td>\n",
       "      <td>Antagonist</td>\n",
       "    </tr>\n",
       "  </tbody>\n",
       "</table>\n",
       "</div>"
      ],
      "text/plain": [
       "             article_id        entity_mention  start_offset  end_offset  \\\n",
       "0  EN_UA_DEV_100012.txt            Washington          1441        1450   \n",
       "1  EN_UA_DEV_100012.txt             Americans          2397        2405   \n",
       "2      EN_CC_200053.txt           Rishi Sunak            85          95   \n",
       "3      EN_CC_200040.txt  Extinction Rebellion           189         208   \n",
       "4      EN_CC_200070.txt         Eric Garcetti            89         101   \n",
       "\n",
       "                                    entity_paragraph fine_grained_roles  \\\n",
       "0  washington cannot afford allow russia achieve ...        Incompetent   \n",
       "1  fate colonies always americans scoop natural r...             Victim   \n",
       "2  uk prime minister rishi sunak wednesday said a...            Corrupt   \n",
       "3  extinction rebellion activists everyone loves ...        Conspirator   \n",
       "4  los angeles mayor eric garcetti joined global ...           Deceiver   \n",
       "\n",
       "    main_role  \n",
       "0  Antagonist  \n",
       "1    Innocent  \n",
       "2  Antagonist  \n",
       "3  Antagonist  \n",
       "4  Antagonist  "
      ]
     },
     "execution_count": 355,
     "metadata": {},
     "output_type": "execute_result"
    }
   ],
   "source": [
    "# Concatenate df_test and powerSetSVCPreds_df_test along the columns (axis=1)\n",
    "combined_df = pd.concat([df_test, powerSetSVCPreds_df_test_single_column], axis=1)\n",
    "\n",
    "# Print the result to verify\n",
    "combined_df.head()"
   ]
  },
  {
   "cell_type": "code",
   "execution_count": 356,
   "metadata": {
    "execution": {
     "iopub.execute_input": "2024-12-09T22:51:28.438884Z",
     "iopub.status.busy": "2024-12-09T22:51:28.438447Z",
     "iopub.status.idle": "2024-12-09T22:51:28.448249Z",
     "shell.execute_reply": "2024-12-09T22:51:28.447561Z",
     "shell.execute_reply.started": "2024-12-09T22:51:28.438843Z"
    },
    "trusted": true
   },
   "outputs": [],
   "source": [
    "df_dev = combined_df[['article_id', 'entity_mention', 'start_offset', 'end_offset', \n",
    "                      'main_role', 'fine_grained_roles']]"
   ]
  },
  {
   "cell_type": "code",
   "execution_count": 357,
   "metadata": {
    "execution": {
     "iopub.execute_input": "2024-12-09T22:51:28.449552Z",
     "iopub.status.busy": "2024-12-09T22:51:28.449284Z",
     "iopub.status.idle": "2024-12-09T22:51:28.462396Z",
     "shell.execute_reply": "2024-12-09T22:51:28.461408Z",
     "shell.execute_reply.started": "2024-12-09T22:51:28.449525Z"
    },
    "trusted": true
   },
   "outputs": [
    {
     "data": {
      "text/html": [
       "<div>\n",
       "<style scoped>\n",
       "    .dataframe tbody tr th:only-of-type {\n",
       "        vertical-align: middle;\n",
       "    }\n",
       "\n",
       "    .dataframe tbody tr th {\n",
       "        vertical-align: top;\n",
       "    }\n",
       "\n",
       "    .dataframe thead th {\n",
       "        text-align: right;\n",
       "    }\n",
       "</style>\n",
       "<table border=\"1\" class=\"dataframe\">\n",
       "  <thead>\n",
       "    <tr style=\"text-align: right;\">\n",
       "      <th></th>\n",
       "      <th>article_id</th>\n",
       "      <th>entity_mention</th>\n",
       "      <th>start_offset</th>\n",
       "      <th>end_offset</th>\n",
       "      <th>main_role</th>\n",
       "      <th>fine_grained_roles</th>\n",
       "    </tr>\n",
       "  </thead>\n",
       "  <tbody>\n",
       "    <tr>\n",
       "      <th>0</th>\n",
       "      <td>EN_UA_DEV_100012.txt</td>\n",
       "      <td>Washington</td>\n",
       "      <td>1441</td>\n",
       "      <td>1450</td>\n",
       "      <td>Antagonist</td>\n",
       "      <td>Incompetent</td>\n",
       "    </tr>\n",
       "    <tr>\n",
       "      <th>1</th>\n",
       "      <td>EN_UA_DEV_100012.txt</td>\n",
       "      <td>Americans</td>\n",
       "      <td>2397</td>\n",
       "      <td>2405</td>\n",
       "      <td>Innocent</td>\n",
       "      <td>Victim</td>\n",
       "    </tr>\n",
       "    <tr>\n",
       "      <th>2</th>\n",
       "      <td>EN_CC_200053.txt</td>\n",
       "      <td>Rishi Sunak</td>\n",
       "      <td>85</td>\n",
       "      <td>95</td>\n",
       "      <td>Antagonist</td>\n",
       "      <td>Corrupt</td>\n",
       "    </tr>\n",
       "    <tr>\n",
       "      <th>3</th>\n",
       "      <td>EN_CC_200040.txt</td>\n",
       "      <td>Extinction Rebellion</td>\n",
       "      <td>189</td>\n",
       "      <td>208</td>\n",
       "      <td>Antagonist</td>\n",
       "      <td>Conspirator</td>\n",
       "    </tr>\n",
       "    <tr>\n",
       "      <th>4</th>\n",
       "      <td>EN_CC_200070.txt</td>\n",
       "      <td>Eric Garcetti</td>\n",
       "      <td>89</td>\n",
       "      <td>101</td>\n",
       "      <td>Antagonist</td>\n",
       "      <td>Deceiver</td>\n",
       "    </tr>\n",
       "  </tbody>\n",
       "</table>\n",
       "</div>"
      ],
      "text/plain": [
       "             article_id        entity_mention  start_offset  end_offset  \\\n",
       "0  EN_UA_DEV_100012.txt            Washington          1441        1450   \n",
       "1  EN_UA_DEV_100012.txt             Americans          2397        2405   \n",
       "2      EN_CC_200053.txt           Rishi Sunak            85          95   \n",
       "3      EN_CC_200040.txt  Extinction Rebellion           189         208   \n",
       "4      EN_CC_200070.txt         Eric Garcetti            89         101   \n",
       "\n",
       "    main_role fine_grained_roles  \n",
       "0  Antagonist        Incompetent  \n",
       "1    Innocent             Victim  \n",
       "2  Antagonist            Corrupt  \n",
       "3  Antagonist        Conspirator  \n",
       "4  Antagonist           Deceiver  "
      ]
     },
     "execution_count": 357,
     "metadata": {},
     "output_type": "execute_result"
    }
   ],
   "source": [
    "df_dev.head()"
   ]
  },
  {
   "cell_type": "code",
   "execution_count": 358,
   "metadata": {
    "execution": {
     "iopub.execute_input": "2024-12-09T22:51:28.463877Z",
     "iopub.status.busy": "2024-12-09T22:51:28.463584Z",
     "iopub.status.idle": "2024-12-09T22:51:28.478412Z",
     "shell.execute_reply": "2024-12-09T22:51:28.477663Z",
     "shell.execute_reply.started": "2024-12-09T22:51:28.463838Z"
    },
    "trusted": true
   },
   "outputs": [
    {
     "name": "stdout",
     "output_type": "stream",
     "text": [
      "DataFrame saved successfully as a tab-separated file.\n"
     ]
    }
   ],
   "source": [
    "# Open the file in write mode\n",
    "with open('output_file_final_tfidf_lp.txt', 'w', encoding='utf-8') as f:\n",
    "    # Write the header\n",
    "    header = df_dev.columns.tolist()\n",
    "    f.write('\\t'.join(header) + '\\n')\n",
    "    \n",
    "    # Iterate through each row and write the data\n",
    "    for _, row in df_dev.iterrows():\n",
    "        # Replace commas in fine_grained_roles with tabs\n",
    "        fine_grained_roles = row['fine_grained_roles'].replace(',', '\\t')\n",
    "        \n",
    "        # Create a list of row values\n",
    "        row_values = [str(row[col]) if col != 'fine_grained_roles' else fine_grained_roles for col in df_dev.columns]\n",
    "        \n",
    "        # Write the row to the file, separating values with tabs\n",
    "        f.write('\\t'.join(row_values) + '\\n')\n",
    "\n",
    "# Print to verify\n",
    "print(\"DataFrame saved successfully as a tab-separated file.\")"
   ]
  },
  {
   "cell_type": "markdown",
   "metadata": {},
   "source": [
    "## LLM"
   ]
  },
  {
   "cell_type": "code",
   "execution_count": 745,
   "metadata": {
    "execution": {
     "iopub.execute_input": "2024-12-10T02:25:17.591319Z",
     "iopub.status.busy": "2024-12-10T02:25:17.590395Z",
     "iopub.status.idle": "2024-12-10T02:25:17.609032Z",
     "shell.execute_reply": "2024-12-10T02:25:17.607997Z",
     "shell.execute_reply.started": "2024-12-10T02:25:17.591283Z"
    },
    "trusted": true
   },
   "outputs": [
    {
     "data": {
      "text/html": [
       "<div>\n",
       "<style scoped>\n",
       "    .dataframe tbody tr th:only-of-type {\n",
       "        vertical-align: middle;\n",
       "    }\n",
       "\n",
       "    .dataframe tbody tr th {\n",
       "        vertical-align: top;\n",
       "    }\n",
       "\n",
       "    .dataframe thead th {\n",
       "        text-align: right;\n",
       "    }\n",
       "</style>\n",
       "<table border=\"1\" class=\"dataframe\">\n",
       "  <thead>\n",
       "    <tr style=\"text-align: right;\">\n",
       "      <th></th>\n",
       "      <th>article_id</th>\n",
       "      <th>entity_mention</th>\n",
       "      <th>start_offset</th>\n",
       "      <th>end_offset</th>\n",
       "      <th>main_role</th>\n",
       "      <th>fine_grained_roles</th>\n",
       "      <th>Bigot</th>\n",
       "      <th>Conspirator</th>\n",
       "      <th>Corrupt</th>\n",
       "      <th>Deceiver</th>\n",
       "      <th>Exploited</th>\n",
       "      <th>Foreign Adversary</th>\n",
       "      <th>Forgotten</th>\n",
       "      <th>Guardian</th>\n",
       "      <th>Incompetent</th>\n",
       "      <th>Instigator</th>\n",
       "      <th>Martyr</th>\n",
       "      <th>Peacemaker</th>\n",
       "      <th>Rebel</th>\n",
       "      <th>Saboteur</th>\n",
       "      <th>Scapegoat</th>\n",
       "      <th>Spy</th>\n",
       "      <th>Terrorist</th>\n",
       "      <th>Traitor</th>\n",
       "      <th>Tyrant</th>\n",
       "      <th>Underdog</th>\n",
       "      <th>Victim</th>\n",
       "      <th>Virtuous</th>\n",
       "      <th>entity_paragraph</th>\n",
       "    </tr>\n",
       "  </thead>\n",
       "  <tbody>\n",
       "    <tr>\n",
       "      <th>0</th>\n",
       "      <td>EN_UA_300053.txt</td>\n",
       "      <td>Kiev</td>\n",
       "      <td>144</td>\n",
       "      <td>147</td>\n",
       "      <td>Antagonist</td>\n",
       "      <td>[Corrupt]</td>\n",
       "      <td>0</td>\n",
       "      <td>0</td>\n",
       "      <td>1</td>\n",
       "      <td>0</td>\n",
       "      <td>0</td>\n",
       "      <td>0</td>\n",
       "      <td>0</td>\n",
       "      <td>0</td>\n",
       "      <td>0</td>\n",
       "      <td>0</td>\n",
       "      <td>0</td>\n",
       "      <td>0</td>\n",
       "      <td>0</td>\n",
       "      <td>0</td>\n",
       "      <td>0</td>\n",
       "      <td>0</td>\n",
       "      <td>0</td>\n",
       "      <td>0</td>\n",
       "      <td>0</td>\n",
       "      <td>0</td>\n",
       "      <td>0</td>\n",
       "      <td>0</td>\n",
       "      <td>top french politician claimed large part weste...</td>\n",
       "    </tr>\n",
       "    <tr>\n",
       "      <th>1</th>\n",
       "      <td>EN_UA_300040.txt</td>\n",
       "      <td>Ukrainians</td>\n",
       "      <td>1912</td>\n",
       "      <td>1921</td>\n",
       "      <td>Innocent</td>\n",
       "      <td>[Victim]</td>\n",
       "      <td>0</td>\n",
       "      <td>0</td>\n",
       "      <td>0</td>\n",
       "      <td>0</td>\n",
       "      <td>0</td>\n",
       "      <td>0</td>\n",
       "      <td>0</td>\n",
       "      <td>0</td>\n",
       "      <td>0</td>\n",
       "      <td>0</td>\n",
       "      <td>0</td>\n",
       "      <td>0</td>\n",
       "      <td>0</td>\n",
       "      <td>0</td>\n",
       "      <td>0</td>\n",
       "      <td>0</td>\n",
       "      <td>0</td>\n",
       "      <td>0</td>\n",
       "      <td>0</td>\n",
       "      <td>0</td>\n",
       "      <td>1</td>\n",
       "      <td>0</td>\n",
       "      <td>one speeches american voters said want make am...</td>\n",
       "    </tr>\n",
       "    <tr>\n",
       "      <th>2</th>\n",
       "      <td>EN_CC_200022.txt</td>\n",
       "      <td>World Economic Forum</td>\n",
       "      <td>408</td>\n",
       "      <td>427</td>\n",
       "      <td>Antagonist</td>\n",
       "      <td>[Conspirator]</td>\n",
       "      <td>0</td>\n",
       "      <td>1</td>\n",
       "      <td>0</td>\n",
       "      <td>0</td>\n",
       "      <td>0</td>\n",
       "      <td>0</td>\n",
       "      <td>0</td>\n",
       "      <td>0</td>\n",
       "      <td>0</td>\n",
       "      <td>0</td>\n",
       "      <td>0</td>\n",
       "      <td>0</td>\n",
       "      <td>0</td>\n",
       "      <td>0</td>\n",
       "      <td>0</td>\n",
       "      <td>0</td>\n",
       "      <td>0</td>\n",
       "      <td>0</td>\n",
       "      <td>0</td>\n",
       "      <td>0</td>\n",
       "      <td>0</td>\n",
       "      <td>0</td>\n",
       "      <td>demark become first country world introduce ca...</td>\n",
       "    </tr>\n",
       "    <tr>\n",
       "      <th>3</th>\n",
       "      <td>EN_CC_100035.txt</td>\n",
       "      <td>Gates</td>\n",
       "      <td>1634</td>\n",
       "      <td>1638</td>\n",
       "      <td>Antagonist</td>\n",
       "      <td>[Conspirator]</td>\n",
       "      <td>0</td>\n",
       "      <td>1</td>\n",
       "      <td>0</td>\n",
       "      <td>0</td>\n",
       "      <td>0</td>\n",
       "      <td>0</td>\n",
       "      <td>0</td>\n",
       "      <td>0</td>\n",
       "      <td>0</td>\n",
       "      <td>0</td>\n",
       "      <td>0</td>\n",
       "      <td>0</td>\n",
       "      <td>0</td>\n",
       "      <td>0</td>\n",
       "      <td>0</td>\n",
       "      <td>0</td>\n",
       "      <td>0</td>\n",
       "      <td>0</td>\n",
       "      <td>0</td>\n",
       "      <td>0</td>\n",
       "      <td>0</td>\n",
       "      <td>0</td>\n",
       "      <td>livestock earth thousands year according bunch...</td>\n",
       "    </tr>\n",
       "    <tr>\n",
       "      <th>4</th>\n",
       "      <td>EN_UA_300036.txt</td>\n",
       "      <td>The United States</td>\n",
       "      <td>84</td>\n",
       "      <td>100</td>\n",
       "      <td>Protagonist</td>\n",
       "      <td>[Virtuous]</td>\n",
       "      <td>0</td>\n",
       "      <td>0</td>\n",
       "      <td>0</td>\n",
       "      <td>0</td>\n",
       "      <td>0</td>\n",
       "      <td>0</td>\n",
       "      <td>0</td>\n",
       "      <td>0</td>\n",
       "      <td>0</td>\n",
       "      <td>0</td>\n",
       "      <td>0</td>\n",
       "      <td>0</td>\n",
       "      <td>0</td>\n",
       "      <td>0</td>\n",
       "      <td>0</td>\n",
       "      <td>0</td>\n",
       "      <td>0</td>\n",
       "      <td>0</td>\n",
       "      <td>0</td>\n",
       "      <td>0</td>\n",
       "      <td>0</td>\n",
       "      <td>1</td>\n",
       "      <td>united states plans pick slack producing eleme...</td>\n",
       "    </tr>\n",
       "  </tbody>\n",
       "</table>\n",
       "</div>"
      ],
      "text/plain": [
       "         article_id        entity_mention  start_offset  end_offset  \\\n",
       "0  EN_UA_300053.txt                  Kiev           144         147   \n",
       "1  EN_UA_300040.txt            Ukrainians          1912        1921   \n",
       "2  EN_CC_200022.txt  World Economic Forum           408         427   \n",
       "3  EN_CC_100035.txt                 Gates          1634        1638   \n",
       "4  EN_UA_300036.txt     The United States            84         100   \n",
       "\n",
       "     main_role fine_grained_roles  Bigot  Conspirator  Corrupt  Deceiver  \\\n",
       "0   Antagonist          [Corrupt]      0            0        1         0   \n",
       "1     Innocent           [Victim]      0            0        0         0   \n",
       "2   Antagonist      [Conspirator]      0            1        0         0   \n",
       "3   Antagonist      [Conspirator]      0            1        0         0   \n",
       "4  Protagonist         [Virtuous]      0            0        0         0   \n",
       "\n",
       "   Exploited  Foreign Adversary  Forgotten  Guardian  Incompetent  Instigator  \\\n",
       "0          0                  0          0         0            0           0   \n",
       "1          0                  0          0         0            0           0   \n",
       "2          0                  0          0         0            0           0   \n",
       "3          0                  0          0         0            0           0   \n",
       "4          0                  0          0         0            0           0   \n",
       "\n",
       "   Martyr  Peacemaker  Rebel  Saboteur  Scapegoat  Spy  Terrorist  Traitor  \\\n",
       "0       0           0      0         0          0    0          0        0   \n",
       "1       0           0      0         0          0    0          0        0   \n",
       "2       0           0      0         0          0    0          0        0   \n",
       "3       0           0      0         0          0    0          0        0   \n",
       "4       0           0      0         0          0    0          0        0   \n",
       "\n",
       "   Tyrant  Underdog  Victim  Virtuous  \\\n",
       "0       0         0       0         0   \n",
       "1       0         0       1         0   \n",
       "2       0         0       0         0   \n",
       "3       0         0       0         0   \n",
       "4       0         0       0         1   \n",
       "\n",
       "                                    entity_paragraph  \n",
       "0  top french politician claimed large part weste...  \n",
       "1  one speeches american voters said want make am...  \n",
       "2  demark become first country world introduce ca...  \n",
       "3  livestock earth thousands year according bunch...  \n",
       "4  united states plans pick slack producing eleme...  "
      ]
     },
     "execution_count": 745,
     "metadata": {},
     "output_type": "execute_result"
    }
   ],
   "source": [
    "df_train.head()"
   ]
  },
  {
   "cell_type": "code",
   "execution_count": 746,
   "metadata": {
    "execution": {
     "iopub.execute_input": "2024-12-10T02:25:17.835728Z",
     "iopub.status.busy": "2024-12-10T02:25:17.835366Z",
     "iopub.status.idle": "2024-12-10T02:25:17.854493Z",
     "shell.execute_reply": "2024-12-10T02:25:17.853532Z",
     "shell.execute_reply.started": "2024-12-10T02:25:17.835697Z"
    },
    "trusted": true
   },
   "outputs": [
    {
     "data": {
      "text/html": [
       "<div>\n",
       "<style scoped>\n",
       "    .dataframe tbody tr th:only-of-type {\n",
       "        vertical-align: middle;\n",
       "    }\n",
       "\n",
       "    .dataframe tbody tr th {\n",
       "        vertical-align: top;\n",
       "    }\n",
       "\n",
       "    .dataframe thead th {\n",
       "        text-align: right;\n",
       "    }\n",
       "</style>\n",
       "<table border=\"1\" class=\"dataframe\">\n",
       "  <thead>\n",
       "    <tr style=\"text-align: right;\">\n",
       "      <th></th>\n",
       "      <th>article_id</th>\n",
       "      <th>entity_mention</th>\n",
       "      <th>start_offset</th>\n",
       "      <th>end_offset</th>\n",
       "      <th>main_role</th>\n",
       "      <th>fine_grained_roles</th>\n",
       "      <th>Bigot</th>\n",
       "      <th>Conspirator</th>\n",
       "      <th>Corrupt</th>\n",
       "      <th>Deceiver</th>\n",
       "      <th>Exploited</th>\n",
       "      <th>Foreign Adversary</th>\n",
       "      <th>Forgotten</th>\n",
       "      <th>Guardian</th>\n",
       "      <th>Incompetent</th>\n",
       "      <th>Instigator</th>\n",
       "      <th>Martyr</th>\n",
       "      <th>Peacemaker</th>\n",
       "      <th>Rebel</th>\n",
       "      <th>Saboteur</th>\n",
       "      <th>Scapegoat</th>\n",
       "      <th>Spy</th>\n",
       "      <th>Terrorist</th>\n",
       "      <th>Traitor</th>\n",
       "      <th>Tyrant</th>\n",
       "      <th>Underdog</th>\n",
       "      <th>Victim</th>\n",
       "      <th>Virtuous</th>\n",
       "      <th>entity_paragraph</th>\n",
       "    </tr>\n",
       "  </thead>\n",
       "  <tbody>\n",
       "    <tr>\n",
       "      <th>0</th>\n",
       "      <td>EN_UA_003579.txt</td>\n",
       "      <td>international organizations</td>\n",
       "      <td>306</td>\n",
       "      <td>332</td>\n",
       "      <td>Protagonist</td>\n",
       "      <td>[Peacemaker]</td>\n",
       "      <td>0</td>\n",
       "      <td>0</td>\n",
       "      <td>0</td>\n",
       "      <td>0</td>\n",
       "      <td>0</td>\n",
       "      <td>0</td>\n",
       "      <td>0</td>\n",
       "      <td>0</td>\n",
       "      <td>0</td>\n",
       "      <td>0</td>\n",
       "      <td>0</td>\n",
       "      <td>1</td>\n",
       "      <td>0</td>\n",
       "      <td>0</td>\n",
       "      <td>0</td>\n",
       "      <td>0</td>\n",
       "      <td>0</td>\n",
       "      <td>0</td>\n",
       "      <td>0</td>\n",
       "      <td>0</td>\n",
       "      <td>0</td>\n",
       "      <td>0</td>\n",
       "      <td>ajor international organizations issued appeal...</td>\n",
       "    </tr>\n",
       "    <tr>\n",
       "      <th>1</th>\n",
       "      <td>EN_UA_029155.txt</td>\n",
       "      <td>Volodymyr Zelensky</td>\n",
       "      <td>160</td>\n",
       "      <td>177</td>\n",
       "      <td>Antagonist</td>\n",
       "      <td>[Saboteur, Conspirator]</td>\n",
       "      <td>0</td>\n",
       "      <td>1</td>\n",
       "      <td>0</td>\n",
       "      <td>0</td>\n",
       "      <td>0</td>\n",
       "      <td>0</td>\n",
       "      <td>0</td>\n",
       "      <td>0</td>\n",
       "      <td>0</td>\n",
       "      <td>0</td>\n",
       "      <td>0</td>\n",
       "      <td>0</td>\n",
       "      <td>0</td>\n",
       "      <td>1</td>\n",
       "      <td>0</td>\n",
       "      <td>0</td>\n",
       "      <td>0</td>\n",
       "      <td>0</td>\n",
       "      <td>0</td>\n",
       "      <td>0</td>\n",
       "      <td>0</td>\n",
       "      <td>0</td>\n",
       "      <td>former head german intelligence revealed ukrai...</td>\n",
       "    </tr>\n",
       "    <tr>\n",
       "      <th>2</th>\n",
       "      <td>EN_UA_003579.txt</td>\n",
       "      <td>IMF</td>\n",
       "      <td>846</td>\n",
       "      <td>848</td>\n",
       "      <td>Protagonist</td>\n",
       "      <td>[Peacemaker]</td>\n",
       "      <td>0</td>\n",
       "      <td>0</td>\n",
       "      <td>0</td>\n",
       "      <td>0</td>\n",
       "      <td>0</td>\n",
       "      <td>0</td>\n",
       "      <td>0</td>\n",
       "      <td>0</td>\n",
       "      <td>0</td>\n",
       "      <td>0</td>\n",
       "      <td>0</td>\n",
       "      <td>1</td>\n",
       "      <td>0</td>\n",
       "      <td>0</td>\n",
       "      <td>0</td>\n",
       "      <td>0</td>\n",
       "      <td>0</td>\n",
       "      <td>0</td>\n",
       "      <td>0</td>\n",
       "      <td>0</td>\n",
       "      <td>0</td>\n",
       "      <td>0</td>\n",
       "      <td>critical quickly provide support food insecure...</td>\n",
       "    </tr>\n",
       "    <tr>\n",
       "      <th>3</th>\n",
       "      <td>EN_UA_300082.txt</td>\n",
       "      <td>Kiev</td>\n",
       "      <td>975</td>\n",
       "      <td>978</td>\n",
       "      <td>Antagonist</td>\n",
       "      <td>[Terrorist]</td>\n",
       "      <td>0</td>\n",
       "      <td>0</td>\n",
       "      <td>0</td>\n",
       "      <td>0</td>\n",
       "      <td>0</td>\n",
       "      <td>0</td>\n",
       "      <td>0</td>\n",
       "      <td>0</td>\n",
       "      <td>0</td>\n",
       "      <td>0</td>\n",
       "      <td>0</td>\n",
       "      <td>0</td>\n",
       "      <td>0</td>\n",
       "      <td>0</td>\n",
       "      <td>0</td>\n",
       "      <td>0</td>\n",
       "      <td>1</td>\n",
       "      <td>0</td>\n",
       "      <td>0</td>\n",
       "      <td>0</td>\n",
       "      <td>0</td>\n",
       "      <td>0</td>\n",
       "      <td>unfortunately oleg tsarev far first victim naz...</td>\n",
       "    </tr>\n",
       "    <tr>\n",
       "      <th>4</th>\n",
       "      <td>EN_UA_013710.txt</td>\n",
       "      <td>ICC</td>\n",
       "      <td>207</td>\n",
       "      <td>209</td>\n",
       "      <td>Antagonist</td>\n",
       "      <td>[Corrupt]</td>\n",
       "      <td>0</td>\n",
       "      <td>0</td>\n",
       "      <td>1</td>\n",
       "      <td>0</td>\n",
       "      <td>0</td>\n",
       "      <td>0</td>\n",
       "      <td>0</td>\n",
       "      <td>0</td>\n",
       "      <td>0</td>\n",
       "      <td>0</td>\n",
       "      <td>0</td>\n",
       "      <td>0</td>\n",
       "      <td>0</td>\n",
       "      <td>0</td>\n",
       "      <td>0</td>\n",
       "      <td>0</td>\n",
       "      <td>0</td>\n",
       "      <td>0</td>\n",
       "      <td>0</td>\n",
       "      <td>0</td>\n",
       "      <td>0</td>\n",
       "      <td>0</td>\n",
       "      <td>collective west hypocrisy rules narrative rece...</td>\n",
       "    </tr>\n",
       "  </tbody>\n",
       "</table>\n",
       "</div>"
      ],
      "text/plain": [
       "         article_id               entity_mention  start_offset  end_offset  \\\n",
       "0  EN_UA_003579.txt  international organizations           306         332   \n",
       "1  EN_UA_029155.txt           Volodymyr Zelensky           160         177   \n",
       "2  EN_UA_003579.txt                          IMF           846         848   \n",
       "3  EN_UA_300082.txt                         Kiev           975         978   \n",
       "4  EN_UA_013710.txt                          ICC           207         209   \n",
       "\n",
       "     main_role       fine_grained_roles  Bigot  Conspirator  Corrupt  \\\n",
       "0  Protagonist             [Peacemaker]      0            0        0   \n",
       "1   Antagonist  [Saboteur, Conspirator]      0            1        0   \n",
       "2  Protagonist             [Peacemaker]      0            0        0   \n",
       "3   Antagonist              [Terrorist]      0            0        0   \n",
       "4   Antagonist                [Corrupt]      0            0        1   \n",
       "\n",
       "   Deceiver  Exploited  Foreign Adversary  Forgotten  Guardian  Incompetent  \\\n",
       "0         0          0                  0          0         0            0   \n",
       "1         0          0                  0          0         0            0   \n",
       "2         0          0                  0          0         0            0   \n",
       "3         0          0                  0          0         0            0   \n",
       "4         0          0                  0          0         0            0   \n",
       "\n",
       "   Instigator  Martyr  Peacemaker  Rebel  Saboteur  Scapegoat  Spy  Terrorist  \\\n",
       "0           0       0           1      0         0          0    0          0   \n",
       "1           0       0           0      0         1          0    0          0   \n",
       "2           0       0           1      0         0          0    0          0   \n",
       "3           0       0           0      0         0          0    0          1   \n",
       "4           0       0           0      0         0          0    0          0   \n",
       "\n",
       "   Traitor  Tyrant  Underdog  Victim  Virtuous  \\\n",
       "0        0       0         0       0         0   \n",
       "1        0       0         0       0         0   \n",
       "2        0       0         0       0         0   \n",
       "3        0       0         0       0         0   \n",
       "4        0       0         0       0         0   \n",
       "\n",
       "                                    entity_paragraph  \n",
       "0  ajor international organizations issued appeal...  \n",
       "1  former head german intelligence revealed ukrai...  \n",
       "2  critical quickly provide support food insecure...  \n",
       "3  unfortunately oleg tsarev far first victim naz...  \n",
       "4  collective west hypocrisy rules narrative rece...  "
      ]
     },
     "execution_count": 746,
     "metadata": {},
     "output_type": "execute_result"
    }
   ],
   "source": [
    "df_val.head()"
   ]
  },
  {
   "cell_type": "code",
   "execution_count": 747,
   "metadata": {
    "execution": {
     "iopub.execute_input": "2024-12-10T02:25:18.291830Z",
     "iopub.status.busy": "2024-12-10T02:25:18.291128Z",
     "iopub.status.idle": "2024-12-10T02:25:18.301965Z",
     "shell.execute_reply": "2024-12-10T02:25:18.300866Z",
     "shell.execute_reply.started": "2024-12-10T02:25:18.291774Z"
    },
    "trusted": true
   },
   "outputs": [
    {
     "data": {
      "text/html": [
       "<div>\n",
       "<style scoped>\n",
       "    .dataframe tbody tr th:only-of-type {\n",
       "        vertical-align: middle;\n",
       "    }\n",
       "\n",
       "    .dataframe tbody tr th {\n",
       "        vertical-align: top;\n",
       "    }\n",
       "\n",
       "    .dataframe thead th {\n",
       "        text-align: right;\n",
       "    }\n",
       "</style>\n",
       "<table border=\"1\" class=\"dataframe\">\n",
       "  <thead>\n",
       "    <tr style=\"text-align: right;\">\n",
       "      <th></th>\n",
       "      <th>article_id</th>\n",
       "      <th>entity_mention</th>\n",
       "      <th>start_offset</th>\n",
       "      <th>end_offset</th>\n",
       "      <th>entity_paragraph</th>\n",
       "    </tr>\n",
       "  </thead>\n",
       "  <tbody>\n",
       "    <tr>\n",
       "      <th>0</th>\n",
       "      <td>EN_UA_DEV_100012.txt</td>\n",
       "      <td>Washington</td>\n",
       "      <td>1441</td>\n",
       "      <td>1450</td>\n",
       "      <td>washington cannot afford allow russia achieve ...</td>\n",
       "    </tr>\n",
       "    <tr>\n",
       "      <th>1</th>\n",
       "      <td>EN_UA_DEV_100012.txt</td>\n",
       "      <td>Americans</td>\n",
       "      <td>2397</td>\n",
       "      <td>2405</td>\n",
       "      <td>fate colonies always americans scoop natural r...</td>\n",
       "    </tr>\n",
       "    <tr>\n",
       "      <th>2</th>\n",
       "      <td>EN_CC_200053.txt</td>\n",
       "      <td>Rishi Sunak</td>\n",
       "      <td>85</td>\n",
       "      <td>95</td>\n",
       "      <td>uk prime minister rishi sunak wednesday said a...</td>\n",
       "    </tr>\n",
       "    <tr>\n",
       "      <th>3</th>\n",
       "      <td>EN_CC_200040.txt</td>\n",
       "      <td>Extinction Rebellion</td>\n",
       "      <td>189</td>\n",
       "      <td>208</td>\n",
       "      <td>extinction rebellion activists everyone loves ...</td>\n",
       "    </tr>\n",
       "    <tr>\n",
       "      <th>4</th>\n",
       "      <td>EN_CC_200070.txt</td>\n",
       "      <td>Eric Garcetti</td>\n",
       "      <td>89</td>\n",
       "      <td>101</td>\n",
       "      <td>los angeles mayor eric garcetti joined global ...</td>\n",
       "    </tr>\n",
       "  </tbody>\n",
       "</table>\n",
       "</div>"
      ],
      "text/plain": [
       "             article_id        entity_mention  start_offset  end_offset  \\\n",
       "0  EN_UA_DEV_100012.txt            Washington          1441        1450   \n",
       "1  EN_UA_DEV_100012.txt             Americans          2397        2405   \n",
       "2      EN_CC_200053.txt           Rishi Sunak            85          95   \n",
       "3      EN_CC_200040.txt  Extinction Rebellion           189         208   \n",
       "4      EN_CC_200070.txt         Eric Garcetti            89         101   \n",
       "\n",
       "                                    entity_paragraph  \n",
       "0  washington cannot afford allow russia achieve ...  \n",
       "1  fate colonies always americans scoop natural r...  \n",
       "2  uk prime minister rishi sunak wednesday said a...  \n",
       "3  extinction rebellion activists everyone loves ...  \n",
       "4  los angeles mayor eric garcetti joined global ...  "
      ]
     },
     "execution_count": 747,
     "metadata": {},
     "output_type": "execute_result"
    }
   ],
   "source": [
    "df_test.head()"
   ]
  },
  {
   "cell_type": "code",
   "execution_count": 748,
   "metadata": {
    "execution": {
     "iopub.execute_input": "2024-12-10T02:25:19.252146Z",
     "iopub.status.busy": "2024-12-10T02:25:19.251518Z",
     "iopub.status.idle": "2024-12-10T02:25:19.259051Z",
     "shell.execute_reply": "2024-12-10T02:25:19.258050Z",
     "shell.execute_reply.started": "2024-12-10T02:25:19.252108Z"
    },
    "trusted": true
   },
   "outputs": [
    {
     "data": {
      "text/plain": [
       "['Scapegoat',\n",
       " 'Conspirator',\n",
       " 'Tyrant',\n",
       " 'Foreign Adversary',\n",
       " 'Terrorist',\n",
       " 'Spy',\n",
       " 'Bigot',\n",
       " 'Exploited',\n",
       " 'Traitor',\n",
       " 'Guardian',\n",
       " 'Saboteur',\n",
       " 'Peacemaker',\n",
       " 'Instigator',\n",
       " 'Forgotten',\n",
       " 'Deceiver',\n",
       " 'Incompetent',\n",
       " 'Victim',\n",
       " 'Rebel',\n",
       " 'Virtuous',\n",
       " 'Martyr',\n",
       " 'Corrupt',\n",
       " 'Underdog']"
      ]
     },
     "execution_count": 748,
     "metadata": {},
     "output_type": "execute_result"
    }
   ],
   "source": [
    "# get the unique values of fine_grained_roles\n",
    "unique_roles = set()\n",
    "\n",
    "for roles in df['fine_grained_roles']:\n",
    "    unique_roles.update(roles)\n",
    "# change unique_roles to list\n",
    "unique_roles = list(unique_roles)\n",
    "unique_roles"
   ]
  },
  {
   "cell_type": "code",
   "execution_count": 749,
   "metadata": {
    "execution": {
     "iopub.execute_input": "2024-12-10T02:25:20.208598Z",
     "iopub.status.busy": "2024-12-10T02:25:20.207735Z",
     "iopub.status.idle": "2024-12-10T02:25:20.273663Z",
     "shell.execute_reply": "2024-12-10T02:25:20.272772Z",
     "shell.execute_reply.started": "2024-12-10T02:25:20.208563Z"
    },
    "trusted": true
   },
   "outputs": [
    {
     "data": {
      "text/plain": [
       "DatasetDict({\n",
       "    train: Dataset({\n",
       "        features: ['article_id', 'entity_mention', 'start_offset', 'end_offset', 'main_role', 'fine_grained_roles', 'Bigot', 'Conspirator', 'Corrupt', 'Deceiver', 'Exploited', 'Foreign Adversary', 'Forgotten', 'Guardian', 'Incompetent', 'Instigator', 'Martyr', 'Peacemaker', 'Rebel', 'Saboteur', 'Scapegoat', 'Spy', 'Terrorist', 'Traitor', 'Tyrant', 'Underdog', 'Victim', 'Virtuous', 'entity_paragraph'],\n",
       "        num_rows: 617\n",
       "    })\n",
       "    validation: Dataset({\n",
       "        features: ['article_id', 'entity_mention', 'start_offset', 'end_offset', 'main_role', 'fine_grained_roles', 'Bigot', 'Conspirator', 'Corrupt', 'Deceiver', 'Exploited', 'Foreign Adversary', 'Forgotten', 'Guardian', 'Incompetent', 'Instigator', 'Martyr', 'Peacemaker', 'Rebel', 'Saboteur', 'Scapegoat', 'Spy', 'Terrorist', 'Traitor', 'Tyrant', 'Underdog', 'Victim', 'Virtuous', 'entity_paragraph'],\n",
       "        num_rows: 69\n",
       "    })\n",
       "})"
      ]
     },
     "execution_count": 749,
     "metadata": {},
     "output_type": "execute_result"
    }
   ],
   "source": [
    "from datasets import Dataset, DatasetDict\n",
    "\n",
    "# Convert the pandas Series (list of dictionaries) into a Dataset\n",
    "train_dataset = Dataset.from_pandas(df_train)\n",
    "\n",
    "# Similarly, you can convert validation and test data if needed\n",
    "val_dataset = Dataset.from_pandas(df_val)\n",
    "test_dataset = Dataset.from_pandas(df_test)  # If test data exists\n",
    "\n",
    "# Create a DatasetDict\n",
    "dataset_dict = DatasetDict({\n",
    "    'train': train_dataset,\n",
    "    'validation': val_dataset,\n",
    "    # 'test': test_dataset  # Uncomment if test dataset exists\n",
    "})\n",
    "\n",
    "test_dict = DatasetDict({\n",
    "    'test': test_dataset\n",
    "})\n",
    "\n",
    "# Now dataset_dict is a DatasetDict\n",
    "dataset_dict"
   ]
  },
  {
   "cell_type": "code",
   "execution_count": 750,
   "metadata": {
    "execution": {
     "iopub.execute_input": "2024-12-10T02:25:21.077295Z",
     "iopub.status.busy": "2024-12-10T02:25:21.076599Z",
     "iopub.status.idle": "2024-12-10T02:25:21.083662Z",
     "shell.execute_reply": "2024-12-10T02:25:21.082606Z",
     "shell.execute_reply.started": "2024-12-10T02:25:21.077258Z"
    },
    "trusted": true
   },
   "outputs": [
    {
     "data": {
      "text/plain": [
       "{'article_id': 'EN_UA_DEV_100012.txt',\n",
       " 'entity_mention': 'Washington',\n",
       " 'start_offset': 1441,\n",
       " 'end_offset': 1450,\n",
       " 'entity_paragraph': 'washington cannot afford allow russia achieve victory ukraine conflict would mean losing direct access vast mineral assets view us senator lindsey graham interview face nation cbs news june'}"
      ]
     },
     "execution_count": 750,
     "metadata": {},
     "output_type": "execute_result"
    }
   ],
   "source": [
    "example = test_dict['test'][0]\n",
    "example"
   ]
  },
  {
   "cell_type": "code",
   "execution_count": 751,
   "metadata": {
    "execution": {
     "iopub.execute_input": "2024-12-10T02:25:21.844041Z",
     "iopub.status.busy": "2024-12-10T02:25:21.843291Z",
     "iopub.status.idle": "2024-12-10T02:25:21.851385Z",
     "shell.execute_reply": "2024-12-10T02:25:21.850535Z",
     "shell.execute_reply.started": "2024-12-10T02:25:21.844005Z"
    },
    "trusted": true
   },
   "outputs": [
    {
     "data": {
      "text/plain": [
       "['Bigot',\n",
       " 'Conspirator',\n",
       " 'Corrupt',\n",
       " 'Deceiver',\n",
       " 'Exploited',\n",
       " 'Foreign Adversary',\n",
       " 'Forgotten',\n",
       " 'Guardian',\n",
       " 'Incompetent',\n",
       " 'Instigator',\n",
       " 'Martyr',\n",
       " 'Peacemaker',\n",
       " 'Rebel',\n",
       " 'Saboteur',\n",
       " 'Scapegoat',\n",
       " 'Spy',\n",
       " 'Terrorist',\n",
       " 'Traitor',\n",
       " 'Tyrant',\n",
       " 'Underdog',\n",
       " 'Victim',\n",
       " 'Virtuous']"
      ]
     },
     "execution_count": 751,
     "metadata": {},
     "output_type": "execute_result"
    }
   ],
   "source": [
    "labels = [label for label in dataset_dict['train'].features.keys() \n",
    "          if label not in ['entity_paragraph', 'article_id', 'entity_mention','start_offset', \n",
    "                           'end_offset', 'main_role', 'fine_grained_roles']]\n",
    "id2label = {idx:label for idx, label in enumerate(labels)}\n",
    "label2id = {label:idx for idx, label in enumerate(labels)}\n",
    "labels"
   ]
  },
  {
   "cell_type": "code",
   "execution_count": 752,
   "metadata": {
    "execution": {
     "iopub.execute_input": "2024-12-10T02:25:22.957109Z",
     "iopub.status.busy": "2024-12-10T02:25:22.956312Z",
     "iopub.status.idle": "2024-12-10T02:25:23.116883Z",
     "shell.execute_reply": "2024-12-10T02:25:23.115869Z",
     "shell.execute_reply.started": "2024-12-10T02:25:22.957070Z"
    },
    "trusted": true
   },
   "outputs": [],
   "source": [
    "from transformers import AutoTokenizer\n",
    "import numpy as np\n",
    "\n",
    "tokenizer = AutoTokenizer.from_pretrained(\"bert-base-uncased\")\n",
    "\n",
    "def preprocess_data(examples):\n",
    "  # take a batch of texts\n",
    "  text = examples[\"entity_paragraph\"]\n",
    "  # encode them\n",
    "  encoding = tokenizer(text, padding=\"max_length\", truncation=True, max_length=128)\n",
    "  # add labels\n",
    "  labels_batch = {k: examples[k] for k in examples.keys() if k in labels}\n",
    "  # create numpy array of shape (batch_size, num_labels)\n",
    "  labels_matrix = np.zeros((len(text), len(labels)))\n",
    "  # fill numpy array\n",
    "  for idx, label in enumerate(labels):\n",
    "    labels_matrix[:, idx] = labels_batch[label]\n",
    "\n",
    "  encoding[\"labels\"] = labels_matrix.tolist()\n",
    "  \n",
    "  return encoding\n",
    "\n",
    "def preprocess_data_test(examples):\n",
    "  # take a batch of texts\n",
    "  text = examples[\"entity_paragraph\"]\n",
    "  # encode them\n",
    "  encoding = tokenizer(text, padding=\"max_length\", truncation=True, max_length=128)\n",
    "    \n",
    "  return encoding"
   ]
  },
  {
   "cell_type": "code",
   "execution_count": 753,
   "metadata": {
    "execution": {
     "iopub.execute_input": "2024-12-10T02:25:23.914150Z",
     "iopub.status.busy": "2024-12-10T02:25:23.913530Z",
     "iopub.status.idle": "2024-12-10T02:25:24.115277Z",
     "shell.execute_reply": "2024-12-10T02:25:24.113323Z",
     "shell.execute_reply.started": "2024-12-10T02:25:23.914112Z"
    },
    "trusted": true
   },
   "outputs": [
    {
     "data": {
      "application/vnd.jupyter.widget-view+json": {
       "model_id": "2fb80f663d154309af62ab1414676f66",
       "version_major": 2,
       "version_minor": 0
      },
      "text/plain": [
       "Map:   0%|          | 0/617 [00:00<?, ? examples/s]"
      ]
     },
     "metadata": {},
     "output_type": "display_data"
    },
    {
     "data": {
      "application/vnd.jupyter.widget-view+json": {
       "model_id": "525c6b2fe53b4cf19a6969aca16ccf69",
       "version_major": 2,
       "version_minor": 0
      },
      "text/plain": [
       "Map:   0%|          | 0/69 [00:00<?, ? examples/s]"
      ]
     },
     "metadata": {},
     "output_type": "display_data"
    },
    {
     "data": {
      "application/vnd.jupyter.widget-view+json": {
       "model_id": "5e45d9c8f28b437b96a30426679ead64",
       "version_major": 2,
       "version_minor": 0
      },
      "text/plain": [
       "Map:   0%|          | 0/91 [00:00<?, ? examples/s]"
      ]
     },
     "metadata": {},
     "output_type": "display_data"
    }
   ],
   "source": [
    "encoded_dataset = dataset_dict.map(preprocess_data, batched=True, \n",
    "                                   remove_columns=dataset_dict['train'].column_names)\n",
    "encoded_test_dataset = test_dict.map(preprocess_data_test, batched=True, \n",
    "                                   remove_columns=test_dict['test'].column_names)"
   ]
  },
  {
   "cell_type": "code",
   "execution_count": 754,
   "metadata": {
    "execution": {
     "iopub.execute_input": "2024-12-10T02:25:25.999776Z",
     "iopub.status.busy": "2024-12-10T02:25:25.999438Z",
     "iopub.status.idle": "2024-12-10T02:25:26.005641Z",
     "shell.execute_reply": "2024-12-10T02:25:26.004573Z",
     "shell.execute_reply.started": "2024-12-10T02:25:25.999747Z"
    },
    "trusted": true
   },
   "outputs": [
    {
     "name": "stdout",
     "output_type": "stream",
     "text": [
      "dict_keys(['input_ids', 'token_type_ids', 'attention_mask', 'labels'])\n"
     ]
    }
   ],
   "source": [
    "example = encoded_dataset['train'][0]\n",
    "print(example.keys())"
   ]
  },
  {
   "cell_type": "code",
   "execution_count": 755,
   "metadata": {
    "execution": {
     "iopub.execute_input": "2024-12-10T02:25:26.401697Z",
     "iopub.status.busy": "2024-12-10T02:25:26.400965Z",
     "iopub.status.idle": "2024-12-10T02:25:26.408591Z",
     "shell.execute_reply": "2024-12-10T02:25:26.407653Z",
     "shell.execute_reply.started": "2024-12-10T02:25:26.401660Z"
    },
    "trusted": true
   },
   "outputs": [
    {
     "data": {
      "text/plain": [
       "'[CLS] top french politician claimed large part western aid kiev embezzled ukrainian officials despite president zelensky assurances used fight russia [SEP] [PAD] [PAD] [PAD] [PAD] [PAD] [PAD] [PAD] [PAD] [PAD] [PAD] [PAD] [PAD] [PAD] [PAD] [PAD] [PAD] [PAD] [PAD] [PAD] [PAD] [PAD] [PAD] [PAD] [PAD] [PAD] [PAD] [PAD] [PAD] [PAD] [PAD] [PAD] [PAD] [PAD] [PAD] [PAD] [PAD] [PAD] [PAD] [PAD] [PAD] [PAD] [PAD] [PAD] [PAD] [PAD] [PAD] [PAD] [PAD] [PAD] [PAD] [PAD] [PAD] [PAD] [PAD] [PAD] [PAD] [PAD] [PAD] [PAD] [PAD] [PAD] [PAD] [PAD] [PAD] [PAD] [PAD] [PAD] [PAD] [PAD] [PAD] [PAD] [PAD] [PAD] [PAD] [PAD] [PAD] [PAD] [PAD] [PAD] [PAD] [PAD] [PAD] [PAD] [PAD] [PAD] [PAD] [PAD] [PAD] [PAD] [PAD] [PAD] [PAD] [PAD] [PAD] [PAD] [PAD] [PAD] [PAD] [PAD] [PAD] [PAD] [PAD]'"
      ]
     },
     "execution_count": 755,
     "metadata": {},
     "output_type": "execute_result"
    }
   ],
   "source": [
    "tokenizer.decode(example['input_ids'])"
   ]
  },
  {
   "cell_type": "code",
   "execution_count": 756,
   "metadata": {
    "execution": {
     "iopub.execute_input": "2024-12-10T02:25:27.081440Z",
     "iopub.status.busy": "2024-12-10T02:25:27.081050Z",
     "iopub.status.idle": "2024-12-10T02:25:27.087401Z",
     "shell.execute_reply": "2024-12-10T02:25:27.086408Z",
     "shell.execute_reply.started": "2024-12-10T02:25:27.081409Z"
    },
    "trusted": true
   },
   "outputs": [
    {
     "data": {
      "text/plain": [
       "[0.0,\n",
       " 0.0,\n",
       " 1.0,\n",
       " 0.0,\n",
       " 0.0,\n",
       " 0.0,\n",
       " 0.0,\n",
       " 0.0,\n",
       " 0.0,\n",
       " 0.0,\n",
       " 0.0,\n",
       " 0.0,\n",
       " 0.0,\n",
       " 0.0,\n",
       " 0.0,\n",
       " 0.0,\n",
       " 0.0,\n",
       " 0.0,\n",
       " 0.0,\n",
       " 0.0,\n",
       " 0.0,\n",
       " 0.0]"
      ]
     },
     "execution_count": 756,
     "metadata": {},
     "output_type": "execute_result"
    }
   ],
   "source": [
    "example['labels']"
   ]
  },
  {
   "cell_type": "code",
   "execution_count": 757,
   "metadata": {
    "execution": {
     "iopub.execute_input": "2024-12-10T02:25:28.022019Z",
     "iopub.status.busy": "2024-12-10T02:25:28.021359Z",
     "iopub.status.idle": "2024-12-10T02:25:28.028073Z",
     "shell.execute_reply": "2024-12-10T02:25:28.027069Z",
     "shell.execute_reply.started": "2024-12-10T02:25:28.021980Z"
    },
    "trusted": true
   },
   "outputs": [
    {
     "data": {
      "text/plain": [
       "['Corrupt']"
      ]
     },
     "execution_count": 757,
     "metadata": {},
     "output_type": "execute_result"
    }
   ],
   "source": [
    "[id2label[idx] for idx, label in enumerate(example['labels']) if label == 1.0]"
   ]
  },
  {
   "cell_type": "code",
   "execution_count": 758,
   "metadata": {
    "execution": {
     "iopub.execute_input": "2024-12-10T02:25:28.801236Z",
     "iopub.status.busy": "2024-12-10T02:25:28.800891Z",
     "iopub.status.idle": "2024-12-10T02:25:28.806605Z",
     "shell.execute_reply": "2024-12-10T02:25:28.805662Z",
     "shell.execute_reply.started": "2024-12-10T02:25:28.801206Z"
    },
    "trusted": true
   },
   "outputs": [],
   "source": [
    "encoded_dataset.set_format(\"torch\")"
   ]
  },
  {
   "cell_type": "code",
   "execution_count": 759,
   "metadata": {
    "execution": {
     "iopub.execute_input": "2024-12-10T02:25:29.756589Z",
     "iopub.status.busy": "2024-12-10T02:25:29.755394Z",
     "iopub.status.idle": "2024-12-10T02:25:29.761442Z",
     "shell.execute_reply": "2024-12-10T02:25:29.760480Z",
     "shell.execute_reply.started": "2024-12-10T02:25:29.756536Z"
    },
    "trusted": true
   },
   "outputs": [],
   "source": [
    "encoded_test_dataset.set_format(\"torch\")"
   ]
  },
  {
   "cell_type": "code",
   "execution_count": 760,
   "metadata": {
    "execution": {
     "iopub.execute_input": "2024-12-10T02:25:30.372552Z",
     "iopub.status.busy": "2024-12-10T02:25:30.371597Z",
     "iopub.status.idle": "2024-12-10T02:25:30.486141Z",
     "shell.execute_reply": "2024-12-10T02:25:30.485279Z",
     "shell.execute_reply.started": "2024-12-10T02:25:30.372513Z"
    },
    "trusted": true
   },
   "outputs": [
    {
     "name": "stderr",
     "output_type": "stream",
     "text": [
      "Some weights of BertForSequenceClassification were not initialized from the model checkpoint at bert-base-uncased and are newly initialized: ['classifier.bias', 'classifier.weight']\n",
      "You should probably TRAIN this model on a down-stream task to be able to use it for predictions and inference.\n"
     ]
    }
   ],
   "source": [
    "from transformers import AutoModelForSequenceClassification\n",
    "\n",
    "model = AutoModelForSequenceClassification.from_pretrained(\"bert-base-uncased\", \n",
    "                                                           problem_type=\"multi_label_classification\", \n",
    "                                                           num_labels=len(labels),\n",
    "                                                           id2label=id2label,\n",
    "                                                           label2id=label2id)"
   ]
  },
  {
   "cell_type": "code",
   "execution_count": 761,
   "metadata": {
    "execution": {
     "iopub.execute_input": "2024-12-10T02:25:31.407645Z",
     "iopub.status.busy": "2024-12-10T02:25:31.407321Z",
     "iopub.status.idle": "2024-12-10T02:25:31.411963Z",
     "shell.execute_reply": "2024-12-10T02:25:31.410890Z",
     "shell.execute_reply.started": "2024-12-10T02:25:31.407615Z"
    },
    "trusted": true
   },
   "outputs": [],
   "source": [
    "batch_size = 8\n",
    "metric_name = \"exact_match\""
   ]
  },
  {
   "cell_type": "code",
   "execution_count": 762,
   "metadata": {
    "execution": {
     "iopub.execute_input": "2024-12-10T02:25:32.182302Z",
     "iopub.status.busy": "2024-12-10T02:25:32.181954Z",
     "iopub.status.idle": "2024-12-10T02:25:32.218841Z",
     "shell.execute_reply": "2024-12-10T02:25:32.217728Z",
     "shell.execute_reply.started": "2024-12-10T02:25:32.182270Z"
    },
    "trusted": true
   },
   "outputs": [],
   "source": [
    "from transformers import TrainingArguments, Trainer\n",
    "\n",
    "args = TrainingArguments(\n",
    "    f\"bert-finetuned-sem_eval-english\",\n",
    "    evaluation_strategy = \"epoch\",\n",
    "    save_strategy = \"epoch\",\n",
    "    learning_rate=2e-5,\n",
    "    per_device_train_batch_size=batch_size,\n",
    "    per_device_eval_batch_size=batch_size,\n",
    "    num_train_epochs=5,\n",
    "    weight_decay=0.01,\n",
    "    load_best_model_at_end=True,\n",
    "    metric_for_best_model=metric_name,\n",
    "    report_to=\"none\"\n",
    "    #push_to_hub=True,\n",
    ")"
   ]
  },
  {
   "cell_type": "code",
   "execution_count": 763,
   "metadata": {
    "execution": {
     "iopub.execute_input": "2024-12-10T02:25:32.875683Z",
     "iopub.status.busy": "2024-12-10T02:25:32.875265Z",
     "iopub.status.idle": "2024-12-10T02:25:32.884149Z",
     "shell.execute_reply": "2024-12-10T02:25:32.882773Z",
     "shell.execute_reply.started": "2024-12-10T02:25:32.875645Z"
    },
    "trusted": true
   },
   "outputs": [],
   "source": [
    "from sklearn.metrics import f1_score, roc_auc_score, accuracy_score\n",
    "from transformers import EvalPrediction\n",
    "import torch\n",
    "    \n",
    "# source: https://jesusleal.io/2021/04/21/Longformer-multilabel-classification/\n",
    "def multi_label_metrics(predictions, labels, threshold=0.5):\n",
    "    # first, apply sigmoid on predictions which are of shape (batch_size, num_labels)\n",
    "    sigmoid = torch.nn.Sigmoid()\n",
    "    probs = sigmoid(torch.Tensor(predictions))\n",
    "    # next, use threshold to turn them into integer predictions\n",
    "    y_pred = np.zeros(probs.shape)\n",
    "    y_pred[np.where(probs >= threshold)] = 1\n",
    "    # finally, compute metrics\n",
    "    y_true = labels\n",
    "    f1_micro_average = f1_score(y_true=y_true, y_pred=y_pred, average='micro')\n",
    "    roc_auc = roc_auc_score(y_true, y_pred, average = 'micro')\n",
    "    accuracy = accuracy_score(y_true, y_pred)\n",
    "    exact_match = np.mean(np.all(y_pred == y_true, axis=1))\n",
    "    # return as dictionary\n",
    "    metrics = {'f1': f1_micro_average,\n",
    "               'roc_auc': roc_auc,\n",
    "               'accuracy': accuracy,\n",
    "               'exact_match': exact_match}\n",
    "    return metrics\n",
    "\n",
    "def compute_metrics(p: EvalPrediction):\n",
    "    preds = p.predictions[0] if isinstance(p.predictions, \n",
    "            tuple) else p.predictions\n",
    "    result = multi_label_metrics(\n",
    "        predictions=preds, \n",
    "        labels=p.label_ids)\n",
    "    return result"
   ]
  },
  {
   "cell_type": "code",
   "execution_count": 764,
   "metadata": {
    "execution": {
     "iopub.execute_input": "2024-12-10T02:25:33.617926Z",
     "iopub.status.busy": "2024-12-10T02:25:33.617550Z",
     "iopub.status.idle": "2024-12-10T02:25:33.626055Z",
     "shell.execute_reply": "2024-12-10T02:25:33.624993Z",
     "shell.execute_reply.started": "2024-12-10T02:25:33.617892Z"
    },
    "trusted": true
   },
   "outputs": [
    {
     "data": {
      "text/plain": [
       "'torch.FloatTensor'"
      ]
     },
     "execution_count": 764,
     "metadata": {},
     "output_type": "execute_result"
    }
   ],
   "source": [
    "encoded_dataset['train'][0]['labels'].type()"
   ]
  },
  {
   "cell_type": "code",
   "execution_count": 765,
   "metadata": {
    "execution": {
     "iopub.execute_input": "2024-12-10T02:25:34.554996Z",
     "iopub.status.busy": "2024-12-10T02:25:34.554600Z",
     "iopub.status.idle": "2024-12-10T02:25:34.566285Z",
     "shell.execute_reply": "2024-12-10T02:25:34.565286Z",
     "shell.execute_reply.started": "2024-12-10T02:25:34.554960Z"
    },
    "trusted": true
   },
   "outputs": [
    {
     "data": {
      "text/plain": [
       "tensor([  101,  2327,  2413,  3761,  3555,  2312,  2112,  2530,  4681, 12100,\n",
       "         7861,  4783, 17269,  5969,  4584,  2750,  2343, 27838,  7770,  5874,\n",
       "        16375,  2015,  2109,  2954,  3607,   102,     0,     0,     0,     0,\n",
       "            0,     0,     0,     0,     0,     0,     0,     0,     0,     0,\n",
       "            0,     0,     0,     0,     0,     0,     0,     0,     0,     0,\n",
       "            0,     0,     0,     0,     0,     0,     0,     0,     0,     0,\n",
       "            0,     0,     0,     0,     0,     0,     0,     0,     0,     0,\n",
       "            0,     0,     0,     0,     0,     0,     0,     0,     0,     0,\n",
       "            0,     0,     0,     0,     0,     0,     0,     0,     0,     0,\n",
       "            0,     0,     0,     0,     0,     0,     0,     0,     0,     0,\n",
       "            0,     0,     0,     0,     0,     0,     0,     0,     0,     0,\n",
       "            0,     0,     0,     0,     0,     0,     0,     0,     0,     0,\n",
       "            0,     0,     0,     0,     0,     0,     0,     0])"
      ]
     },
     "execution_count": 765,
     "metadata": {},
     "output_type": "execute_result"
    }
   ],
   "source": [
    "encoded_dataset['train']['input_ids'][0]"
   ]
  },
  {
   "cell_type": "code",
   "execution_count": 766,
   "metadata": {
    "execution": {
     "iopub.execute_input": "2024-12-10T02:25:35.046493Z",
     "iopub.status.busy": "2024-12-10T02:25:35.046136Z",
     "iopub.status.idle": "2024-12-10T02:25:35.262739Z",
     "shell.execute_reply": "2024-12-10T02:25:35.261814Z",
     "shell.execute_reply.started": "2024-12-10T02:25:35.046461Z"
    },
    "trusted": true
   },
   "outputs": [
    {
     "data": {
      "text/plain": [
       "SequenceClassifierOutput(loss=tensor(0.6640, grad_fn=<BinaryCrossEntropyWithLogitsBackward0>), logits=tensor([[-0.4867, -0.0868,  0.0936,  0.0736,  0.1265, -0.0356,  0.0250, -0.1474,\n",
       "         -0.0979, -0.1906,  0.1034,  0.0752,  0.1218,  0.0356,  0.1256, -0.2577,\n",
       "          0.1056, -0.4471, -0.5154,  0.1015, -0.0490, -0.0031]],\n",
       "       grad_fn=<AddmmBackward0>), hidden_states=None, attentions=None)"
      ]
     },
     "execution_count": 766,
     "metadata": {},
     "output_type": "execute_result"
    }
   ],
   "source": [
    "#forward pass\n",
    "outputs = model(input_ids=encoded_dataset['train']['input_ids'][0].unsqueeze(0), labels=encoded_dataset['train'][0]['labels'].unsqueeze(0))\n",
    "outputs"
   ]
  },
  {
   "cell_type": "code",
   "execution_count": 767,
   "metadata": {
    "execution": {
     "iopub.execute_input": "2024-12-10T02:25:35.561915Z",
     "iopub.status.busy": "2024-12-10T02:25:35.561553Z",
     "iopub.status.idle": "2024-12-10T02:25:35.700580Z",
     "shell.execute_reply": "2024-12-10T02:25:35.699852Z",
     "shell.execute_reply.started": "2024-12-10T02:25:35.561881Z"
    },
    "trusted": true
   },
   "outputs": [],
   "source": [
    "trainer = Trainer(\n",
    "    model,\n",
    "    args,\n",
    "    train_dataset=encoded_dataset[\"train\"],\n",
    "    eval_dataset=encoded_dataset[\"validation\"],\n",
    "    tokenizer=tokenizer,\n",
    "    compute_metrics=compute_metrics\n",
    ")"
   ]
  },
  {
   "cell_type": "code",
   "execution_count": 768,
   "metadata": {
    "execution": {
     "iopub.execute_input": "2024-12-10T02:25:36.749740Z",
     "iopub.status.busy": "2024-12-10T02:25:36.749342Z",
     "iopub.status.idle": "2024-12-10T02:26:59.732671Z",
     "shell.execute_reply": "2024-12-10T02:26:59.731713Z",
     "shell.execute_reply.started": "2024-12-10T02:25:36.749688Z"
    },
    "trusted": true
   },
   "outputs": [
    {
     "data": {
      "text/html": [
       "\n",
       "    <div>\n",
       "      \n",
       "      <progress value='195' max='195' style='width:300px; height:20px; vertical-align: middle;'></progress>\n",
       "      [195/195 01:21, Epoch 5/5]\n",
       "    </div>\n",
       "    <table border=\"1\" class=\"dataframe\">\n",
       "  <thead>\n",
       " <tr style=\"text-align: left;\">\n",
       "      <th>Epoch</th>\n",
       "      <th>Training Loss</th>\n",
       "      <th>Validation Loss</th>\n",
       "      <th>F1</th>\n",
       "      <th>Roc Auc</th>\n",
       "      <th>Accuracy</th>\n",
       "      <th>Exact Match</th>\n",
       "    </tr>\n",
       "  </thead>\n",
       "  <tbody>\n",
       "    <tr>\n",
       "      <td>1</td>\n",
       "      <td>No log</td>\n",
       "      <td>0.355427</td>\n",
       "      <td>0.000000</td>\n",
       "      <td>0.500000</td>\n",
       "      <td>0.000000</td>\n",
       "      <td>0.000000</td>\n",
       "    </tr>\n",
       "    <tr>\n",
       "      <td>2</td>\n",
       "      <td>No log</td>\n",
       "      <td>0.259690</td>\n",
       "      <td>0.000000</td>\n",
       "      <td>0.500000</td>\n",
       "      <td>0.000000</td>\n",
       "      <td>0.000000</td>\n",
       "    </tr>\n",
       "    <tr>\n",
       "      <td>3</td>\n",
       "      <td>No log</td>\n",
       "      <td>0.229618</td>\n",
       "      <td>0.000000</td>\n",
       "      <td>0.500000</td>\n",
       "      <td>0.000000</td>\n",
       "      <td>0.000000</td>\n",
       "    </tr>\n",
       "    <tr>\n",
       "      <td>4</td>\n",
       "      <td>No log</td>\n",
       "      <td>0.218181</td>\n",
       "      <td>0.000000</td>\n",
       "      <td>0.500000</td>\n",
       "      <td>0.000000</td>\n",
       "      <td>0.000000</td>\n",
       "    </tr>\n",
       "    <tr>\n",
       "      <td>5</td>\n",
       "      <td>No log</td>\n",
       "      <td>0.215035</td>\n",
       "      <td>0.000000</td>\n",
       "      <td>0.500000</td>\n",
       "      <td>0.000000</td>\n",
       "      <td>0.000000</td>\n",
       "    </tr>\n",
       "  </tbody>\n",
       "</table><p>"
      ],
      "text/plain": [
       "<IPython.core.display.HTML object>"
      ]
     },
     "metadata": {},
     "output_type": "display_data"
    },
    {
     "data": {
      "text/plain": [
       "TrainOutput(global_step=195, training_loss=0.30127311119666467, metrics={'train_runtime': 82.2287, 'train_samples_per_second': 37.517, 'train_steps_per_second': 2.371, 'total_flos': 202960840972800.0, 'train_loss': 0.30127311119666467, 'epoch': 5.0})"
      ]
     },
     "execution_count": 768,
     "metadata": {},
     "output_type": "execute_result"
    }
   ],
   "source": [
    "trainer.train()"
   ]
  },
  {
   "cell_type": "code",
   "execution_count": 769,
   "metadata": {
    "execution": {
     "iopub.execute_input": "2024-12-10T02:26:59.734458Z",
     "iopub.status.busy": "2024-12-10T02:26:59.734154Z",
     "iopub.status.idle": "2024-12-10T02:27:00.253556Z",
     "shell.execute_reply": "2024-12-10T02:27:00.252722Z",
     "shell.execute_reply.started": "2024-12-10T02:26:59.734417Z"
    },
    "trusted": true
   },
   "outputs": [
    {
     "data": {
      "text/html": [
       "\n",
       "    <div>\n",
       "      \n",
       "      <progress value='5' max='5' style='width:300px; height:20px; vertical-align: middle;'></progress>\n",
       "      [5/5 00:00]\n",
       "    </div>\n",
       "    "
      ],
      "text/plain": [
       "<IPython.core.display.HTML object>"
      ]
     },
     "metadata": {},
     "output_type": "display_data"
    },
    {
     "data": {
      "text/plain": [
       "{'eval_loss': 0.3554273545742035,\n",
       " 'eval_f1': 0.0,\n",
       " 'eval_roc_auc': 0.5,\n",
       " 'eval_accuracy': 0.0,\n",
       " 'eval_exact_match': 0.0,\n",
       " 'eval_runtime': 0.5113,\n",
       " 'eval_samples_per_second': 134.956,\n",
       " 'eval_steps_per_second': 9.779,\n",
       " 'epoch': 5.0}"
      ]
     },
     "execution_count": 769,
     "metadata": {},
     "output_type": "execute_result"
    }
   ],
   "source": [
    "trainer.evaluate()"
   ]
  },
  {
   "cell_type": "markdown",
   "metadata": {},
   "source": [
    "## BERT+CNN"
   ]
  },
  {
   "cell_type": "code",
   "execution_count": 382,
   "metadata": {
    "execution": {
     "iopub.execute_input": "2024-12-09T22:51:34.538553Z",
     "iopub.status.busy": "2024-12-09T22:51:34.537897Z",
     "iopub.status.idle": "2024-12-09T22:51:34.545256Z",
     "shell.execute_reply": "2024-12-09T22:51:34.544300Z",
     "shell.execute_reply.started": "2024-12-09T22:51:34.538508Z"
    },
    "trusted": true
   },
   "outputs": [],
   "source": [
    "import torch\n",
    "from transformers import BertModel, BertTokenizer, XLNetModel, XLNetTokenizer, T5EncoderModel, T5Tokenizer\n",
    "from sklearn.model_selection import train_test_split\n",
    "import re\n",
    "import os\n",
    "import requests\n",
    "import gc\n",
    "from tqdm.auto import tqdm\n",
    "import pandas as pd\n",
    "import numpy as np\n",
    "\n",
    "from transformers import BertTokenizer, BertModel\n",
    "from transformers import RobertaTokenizer, RobertaModel\n",
    "from transformers import GPT2Tokenizer, GPT2Model\n",
    "from transformers import T5Tokenizer, T5EncoderModel\n",
    "from transformers import XLNetTokenizer, XLNetModel\n",
    "\n",
    "import numpy as np\n",
    "import pandas as pd\n",
    "import torch\n",
    "import torch.nn as nn\n",
    "import torch.optim as optim\n",
    "from torch.utils.data import DataLoader, Dataset\n",
    "from sklearn.metrics import f1_score, accuracy_score\n",
    "\n",
    "import warnings\n",
    "warnings.filterwarnings(\"ignore\")"
   ]
  },
  {
   "cell_type": "code",
   "execution_count": 383,
   "metadata": {
    "execution": {
     "iopub.execute_input": "2024-12-09T22:51:35.211925Z",
     "iopub.status.busy": "2024-12-09T22:51:35.211303Z",
     "iopub.status.idle": "2024-12-09T22:51:35.218490Z",
     "shell.execute_reply": "2024-12-09T22:51:35.217513Z",
     "shell.execute_reply.started": "2024-12-09T22:51:35.211889Z"
    },
    "trusted": true
   },
   "outputs": [
    {
     "data": {
      "text/plain": [
       "(True, 'Tesla T4')"
      ]
     },
     "execution_count": 383,
     "metadata": {},
     "output_type": "execute_result"
    }
   ],
   "source": [
    "# Check if CUDA is available\n",
    "cuda_available = torch.cuda.is_available()\n",
    "\n",
    "# If CUDA is available, we will fetch the name of the CUDA device, otherwise we will return a message stating CUDA is not available.\n",
    "cuda_device_info = torch.cuda.get_device_name(0) if cuda_available else \"CUDA is not available.\"\n",
    "\n",
    "cuda_available, cuda_device_info"
   ]
  },
  {
   "cell_type": "code",
   "execution_count": 384,
   "metadata": {
    "execution": {
     "iopub.execute_input": "2024-12-09T22:51:36.037250Z",
     "iopub.status.busy": "2024-12-09T22:51:36.036549Z",
     "iopub.status.idle": "2024-12-09T22:51:36.041114Z",
     "shell.execute_reply": "2024-12-09T22:51:36.040158Z",
     "shell.execute_reply.started": "2024-12-09T22:51:36.037213Z"
    },
    "trusted": true
   },
   "outputs": [],
   "source": [
    "# # Calculate the number of words in each row of the entity_paragraph column\n",
    "# df_train['word_count'] = df_train['entity_paragraph'].apply(lambda x: len(str(x).split()))\n",
    "\n",
    "# # Find the maximum word count\n",
    "# max_word_count = df_train['word_count'].max()\n",
    "\n",
    "# # Get the row with the maximum word count\n",
    "# row_with_max_words = df_train.loc[df_train['word_count'].idxmax()]\n",
    "\n",
    "# print(f\"The highest number of words in a row is: {max_word_count}\")\n",
    "# print(\"Row with the highest word count:\")\n",
    "# print(row_with_max_words)"
   ]
  },
  {
   "cell_type": "code",
   "execution_count": 385,
   "metadata": {
    "execution": {
     "iopub.execute_input": "2024-12-09T22:51:36.710378Z",
     "iopub.status.busy": "2024-12-09T22:51:36.710046Z",
     "iopub.status.idle": "2024-12-09T22:51:36.726519Z",
     "shell.execute_reply": "2024-12-09T22:51:36.725609Z",
     "shell.execute_reply.started": "2024-12-09T22:51:36.710348Z"
    },
    "trusted": true
   },
   "outputs": [],
   "source": [
    "class LM_EMBED:\n",
    "\n",
    "    def __init__(self, language_model, max_len):\n",
    "        self.lang_model = language_model\n",
    "        self.max_len = max_len\n",
    "\n",
    "        # Import tokenizer and model based on the specified language model\n",
    "        if self.lang_model == 'BERT':\n",
    "            self.tokenizer = BertTokenizer.from_pretrained('bert-base-uncased')\n",
    "            self.model = BertModel.from_pretrained('bert-base-uncased')\n",
    "        elif self.lang_model == 'ROBERTA':\n",
    "            self.tokenizer = RobertaTokenizer.from_pretrained('roberta-base')\n",
    "            self.model = RobertaModel.from_pretrained('roberta-base')\n",
    "        elif self.lang_model == 'GPT2':\n",
    "            self.tokenizer = GPT2Tokenizer.from_pretrained('gpt2')\n",
    "            self.model = GPT2Model.from_pretrained('gpt2')\n",
    "            # Assign a padding token if not already present\n",
    "            self.tokenizer.pad_token = self.tokenizer.eos_token\n",
    "            self.model.config.pad_token_id = self.tokenizer.pad_token_id\n",
    "        elif self.lang_model == 'T5':\n",
    "            self.tokenizer = T5Tokenizer.from_pretrained('t5-base')\n",
    "            self.model = T5EncoderModel.from_pretrained('t5-base')\n",
    "        elif self.lang_model == 'XLNET':\n",
    "            self.tokenizer = XLNetTokenizer.from_pretrained('xlnet-base-cased')\n",
    "            self.model = XLNetModel.from_pretrained('xlnet-base-cased')\n",
    "        else:\n",
    "            raise ValueError(f\"Unsupported language model: {self.lang_model}\")\n",
    "\n",
    "    def extract_word_embs(self, text_df, filename):\n",
    "        device = torch.device('cuda:0' if torch.cuda.is_available() else 'cpu')\n",
    "        print(f\"Using device: {device}\")\n",
    "\n",
    "        self.model = self.model.to(device)\n",
    "        self.model.eval()\n",
    "\n",
    "        texts = text_df['entity_paragraph'].tolist()\n",
    "\n",
    "        # Tokenize and encode the texts\n",
    "        tokens = self.tokenizer.batch_encode_plus(\n",
    "            texts,\n",
    "            add_special_tokens=True,\n",
    "            padding='max_length',\n",
    "            max_length=self.max_len,\n",
    "            truncation=True,\n",
    "            return_tensors='pt'\n",
    "        )\n",
    "        input_ids = tokens['input_ids'].to(device)\n",
    "        attention_mask = tokens['attention_mask'].to(device)\n",
    "\n",
    "        torch.cuda.empty_cache()\n",
    "\n",
    "        for i in range(0, len(input_ids), 10):\n",
    "            if i % 100 == 0:\n",
    "                print(f\"Processing batch ending at {i}\")\n",
    "            with torch.no_grad():\n",
    "                embeddings = self.model(input_ids=input_ids[i:i+10],\n",
    "                                        attention_mask=attention_mask[i:i+10])[0]\n",
    "                emb_array = embeddings.cpu().numpy()\n",
    "\n",
    "                if i == 0:\n",
    "                    embedding_res = emb_array\n",
    "                else:\n",
    "                    embedding_res = np.concatenate((embedding_res, emb_array))\n",
    "\n",
    "        features = self.extract_features(embedding_res, attention_mask)\n",
    "        padded_arr = self.pad(features)\n",
    "\n",
    "        print(\"Saving embeddings...\")\n",
    "        np.save(filename, padded_arr)\n",
    "\n",
    "    def extract_features(self, emb_res, att_msk):\n",
    "        features = []\n",
    "        for seq_num in range(len(emb_res)):\n",
    "            seq_len = (att_msk[seq_num] == 1).sum()\n",
    "\n",
    "            if self.lang_model in ['BERT', 'ROBERTA']:\n",
    "                seq_emb = emb_res[seq_num][1:seq_len-1]\n",
    "            elif self.lang_model == 'T5':\n",
    "                seq_emb = emb_res[seq_num][:seq_len-1]\n",
    "            elif self.lang_model == 'XLNET':\n",
    "                padded_seq_len = len(att_msk[seq_num])\n",
    "                seq_emb = emb_res[seq_num][padded_seq_len-seq_len:padded_seq_len-2]\n",
    "            elif self.lang_model == 'GPT2':\n",
    "                seq_emb = emb_res[seq_num][:seq_len]\n",
    "            else:\n",
    "                raise ValueError(f\"Unsupported language model: {self.lang_model}\")\n",
    "\n",
    "            features.append(seq_emb)\n",
    "        return np.array(features, dtype=object)\n",
    "\n",
    "    def pad(self, features):\n",
    "        dim1 = self.max_len\n",
    "        dim2 = features[0].shape[1]\n",
    "\n",
    "        for i, feature in enumerate(features):\n",
    "            if i % 100 == 0:\n",
    "                print(f\"Padding batch {i}\")\n",
    "\n",
    "            padded_feature = np.zeros((dim1, dim2))\n",
    "            padded_feature[:feature.shape[0], :feature.shape[1]] = feature\n",
    "\n",
    "            if i == 0:\n",
    "                padded_arr = padded_feature\n",
    "            elif i == 1:\n",
    "                padded_arr = np.stack((padded_arr, padded_feature), axis=0)\n",
    "            else:\n",
    "                reshaped_feature = padded_feature.reshape(1, dim1, dim2)\n",
    "                padded_arr = np.vstack((padded_arr, reshaped_feature))\n",
    "\n",
    "        return padded_arr"
   ]
  },
  {
   "cell_type": "code",
   "execution_count": 386,
   "metadata": {
    "execution": {
     "iopub.execute_input": "2024-12-09T22:51:37.291450Z",
     "iopub.status.busy": "2024-12-09T22:51:37.291090Z",
     "iopub.status.idle": "2024-12-09T22:51:39.129500Z",
     "shell.execute_reply": "2024-12-09T22:51:39.128735Z",
     "shell.execute_reply.started": "2024-12-09T22:51:37.291417Z"
    },
    "trusted": true
   },
   "outputs": [
    {
     "name": "stderr",
     "output_type": "stream",
     "text": [
      "Some weights of RobertaModel were not initialized from the model checkpoint at roberta-base and are newly initialized: ['roberta.pooler.dense.bias', 'roberta.pooler.dense.weight']\n",
      "You should probably TRAIN this model on a down-stream task to be able to use it for predictions and inference.\n"
     ]
    }
   ],
   "source": [
    "# Specifying the max sequence length in the given dataset (255 for the LMPred Dataset), \n",
    "# then adding 2 to account for special [CLS, SEP] tokens added by the language models):\n",
    "max_seq_len = 104\n",
    "\n",
    "BERT = LM_EMBED('BERT', max_seq_len)\n",
    "ROBERTA = LM_EMBED('ROBERTA', max_seq_len)\n",
    "GPT2 = LM_EMBED('GPT2', max_seq_len)\n",
    "T5 = LM_EMBED('T5', max_seq_len)"
   ]
  },
  {
   "cell_type": "code",
   "execution_count": 387,
   "metadata": {
    "execution": {
     "iopub.execute_input": "2024-12-09T22:51:39.625740Z",
     "iopub.status.busy": "2024-12-09T22:51:39.625019Z",
     "iopub.status.idle": "2024-12-09T22:51:39.629854Z",
     "shell.execute_reply": "2024-12-09T22:51:39.628878Z",
     "shell.execute_reply.started": "2024-12-09T22:51:39.625701Z"
    },
    "trusted": true
   },
   "outputs": [],
   "source": [
    "X_train = df_train[\"entity_paragraph\"]\n",
    "X_val = df_val[\"entity_paragraph\"]\n",
    "X_test = df_test[\"entity_paragraph\"]"
   ]
  },
  {
   "cell_type": "code",
   "execution_count": 232,
   "metadata": {
    "execution": {
     "iopub.execute_input": "2024-12-09T22:11:45.357345Z",
     "iopub.status.busy": "2024-12-09T22:11:45.356655Z",
     "iopub.status.idle": "2024-12-09T22:12:35.074879Z",
     "shell.execute_reply": "2024-12-09T22:12:35.073982Z",
     "shell.execute_reply.started": "2024-12-09T22:11:45.357310Z"
    },
    "trusted": true
   },
   "outputs": [
    {
     "name": "stdout",
     "output_type": "stream",
     "text": [
      "Using device: cuda:0\n",
      "Processing batch ending at 0\n",
      "Processing batch ending at 100\n",
      "Processing batch ending at 200\n",
      "Processing batch ending at 300\n",
      "Processing batch ending at 400\n",
      "Processing batch ending at 500\n",
      "Processing batch ending at 600\n",
      "Padding batch 0\n",
      "Padding batch 100\n",
      "Padding batch 200\n",
      "Padding batch 300\n",
      "Padding batch 400\n",
      "Padding batch 500\n",
      "Padding batch 600\n",
      "Saving embeddings...\n",
      "Using device: cuda:0\n",
      "Processing batch ending at 0\n",
      "Padding batch 0\n",
      "Saving embeddings...\n",
      "Using device: cuda:0\n",
      "Processing batch ending at 0\n",
      "Padding batch 0\n",
      "Saving embeddings...\n"
     ]
    }
   ],
   "source": [
    "BERT.extract_word_embs(df_train, \"/kaggle/working/BERT_EMBED_X_TRAIN.npy\")\n",
    "BERT.extract_word_embs(df_val, \"/kaggle/working/BERT_EMBED_X_VAL.npy\")\n",
    "BERT.extract_word_embs(df_test, \"/kaggle/working/BERT_EMBED_X_TEST.npy\")"
   ]
  },
  {
   "cell_type": "code",
   "execution_count": 239,
   "metadata": {
    "execution": {
     "iopub.execute_input": "2024-12-09T22:15:11.974143Z",
     "iopub.status.busy": "2024-12-09T22:15:11.973198Z",
     "iopub.status.idle": "2024-12-09T22:16:01.241241Z",
     "shell.execute_reply": "2024-12-09T22:16:01.240353Z",
     "shell.execute_reply.started": "2024-12-09T22:15:11.974107Z"
    },
    "trusted": true
   },
   "outputs": [
    {
     "name": "stdout",
     "output_type": "stream",
     "text": [
      "Using device: cuda:0\n",
      "Processing batch ending at 0\n",
      "Processing batch ending at 100\n",
      "Processing batch ending at 200\n",
      "Processing batch ending at 300\n",
      "Processing batch ending at 400\n",
      "Processing batch ending at 500\n",
      "Processing batch ending at 600\n",
      "Padding batch 0\n",
      "Padding batch 100\n",
      "Padding batch 200\n",
      "Padding batch 300\n",
      "Padding batch 400\n",
      "Padding batch 500\n",
      "Padding batch 600\n",
      "Saving embeddings...\n",
      "Using device: cuda:0\n",
      "Processing batch ending at 0\n",
      "Padding batch 0\n",
      "Saving embeddings...\n",
      "Using device: cuda:0\n",
      "Processing batch ending at 0\n",
      "Padding batch 0\n",
      "Saving embeddings...\n"
     ]
    }
   ],
   "source": [
    "ROBERTA.extract_word_embs(df_train, \"/kaggle/working/ROBERTA_EMBED_X_TRAIN.npy\")\n",
    "ROBERTA.extract_word_embs(df_val, \"/kaggle/working/ROBERTA_EMBED_X_VAL.npy\")\n",
    "ROBERTA.extract_word_embs(df_test, \"/kaggle/working/ROBERTA_EMBED_X_TEST.npy\")"
   ]
  },
  {
   "cell_type": "code",
   "execution_count": 247,
   "metadata": {
    "execution": {
     "iopub.execute_input": "2024-12-09T22:21:09.177650Z",
     "iopub.status.busy": "2024-12-09T22:21:09.177296Z",
     "iopub.status.idle": "2024-12-09T22:21:59.668163Z",
     "shell.execute_reply": "2024-12-09T22:21:59.667033Z",
     "shell.execute_reply.started": "2024-12-09T22:21:09.177617Z"
    },
    "trusted": true
   },
   "outputs": [
    {
     "name": "stdout",
     "output_type": "stream",
     "text": [
      "Using device: cuda:0\n",
      "Processing batch ending at 0\n",
      "Processing batch ending at 100\n",
      "Processing batch ending at 200\n",
      "Processing batch ending at 300\n",
      "Processing batch ending at 400\n",
      "Processing batch ending at 500\n",
      "Processing batch ending at 600\n",
      "Padding batch 0\n",
      "Padding batch 100\n",
      "Padding batch 200\n",
      "Padding batch 300\n",
      "Padding batch 400\n",
      "Padding batch 500\n",
      "Padding batch 600\n",
      "Saving embeddings...\n",
      "Using device: cuda:0\n",
      "Processing batch ending at 0\n",
      "Padding batch 0\n",
      "Saving embeddings...\n",
      "Using device: cuda:0\n",
      "Processing batch ending at 0\n",
      "Padding batch 0\n",
      "Saving embeddings...\n"
     ]
    }
   ],
   "source": [
    "T5.extract_word_embs(df_train, \"/kaggle/working/T5_EMBED_X_TRAIN.npy\")\n",
    "T5.extract_word_embs(df_val, \"/kaggle/working/T5_EMBED_X_VAL.npy\")\n",
    "T5.extract_word_embs(df_test, \"/kaggle/working/T5_EMBED_X_TEST.npy\")"
   ]
  },
  {
   "cell_type": "code",
   "execution_count": 390,
   "metadata": {
    "execution": {
     "iopub.execute_input": "2024-12-09T22:51:47.288941Z",
     "iopub.status.busy": "2024-12-09T22:51:47.288555Z",
     "iopub.status.idle": "2024-12-09T22:51:47.294510Z",
     "shell.execute_reply": "2024-12-09T22:51:47.293576Z",
     "shell.execute_reply.started": "2024-12-09T22:51:47.288907Z"
    },
    "trusted": true
   },
   "outputs": [],
   "source": [
    "import os\n",
    "import re\n",
    "import json\n",
    "import string\n",
    "import numpy as np\n",
    "import tensorflow as tf\n",
    "from tensorflow import keras\n",
    "from tensorflow.keras import layers\n",
    "from keras.models import Sequential\n",
    "from keras.layers import Embedding, Dense, Flatten, Dropout, InputLayer, Conv2D, MaxPooling2D, BatchNormalization, Input\n",
    "import pandas as pd\n",
    "from keras.callbacks import EarlyStopping, ModelCheckpoint, ReduceLROnPlateau\n",
    "import matplotlib.ticker as mtick\n",
    "from matplotlib import pyplot as plt"
   ]
  },
  {
   "cell_type": "code",
   "execution_count": 391,
   "metadata": {
    "execution": {
     "iopub.execute_input": "2024-12-09T22:51:48.126506Z",
     "iopub.status.busy": "2024-12-09T22:51:48.126171Z",
     "iopub.status.idle": "2024-12-09T22:51:48.140435Z",
     "shell.execute_reply": "2024-12-09T22:51:48.139547Z",
     "shell.execute_reply.started": "2024-12-09T22:51:48.126477Z"
    },
    "trusted": true
   },
   "outputs": [
    {
     "data": {
      "text/html": [
       "<div>\n",
       "<style scoped>\n",
       "    .dataframe tbody tr th:only-of-type {\n",
       "        vertical-align: middle;\n",
       "    }\n",
       "\n",
       "    .dataframe tbody tr th {\n",
       "        vertical-align: top;\n",
       "    }\n",
       "\n",
       "    .dataframe thead th {\n",
       "        text-align: right;\n",
       "    }\n",
       "</style>\n",
       "<table border=\"1\" class=\"dataframe\">\n",
       "  <thead>\n",
       "    <tr style=\"text-align: right;\">\n",
       "      <th></th>\n",
       "      <th>Bigot</th>\n",
       "      <th>Conspirator</th>\n",
       "      <th>Corrupt</th>\n",
       "      <th>Deceiver</th>\n",
       "      <th>Exploited</th>\n",
       "      <th>Foreign Adversary</th>\n",
       "      <th>Forgotten</th>\n",
       "      <th>Guardian</th>\n",
       "      <th>Incompetent</th>\n",
       "      <th>Instigator</th>\n",
       "      <th>Martyr</th>\n",
       "      <th>Peacemaker</th>\n",
       "      <th>Rebel</th>\n",
       "      <th>Saboteur</th>\n",
       "      <th>Scapegoat</th>\n",
       "      <th>Spy</th>\n",
       "      <th>Terrorist</th>\n",
       "      <th>Traitor</th>\n",
       "      <th>Tyrant</th>\n",
       "      <th>Underdog</th>\n",
       "      <th>Victim</th>\n",
       "      <th>Virtuous</th>\n",
       "    </tr>\n",
       "  </thead>\n",
       "  <tbody>\n",
       "    <tr>\n",
       "      <th>0</th>\n",
       "      <td>0</td>\n",
       "      <td>0</td>\n",
       "      <td>1</td>\n",
       "      <td>0</td>\n",
       "      <td>0</td>\n",
       "      <td>0</td>\n",
       "      <td>0</td>\n",
       "      <td>0</td>\n",
       "      <td>0</td>\n",
       "      <td>0</td>\n",
       "      <td>0</td>\n",
       "      <td>0</td>\n",
       "      <td>0</td>\n",
       "      <td>0</td>\n",
       "      <td>0</td>\n",
       "      <td>0</td>\n",
       "      <td>0</td>\n",
       "      <td>0</td>\n",
       "      <td>0</td>\n",
       "      <td>0</td>\n",
       "      <td>0</td>\n",
       "      <td>0</td>\n",
       "    </tr>\n",
       "    <tr>\n",
       "      <th>1</th>\n",
       "      <td>0</td>\n",
       "      <td>0</td>\n",
       "      <td>0</td>\n",
       "      <td>0</td>\n",
       "      <td>0</td>\n",
       "      <td>0</td>\n",
       "      <td>0</td>\n",
       "      <td>0</td>\n",
       "      <td>0</td>\n",
       "      <td>0</td>\n",
       "      <td>0</td>\n",
       "      <td>0</td>\n",
       "      <td>0</td>\n",
       "      <td>0</td>\n",
       "      <td>0</td>\n",
       "      <td>0</td>\n",
       "      <td>0</td>\n",
       "      <td>0</td>\n",
       "      <td>0</td>\n",
       "      <td>0</td>\n",
       "      <td>1</td>\n",
       "      <td>0</td>\n",
       "    </tr>\n",
       "    <tr>\n",
       "      <th>2</th>\n",
       "      <td>0</td>\n",
       "      <td>1</td>\n",
       "      <td>0</td>\n",
       "      <td>0</td>\n",
       "      <td>0</td>\n",
       "      <td>0</td>\n",
       "      <td>0</td>\n",
       "      <td>0</td>\n",
       "      <td>0</td>\n",
       "      <td>0</td>\n",
       "      <td>0</td>\n",
       "      <td>0</td>\n",
       "      <td>0</td>\n",
       "      <td>0</td>\n",
       "      <td>0</td>\n",
       "      <td>0</td>\n",
       "      <td>0</td>\n",
       "      <td>0</td>\n",
       "      <td>0</td>\n",
       "      <td>0</td>\n",
       "      <td>0</td>\n",
       "      <td>0</td>\n",
       "    </tr>\n",
       "    <tr>\n",
       "      <th>3</th>\n",
       "      <td>0</td>\n",
       "      <td>1</td>\n",
       "      <td>0</td>\n",
       "      <td>0</td>\n",
       "      <td>0</td>\n",
       "      <td>0</td>\n",
       "      <td>0</td>\n",
       "      <td>0</td>\n",
       "      <td>0</td>\n",
       "      <td>0</td>\n",
       "      <td>0</td>\n",
       "      <td>0</td>\n",
       "      <td>0</td>\n",
       "      <td>0</td>\n",
       "      <td>0</td>\n",
       "      <td>0</td>\n",
       "      <td>0</td>\n",
       "      <td>0</td>\n",
       "      <td>0</td>\n",
       "      <td>0</td>\n",
       "      <td>0</td>\n",
       "      <td>0</td>\n",
       "    </tr>\n",
       "    <tr>\n",
       "      <th>4</th>\n",
       "      <td>0</td>\n",
       "      <td>0</td>\n",
       "      <td>0</td>\n",
       "      <td>0</td>\n",
       "      <td>0</td>\n",
       "      <td>0</td>\n",
       "      <td>0</td>\n",
       "      <td>0</td>\n",
       "      <td>0</td>\n",
       "      <td>0</td>\n",
       "      <td>0</td>\n",
       "      <td>0</td>\n",
       "      <td>0</td>\n",
       "      <td>0</td>\n",
       "      <td>0</td>\n",
       "      <td>0</td>\n",
       "      <td>0</td>\n",
       "      <td>0</td>\n",
       "      <td>0</td>\n",
       "      <td>0</td>\n",
       "      <td>0</td>\n",
       "      <td>1</td>\n",
       "    </tr>\n",
       "  </tbody>\n",
       "</table>\n",
       "</div>"
      ],
      "text/plain": [
       "   Bigot  Conspirator  Corrupt  Deceiver  Exploited  Foreign Adversary  \\\n",
       "0      0            0        1         0          0                  0   \n",
       "1      0            0        0         0          0                  0   \n",
       "2      0            1        0         0          0                  0   \n",
       "3      0            1        0         0          0                  0   \n",
       "4      0            0        0         0          0                  0   \n",
       "\n",
       "   Forgotten  Guardian  Incompetent  Instigator  Martyr  Peacemaker  Rebel  \\\n",
       "0          0         0            0           0       0           0      0   \n",
       "1          0         0            0           0       0           0      0   \n",
       "2          0         0            0           0       0           0      0   \n",
       "3          0         0            0           0       0           0      0   \n",
       "4          0         0            0           0       0           0      0   \n",
       "\n",
       "   Saboteur  Scapegoat  Spy  Terrorist  Traitor  Tyrant  Underdog  Victim  \\\n",
       "0         0          0    0          0        0       0         0       0   \n",
       "1         0          0    0          0        0       0         0       1   \n",
       "2         0          0    0          0        0       0         0       0   \n",
       "3         0          0    0          0        0       0         0       0   \n",
       "4         0          0    0          0        0       0         0       0   \n",
       "\n",
       "   Virtuous  \n",
       "0         0  \n",
       "1         0  \n",
       "2         0  \n",
       "3         0  \n",
       "4         1  "
      ]
     },
     "execution_count": 391,
     "metadata": {},
     "output_type": "execute_result"
    }
   ],
   "source": [
    "y_train.head()"
   ]
  },
  {
   "cell_type": "code",
   "execution_count": 392,
   "metadata": {
    "execution": {
     "iopub.execute_input": "2024-12-09T22:51:48.629526Z",
     "iopub.status.busy": "2024-12-09T22:51:48.629184Z",
     "iopub.status.idle": "2024-12-09T22:51:48.643197Z",
     "shell.execute_reply": "2024-12-09T22:51:48.642189Z",
     "shell.execute_reply.started": "2024-12-09T22:51:48.629491Z"
    },
    "trusted": true
   },
   "outputs": [
    {
     "data": {
      "text/html": [
       "<div>\n",
       "<style scoped>\n",
       "    .dataframe tbody tr th:only-of-type {\n",
       "        vertical-align: middle;\n",
       "    }\n",
       "\n",
       "    .dataframe tbody tr th {\n",
       "        vertical-align: top;\n",
       "    }\n",
       "\n",
       "    .dataframe thead th {\n",
       "        text-align: right;\n",
       "    }\n",
       "</style>\n",
       "<table border=\"1\" class=\"dataframe\">\n",
       "  <thead>\n",
       "    <tr style=\"text-align: right;\">\n",
       "      <th></th>\n",
       "      <th>Bigot</th>\n",
       "      <th>Conspirator</th>\n",
       "      <th>Corrupt</th>\n",
       "      <th>Deceiver</th>\n",
       "      <th>Exploited</th>\n",
       "      <th>Foreign Adversary</th>\n",
       "      <th>Forgotten</th>\n",
       "      <th>Guardian</th>\n",
       "      <th>Incompetent</th>\n",
       "      <th>Instigator</th>\n",
       "      <th>Martyr</th>\n",
       "      <th>Peacemaker</th>\n",
       "      <th>Rebel</th>\n",
       "      <th>Saboteur</th>\n",
       "      <th>Scapegoat</th>\n",
       "      <th>Spy</th>\n",
       "      <th>Terrorist</th>\n",
       "      <th>Traitor</th>\n",
       "      <th>Tyrant</th>\n",
       "      <th>Underdog</th>\n",
       "      <th>Victim</th>\n",
       "      <th>Virtuous</th>\n",
       "    </tr>\n",
       "  </thead>\n",
       "  <tbody>\n",
       "    <tr>\n",
       "      <th>0</th>\n",
       "      <td>0</td>\n",
       "      <td>0</td>\n",
       "      <td>0</td>\n",
       "      <td>0</td>\n",
       "      <td>0</td>\n",
       "      <td>0</td>\n",
       "      <td>0</td>\n",
       "      <td>0</td>\n",
       "      <td>0</td>\n",
       "      <td>0</td>\n",
       "      <td>0</td>\n",
       "      <td>1</td>\n",
       "      <td>0</td>\n",
       "      <td>0</td>\n",
       "      <td>0</td>\n",
       "      <td>0</td>\n",
       "      <td>0</td>\n",
       "      <td>0</td>\n",
       "      <td>0</td>\n",
       "      <td>0</td>\n",
       "      <td>0</td>\n",
       "      <td>0</td>\n",
       "    </tr>\n",
       "    <tr>\n",
       "      <th>1</th>\n",
       "      <td>0</td>\n",
       "      <td>1</td>\n",
       "      <td>0</td>\n",
       "      <td>0</td>\n",
       "      <td>0</td>\n",
       "      <td>0</td>\n",
       "      <td>0</td>\n",
       "      <td>0</td>\n",
       "      <td>0</td>\n",
       "      <td>0</td>\n",
       "      <td>0</td>\n",
       "      <td>0</td>\n",
       "      <td>0</td>\n",
       "      <td>1</td>\n",
       "      <td>0</td>\n",
       "      <td>0</td>\n",
       "      <td>0</td>\n",
       "      <td>0</td>\n",
       "      <td>0</td>\n",
       "      <td>0</td>\n",
       "      <td>0</td>\n",
       "      <td>0</td>\n",
       "    </tr>\n",
       "    <tr>\n",
       "      <th>2</th>\n",
       "      <td>0</td>\n",
       "      <td>0</td>\n",
       "      <td>0</td>\n",
       "      <td>0</td>\n",
       "      <td>0</td>\n",
       "      <td>0</td>\n",
       "      <td>0</td>\n",
       "      <td>0</td>\n",
       "      <td>0</td>\n",
       "      <td>0</td>\n",
       "      <td>0</td>\n",
       "      <td>1</td>\n",
       "      <td>0</td>\n",
       "      <td>0</td>\n",
       "      <td>0</td>\n",
       "      <td>0</td>\n",
       "      <td>0</td>\n",
       "      <td>0</td>\n",
       "      <td>0</td>\n",
       "      <td>0</td>\n",
       "      <td>0</td>\n",
       "      <td>0</td>\n",
       "    </tr>\n",
       "    <tr>\n",
       "      <th>3</th>\n",
       "      <td>0</td>\n",
       "      <td>0</td>\n",
       "      <td>0</td>\n",
       "      <td>0</td>\n",
       "      <td>0</td>\n",
       "      <td>0</td>\n",
       "      <td>0</td>\n",
       "      <td>0</td>\n",
       "      <td>0</td>\n",
       "      <td>0</td>\n",
       "      <td>0</td>\n",
       "      <td>0</td>\n",
       "      <td>0</td>\n",
       "      <td>0</td>\n",
       "      <td>0</td>\n",
       "      <td>0</td>\n",
       "      <td>1</td>\n",
       "      <td>0</td>\n",
       "      <td>0</td>\n",
       "      <td>0</td>\n",
       "      <td>0</td>\n",
       "      <td>0</td>\n",
       "    </tr>\n",
       "    <tr>\n",
       "      <th>4</th>\n",
       "      <td>0</td>\n",
       "      <td>0</td>\n",
       "      <td>1</td>\n",
       "      <td>0</td>\n",
       "      <td>0</td>\n",
       "      <td>0</td>\n",
       "      <td>0</td>\n",
       "      <td>0</td>\n",
       "      <td>0</td>\n",
       "      <td>0</td>\n",
       "      <td>0</td>\n",
       "      <td>0</td>\n",
       "      <td>0</td>\n",
       "      <td>0</td>\n",
       "      <td>0</td>\n",
       "      <td>0</td>\n",
       "      <td>0</td>\n",
       "      <td>0</td>\n",
       "      <td>0</td>\n",
       "      <td>0</td>\n",
       "      <td>0</td>\n",
       "      <td>0</td>\n",
       "    </tr>\n",
       "  </tbody>\n",
       "</table>\n",
       "</div>"
      ],
      "text/plain": [
       "   Bigot  Conspirator  Corrupt  Deceiver  Exploited  Foreign Adversary  \\\n",
       "0      0            0        0         0          0                  0   \n",
       "1      0            1        0         0          0                  0   \n",
       "2      0            0        0         0          0                  0   \n",
       "3      0            0        0         0          0                  0   \n",
       "4      0            0        1         0          0                  0   \n",
       "\n",
       "   Forgotten  Guardian  Incompetent  Instigator  Martyr  Peacemaker  Rebel  \\\n",
       "0          0         0            0           0       0           1      0   \n",
       "1          0         0            0           0       0           0      0   \n",
       "2          0         0            0           0       0           1      0   \n",
       "3          0         0            0           0       0           0      0   \n",
       "4          0         0            0           0       0           0      0   \n",
       "\n",
       "   Saboteur  Scapegoat  Spy  Terrorist  Traitor  Tyrant  Underdog  Victim  \\\n",
       "0         0          0    0          0        0       0         0       0   \n",
       "1         1          0    0          0        0       0         0       0   \n",
       "2         0          0    0          0        0       0         0       0   \n",
       "3         0          0    0          1        0       0         0       0   \n",
       "4         0          0    0          0        0       0         0       0   \n",
       "\n",
       "   Virtuous  \n",
       "0         0  \n",
       "1         0  \n",
       "2         0  \n",
       "3         0  \n",
       "4         0  "
      ]
     },
     "execution_count": 392,
     "metadata": {},
     "output_type": "execute_result"
    }
   ],
   "source": [
    "y_val.head()"
   ]
  },
  {
   "cell_type": "code",
   "execution_count": 625,
   "metadata": {
    "execution": {
     "iopub.execute_input": "2024-12-10T00:58:38.736055Z",
     "iopub.status.busy": "2024-12-10T00:58:38.735655Z",
     "iopub.status.idle": "2024-12-10T00:58:38.741822Z",
     "shell.execute_reply": "2024-12-10T00:58:38.740861Z",
     "shell.execute_reply.started": "2024-12-10T00:58:38.736021Z"
    },
    "trusted": true
   },
   "outputs": [],
   "source": [
    "def load_X_data(lang_model):\n",
    "  if lang_model =='BERT':\n",
    "    X_train = np.load('/kaggle/working/BERT_EMBED_X_TRAIN.npy')\n",
    "    X_val = np.load('/kaggle/working/BERT_EMBED_X_VAL.npy')\n",
    "  elif lang_model =='ROBERTA':\n",
    "    X_train = np.load('/kaggle/working/ROBERTA_EMBED_X_TRAIN.npy')\n",
    "    X_val = np.load('/kaggle/working/ROBERTA_EMBED_X_VAL.npy')\n",
    "  elif lang_model =='T5':\n",
    "    X_train = np.load('/kaggle/working/T5_EMBED_X_TRAIN.npy')\n",
    "    X_val = np.load('/kaggle/working/T5_EMBED_X_VAL.npy')\n",
    "  elif lang_model =='GPT2':\n",
    "    X_train = np.load('/kaggle/working/T5XL_BFD_EMBED_X_TRAIN.npy')\n",
    "    X_val = np.load('/kaggle/working/T5XL_BFD_EMBED_X_VAL.npy')\n",
    "  elif lang_model =='XLNET':\n",
    "    X_train = np.load('/kaggle/working/XLNET_EMMBED_X_TRAIN.npy')\n",
    "    X_val = np.load('/kaggle/working/XLNET_EMMBED_X_VAL.npy')\n",
    "\n",
    "  return X_train, X_val"
   ]
  },
  {
   "cell_type": "code",
   "execution_count": 504,
   "metadata": {
    "execution": {
     "iopub.execute_input": "2024-12-09T23:11:44.875987Z",
     "iopub.status.busy": "2024-12-09T23:11:44.875110Z",
     "iopub.status.idle": "2024-12-09T23:11:45.065111Z",
     "shell.execute_reply": "2024-12-09T23:11:45.064051Z",
     "shell.execute_reply.started": "2024-12-09T23:11:44.875952Z"
    },
    "trusted": true
   },
   "outputs": [],
   "source": [
    "X_train, X_val = load_X_data('T5')"
   ]
  },
  {
   "cell_type": "code",
   "execution_count": 505,
   "metadata": {
    "execution": {
     "iopub.execute_input": "2024-12-09T23:11:45.880373Z",
     "iopub.status.busy": "2024-12-09T23:11:45.879234Z",
     "iopub.status.idle": "2024-12-09T23:11:45.886622Z",
     "shell.execute_reply": "2024-12-09T23:11:45.885660Z",
     "shell.execute_reply.started": "2024-12-09T23:11:45.880324Z"
    },
    "trusted": true
   },
   "outputs": [
    {
     "data": {
      "text/plain": [
       "((617, 104, 768), (69, 104, 768))"
      ]
     },
     "execution_count": 505,
     "metadata": {},
     "output_type": "execute_result"
    }
   ],
   "source": [
    "X_train.shape, X_val.shape"
   ]
  },
  {
   "cell_type": "code",
   "execution_count": 506,
   "metadata": {
    "execution": {
     "iopub.execute_input": "2024-12-09T23:11:46.997828Z",
     "iopub.status.busy": "2024-12-09T23:11:46.997469Z",
     "iopub.status.idle": "2024-12-09T23:11:47.003492Z",
     "shell.execute_reply": "2024-12-09T23:11:47.002523Z",
     "shell.execute_reply.started": "2024-12-09T23:11:46.997783Z"
    },
    "trusted": true
   },
   "outputs": [
    {
     "data": {
      "text/plain": [
       "numpy.ndarray"
      ]
     },
     "execution_count": 506,
     "metadata": {},
     "output_type": "execute_result"
    }
   ],
   "source": [
    "type(X_train)"
   ]
  },
  {
   "cell_type": "code",
   "execution_count": 507,
   "metadata": {
    "execution": {
     "iopub.execute_input": "2024-12-09T23:11:48.735164Z",
     "iopub.status.busy": "2024-12-09T23:11:48.734819Z",
     "iopub.status.idle": "2024-12-09T23:11:48.740963Z",
     "shell.execute_reply": "2024-12-09T23:11:48.740031Z",
     "shell.execute_reply.started": "2024-12-09T23:11:48.735135Z"
    },
    "trusted": true
   },
   "outputs": [
    {
     "data": {
      "text/plain": [
       "numpy.ndarray"
      ]
     },
     "execution_count": 507,
     "metadata": {},
     "output_type": "execute_result"
    }
   ],
   "source": [
    "type(y_train)"
   ]
  },
  {
   "cell_type": "code",
   "execution_count": 508,
   "metadata": {
    "execution": {
     "iopub.execute_input": "2024-12-09T23:11:49.628930Z",
     "iopub.status.busy": "2024-12-09T23:11:49.628191Z",
     "iopub.status.idle": "2024-12-09T23:11:49.637002Z",
     "shell.execute_reply": "2024-12-09T23:11:49.636049Z",
     "shell.execute_reply.started": "2024-12-09T23:11:49.628893Z"
    },
    "trusted": true
   },
   "outputs": [],
   "source": [
    "# Define the Dataset class\n",
    "class EmbeddingDataset(Dataset):\n",
    "    def __init__(self, embeddings, labels=None):\n",
    "        self.embeddings = embeddings\n",
    "        self.labels = labels\n",
    "\n",
    "    def __len__(self):\n",
    "        return len(self.embeddings)\n",
    "\n",
    "    def __getitem__(self, idx):\n",
    "        if self.labels is not None:\n",
    "            return torch.tensor(self.embeddings[idx], dtype=torch.float32), torch.tensor(self.labels[idx], dtype=torch.float32)\n",
    "        else:\n",
    "            return torch.tensor(self.embeddings[idx], dtype=torch.float32)\n",
    "\n",
    "class CNNClassifier(nn.Module):\n",
    "    def __init__(self, input_channels, sequence_length, num_classes):\n",
    "        super(CNNClassifier, self).__init__()\n",
    "        self.conv1 = nn.Conv1d(in_channels=input_channels, out_channels=128, kernel_size=3, stride=1, padding=1)\n",
    "        self.relu = nn.ReLU()\n",
    "        self.pool = nn.MaxPool1d(kernel_size=2, stride=2)\n",
    "        self.fc = nn.Linear(128 * (sequence_length // 2), num_classes)  # Adjust dimensions after pooling\n",
    "\n",
    "    def forward(self, x):\n",
    "        x = x.permute(0, 2, 1)  # Change to (batch_size, input_channels, sequence_length)\n",
    "        x = self.conv1(x)\n",
    "        x = self.relu(x)\n",
    "        x = self.pool(x)\n",
    "        x = x.view(x.size(0), -1)  # Flatten\n",
    "        x = self.fc(x)\n",
    "        return x  # No sigmoid here"
   ]
  },
  {
   "cell_type": "code",
   "execution_count": 509,
   "metadata": {
    "execution": {
     "iopub.execute_input": "2024-12-09T23:11:51.444982Z",
     "iopub.status.busy": "2024-12-09T23:11:51.443981Z",
     "iopub.status.idle": "2024-12-09T23:11:51.450339Z",
     "shell.execute_reply": "2024-12-09T23:11:51.449407Z",
     "shell.execute_reply.started": "2024-12-09T23:11:51.444943Z"
    },
    "trusted": true
   },
   "outputs": [],
   "source": [
    "# Calculate class weights\n",
    "label_sums = np.sum(y_train, axis=0)  # Sum occurrences of each class\n",
    "weight_per_class = 1.0 / (label_sums + 1e-6)  # Avoid division by zero\n",
    "\n",
    "# Convert to a PyTorch tensor\n",
    "class_weights = torch.tensor(weight_per_class, dtype=torch.float32).to(device)\n",
    "\n",
    "# Use BCEWithLogitsLoss\n",
    "criterion = nn.BCEWithLogitsLoss(pos_weight=class_weights)  # Use pos_weight for class balancing"
   ]
  },
  {
   "cell_type": "code",
   "execution_count": 510,
   "metadata": {
    "execution": {
     "iopub.execute_input": "2024-12-09T23:11:52.586425Z",
     "iopub.status.busy": "2024-12-09T23:11:52.585468Z",
     "iopub.status.idle": "2024-12-09T23:11:52.592889Z",
     "shell.execute_reply": "2024-12-09T23:11:52.591865Z",
     "shell.execute_reply.started": "2024-12-09T23:11:52.586386Z"
    },
    "trusted": true
   },
   "outputs": [],
   "source": [
    "y_train = df_train.drop(['article_id', 'entity_mention', 'start_offset', 'end_offset', 'main_role', 'fine_grained_roles', 'entity_paragraph'], axis=1)\n",
    "y_val = df_val.drop(['article_id', 'entity_mention', 'start_offset', 'end_offset', 'main_role', 'fine_grained_roles', 'entity_paragraph'], axis=1)\n",
    "\n",
    "y_train = y_train.values          # Convert DataFrame to numpy\n",
    "y_val = y_val.values              # Convert DataFrame to numpy"
   ]
  },
  {
   "cell_type": "code",
   "execution_count": 511,
   "metadata": {
    "execution": {
     "iopub.execute_input": "2024-12-09T23:11:53.624252Z",
     "iopub.status.busy": "2024-12-09T23:11:53.623651Z",
     "iopub.status.idle": "2024-12-09T23:11:53.636539Z",
     "shell.execute_reply": "2024-12-09T23:11:53.635527Z",
     "shell.execute_reply.started": "2024-12-09T23:11:53.624216Z"
    },
    "trusted": true
   },
   "outputs": [],
   "source": [
    "train_dataset = EmbeddingDataset(X_train, y_train)\n",
    "val_dataset = EmbeddingDataset(X_val, y_val)\n",
    "\n",
    "train_loader = DataLoader(train_dataset, batch_size=32, shuffle=True)\n",
    "val_loader = DataLoader(val_dataset, batch_size=32, shuffle=False)\n",
    "\n",
    "# Initialize Model, Loss, and Optimizer\n",
    "input_channels = X_train.shape[2]\n",
    "sequence_length = X_train.shape[1]\n",
    "num_classes = y_train.shape[1]\n",
    "\n",
    "model = CNNClassifier(input_channels=input_channels, sequence_length=sequence_length, num_classes=num_classes)\n",
    "# class_weights = torch.tensor([weight_per_class], dtype=torch.float32).to(device)\n",
    "# criterion = nn.BCELoss(weight=class_weights)\n",
    "# criterion = nn.BCELoss()  # Binary Cross-Entropy Loss for multilabel classification\n",
    "optimizer = optim.Adam(model.parameters(), lr=0.001)"
   ]
  },
  {
   "cell_type": "code",
   "execution_count": 512,
   "metadata": {
    "execution": {
     "iopub.execute_input": "2024-12-09T23:11:54.451889Z",
     "iopub.status.busy": "2024-12-09T23:11:54.451515Z",
     "iopub.status.idle": "2024-12-09T23:11:56.132817Z",
     "shell.execute_reply": "2024-12-09T23:11:56.131878Z",
     "shell.execute_reply.started": "2024-12-09T23:11:54.451857Z"
    },
    "trusted": true
   },
   "outputs": [
    {
     "name": "stdout",
     "output_type": "stream",
     "text": [
      "Epoch 1, Train Loss: 0.1052441205829382, Val Loss: 0.06352711468935013, Exact Match: 0.0, F1 Score: 0.0\n",
      "Epoch 2, Train Loss: 0.043727355729788545, Val Loss: 0.04606101910273234, Exact Match: 0.0, F1 Score: 0.0\n",
      "Epoch 3, Train Loss: 0.023998790327459572, Val Loss: 0.020447660547991593, Exact Match: 0.0, F1 Score: 0.0\n",
      "Epoch 4, Train Loss: 0.01380921145901084, Val Loss: 0.016613183543086052, Exact Match: 0.0, F1 Score: 0.0\n",
      "Epoch 5, Train Loss: 0.012229485670104623, Val Loss: 0.015889011633892853, Exact Match: 0.0, F1 Score: 0.0\n",
      "Epoch 6, Train Loss: 0.01131794941611588, Val Loss: 0.015737893680731457, Exact Match: 0.0, F1 Score: 0.0\n",
      "Epoch 7, Train Loss: 0.010819756891578436, Val Loss: 0.016229749967654545, Exact Match: 0.0, F1 Score: 0.0\n",
      "Epoch 8, Train Loss: 0.010554645396769046, Val Loss: 0.015899337207277615, Exact Match: 0.0, F1 Score: 0.0\n",
      "Epoch 9, Train Loss: 0.010238636238500475, Val Loss: 0.016197705330948036, Exact Match: 0.0, F1 Score: 0.0\n",
      "Epoch 10, Train Loss: 0.009925945149734616, Val Loss: 0.016587431232134502, Exact Match: 0.0, F1 Score: 0.0\n"
     ]
    }
   ],
   "source": [
    "# Training Loop\n",
    "device = torch.device('cuda' if torch.cuda.is_available() else 'cpu')\n",
    "model = model.to(device)\n",
    "\n",
    "for epoch in range(10): # Number of epochs\n",
    "    model.train()\n",
    "    train_loss = 0.0\n",
    "    for X_batch, y_batch in train_loader:\n",
    "        X_batch, y_batch = X_batch.to(device), y_batch.to(device)\n",
    "\n",
    "        # Forward pass\n",
    "        outputs = model(X_batch)\n",
    "        loss = criterion(outputs, y_batch)\n",
    "\n",
    "        # Backward pass and optimization\n",
    "        optimizer.zero_grad()\n",
    "        loss.backward()\n",
    "        optimizer.step()\n",
    "        \n",
    "        train_loss += loss.item()\n",
    "\n",
    "    # Validation Loop\n",
    "    model.eval()\n",
    "    val_loss = 0.0\n",
    "    y_true = []\n",
    "    y_pred = []\n",
    "\n",
    "    with torch.no_grad():\n",
    "        for X_batch, y_batch in val_loader:\n",
    "            X_batch, y_batch = X_batch.to(device), y_batch.to(device)\n",
    "\n",
    "            outputs = model(X_batch)\n",
    "            loss = criterion(outputs, y_batch)\n",
    "            val_loss += loss.item()\n",
    "\n",
    "            y_true.append(y_batch.cpu().numpy())\n",
    "            y_pred.append((outputs.cpu().numpy() > 0.5).astype(int))\n",
    "\n",
    "    y_true = np.vstack(y_true)\n",
    "    y_pred = np.vstack(y_pred)\n",
    "\n",
    "    # Metrics\n",
    "    exact_matches = np.sum(np.all(np.array(y_true) == np.array(y_pred), axis=1))  # Compare if all labels match for each sample\n",
    "    emr = exact_matches / len(y_val)\n",
    "    f1 = f1_score(y_true, y_pred, average='micro')\n",
    "\n",
    "    print(f\"Epoch {epoch+1}, Train Loss: {train_loss/len(train_loader)}, Val Loss: {val_loss/len(val_loader)}, Exact Match: {emr}, F1 Score: {f1}\")"
   ]
  },
  {
   "cell_type": "code",
   "execution_count": 626,
   "metadata": {
    "execution": {
     "iopub.execute_input": "2024-12-10T00:58:43.231538Z",
     "iopub.status.busy": "2024-12-10T00:58:43.231200Z",
     "iopub.status.idle": "2024-12-10T00:58:43.237696Z",
     "shell.execute_reply": "2024-12-10T00:58:43.236705Z",
     "shell.execute_reply.started": "2024-12-10T00:58:43.231509Z"
    },
    "trusted": true
   },
   "outputs": [],
   "source": [
    "def load_X_Test_data(lang_model):\n",
    "  if lang_model =='BERT':\n",
    "    print(\"bert\")\n",
    "    X_test = np.load('/kaggle/working/BERT_EMBED_X_TEST.npy')\n",
    "  elif lang_model =='ROBERTA':\n",
    "    print(\"here\")\n",
    "    X_test = np.load('/kaggle/working/ROBERTA_EMBED_X_TEST.npy')\n",
    "  elif lang_model =='T5':\n",
    "    print(\"here\")\n",
    "    X_test = np.load('/kaggle/working/T5_EMBED_X_TEST.npy')\n",
    "  elif lang_model =='GPT2':\n",
    "    X_test = np.load('Embeddings/T5XL_UNI/T5_VELTRI_X_TEST_INDEP.npy')\n",
    "  elif lang_model =='T5XL_BFD':\n",
    "    print(\"T5XL_BFD\")\n",
    "    X_test = np.load('/kaggle/working/T5XL_BFD_EMBED_X_TEST.npy')\n",
    "  elif lang_model =='XLNET':\n",
    "    print(\"here\")\n",
    "    X_test = np.load('/kaggle/working/XLNET_EMMBED_X_TEST.npy')\n",
    "  elif lang_model =='VELTRI':\n",
    "    X_test = np.load('Datasets/VELTRI/X_test_VELTRI_Conv.npy')\n",
    "  \n",
    "  \n",
    "  return X_test"
   ]
  },
  {
   "cell_type": "code",
   "execution_count": 522,
   "metadata": {
    "execution": {
     "iopub.execute_input": "2024-12-09T23:13:20.816268Z",
     "iopub.status.busy": "2024-12-09T23:13:20.815945Z",
     "iopub.status.idle": "2024-12-09T23:13:20.835013Z",
     "shell.execute_reply": "2024-12-09T23:13:20.834199Z",
     "shell.execute_reply.started": "2024-12-09T23:13:20.816241Z"
    },
    "trusted": true
   },
   "outputs": [
    {
     "name": "stdout",
     "output_type": "stream",
     "text": [
      "here\n"
     ]
    }
   ],
   "source": [
    "X_test = load_X_Test_data('T5')"
   ]
  },
  {
   "cell_type": "code",
   "execution_count": 523,
   "metadata": {
    "execution": {
     "iopub.execute_input": "2024-12-09T23:13:22.365360Z",
     "iopub.status.busy": "2024-12-09T23:13:22.364605Z",
     "iopub.status.idle": "2024-12-09T23:13:22.373133Z",
     "shell.execute_reply": "2024-12-09T23:13:22.372213Z",
     "shell.execute_reply.started": "2024-12-09T23:13:22.365328Z"
    },
    "trusted": true
   },
   "outputs": [
    {
     "data": {
      "text/plain": [
       "Index(['Bigot', 'Conspirator', 'Corrupt', 'Deceiver', 'Exploited',\n",
       "       'Foreign Adversary', 'Forgotten', 'Guardian', 'Incompetent',\n",
       "       'Instigator', 'Martyr', 'Peacemaker', 'Rebel', 'Saboteur', 'Scapegoat',\n",
       "       'Spy', 'Terrorist', 'Traitor', 'Tyrant', 'Underdog', 'Victim',\n",
       "       'Virtuous'],\n",
       "      dtype='object')"
      ]
     },
     "execution_count": 523,
     "metadata": {},
     "output_type": "execute_result"
    }
   ],
   "source": [
    "columns = df_train.drop(['article_id', 'entity_mention', 'start_offset', 'end_offset',\n",
    "       'main_role', 'fine_grained_roles', 'entity_paragraph'], axis=1)\n",
    "\n",
    "columns.columns"
   ]
  },
  {
   "cell_type": "code",
   "execution_count": 524,
   "metadata": {
    "execution": {
     "iopub.execute_input": "2024-12-09T23:13:23.067097Z",
     "iopub.status.busy": "2024-12-09T23:13:23.066445Z",
     "iopub.status.idle": "2024-12-09T23:13:23.105155Z",
     "shell.execute_reply": "2024-12-09T23:13:23.104203Z",
     "shell.execute_reply.started": "2024-12-09T23:13:23.067043Z"
    },
    "trusted": true
   },
   "outputs": [
    {
     "data": {
      "text/html": [
       "<div>\n",
       "<style scoped>\n",
       "    .dataframe tbody tr th:only-of-type {\n",
       "        vertical-align: middle;\n",
       "    }\n",
       "\n",
       "    .dataframe tbody tr th {\n",
       "        vertical-align: top;\n",
       "    }\n",
       "\n",
       "    .dataframe thead th {\n",
       "        text-align: right;\n",
       "    }\n",
       "</style>\n",
       "<table border=\"1\" class=\"dataframe\">\n",
       "  <thead>\n",
       "    <tr style=\"text-align: right;\">\n",
       "      <th></th>\n",
       "      <th>Bigot</th>\n",
       "      <th>Conspirator</th>\n",
       "      <th>Corrupt</th>\n",
       "      <th>Deceiver</th>\n",
       "      <th>Exploited</th>\n",
       "      <th>Foreign Adversary</th>\n",
       "      <th>Forgotten</th>\n",
       "      <th>Guardian</th>\n",
       "      <th>Incompetent</th>\n",
       "      <th>Instigator</th>\n",
       "      <th>Martyr</th>\n",
       "      <th>Peacemaker</th>\n",
       "      <th>Rebel</th>\n",
       "      <th>Saboteur</th>\n",
       "      <th>Scapegoat</th>\n",
       "      <th>Spy</th>\n",
       "      <th>Terrorist</th>\n",
       "      <th>Traitor</th>\n",
       "      <th>Tyrant</th>\n",
       "      <th>Underdog</th>\n",
       "      <th>Victim</th>\n",
       "      <th>Virtuous</th>\n",
       "    </tr>\n",
       "  </thead>\n",
       "  <tbody>\n",
       "    <tr>\n",
       "      <th>0</th>\n",
       "      <td>0</td>\n",
       "      <td>0</td>\n",
       "      <td>0</td>\n",
       "      <td>0</td>\n",
       "      <td>0</td>\n",
       "      <td>0</td>\n",
       "      <td>0</td>\n",
       "      <td>0</td>\n",
       "      <td>0</td>\n",
       "      <td>0</td>\n",
       "      <td>0</td>\n",
       "      <td>0</td>\n",
       "      <td>0</td>\n",
       "      <td>0</td>\n",
       "      <td>0</td>\n",
       "      <td>0</td>\n",
       "      <td>0</td>\n",
       "      <td>0</td>\n",
       "      <td>0</td>\n",
       "      <td>0</td>\n",
       "      <td>0</td>\n",
       "      <td>0</td>\n",
       "    </tr>\n",
       "    <tr>\n",
       "      <th>1</th>\n",
       "      <td>0</td>\n",
       "      <td>0</td>\n",
       "      <td>0</td>\n",
       "      <td>0</td>\n",
       "      <td>0</td>\n",
       "      <td>0</td>\n",
       "      <td>0</td>\n",
       "      <td>0</td>\n",
       "      <td>0</td>\n",
       "      <td>0</td>\n",
       "      <td>0</td>\n",
       "      <td>0</td>\n",
       "      <td>0</td>\n",
       "      <td>0</td>\n",
       "      <td>0</td>\n",
       "      <td>0</td>\n",
       "      <td>0</td>\n",
       "      <td>0</td>\n",
       "      <td>0</td>\n",
       "      <td>0</td>\n",
       "      <td>0</td>\n",
       "      <td>0</td>\n",
       "    </tr>\n",
       "    <tr>\n",
       "      <th>2</th>\n",
       "      <td>0</td>\n",
       "      <td>0</td>\n",
       "      <td>0</td>\n",
       "      <td>0</td>\n",
       "      <td>0</td>\n",
       "      <td>0</td>\n",
       "      <td>0</td>\n",
       "      <td>0</td>\n",
       "      <td>0</td>\n",
       "      <td>0</td>\n",
       "      <td>0</td>\n",
       "      <td>0</td>\n",
       "      <td>0</td>\n",
       "      <td>0</td>\n",
       "      <td>0</td>\n",
       "      <td>0</td>\n",
       "      <td>0</td>\n",
       "      <td>0</td>\n",
       "      <td>0</td>\n",
       "      <td>0</td>\n",
       "      <td>0</td>\n",
       "      <td>0</td>\n",
       "    </tr>\n",
       "    <tr>\n",
       "      <th>3</th>\n",
       "      <td>0</td>\n",
       "      <td>0</td>\n",
       "      <td>0</td>\n",
       "      <td>0</td>\n",
       "      <td>0</td>\n",
       "      <td>0</td>\n",
       "      <td>0</td>\n",
       "      <td>0</td>\n",
       "      <td>0</td>\n",
       "      <td>0</td>\n",
       "      <td>0</td>\n",
       "      <td>0</td>\n",
       "      <td>0</td>\n",
       "      <td>0</td>\n",
       "      <td>0</td>\n",
       "      <td>0</td>\n",
       "      <td>0</td>\n",
       "      <td>0</td>\n",
       "      <td>0</td>\n",
       "      <td>0</td>\n",
       "      <td>0</td>\n",
       "      <td>0</td>\n",
       "    </tr>\n",
       "    <tr>\n",
       "      <th>4</th>\n",
       "      <td>0</td>\n",
       "      <td>0</td>\n",
       "      <td>0</td>\n",
       "      <td>0</td>\n",
       "      <td>0</td>\n",
       "      <td>0</td>\n",
       "      <td>0</td>\n",
       "      <td>0</td>\n",
       "      <td>0</td>\n",
       "      <td>0</td>\n",
       "      <td>0</td>\n",
       "      <td>0</td>\n",
       "      <td>0</td>\n",
       "      <td>0</td>\n",
       "      <td>0</td>\n",
       "      <td>0</td>\n",
       "      <td>0</td>\n",
       "      <td>0</td>\n",
       "      <td>0</td>\n",
       "      <td>0</td>\n",
       "      <td>0</td>\n",
       "      <td>0</td>\n",
       "    </tr>\n",
       "  </tbody>\n",
       "</table>\n",
       "</div>"
      ],
      "text/plain": [
       "   Bigot  Conspirator  Corrupt  Deceiver  Exploited  Foreign Adversary  \\\n",
       "0      0            0        0         0          0                  0   \n",
       "1      0            0        0         0          0                  0   \n",
       "2      0            0        0         0          0                  0   \n",
       "3      0            0        0         0          0                  0   \n",
       "4      0            0        0         0          0                  0   \n",
       "\n",
       "   Forgotten  Guardian  Incompetent  Instigator  Martyr  Peacemaker  Rebel  \\\n",
       "0          0         0            0           0       0           0      0   \n",
       "1          0         0            0           0       0           0      0   \n",
       "2          0         0            0           0       0           0      0   \n",
       "3          0         0            0           0       0           0      0   \n",
       "4          0         0            0           0       0           0      0   \n",
       "\n",
       "   Saboteur  Scapegoat  Spy  Terrorist  Traitor  Tyrant  Underdog  Victim  \\\n",
       "0         0          0    0          0        0       0         0       0   \n",
       "1         0          0    0          0        0       0         0       0   \n",
       "2         0          0    0          0        0       0         0       0   \n",
       "3         0          0    0          0        0       0         0       0   \n",
       "4         0          0    0          0        0       0         0       0   \n",
       "\n",
       "   Virtuous  \n",
       "0         0  \n",
       "1         0  \n",
       "2         0  \n",
       "3         0  \n",
       "4         0  "
      ]
     },
     "execution_count": 524,
     "metadata": {},
     "output_type": "execute_result"
    }
   ],
   "source": [
    "test_dataset = EmbeddingDataset(X_test)\n",
    "test_loader = DataLoader(test_dataset, batch_size=32, shuffle=False)\n",
    "\n",
    "model.eval()\n",
    "test_preds = []\n",
    "\n",
    "with torch.no_grad():\n",
    "    for X_batch in test_loader:\n",
    "        X_batch = X_batch.to(device)\n",
    "        outputs = model(X_batch)\n",
    "        test_preds.append((outputs.cpu().numpy() > 0.5).astype(int))\n",
    "\n",
    "test_preds = np.vstack(test_preds)\n",
    "y_pred = pd.DataFrame(test_preds, columns=columns.columns)\n",
    "\n",
    "y_pred.head()"
   ]
  },
  {
   "cell_type": "code",
   "execution_count": 525,
   "metadata": {
    "execution": {
     "iopub.execute_input": "2024-12-09T23:13:24.015270Z",
     "iopub.status.busy": "2024-12-09T23:13:24.014910Z",
     "iopub.status.idle": "2024-12-09T23:13:24.031105Z",
     "shell.execute_reply": "2024-12-09T23:13:24.029926Z",
     "shell.execute_reply.started": "2024-12-09T23:13:24.015238Z"
    },
    "trusted": true
   },
   "outputs": [
    {
     "data": {
      "text/html": [
       "<div>\n",
       "<style scoped>\n",
       "    .dataframe tbody tr th:only-of-type {\n",
       "        vertical-align: middle;\n",
       "    }\n",
       "\n",
       "    .dataframe tbody tr th {\n",
       "        vertical-align: top;\n",
       "    }\n",
       "\n",
       "    .dataframe thead th {\n",
       "        text-align: right;\n",
       "    }\n",
       "</style>\n",
       "<table border=\"1\" class=\"dataframe\">\n",
       "  <thead>\n",
       "    <tr style=\"text-align: right;\">\n",
       "      <th></th>\n",
       "      <th>Predictions</th>\n",
       "    </tr>\n",
       "  </thead>\n",
       "  <tbody>\n",
       "    <tr>\n",
       "      <th>0</th>\n",
       "      <td></td>\n",
       "    </tr>\n",
       "    <tr>\n",
       "      <th>1</th>\n",
       "      <td></td>\n",
       "    </tr>\n",
       "    <tr>\n",
       "      <th>2</th>\n",
       "      <td></td>\n",
       "    </tr>\n",
       "    <tr>\n",
       "      <th>3</th>\n",
       "      <td></td>\n",
       "    </tr>\n",
       "    <tr>\n",
       "      <th>4</th>\n",
       "      <td></td>\n",
       "    </tr>\n",
       "  </tbody>\n",
       "</table>\n",
       "</div>"
      ],
      "text/plain": [
       "  Predictions\n",
       "0            \n",
       "1            \n",
       "2            \n",
       "3            \n",
       "4            "
      ]
     },
     "execution_count": 525,
     "metadata": {},
     "output_type": "execute_result"
    }
   ],
   "source": [
    "# Function to convert each row into a comma-separated string of column names where the value is 1\n",
    "def get_column_names_with_ones(row):\n",
    "    return ','.join([col for col in row.index if row[col] == 1])\n",
    "\n",
    "# Apply the function to each row of the DataFrame\n",
    "y_pred_new = y_pred.apply(get_column_names_with_ones, axis=1)\n",
    "\n",
    "# Convert the result to a DataFrame with a single column\n",
    "y_pred_new = pd.DataFrame(y_pred_new, columns=['Predictions'])\n",
    "y_pred_new.head()"
   ]
  },
  {
   "cell_type": "markdown",
   "metadata": {},
   "source": [
    "## BERT+LABELPOWERSET"
   ]
  },
  {
   "cell_type": "code",
   "execution_count": 817,
   "metadata": {
    "execution": {
     "iopub.execute_input": "2024-12-10T02:53:14.965198Z",
     "iopub.status.busy": "2024-12-10T02:53:14.964484Z",
     "iopub.status.idle": "2024-12-10T02:53:15.120480Z",
     "shell.execute_reply": "2024-12-10T02:53:15.119508Z",
     "shell.execute_reply.started": "2024-12-10T02:53:14.965162Z"
    },
    "trusted": true
   },
   "outputs": [
    {
     "name": "stdout",
     "output_type": "stream",
     "text": [
      "here\n"
     ]
    }
   ],
   "source": [
    "X_train, X_val = load_X_data('T5')\n",
    "X_test = load_X_Test_data('T5')"
   ]
  },
  {
   "cell_type": "code",
   "execution_count": 818,
   "metadata": {
    "execution": {
     "iopub.execute_input": "2024-12-10T02:53:15.177104Z",
     "iopub.status.busy": "2024-12-10T02:53:15.176822Z",
     "iopub.status.idle": "2024-12-10T02:53:15.182916Z",
     "shell.execute_reply": "2024-12-10T02:53:15.181857Z",
     "shell.execute_reply.started": "2024-12-10T02:53:15.177077Z"
    },
    "trusted": true
   },
   "outputs": [
    {
     "data": {
      "text/plain": [
       "(617, 104, 768)"
      ]
     },
     "execution_count": 818,
     "metadata": {},
     "output_type": "execute_result"
    }
   ],
   "source": [
    "X_train.shape"
   ]
  },
  {
   "cell_type": "code",
   "execution_count": 819,
   "metadata": {
    "execution": {
     "iopub.execute_input": "2024-12-10T02:53:15.345973Z",
     "iopub.status.busy": "2024-12-10T02:53:15.345662Z",
     "iopub.status.idle": "2024-12-10T02:53:15.399561Z",
     "shell.execute_reply": "2024-12-10T02:53:15.398750Z",
     "shell.execute_reply.started": "2024-12-10T02:53:15.345944Z"
    },
    "trusted": true
   },
   "outputs": [],
   "source": [
    "def average_pool_embeddings(embeddings):\n",
    "    \"\"\"\n",
    "    Applies average pooling to reduce the shape of embeddings from (N, L, D) to (N, D).\n",
    "    \n",
    "    Parameters:\n",
    "        embeddings (numpy.ndarray): The input tensor of shape (N, L, D), where\n",
    "                                     N is the number of samples,\n",
    "                                     L is the max sequence length,\n",
    "                                     D is the embedding dimension.\n",
    "    \n",
    "    Returns:\n",
    "        numpy.ndarray: The output tensor of shape (N, D).\n",
    "    \"\"\"\n",
    "    if len(embeddings.shape) != 3:\n",
    "        raise ValueError(\"Input embeddings must have a shape of (N, L, D).\")\n",
    "    \n",
    "    # Average pooling along the sequence length axis\n",
    "    pooled_embeddings = np.mean(embeddings, axis=1)\n",
    "    return pooled_embeddings\n",
    "\n",
    "X_train = average_pool_embeddings(X_train)\n",
    "X_val = average_pool_embeddings(X_val)\n",
    "X_test = average_pool_embeddings(X_test)"
   ]
  },
  {
   "cell_type": "code",
   "execution_count": 820,
   "metadata": {
    "execution": {
     "iopub.execute_input": "2024-12-10T02:53:15.533713Z",
     "iopub.status.busy": "2024-12-10T02:53:15.533318Z",
     "iopub.status.idle": "2024-12-10T02:53:15.540166Z",
     "shell.execute_reply": "2024-12-10T02:53:15.539218Z",
     "shell.execute_reply.started": "2024-12-10T02:53:15.533670Z"
    },
    "trusted": true
   },
   "outputs": [
    {
     "data": {
      "text/plain": [
       "((617, 768), (69, 768), (91, 768))"
      ]
     },
     "execution_count": 820,
     "metadata": {},
     "output_type": "execute_result"
    }
   ],
   "source": [
    "X_train.shape, X_val.shape, X_test.shape"
   ]
  },
  {
   "cell_type": "code",
   "execution_count": 821,
   "metadata": {
    "execution": {
     "iopub.execute_input": "2024-12-10T02:53:15.704222Z",
     "iopub.status.busy": "2024-12-10T02:53:15.703476Z",
     "iopub.status.idle": "2024-12-10T02:53:15.820752Z",
     "shell.execute_reply": "2024-12-10T02:53:15.819875Z",
     "shell.execute_reply.started": "2024-12-10T02:53:15.704184Z"
    },
    "trusted": true
   },
   "outputs": [
    {
     "name": "stdout",
     "output_type": "stream",
     "text": [
      "------knn Model Metrics-----\n",
      "Accuracy: 0.1014\n",
      "Hamming Loss: 0.0461\n",
      "Exact Match Ratio: 0.1014\n",
      "Precision:\n",
      "  - Macro: 0.1212\n",
      "  - Micro: 0.6154\n",
      "Recall:\n",
      "  - Macro: 0.0530\n",
      "  - Micro: 0.1096\n",
      "F1-measure:\n",
      "  - Macro: 0.0725\n",
      "  - Micro: 0.1860\n"
     ]
    }
   ],
   "source": [
    "knn = KNeighborsClassifier()\n",
    "\n",
    "knn.fit(X_train, y_train)\n",
    "knnPredictions = knn.predict(X_val)\n",
    "metricsReport(\"knn\", y_val, knnPredictions)"
   ]
  },
  {
   "cell_type": "code",
   "execution_count": 822,
   "metadata": {
    "execution": {
     "iopub.execute_input": "2024-12-10T02:53:15.879101Z",
     "iopub.status.busy": "2024-12-10T02:53:15.878832Z",
     "iopub.status.idle": "2024-12-10T02:53:17.375463Z",
     "shell.execute_reply": "2024-12-10T02:53:17.374445Z",
     "shell.execute_reply.started": "2024-12-10T02:53:15.879077Z"
    },
    "trusted": true
   },
   "outputs": [
    {
     "name": "stdout",
     "output_type": "stream",
     "text": [
      "------Decision Tree Model Metrics-----\n",
      "Accuracy: 0.2464\n",
      "Hamming Loss: 0.0659\n",
      "Exact Match Ratio: 0.2464\n",
      "Precision:\n",
      "  - Macro: 0.2082\n",
      "  - Micro: 0.2985\n",
      "Recall:\n",
      "  - Macro: 0.1801\n",
      "  - Micro: 0.2740\n",
      "F1-measure:\n",
      "  - Macro: 0.1846\n",
      "  - Micro: 0.2857\n"
     ]
    }
   ],
   "source": [
    "dt = DecisionTreeClassifier()\n",
    "dt.fit(X_train, y_train)\n",
    "dtPreds = dt.predict(X_val)\n",
    "metricsReport(\"Decision Tree\", y_val, dtPreds)"
   ]
  },
  {
   "cell_type": "code",
   "execution_count": 823,
   "metadata": {
    "execution": {
     "iopub.execute_input": "2024-12-10T02:53:17.377261Z",
     "iopub.status.busy": "2024-12-10T02:53:17.376949Z",
     "iopub.status.idle": "2024-12-10T02:53:45.126595Z",
     "shell.execute_reply": "2024-12-10T02:53:45.125397Z",
     "shell.execute_reply.started": "2024-12-10T02:53:17.377228Z"
    },
    "trusted": true
   },
   "outputs": [
    {
     "name": "stderr",
     "output_type": "stream",
     "text": [
      "huggingface/tokenizers: The current process just got forked, after parallelism has already been used. Disabling parallelism to avoid deadlocks...\n",
      "To disable this warning, you can either:\n",
      "\t- Avoid using `tokenizers` before the fork if possible\n",
      "\t- Explicitly set the environment variable TOKENIZERS_PARALLELISM=(true | false)\n",
      "huggingface/tokenizers: The current process just got forked, after parallelism has already been used. Disabling parallelism to avoid deadlocks...\n",
      "To disable this warning, you can either:\n",
      "\t- Avoid using `tokenizers` before the fork if possible\n",
      "\t- Explicitly set the environment variable TOKENIZERS_PARALLELISM=(true | false)\n",
      "huggingface/tokenizers: The current process just got forked, after parallelism has already been used. Disabling parallelism to avoid deadlocks...\n",
      "To disable this warning, you can either:\n",
      "\t- Avoid using `tokenizers` before the fork if possible\n",
      "\t- Explicitly set the environment variable TOKENIZERS_PARALLELISM=(true | false)\n",
      "huggingface/tokenizers: The current process just got forked, after parallelism has already been used. Disabling parallelism to avoid deadlocks...\n",
      "To disable this warning, you can either:\n",
      "\t- Avoid using `tokenizers` before the fork if possible\n",
      "\t- Explicitly set the environment variable TOKENIZERS_PARALLELISM=(true | false)\n"
     ]
    },
    {
     "name": "stdout",
     "output_type": "stream",
     "text": [
      "------Bagging Model Metrics-----\n",
      "Accuracy: 0.1884\n",
      "Hamming Loss: 0.0468\n",
      "Exact Match Ratio: 0.1884\n",
      "Precision:\n",
      "  - Macro: 0.2958\n",
      "  - Micro: 0.5333\n",
      "Recall:\n",
      "  - Macro: 0.1584\n",
      "  - Micro: 0.2192\n",
      "F1-measure:\n",
      "  - Macro: 0.1953\n",
      "  - Micro: 0.3107\n"
     ]
    }
   ],
   "source": [
    "bag = OneVsRestClassifier(BaggingClassifier(n_jobs=-1))\n",
    "bag.fit(X_train, y_train)\n",
    "bagPreds = bag.predict(X_val)\n",
    "metricsReport(\"Bagging\", y_val, bagPreds)"
   ]
  },
  {
   "cell_type": "code",
   "execution_count": 824,
   "metadata": {
    "execution": {
     "iopub.execute_input": "2024-12-10T02:53:45.128967Z",
     "iopub.status.busy": "2024-12-10T02:53:45.128633Z",
     "iopub.status.idle": "2024-12-10T02:53:46.768359Z",
     "shell.execute_reply": "2024-12-10T02:53:46.767390Z",
     "shell.execute_reply.started": "2024-12-10T02:53:45.128933Z"
    },
    "trusted": true
   },
   "outputs": [
    {
     "name": "stdout",
     "output_type": "stream",
     "text": [
      "------Random Forest Model Metrics-----\n",
      "Accuracy: 0.2029\n",
      "Hamming Loss: 0.0461\n",
      "Exact Match Ratio: 0.2029\n",
      "Precision:\n",
      "  - Macro: 0.2602\n",
      "  - Micro: 0.5484\n",
      "Recall:\n",
      "  - Macro: 0.1596\n",
      "  - Micro: 0.2329\n",
      "F1-measure:\n",
      "  - Macro: 0.1857\n",
      "  - Micro: 0.3269\n"
     ]
    }
   ],
   "source": [
    "rf = RandomForestClassifier(n_jobs=-1)\n",
    "rf.fit(X_train, y_train)\n",
    "rfPreds = rf.predict(X_val)\n",
    "metricsReport(\"Random Forest\", y_val, rfPreds)"
   ]
  },
  {
   "cell_type": "code",
   "execution_count": 825,
   "metadata": {
    "execution": {
     "iopub.execute_input": "2024-12-10T02:53:46.770466Z",
     "iopub.status.busy": "2024-12-10T02:53:46.770184Z",
     "iopub.status.idle": "2024-12-10T02:57:59.465841Z",
     "shell.execute_reply": "2024-12-10T02:57:59.464776Z",
     "shell.execute_reply.started": "2024-12-10T02:53:46.770428Z"
    },
    "trusted": true
   },
   "outputs": [
    {
     "name": "stdout",
     "output_type": "stream",
     "text": [
      "------Boosting Model Metrics-----\n",
      "Accuracy: 0.2029\n",
      "Hamming Loss: 0.0468\n",
      "Exact Match Ratio: 0.2029\n",
      "Precision:\n",
      "  - Macro: 0.2284\n",
      "  - Micro: 0.5294\n",
      "Recall:\n",
      "  - Macro: 0.1672\n",
      "  - Micro: 0.2466\n",
      "F1-measure:\n",
      "  - Macro: 0.1875\n",
      "  - Micro: 0.3364\n"
     ]
    }
   ],
   "source": [
    "boostClassifier = OneVsRestClassifier(GradientBoostingClassifier())\n",
    "boostClassifier.fit(X_train, y_train)\n",
    "boostPreds = boostClassifier.predict(X_val)\n",
    "metricsReport(\"Boosting\", y_val, boostPreds)"
   ]
  },
  {
   "cell_type": "code",
   "execution_count": 826,
   "metadata": {
    "execution": {
     "iopub.execute_input": "2024-12-10T02:57:59.467212Z",
     "iopub.status.busy": "2024-12-10T02:57:59.466924Z",
     "iopub.status.idle": "2024-12-10T02:58:00.530627Z",
     "shell.execute_reply": "2024-12-10T02:58:00.528342Z",
     "shell.execute_reply.started": "2024-12-10T02:57:59.467182Z"
    },
    "trusted": true
   },
   "outputs": [
    {
     "name": "stdout",
     "output_type": "stream",
     "text": [
      "------SVC Sq. Hinge Loss Model Metrics-----\n",
      "Accuracy: 0.0580\n",
      "Hamming Loss: 0.0507\n",
      "Exact Match Ratio: 0.0580\n",
      "Precision:\n",
      "  - Macro: 0.1136\n",
      "  - Micro: 0.3333\n",
      "Recall:\n",
      "  - Macro: 0.0292\n",
      "  - Micro: 0.0548\n",
      "F1-measure:\n",
      "  - Macro: 0.0455\n",
      "  - Micro: 0.0941\n"
     ]
    }
   ],
   "source": [
    "svm = OneVsRestClassifier(LinearSVC(), n_jobs=-1)\n",
    "svm.fit(X_train, y_train)\n",
    "\n",
    "svmPreds = svm.predict(X_val)\n",
    "metricsReport(\"SVC Sq. Hinge Loss\", y_val, svmPreds)"
   ]
  },
  {
   "cell_type": "code",
   "execution_count": 827,
   "metadata": {
    "execution": {
     "iopub.execute_input": "2024-12-10T02:58:00.534650Z",
     "iopub.status.busy": "2024-12-10T02:58:00.533104Z",
     "iopub.status.idle": "2024-12-10T02:58:03.298394Z",
     "shell.execute_reply": "2024-12-10T02:58:03.296800Z",
     "shell.execute_reply.started": "2024-12-10T02:58:00.534584Z"
    },
    "trusted": true
   },
   "outputs": [
    {
     "name": "stdout",
     "output_type": "stream",
     "text": [
      "------Power Set SVC Model Metrics-----\n",
      "Accuracy: 0.3478\n",
      "Hamming Loss: 0.0586\n",
      "Exact Match Ratio: 0.3478\n",
      "Precision:\n",
      "  - Macro: 0.3360\n",
      "  - Micro: 0.3889\n",
      "Recall:\n",
      "  - Macro: 0.3202\n",
      "  - Micro: 0.3836\n",
      "F1-measure:\n",
      "  - Macro: 0.3122\n",
      "  - Micro: 0.3862\n"
     ]
    }
   ],
   "source": [
    "powerSetSVC = LabelPowerset(LinearSVC())\n",
    "powerSetSVC.fit(X_train, y_train)\n",
    "\n",
    "powerSetSVCPreds = powerSetSVC.predict(X_val)\n",
    "metricsReport(\"Power Set SVC\", y_val, powerSetSVCPreds)"
   ]
  },
  {
   "cell_type": "code",
   "execution_count": 828,
   "metadata": {
    "execution": {
     "iopub.execute_input": "2024-12-10T02:58:03.305143Z",
     "iopub.status.busy": "2024-12-10T02:58:03.301480Z",
     "iopub.status.idle": "2024-12-10T02:58:03.319202Z",
     "shell.execute_reply": "2024-12-10T02:58:03.317556Z",
     "shell.execute_reply.started": "2024-12-10T02:58:03.305081Z"
    },
    "trusted": true
   },
   "outputs": [
    {
     "name": "stdout",
     "output_type": "stream",
     "text": [
      "  Model Name           | Exact Match Ratio Score\n",
      "-------------------------------------------\n",
      "  knn                  | {0.10144927536231885}\n",
      "-------------------------------------------\n",
      "  Decision Tree        | {0.2463768115942029}\n",
      "-------------------------------------------\n",
      "  Bagging              | {0.18840579710144928}\n",
      "-------------------------------------------\n",
      "  Random Forest        | {0.2028985507246377}\n",
      "-------------------------------------------\n",
      "  Boosting             | {0.2028985507246377}\n",
      "-------------------------------------------\n",
      "  Multinomial NB       | {0.014492753623188406}\n",
      "-------------------------------------------\n",
      "  SVC Sq. Hinge Loss   | {0.057971014492753624}\n",
      "-------------------------------------------\n",
      "  Power Set SVC        | {0.34782608695652173}\n",
      "-------------------------------------------\n"
     ]
    }
   ],
   "source": [
    "print(\"  Model Name \" + \" \"*10 + \"| Exact Match Ratio Score\")\n",
    "print(\"-------------------------------------------\")\n",
    "for key, value in Models_emr.items():\n",
    "    print(\"  \" + key, \" \"*(20-len(key)) + \"|\", value)\n",
    "    print(\"-------------------------------------------\")"
   ]
  },
  {
   "cell_type": "code",
   "execution_count": 782,
   "metadata": {
    "execution": {
     "iopub.execute_input": "2024-12-10T02:32:33.316131Z",
     "iopub.status.busy": "2024-12-10T02:32:33.315626Z",
     "iopub.status.idle": "2024-12-10T02:32:33.334682Z",
     "shell.execute_reply": "2024-12-10T02:32:33.333429Z",
     "shell.execute_reply.started": "2024-12-10T02:32:33.316070Z"
    },
    "trusted": true
   },
   "outputs": [],
   "source": [
    "y_train = df_train.drop(['article_id', 'entity_mention', 'start_offset', 'end_offset', 'main_role', 'fine_grained_roles', 'entity_paragraph'], axis=1)\n",
    "y_val = df_val.drop(['article_id', 'entity_mention', 'start_offset', 'end_offset', 'main_role', 'fine_grained_roles', 'entity_paragraph'], axis=1)"
   ]
  },
  {
   "cell_type": "code",
   "execution_count": 783,
   "metadata": {
    "execution": {
     "iopub.execute_input": "2024-12-10T02:32:33.345111Z",
     "iopub.status.busy": "2024-12-10T02:32:33.342460Z",
     "iopub.status.idle": "2024-12-10T02:32:33.355373Z",
     "shell.execute_reply": "2024-12-10T02:32:33.353888Z",
     "shell.execute_reply.started": "2024-12-10T02:32:33.345044Z"
    },
    "trusted": true
   },
   "outputs": [],
   "source": [
    "# Convert powerSetSVCPreds to a DataFrame with the same column names as y_val\n",
    "powerSetSVCPreds_df = pd.DataFrame(np.array(powerSetSVCPreds.todense()), columns=y_val.columns)"
   ]
  },
  {
   "cell_type": "code",
   "execution_count": 784,
   "metadata": {
    "execution": {
     "iopub.execute_input": "2024-12-10T02:32:33.357780Z",
     "iopub.status.busy": "2024-12-10T02:32:33.357301Z",
     "iopub.status.idle": "2024-12-10T02:32:33.371970Z",
     "shell.execute_reply": "2024-12-10T02:32:33.370948Z",
     "shell.execute_reply.started": "2024-12-10T02:32:33.357725Z"
    },
    "trusted": true
   },
   "outputs": [
    {
     "data": {
      "text/html": [
       "<div>\n",
       "<style scoped>\n",
       "    .dataframe tbody tr th:only-of-type {\n",
       "        vertical-align: middle;\n",
       "    }\n",
       "\n",
       "    .dataframe tbody tr th {\n",
       "        vertical-align: top;\n",
       "    }\n",
       "\n",
       "    .dataframe thead th {\n",
       "        text-align: right;\n",
       "    }\n",
       "</style>\n",
       "<table border=\"1\" class=\"dataframe\">\n",
       "  <thead>\n",
       "    <tr style=\"text-align: right;\">\n",
       "      <th></th>\n",
       "      <th>Bigot</th>\n",
       "      <th>Conspirator</th>\n",
       "      <th>Corrupt</th>\n",
       "      <th>Deceiver</th>\n",
       "      <th>Exploited</th>\n",
       "      <th>Foreign Adversary</th>\n",
       "      <th>Forgotten</th>\n",
       "      <th>Guardian</th>\n",
       "      <th>Incompetent</th>\n",
       "      <th>Instigator</th>\n",
       "      <th>Martyr</th>\n",
       "      <th>Peacemaker</th>\n",
       "      <th>Rebel</th>\n",
       "      <th>Saboteur</th>\n",
       "      <th>Scapegoat</th>\n",
       "      <th>Spy</th>\n",
       "      <th>Terrorist</th>\n",
       "      <th>Traitor</th>\n",
       "      <th>Tyrant</th>\n",
       "      <th>Underdog</th>\n",
       "      <th>Victim</th>\n",
       "      <th>Virtuous</th>\n",
       "    </tr>\n",
       "  </thead>\n",
       "  <tbody>\n",
       "    <tr>\n",
       "      <th>0</th>\n",
       "      <td>0</td>\n",
       "      <td>0</td>\n",
       "      <td>0</td>\n",
       "      <td>0</td>\n",
       "      <td>0</td>\n",
       "      <td>0</td>\n",
       "      <td>0</td>\n",
       "      <td>0</td>\n",
       "      <td>0</td>\n",
       "      <td>0</td>\n",
       "      <td>0</td>\n",
       "      <td>1</td>\n",
       "      <td>0</td>\n",
       "      <td>0</td>\n",
       "      <td>0</td>\n",
       "      <td>0</td>\n",
       "      <td>0</td>\n",
       "      <td>0</td>\n",
       "      <td>0</td>\n",
       "      <td>0</td>\n",
       "      <td>0</td>\n",
       "      <td>0</td>\n",
       "    </tr>\n",
       "    <tr>\n",
       "      <th>1</th>\n",
       "      <td>0</td>\n",
       "      <td>1</td>\n",
       "      <td>0</td>\n",
       "      <td>0</td>\n",
       "      <td>0</td>\n",
       "      <td>0</td>\n",
       "      <td>0</td>\n",
       "      <td>0</td>\n",
       "      <td>0</td>\n",
       "      <td>0</td>\n",
       "      <td>0</td>\n",
       "      <td>0</td>\n",
       "      <td>0</td>\n",
       "      <td>1</td>\n",
       "      <td>0</td>\n",
       "      <td>0</td>\n",
       "      <td>0</td>\n",
       "      <td>0</td>\n",
       "      <td>0</td>\n",
       "      <td>0</td>\n",
       "      <td>0</td>\n",
       "      <td>0</td>\n",
       "    </tr>\n",
       "    <tr>\n",
       "      <th>2</th>\n",
       "      <td>0</td>\n",
       "      <td>0</td>\n",
       "      <td>0</td>\n",
       "      <td>0</td>\n",
       "      <td>0</td>\n",
       "      <td>0</td>\n",
       "      <td>0</td>\n",
       "      <td>0</td>\n",
       "      <td>0</td>\n",
       "      <td>0</td>\n",
       "      <td>0</td>\n",
       "      <td>1</td>\n",
       "      <td>0</td>\n",
       "      <td>0</td>\n",
       "      <td>0</td>\n",
       "      <td>0</td>\n",
       "      <td>0</td>\n",
       "      <td>0</td>\n",
       "      <td>0</td>\n",
       "      <td>0</td>\n",
       "      <td>0</td>\n",
       "      <td>0</td>\n",
       "    </tr>\n",
       "    <tr>\n",
       "      <th>3</th>\n",
       "      <td>0</td>\n",
       "      <td>1</td>\n",
       "      <td>0</td>\n",
       "      <td>0</td>\n",
       "      <td>0</td>\n",
       "      <td>0</td>\n",
       "      <td>0</td>\n",
       "      <td>0</td>\n",
       "      <td>0</td>\n",
       "      <td>0</td>\n",
       "      <td>0</td>\n",
       "      <td>0</td>\n",
       "      <td>0</td>\n",
       "      <td>0</td>\n",
       "      <td>0</td>\n",
       "      <td>0</td>\n",
       "      <td>0</td>\n",
       "      <td>0</td>\n",
       "      <td>0</td>\n",
       "      <td>0</td>\n",
       "      <td>0</td>\n",
       "      <td>0</td>\n",
       "    </tr>\n",
       "    <tr>\n",
       "      <th>4</th>\n",
       "      <td>0</td>\n",
       "      <td>0</td>\n",
       "      <td>1</td>\n",
       "      <td>0</td>\n",
       "      <td>0</td>\n",
       "      <td>0</td>\n",
       "      <td>0</td>\n",
       "      <td>0</td>\n",
       "      <td>0</td>\n",
       "      <td>0</td>\n",
       "      <td>0</td>\n",
       "      <td>0</td>\n",
       "      <td>0</td>\n",
       "      <td>0</td>\n",
       "      <td>0</td>\n",
       "      <td>0</td>\n",
       "      <td>0</td>\n",
       "      <td>0</td>\n",
       "      <td>0</td>\n",
       "      <td>0</td>\n",
       "      <td>0</td>\n",
       "      <td>0</td>\n",
       "    </tr>\n",
       "  </tbody>\n",
       "</table>\n",
       "</div>"
      ],
      "text/plain": [
       "   Bigot  Conspirator  Corrupt  Deceiver  Exploited  Foreign Adversary  \\\n",
       "0      0            0        0         0          0                  0   \n",
       "1      0            1        0         0          0                  0   \n",
       "2      0            0        0         0          0                  0   \n",
       "3      0            1        0         0          0                  0   \n",
       "4      0            0        1         0          0                  0   \n",
       "\n",
       "   Forgotten  Guardian  Incompetent  Instigator  Martyr  Peacemaker  Rebel  \\\n",
       "0          0         0            0           0       0           1      0   \n",
       "1          0         0            0           0       0           0      0   \n",
       "2          0         0            0           0       0           1      0   \n",
       "3          0         0            0           0       0           0      0   \n",
       "4          0         0            0           0       0           0      0   \n",
       "\n",
       "   Saboteur  Scapegoat  Spy  Terrorist  Traitor  Tyrant  Underdog  Victim  \\\n",
       "0         0          0    0          0        0       0         0       0   \n",
       "1         1          0    0          0        0       0         0       0   \n",
       "2         0          0    0          0        0       0         0       0   \n",
       "3         0          0    0          0        0       0         0       0   \n",
       "4         0          0    0          0        0       0         0       0   \n",
       "\n",
       "   Virtuous  \n",
       "0         0  \n",
       "1         0  \n",
       "2         0  \n",
       "3         0  \n",
       "4         0  "
      ]
     },
     "execution_count": 784,
     "metadata": {},
     "output_type": "execute_result"
    }
   ],
   "source": [
    "powerSetSVCPreds_df.head()"
   ]
  },
  {
   "cell_type": "code",
   "execution_count": 785,
   "metadata": {
    "execution": {
     "iopub.execute_input": "2024-12-10T02:32:33.373361Z",
     "iopub.status.busy": "2024-12-10T02:32:33.373050Z",
     "iopub.status.idle": "2024-12-10T02:32:33.392345Z",
     "shell.execute_reply": "2024-12-10T02:32:33.390760Z",
     "shell.execute_reply.started": "2024-12-10T02:32:33.373322Z"
    },
    "trusted": true
   },
   "outputs": [],
   "source": [
    "powerSetSVCPreds_test = powerSetSVC.predict(X_test)"
   ]
  },
  {
   "cell_type": "code",
   "execution_count": 786,
   "metadata": {
    "execution": {
     "iopub.execute_input": "2024-12-10T02:32:33.393829Z",
     "iopub.status.busy": "2024-12-10T02:32:33.393395Z",
     "iopub.status.idle": "2024-12-10T02:32:33.403533Z",
     "shell.execute_reply": "2024-12-10T02:32:33.402243Z",
     "shell.execute_reply.started": "2024-12-10T02:32:33.393759Z"
    },
    "trusted": true
   },
   "outputs": [],
   "source": [
    "# Convert powerSetSVCPreds to a DataFrame with the same column names as y_val\n",
    "powerSetSVCPreds_df_test = pd.DataFrame(np.array(powerSetSVCPreds_test.todense()), columns=y_val.columns)"
   ]
  },
  {
   "cell_type": "code",
   "execution_count": 787,
   "metadata": {
    "execution": {
     "iopub.execute_input": "2024-12-10T02:32:33.405416Z",
     "iopub.status.busy": "2024-12-10T02:32:33.404987Z",
     "iopub.status.idle": "2024-12-10T02:32:33.432964Z",
     "shell.execute_reply": "2024-12-10T02:32:33.431338Z",
     "shell.execute_reply.started": "2024-12-10T02:32:33.405367Z"
    },
    "trusted": true
   },
   "outputs": [
    {
     "data": {
      "text/html": [
       "<div>\n",
       "<style scoped>\n",
       "    .dataframe tbody tr th:only-of-type {\n",
       "        vertical-align: middle;\n",
       "    }\n",
       "\n",
       "    .dataframe tbody tr th {\n",
       "        vertical-align: top;\n",
       "    }\n",
       "\n",
       "    .dataframe thead th {\n",
       "        text-align: right;\n",
       "    }\n",
       "</style>\n",
       "<table border=\"1\" class=\"dataframe\">\n",
       "  <thead>\n",
       "    <tr style=\"text-align: right;\">\n",
       "      <th></th>\n",
       "      <th>article_id</th>\n",
       "      <th>entity_mention</th>\n",
       "      <th>start_offset</th>\n",
       "      <th>end_offset</th>\n",
       "      <th>entity_paragraph</th>\n",
       "    </tr>\n",
       "  </thead>\n",
       "  <tbody>\n",
       "    <tr>\n",
       "      <th>0</th>\n",
       "      <td>EN_UA_DEV_100012.txt</td>\n",
       "      <td>Washington</td>\n",
       "      <td>1441</td>\n",
       "      <td>1450</td>\n",
       "      <td>washington cannot afford allow russia achieve ...</td>\n",
       "    </tr>\n",
       "    <tr>\n",
       "      <th>1</th>\n",
       "      <td>EN_UA_DEV_100012.txt</td>\n",
       "      <td>Americans</td>\n",
       "      <td>2397</td>\n",
       "      <td>2405</td>\n",
       "      <td>fate colonies always americans scoop natural r...</td>\n",
       "    </tr>\n",
       "    <tr>\n",
       "      <th>2</th>\n",
       "      <td>EN_CC_200053.txt</td>\n",
       "      <td>Rishi Sunak</td>\n",
       "      <td>85</td>\n",
       "      <td>95</td>\n",
       "      <td>uk prime minister rishi sunak wednesday said a...</td>\n",
       "    </tr>\n",
       "    <tr>\n",
       "      <th>3</th>\n",
       "      <td>EN_CC_200040.txt</td>\n",
       "      <td>Extinction Rebellion</td>\n",
       "      <td>189</td>\n",
       "      <td>208</td>\n",
       "      <td>extinction rebellion activists everyone loves ...</td>\n",
       "    </tr>\n",
       "    <tr>\n",
       "      <th>4</th>\n",
       "      <td>EN_CC_200070.txt</td>\n",
       "      <td>Eric Garcetti</td>\n",
       "      <td>89</td>\n",
       "      <td>101</td>\n",
       "      <td>los angeles mayor eric garcetti joined global ...</td>\n",
       "    </tr>\n",
       "  </tbody>\n",
       "</table>\n",
       "</div>"
      ],
      "text/plain": [
       "             article_id        entity_mention  start_offset  end_offset  \\\n",
       "0  EN_UA_DEV_100012.txt            Washington          1441        1450   \n",
       "1  EN_UA_DEV_100012.txt             Americans          2397        2405   \n",
       "2      EN_CC_200053.txt           Rishi Sunak            85          95   \n",
       "3      EN_CC_200040.txt  Extinction Rebellion           189         208   \n",
       "4      EN_CC_200070.txt         Eric Garcetti            89         101   \n",
       "\n",
       "                                    entity_paragraph  \n",
       "0  washington cannot afford allow russia achieve ...  \n",
       "1  fate colonies always americans scoop natural r...  \n",
       "2  uk prime minister rishi sunak wednesday said a...  \n",
       "3  extinction rebellion activists everyone loves ...  \n",
       "4  los angeles mayor eric garcetti joined global ...  "
      ]
     },
     "execution_count": 787,
     "metadata": {},
     "output_type": "execute_result"
    }
   ],
   "source": [
    "df_test.head()"
   ]
  },
  {
   "cell_type": "code",
   "execution_count": 788,
   "metadata": {
    "execution": {
     "iopub.execute_input": "2024-12-10T02:32:33.437131Z",
     "iopub.status.busy": "2024-12-10T02:32:33.436654Z",
     "iopub.status.idle": "2024-12-10T02:32:33.464335Z",
     "shell.execute_reply": "2024-12-10T02:32:33.463322Z",
     "shell.execute_reply.started": "2024-12-10T02:32:33.437080Z"
    },
    "trusted": true
   },
   "outputs": [],
   "source": [
    "# Function to convert each row into a comma-separated string of column names where the value is 1\n",
    "def get_column_names_with_ones(row):\n",
    "    return ','.join([col for col in row.index if row[col] == 1])\n",
    "\n",
    "# Apply the function to each row of the DataFrame\n",
    "powerSetSVCPreds_df_test_single_column = powerSetSVCPreds_df_test.apply(get_column_names_with_ones, axis=1)\n",
    "\n",
    "# Convert the result to a DataFrame with a single column\n",
    "powerSetSVCPreds_df_test_single_column = pd.DataFrame(powerSetSVCPreds_df_test_single_column, columns=['Predictions'])"
   ]
  },
  {
   "cell_type": "code",
   "execution_count": 789,
   "metadata": {
    "execution": {
     "iopub.execute_input": "2024-12-10T02:32:33.465883Z",
     "iopub.status.busy": "2024-12-10T02:32:33.465463Z",
     "iopub.status.idle": "2024-12-10T02:32:33.479642Z",
     "shell.execute_reply": "2024-12-10T02:32:33.476187Z",
     "shell.execute_reply.started": "2024-12-10T02:32:33.465832Z"
    },
    "trusted": true
   },
   "outputs": [
    {
     "data": {
      "text/html": [
       "<div>\n",
       "<style scoped>\n",
       "    .dataframe tbody tr th:only-of-type {\n",
       "        vertical-align: middle;\n",
       "    }\n",
       "\n",
       "    .dataframe tbody tr th {\n",
       "        vertical-align: top;\n",
       "    }\n",
       "\n",
       "    .dataframe thead th {\n",
       "        text-align: right;\n",
       "    }\n",
       "</style>\n",
       "<table border=\"1\" class=\"dataframe\">\n",
       "  <thead>\n",
       "    <tr style=\"text-align: right;\">\n",
       "      <th></th>\n",
       "      <th>Predictions</th>\n",
       "    </tr>\n",
       "  </thead>\n",
       "  <tbody>\n",
       "    <tr>\n",
       "      <th>0</th>\n",
       "      <td>Instigator</td>\n",
       "    </tr>\n",
       "    <tr>\n",
       "      <th>1</th>\n",
       "      <td>Corrupt</td>\n",
       "    </tr>\n",
       "    <tr>\n",
       "      <th>2</th>\n",
       "      <td>Rebel</td>\n",
       "    </tr>\n",
       "    <tr>\n",
       "      <th>3</th>\n",
       "      <td>Tyrant</td>\n",
       "    </tr>\n",
       "    <tr>\n",
       "      <th>4</th>\n",
       "      <td>Tyrant</td>\n",
       "    </tr>\n",
       "  </tbody>\n",
       "</table>\n",
       "</div>"
      ],
      "text/plain": [
       "  Predictions\n",
       "0  Instigator\n",
       "1     Corrupt\n",
       "2       Rebel\n",
       "3      Tyrant\n",
       "4      Tyrant"
      ]
     },
     "execution_count": 789,
     "metadata": {},
     "output_type": "execute_result"
    }
   ],
   "source": [
    "powerSetSVCPreds_df_test_single_column.head()"
   ]
  },
  {
   "cell_type": "code",
   "execution_count": 790,
   "metadata": {
    "execution": {
     "iopub.execute_input": "2024-12-10T02:32:33.483597Z",
     "iopub.status.busy": "2024-12-10T02:32:33.481184Z",
     "iopub.status.idle": "2024-12-10T02:32:33.510850Z",
     "shell.execute_reply": "2024-12-10T02:32:33.506570Z",
     "shell.execute_reply.started": "2024-12-10T02:32:33.483537Z"
    },
    "trusted": true
   },
   "outputs": [
    {
     "data": {
      "text/html": [
       "<div>\n",
       "<style scoped>\n",
       "    .dataframe tbody tr th:only-of-type {\n",
       "        vertical-align: middle;\n",
       "    }\n",
       "\n",
       "    .dataframe tbody tr th {\n",
       "        vertical-align: top;\n",
       "    }\n",
       "\n",
       "    .dataframe thead th {\n",
       "        text-align: right;\n",
       "    }\n",
       "</style>\n",
       "<table border=\"1\" class=\"dataframe\">\n",
       "  <thead>\n",
       "    <tr style=\"text-align: right;\">\n",
       "      <th></th>\n",
       "      <th>fine_grained_roles</th>\n",
       "    </tr>\n",
       "  </thead>\n",
       "  <tbody>\n",
       "    <tr>\n",
       "      <th>0</th>\n",
       "      <td>Instigator</td>\n",
       "    </tr>\n",
       "    <tr>\n",
       "      <th>1</th>\n",
       "      <td>Corrupt</td>\n",
       "    </tr>\n",
       "    <tr>\n",
       "      <th>2</th>\n",
       "      <td>Rebel</td>\n",
       "    </tr>\n",
       "    <tr>\n",
       "      <th>3</th>\n",
       "      <td>Tyrant</td>\n",
       "    </tr>\n",
       "    <tr>\n",
       "      <th>4</th>\n",
       "      <td>Tyrant</td>\n",
       "    </tr>\n",
       "  </tbody>\n",
       "</table>\n",
       "</div>"
      ],
      "text/plain": [
       "  fine_grained_roles\n",
       "0         Instigator\n",
       "1            Corrupt\n",
       "2              Rebel\n",
       "3             Tyrant\n",
       "4             Tyrant"
      ]
     },
     "execution_count": 790,
     "metadata": {},
     "output_type": "execute_result"
    }
   ],
   "source": [
    "# Rename the Predictions column to the desired name, e.g., 'Labels'\n",
    "powerSetSVCPreds_df_test_single_column.rename(columns={'Predictions': 'fine_grained_roles'}, inplace=True)\n",
    "\n",
    "# Print the result to verify\n",
    "powerSetSVCPreds_df_test_single_column.head()"
   ]
  },
  {
   "cell_type": "code",
   "execution_count": 791,
   "metadata": {
    "execution": {
     "iopub.execute_input": "2024-12-10T02:32:33.513175Z",
     "iopub.status.busy": "2024-12-10T02:32:33.512740Z",
     "iopub.status.idle": "2024-12-10T02:32:33.527275Z",
     "shell.execute_reply": "2024-12-10T02:32:33.526221Z",
     "shell.execute_reply.started": "2024-12-10T02:32:33.513132Z"
    },
    "trusted": true
   },
   "outputs": [
    {
     "name": "stdout",
     "output_type": "stream",
     "text": [
      "Ambiguous rows: []\n"
     ]
    },
    {
     "data": {
      "text/html": [
       "<div>\n",
       "<style scoped>\n",
       "    .dataframe tbody tr th:only-of-type {\n",
       "        vertical-align: middle;\n",
       "    }\n",
       "\n",
       "    .dataframe tbody tr th {\n",
       "        vertical-align: top;\n",
       "    }\n",
       "\n",
       "    .dataframe thead th {\n",
       "        text-align: right;\n",
       "    }\n",
       "</style>\n",
       "<table border=\"1\" class=\"dataframe\">\n",
       "  <thead>\n",
       "    <tr style=\"text-align: right;\">\n",
       "      <th></th>\n",
       "      <th>fine_grained_roles</th>\n",
       "      <th>main_role</th>\n",
       "    </tr>\n",
       "  </thead>\n",
       "  <tbody>\n",
       "    <tr>\n",
       "      <th>0</th>\n",
       "      <td>Instigator</td>\n",
       "      <td>Antagonist</td>\n",
       "    </tr>\n",
       "    <tr>\n",
       "      <th>1</th>\n",
       "      <td>Corrupt</td>\n",
       "      <td>Antagonist</td>\n",
       "    </tr>\n",
       "    <tr>\n",
       "      <th>2</th>\n",
       "      <td>Rebel</td>\n",
       "      <td>Protagonist</td>\n",
       "    </tr>\n",
       "    <tr>\n",
       "      <th>3</th>\n",
       "      <td>Tyrant</td>\n",
       "      <td>Antagonist</td>\n",
       "    </tr>\n",
       "    <tr>\n",
       "      <th>4</th>\n",
       "      <td>Tyrant</td>\n",
       "      <td>Antagonist</td>\n",
       "    </tr>\n",
       "  </tbody>\n",
       "</table>\n",
       "</div>"
      ],
      "text/plain": [
       "  fine_grained_roles    main_role\n",
       "0         Instigator   Antagonist\n",
       "1            Corrupt   Antagonist\n",
       "2              Rebel  Protagonist\n",
       "3             Tyrant   Antagonist\n",
       "4             Tyrant   Antagonist"
      ]
     },
     "execution_count": 791,
     "metadata": {},
     "output_type": "execute_result"
    }
   ],
   "source": [
    "# Define the role lists\n",
    "PROTAGONISTS = ['Guardian', 'Martyr', 'Peacemaker', 'Rebel', 'Underdog', 'Virtuous']\n",
    "ANTAGONISTS = ['Instigator', 'Conspirator', 'Tyrant', 'Foreign Adversary', 'Traitor', 'Spy', 'Saboteur', 'Corrupt', 'Incompetent', 'Terrorist', 'Deceiver', 'Bigot']\n",
    "INNOCENTS = ['Forgotten', 'Exploited', 'Victim', 'Scapegoat']\n",
    "\n",
    "# Initialize an empty list to store indices of ambiguous rows\n",
    "ambiguous = []\n",
    "\n",
    "# Function to decide the main role based on the labels\n",
    "def decide_main_role(labels):\n",
    "    # Split the comma-separated labels\n",
    "    roles = labels.split(',')\n",
    "\n",
    "    # Create counters for each category\n",
    "    protagonist_count = sum(1 for role in roles if role in PROTAGONISTS)\n",
    "    antagonist_count = sum(1 for role in roles if role in ANTAGONISTS)\n",
    "    innocent_count = sum(1 for role in roles if role in INNOCENTS)\n",
    "\n",
    "    # If more than one category is represented, check for ambiguity\n",
    "    if (protagonist_count > 0 and antagonist_count > 0) or \\\n",
    "       (protagonist_count > 0 and innocent_count > 0) or \\\n",
    "       (antagonist_count > 0 and innocent_count > 0):\n",
    "        ambiguous.append(labels)  # Add to ambiguous list\n",
    "        return None  # Set main_role as None for ambiguous cases\n",
    "    \n",
    "    # Majority voting - select the category with the highest count\n",
    "    if protagonist_count > max(antagonist_count, innocent_count):\n",
    "        return 'Protagonist'\n",
    "    elif antagonist_count > max(protagonist_count, innocent_count):\n",
    "        return 'Antagonist'\n",
    "    elif innocent_count > max(protagonist_count, antagonist_count):\n",
    "        return 'Innocent'\n",
    "    else:\n",
    "        # Handle case where there's no majority (all are 0)\n",
    "        return None\n",
    "\n",
    "# Apply the function to create the 'main_role' column\n",
    "powerSetSVCPreds_df_test_single_column['main_role'] = powerSetSVCPreds_df_test_single_column['fine_grained_roles'].apply(decide_main_role)\n",
    "\n",
    "# Print the list of ambiguous rows (optional)\n",
    "print(\"Ambiguous rows:\", ambiguous)\n",
    "\n",
    "powerSetSVCPreds_df_test_single_column.head()"
   ]
  },
  {
   "cell_type": "code",
   "execution_count": 792,
   "metadata": {
    "execution": {
     "iopub.execute_input": "2024-12-10T02:32:33.529393Z",
     "iopub.status.busy": "2024-12-10T02:32:33.528493Z",
     "iopub.status.idle": "2024-12-10T02:32:33.543010Z",
     "shell.execute_reply": "2024-12-10T02:32:33.542107Z",
     "shell.execute_reply.started": "2024-12-10T02:32:33.529340Z"
    },
    "trusted": true
   },
   "outputs": [
    {
     "data": {
      "text/html": [
       "<div>\n",
       "<style scoped>\n",
       "    .dataframe tbody tr th:only-of-type {\n",
       "        vertical-align: middle;\n",
       "    }\n",
       "\n",
       "    .dataframe tbody tr th {\n",
       "        vertical-align: top;\n",
       "    }\n",
       "\n",
       "    .dataframe thead th {\n",
       "        text-align: right;\n",
       "    }\n",
       "</style>\n",
       "<table border=\"1\" class=\"dataframe\">\n",
       "  <thead>\n",
       "    <tr style=\"text-align: right;\">\n",
       "      <th></th>\n",
       "      <th>article_id</th>\n",
       "      <th>entity_mention</th>\n",
       "      <th>start_offset</th>\n",
       "      <th>end_offset</th>\n",
       "      <th>entity_paragraph</th>\n",
       "      <th>fine_grained_roles</th>\n",
       "      <th>main_role</th>\n",
       "    </tr>\n",
       "  </thead>\n",
       "  <tbody>\n",
       "    <tr>\n",
       "      <th>0</th>\n",
       "      <td>EN_UA_DEV_100012.txt</td>\n",
       "      <td>Washington</td>\n",
       "      <td>1441</td>\n",
       "      <td>1450</td>\n",
       "      <td>washington cannot afford allow russia achieve ...</td>\n",
       "      <td>Instigator</td>\n",
       "      <td>Antagonist</td>\n",
       "    </tr>\n",
       "    <tr>\n",
       "      <th>1</th>\n",
       "      <td>EN_UA_DEV_100012.txt</td>\n",
       "      <td>Americans</td>\n",
       "      <td>2397</td>\n",
       "      <td>2405</td>\n",
       "      <td>fate colonies always americans scoop natural r...</td>\n",
       "      <td>Corrupt</td>\n",
       "      <td>Antagonist</td>\n",
       "    </tr>\n",
       "    <tr>\n",
       "      <th>2</th>\n",
       "      <td>EN_CC_200053.txt</td>\n",
       "      <td>Rishi Sunak</td>\n",
       "      <td>85</td>\n",
       "      <td>95</td>\n",
       "      <td>uk prime minister rishi sunak wednesday said a...</td>\n",
       "      <td>Rebel</td>\n",
       "      <td>Protagonist</td>\n",
       "    </tr>\n",
       "    <tr>\n",
       "      <th>3</th>\n",
       "      <td>EN_CC_200040.txt</td>\n",
       "      <td>Extinction Rebellion</td>\n",
       "      <td>189</td>\n",
       "      <td>208</td>\n",
       "      <td>extinction rebellion activists everyone loves ...</td>\n",
       "      <td>Tyrant</td>\n",
       "      <td>Antagonist</td>\n",
       "    </tr>\n",
       "    <tr>\n",
       "      <th>4</th>\n",
       "      <td>EN_CC_200070.txt</td>\n",
       "      <td>Eric Garcetti</td>\n",
       "      <td>89</td>\n",
       "      <td>101</td>\n",
       "      <td>los angeles mayor eric garcetti joined global ...</td>\n",
       "      <td>Tyrant</td>\n",
       "      <td>Antagonist</td>\n",
       "    </tr>\n",
       "  </tbody>\n",
       "</table>\n",
       "</div>"
      ],
      "text/plain": [
       "             article_id        entity_mention  start_offset  end_offset  \\\n",
       "0  EN_UA_DEV_100012.txt            Washington          1441        1450   \n",
       "1  EN_UA_DEV_100012.txt             Americans          2397        2405   \n",
       "2      EN_CC_200053.txt           Rishi Sunak            85          95   \n",
       "3      EN_CC_200040.txt  Extinction Rebellion           189         208   \n",
       "4      EN_CC_200070.txt         Eric Garcetti            89         101   \n",
       "\n",
       "                                    entity_paragraph fine_grained_roles  \\\n",
       "0  washington cannot afford allow russia achieve ...         Instigator   \n",
       "1  fate colonies always americans scoop natural r...            Corrupt   \n",
       "2  uk prime minister rishi sunak wednesday said a...              Rebel   \n",
       "3  extinction rebellion activists everyone loves ...             Tyrant   \n",
       "4  los angeles mayor eric garcetti joined global ...             Tyrant   \n",
       "\n",
       "     main_role  \n",
       "0   Antagonist  \n",
       "1   Antagonist  \n",
       "2  Protagonist  \n",
       "3   Antagonist  \n",
       "4   Antagonist  "
      ]
     },
     "execution_count": 792,
     "metadata": {},
     "output_type": "execute_result"
    }
   ],
   "source": [
    "# Concatenate df_test and powerSetSVCPreds_df_test along the columns (axis=1)\n",
    "combined_df = pd.concat([df_test, powerSetSVCPreds_df_test_single_column], axis=1)\n",
    "\n",
    "# Print the result to verify\n",
    "combined_df.head()"
   ]
  },
  {
   "cell_type": "code",
   "execution_count": 608,
   "metadata": {
    "execution": {
     "iopub.execute_input": "2024-12-10T00:46:59.188184Z",
     "iopub.status.busy": "2024-12-10T00:46:59.187324Z",
     "iopub.status.idle": "2024-12-10T00:46:59.193283Z",
     "shell.execute_reply": "2024-12-10T00:46:59.192256Z",
     "shell.execute_reply.started": "2024-12-10T00:46:59.188146Z"
    },
    "trusted": true
   },
   "outputs": [],
   "source": [
    "df_dev = combined_df[['article_id', 'entity_mention', 'start_offset', 'end_offset', \n",
    "                      'main_role', 'fine_grained_roles']]"
   ]
  },
  {
   "cell_type": "code",
   "execution_count": 688,
   "metadata": {
    "execution": {
     "iopub.execute_input": "2024-12-10T02:17:59.710062Z",
     "iopub.status.busy": "2024-12-10T02:17:59.709653Z",
     "iopub.status.idle": "2024-12-10T02:17:59.721128Z",
     "shell.execute_reply": "2024-12-10T02:17:59.720290Z",
     "shell.execute_reply.started": "2024-12-10T02:17:59.710030Z"
    },
    "trusted": true
   },
   "outputs": [
    {
     "data": {
      "text/html": [
       "<div>\n",
       "<style scoped>\n",
       "    .dataframe tbody tr th:only-of-type {\n",
       "        vertical-align: middle;\n",
       "    }\n",
       "\n",
       "    .dataframe tbody tr th {\n",
       "        vertical-align: top;\n",
       "    }\n",
       "\n",
       "    .dataframe thead th {\n",
       "        text-align: right;\n",
       "    }\n",
       "</style>\n",
       "<table border=\"1\" class=\"dataframe\">\n",
       "  <thead>\n",
       "    <tr style=\"text-align: right;\">\n",
       "      <th></th>\n",
       "      <th>article_id</th>\n",
       "      <th>entity_mention</th>\n",
       "      <th>start_offset</th>\n",
       "      <th>end_offset</th>\n",
       "      <th>main_role</th>\n",
       "      <th>fine_grained_roles</th>\n",
       "    </tr>\n",
       "  </thead>\n",
       "  <tbody>\n",
       "    <tr>\n",
       "      <th>0</th>\n",
       "      <td>EN_UA_DEV_100012.txt</td>\n",
       "      <td>Washington</td>\n",
       "      <td>1441</td>\n",
       "      <td>1450</td>\n",
       "      <td>Antagonist</td>\n",
       "      <td>Instigator</td>\n",
       "    </tr>\n",
       "    <tr>\n",
       "      <th>1</th>\n",
       "      <td>EN_UA_DEV_100012.txt</td>\n",
       "      <td>Americans</td>\n",
       "      <td>2397</td>\n",
       "      <td>2405</td>\n",
       "      <td>Antagonist</td>\n",
       "      <td>Corrupt</td>\n",
       "    </tr>\n",
       "    <tr>\n",
       "      <th>2</th>\n",
       "      <td>EN_CC_200053.txt</td>\n",
       "      <td>Rishi Sunak</td>\n",
       "      <td>85</td>\n",
       "      <td>95</td>\n",
       "      <td>Protagonist</td>\n",
       "      <td>Rebel</td>\n",
       "    </tr>\n",
       "    <tr>\n",
       "      <th>3</th>\n",
       "      <td>EN_CC_200040.txt</td>\n",
       "      <td>Extinction Rebellion</td>\n",
       "      <td>189</td>\n",
       "      <td>208</td>\n",
       "      <td>Antagonist</td>\n",
       "      <td>Tyrant</td>\n",
       "    </tr>\n",
       "    <tr>\n",
       "      <th>4</th>\n",
       "      <td>EN_CC_200070.txt</td>\n",
       "      <td>Eric Garcetti</td>\n",
       "      <td>89</td>\n",
       "      <td>101</td>\n",
       "      <td>Antagonist</td>\n",
       "      <td>Tyrant</td>\n",
       "    </tr>\n",
       "  </tbody>\n",
       "</table>\n",
       "</div>"
      ],
      "text/plain": [
       "             article_id        entity_mention  start_offset  end_offset  \\\n",
       "0  EN_UA_DEV_100012.txt            Washington          1441        1450   \n",
       "1  EN_UA_DEV_100012.txt             Americans          2397        2405   \n",
       "2      EN_CC_200053.txt           Rishi Sunak            85          95   \n",
       "3      EN_CC_200040.txt  Extinction Rebellion           189         208   \n",
       "4      EN_CC_200070.txt         Eric Garcetti            89         101   \n",
       "\n",
       "     main_role fine_grained_roles  \n",
       "0   Antagonist         Instigator  \n",
       "1   Antagonist            Corrupt  \n",
       "2  Protagonist              Rebel  \n",
       "3   Antagonist             Tyrant  \n",
       "4   Antagonist             Tyrant  "
      ]
     },
     "execution_count": 688,
     "metadata": {},
     "output_type": "execute_result"
    }
   ],
   "source": [
    "df_dev.head()"
   ]
  },
  {
   "cell_type": "code",
   "execution_count": 610,
   "metadata": {
    "execution": {
     "iopub.execute_input": "2024-12-10T00:47:30.876137Z",
     "iopub.status.busy": "2024-12-10T00:47:30.875322Z",
     "iopub.status.idle": "2024-12-10T00:47:30.889758Z",
     "shell.execute_reply": "2024-12-10T00:47:30.888743Z",
     "shell.execute_reply.started": "2024-12-10T00:47:30.876103Z"
    },
    "trusted": true
   },
   "outputs": [
    {
     "name": "stdout",
     "output_type": "stream",
     "text": [
      "DataFrame saved successfully as a tab-separated file.\n"
     ]
    }
   ],
   "source": [
    "# Open the file in write mode\n",
    "with open('semeval25_subtask_1_eng_sarfraz_24010739_iter_2.txt', 'w', encoding='utf-8') as f:\n",
    "    # Write the header\n",
    "    header = df_dev.columns.tolist()\n",
    "    f.write('\\t'.join(header) + '\\n')\n",
    "    \n",
    "    # Iterate through each row and write the data\n",
    "    for _, row in df_dev.iterrows():\n",
    "        # Replace commas in fine_grained_roles with tabs\n",
    "        fine_grained_roles = row['fine_grained_roles'].replace(',', '\\t')\n",
    "        \n",
    "        # Create a list of row values\n",
    "        row_values = [str(row[col]) if col != 'fine_grained_roles' else fine_grained_roles for col in df_dev.columns]\n",
    "        \n",
    "        # Write the row to the file, separating values with tabs\n",
    "        f.write('\\t'.join(row_values) + '\\n')\n",
    "\n",
    "# Print to verify\n",
    "print(\"DataFrame saved successfully as a tab-separated file.\")"
   ]
  },
  {
   "cell_type": "code",
   "execution_count": null,
   "metadata": {
    "trusted": true
   },
   "outputs": [],
   "source": []
  }
 ],
 "metadata": {
  "kaggle": {
   "accelerator": "nvidiaTeslaT4",
   "dataSources": [
    {
     "datasetId": 6247001,
     "sourceId": 10123531,
     "sourceType": "datasetVersion"
    },
    {
     "datasetId": 6247003,
     "sourceId": 10123534,
     "sourceType": "datasetVersion"
    }
   ],
   "dockerImageVersionId": 30805,
   "isGpuEnabled": true,
   "isInternetEnabled": true,
   "language": "python",
   "sourceType": "notebook"
  },
  "kernelspec": {
   "display_name": "3.11.4",
   "language": "python",
   "name": "python3"
  },
  "language_info": {
   "codemirror_mode": {
    "name": "ipython",
    "version": 3
   },
   "file_extension": ".py",
   "mimetype": "text/x-python",
   "name": "python",
   "nbconvert_exporter": "python",
   "pygments_lexer": "ipython3",
   "version": "3.11.4"
  }
 },
 "nbformat": 4,
 "nbformat_minor": 4
}
